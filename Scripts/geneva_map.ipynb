{
 "cells": [
  {
   "cell_type": "markdown",
   "id": "f32bfafa",
   "metadata": {},
   "source": [
    "### Step 4: Mapping Geneva's Airbnb landscape"
   ]
  },
  {
   "cell_type": "code",
   "execution_count": 1,
   "id": "9677844e",
   "metadata": {},
   "outputs": [],
   "source": [
    "import pandas as pd\n",
    "import numpy as np\n",
    "import seaborn as sns\n",
    "import matplotlib.pyplot as plt\n",
    "\n",
    "# Loading the dataset \n",
    "df_clean = pd.read_csv(\"../data/df_clean.csv\")\n",
    "df_clean['price'] = df_clean['price'].replace(r'[\\$,]', '', regex=True).astype(float)"
   ]
  },
  {
   "cell_type": "code",
   "execution_count": 2,
   "id": "7e924cbf",
   "metadata": {},
   "outputs": [
    {
     "data": {
      "application/vnd.plotly.v1+json": {
       "config": {
        "plotlyServerURL": "https://plot.ly"
       },
       "data": [
        {
         "customdata": [
          [
           "Rental unit in Geneva · ★4.73 · 1 bedroom · 1 bed · 1.5 shared baths",
           "Private room",
           1,
           89
          ],
          [
           "Rental unit in Geneva · ★4.87 · 1 bedroom · 1 bed · 1.5 shared baths",
           "Private room",
           1,
           60
          ],
          [
           "Rental unit in Geneva · ★4.90 · 1 bedroom · 1 bath",
           "Entire home/apt",
           2,
           165
          ],
          [
           "Rental unit in Versoix · ★4.62 · 1 bedroom · 4 beds · 1 bath",
           "Entire home/apt",
           3,
           80
          ],
          [
           "Rental unit in Geneva · ★4.81 · 1 bedroom · 1 bed · 1.5 baths",
           "Entire home/apt",
           2,
           147
          ],
          [
           "Rental unit in Carouge · ★4.83 · 1 bedroom · 1 bed · 1 shared bath",
           "Private room",
           2,
           48
          ],
          [
           "Loft in Geneva · ★4.77 · 1 bedroom · 1 bed · 1.5 shared baths",
           "Private room",
           2,
           125
          ],
          [
           "Rental unit in Geneva · ★4.94 · 1 bedroom · 1 bed · 1.5 baths",
           "Private room",
           2,
           90
          ],
          [
           "Rental unit in Geneva · ★4.74 · 1 bedroom · 1 bed · 1 bath",
           "Entire home/apt",
           1,
           95
          ],
          [
           "Rental unit in Geneva · ★4.74 · 3 bedrooms · 4 beds · 2.5 baths",
           "Entire home/apt",
           5,
           269
          ],
          [
           "Rental unit in Geneva · ★4.09 · 4 bedrooms · 4 beds · 1.5 baths",
           "Entire home/apt",
           8,
           175
          ],
          [
           "Rental unit in Genève · ★4.44 · 2 bedrooms · 2 beds · 1 bath",
           "Entire home/apt",
           4,
           180
          ],
          [
           "Rental unit in Geneva · ★4.97 · 1 bedroom · 2 beds · 1 bath",
           "Entire home/apt",
           1,
           150
          ],
          [
           "Rental unit in Geneva · ★4.33 · 1 bedroom · 1 bed · 1 bath",
           "Entire home/apt",
           2,
           400
          ],
          [
           "Rental unit in Geneva · 1 bedroom · 1 bed · 1 bath",
           "Entire home/apt",
           2,
           400
          ],
          [
           "Rental unit in Genève · ★4.85 · 1 bedroom · 1 bed · 1 bath",
           "Entire home/apt",
           2,
           100
          ],
          [
           "Rental unit in Geneva · ★4.92 · 1 bedroom · 1 bed · 1 bath",
           "Entire home/apt",
           2,
           103
          ],
          [
           "Rental unit in Geneva · ★4.89 · 1 bedroom · 1 bed · 1 bath",
           "Entire home/apt",
           2,
           136
          ],
          [
           "Rental unit in Geneva · ★4.90 · 2 bedrooms · 1 bed · 1 bath",
           "Entire home/apt",
           1,
           116
          ],
          [
           "Rental unit in Geneva · ★5.0 · 1 bedroom · 1 bed · 1 bath",
           "Entire home/apt",
           2,
           70
          ],
          [
           "Rental unit in Geneva · ★4.78 · 1 bedroom · 2 beds · 1 bath",
           "Entire home/apt",
           4,
           137
          ],
          [
           "Rental unit in Geneva · ★4.83 · 1 bedroom · 3 beds · 1 bath",
           "Entire home/apt",
           2,
           165
          ],
          [
           "Rental unit in Geneva · ★4.74 · 1 bedroom · 2 beds · 1.5 baths",
           "Entire home/apt",
           4,
           367
          ],
          [
           "Rental unit in Geneva · ★4.33 · 2 bedrooms · 3 beds · 1.5 baths",
           "Entire home/apt",
           4,
           355
          ],
          [
           "Rental unit in Geneva · ★4.29 · 2 bedrooms · 2 beds · 1.5 baths",
           "Entire home/apt",
           4,
           185
          ],
          [
           "Rental unit in Geneva · ★4.49 · 1 bedroom · 1.5 baths",
           "Private room",
           2,
           80
          ],
          [
           "Rental unit in Geneva · ★4.58 · 2 bedrooms · 2 beds · 1 bath",
           "Entire home/apt",
           4,
           125
          ],
          [
           "Loft in Geneva · ★4.90 · 1 bedroom · 2 beds · 1 bath",
           "Entire home/apt",
           4,
           155
          ],
          [
           "Loft in Geneva · ★4.88 · 4 bedrooms · 5 beds · 2 baths",
           "Entire home/apt",
           6,
           240
          ],
          [
           "Rental unit in Genthod · 2 bedrooms · 1 bed · 1 bath",
           "Entire home/apt",
           2,
           220
          ],
          [
           "Rental unit in Geneva · ★4.92 · 1 bedroom · 1 bed · 1 bath",
           "Entire home/apt",
           4,
           150
          ],
          [
           "Villa in Grand-Saconnex · ★4.20 · 1 bedroom · 1 bed · 2.5 baths",
           "Private room",
           2,
           75
          ],
          [
           "Rental unit in Satigny · ★5.0 · 1 bedroom · 2 beds · 1 shared bath",
           "Private room",
           1,
           70
          ],
          [
           "Condo in Geneva · ★5.0 · 1 bedroom · 2 beds · 1 bath",
           "Entire home/apt",
           4,
           140
          ],
          [
           "Villa in Geneva · ★4.74 · 1 bedroom · 1 bed · 1 shared bath",
           "Private room",
           2,
           73
          ],
          [
           "Rental unit in Meinier · ★4.92 · 2 bedrooms · 2 beds · 1 bath",
           "Entire home/apt",
           4,
           130
          ],
          [
           "Loft in Carouge · ★4.88 · 1 bedroom · 2 beds · 1 bath",
           "Entire home/apt",
           2,
           180
          ],
          [
           "Home in Vernier · ★4.92 · 1 bedroom · 1 bed · 1 shared bath",
           "Private room",
           1,
           80
          ],
          [
           "Rental unit in Geneva · ★4.39 · 1 bedroom · 1 bed · 1 bath",
           "Entire home/apt",
           2,
           55
          ],
          [
           "Rental unit in Geneva · ★4.84 · 1 bedroom · 1 bed · 1.5 shared baths",
           "Private room",
           2,
           79
          ],
          [
           "Home in Chêne-Bourg · ★4.90 · 2 bedrooms · 2 beds · 1.5 baths",
           "Entire home/apt",
           3,
           180
          ],
          [
           "Rental unit in Geneva · ★4.85 · 1 bedroom · 1 bed · 1 private bath",
           "Private room",
           2,
           81
          ],
          [
           "Rental unit in Geneva · ★4.81 · 1 bedroom · 1 bed · 1 private bath",
           "Private room",
           2,
           82
          ],
          [
           "Rental unit in Geneva · ★4.57 · 1 bedroom · 1 bed · 1 bath",
           "Entire home/apt",
           3,
           180
          ],
          [
           "Rental unit in Geneva · ★4.66 · 1 bedroom · 1 bed · 1 shared bath",
           "Private room",
           2,
           75
          ],
          [
           "Rental unit in Geneva · ★4.44 · 1 bedroom · 1 bed · 1 bath",
           "Entire home/apt",
           2,
           110
          ],
          [
           "Rental unit in Bellevue · 3 bedrooms · 5 beds · 2 baths",
           "Entire home/apt",
           8,
           220
          ],
          [
           "Rental unit in Geneva · ★5.0 · 3 bedrooms · 3 beds · 2 baths",
           "Entire home/apt",
           5,
           290
          ],
          [
           "Rental unit in Geneva · ★4.70 · 1 bedroom · 1 bed · 1 bath",
           "Private room",
           3,
           99
          ],
          [
           "Rental unit in Versoix · ★4.40 · 1 bedroom · 1 bed · 1 bath",
           "Entire home/apt",
           2,
           145
          ],
          [
           "Rental unit in Geneva · ★4.60 · 1 bedroom · 1 bed · 1 bath",
           "Entire home/apt",
           2,
           90
          ],
          [
           "Rental unit in Veyrier · ★4.75 · 1 bedroom · 1 bed · 1 private bath",
           "Private room",
           1,
           58
          ],
          [
           "Rental unit in Geneva · 3 bedrooms · 6 beds · 2.5 baths",
           "Entire home/apt",
           6,
           250
          ],
          [
           "Rental unit in Geneva · ★5.0 · 2 bedrooms · 2 beds · 1 bath",
           "Entire home/apt",
           2,
           207
          ],
          [
           "Rental unit in Genève · ★4.57 · 1 bedroom · 2 beds · 1 bath",
           "Entire home/apt",
           1,
           60
          ],
          [
           "Rental unit in Geneva · ★4.87 · 2 bedrooms · 2 beds · 1 bath",
           "Entire home/apt",
           3,
           250
          ],
          [
           "Rental unit in Geneva · ★4.84 · 1 bedroom · 1 bed · 1 bath",
           "Entire home/apt",
           2,
           220
          ],
          [
           "Rental unit in Petit-Lancy · ★4.99 · 1 bedroom · 1 bed · 1 shared bath",
           "Private room",
           2,
           74
          ],
          [
           "Condo in Geneva · ★4.80 · 2 bedrooms · 3 beds · 1 bath",
           "Entire home/apt",
           4,
           350
          ],
          [
           "Rental unit in Geneva · ★4.83 · 3 bedrooms · 5 beds · 2 baths",
           "Entire home/apt",
           6,
           430
          ],
          [
           "Rental unit in Geneva · ★4.82 · 2 bedrooms · 3 beds · 1 bath",
           "Entire home/apt",
           4,
           370
          ],
          [
           "Rental unit in Geneva · ★4.81 · 1 bedroom · 1 bed · 1 bath",
           "Entire home/apt",
           2,
           227
          ],
          [
           "Rental unit in Geneva · ★4.73 · 1 bedroom · 1 bed · 1 shared bath",
           "Private room",
           1,
           138
          ],
          [
           "Rental unit in Genève · ★4.40 · 1 bedroom · 1 bed · 1 bath",
           "Entire home/apt",
           2,
           102
          ],
          [
           "Rental unit in Geneva · ★4.82 · 1 bedroom · 2 shared baths",
           "Private room",
           2,
           75
          ],
          [
           "Rental unit in Geneva · ★4.71 · 1 bedroom · 1 bed · 1 bath",
           "Entire home/apt",
           1,
           90
          ],
          [
           "Rental unit in Geneva · ★4.71 · Studio · 1 bed · 1 bath",
           "Entire home/apt",
           2,
           105
          ],
          [
           "Rental unit in Geneva · ★4.53 · Studio · 1 bed · 1 bath",
           "Entire home/apt",
           1,
           150
          ],
          [
           "Rental unit in Geneva · ★4.63 · 2 bedrooms · 2 beds · 1 bath",
           "Entire home/apt",
           4,
           154
          ],
          [
           "Rental unit in Geneva · ★4.30 · Studio · 2 beds · 1 bath",
           "Entire home/apt",
           2,
           91
          ],
          [
           "Rental unit in Genève · ★4.83 · 1 bedroom · 1 bed · 1 bath",
           "Entire home/apt",
           2,
           122
          ],
          [
           "Condo in Genève · ★4.48 · 1 bedroom · 1 bed · 1 shared bath",
           "Private room",
           1,
           59
          ],
          [
           "Home in Thônex · ★4.69 · 1 bedroom · 1 bed · 1 shared bath",
           "Private room",
           1,
           30
          ],
          [
           "Rental unit in Geneva · ★4.82 · 1 bedroom · 1 bed · 1.5 shared baths",
           "Private room",
           1,
           63
          ],
          [
           "Home in Vernier · ★4.85 · 1 bedroom · 1 bed · 1 shared bath",
           "Private room",
           1,
           80
          ],
          [
           "Rental unit in Genève · ★4.57 · 1 bedroom · 1 bed · 1.5 baths",
           "Private room",
           2,
           117
          ],
          [
           "Condo in Geneva · ★4.79 · 3 bedrooms · 3 beds · 2 baths",
           "Entire home/apt",
           3,
           120
          ],
          [
           "Rental unit in Geneva · ★4.13 · 1 bedroom · 2 beds · 1 bath",
           "Entire home/apt",
           4,
           75
          ],
          [
           "Villa in Chêne-Bougeries · ★4.88 · 5 bedrooms · 12 beds · 3.5 baths",
           "Entire home/apt",
           11,
           1529
          ],
          [
           "Rental unit in Geneva · ★4.93 · Studio · 1 bed · 1 bath",
           "Entire home/apt",
           2,
           120
          ],
          [
           "Rental unit in Geneva · ★4.93 · 1 bedroom · 1 bed · 1.5 baths",
           "Entire home/apt",
           2,
           130
          ],
          [
           "Home in Cologny · ★5.0 · 1 bedroom · 1 bed · 1 shared bath",
           "Private room",
           2,
           69
          ],
          [
           "Rental unit in Carouge · ★4.56 · 2 bedrooms · 1 bed · 1 private bath",
           "Private room",
           1,
           60
          ],
          [
           "Rental unit in Plan-les-Ouates · ★4.77 · 1 bedroom · 1 bed · 1 bath",
           "Private room",
           2,
           55
          ],
          [
           "Rental unit in Geneva · ★4.77 · 1 bedroom · 1 bed · 1 bath",
           "Entire home/apt",
           3,
           160
          ],
          [
           "Rental unit in Geneva · ★4.78 · 5 bedrooms · 1 bed · 1 bath",
           "Entire home/apt",
           2,
           99
          ],
          [
           "Rental unit in Genève · ★4.95 · 3 bedrooms · 4 beds · 1 bath",
           "Entire home/apt",
           6,
           240
          ],
          [
           "Bed and breakfast in Vernier · ★4.91 · 1 bedroom · 1 bed · 1 bath",
           "Private room",
           1,
           70
          ],
          [
           "Condo in Plan-les-Ouates · ★4.70 · 1 bedroom · 1 bed · 1 bath",
           "Entire home/apt",
           2,
           101
          ],
          [
           "Rental unit in Geneva · ★4.86 · 2 bedrooms · 2 beds · 1.5 baths",
           "Entire home/apt",
           2,
           75
          ],
          [
           "Rental unit in Genève · ★4.92 · 1 bedroom · 2 beds · 1 bath",
           "Entire home/apt",
           2,
           95
          ],
          [
           "Rental unit in Geneva · ★4.80 · 1 bedroom · 1 bed · 1 bath",
           "Entire home/apt",
           2,
           130
          ],
          [
           "Rental unit in Geneva · ★4.70 · 1 bedroom · 1 bed · 1.5 baths",
           "Private room",
           2,
           108
          ],
          [
           "Rental unit in Geneva · ★4.53 · 1 bedroom · 1 bed · 1 bath",
           "Private room",
           1,
           47
          ],
          [
           "Rental unit in Plan-les-Ouates · ★4.86 · 1 bedroom · 1 bed · 1 shared bath",
           "Private room",
           1,
           52
          ],
          [
           "Condo in Chêne-Bougeries · ★4.65 · 1 bedroom · 1 bed · 1 bath",
           "Entire home/apt",
           2,
           119
          ],
          [
           "Rental unit in Geneva · ★4.71 · 1 bedroom · 1 bed · 1 shared bath",
           "Private room",
           1,
           54
          ],
          [
           "Rental unit in Vernier · ★4.23 · 1 bedroom · 1 bed · 1 bath",
           "Entire home/apt",
           2,
           69
          ],
          [
           "Rental unit in Genève · 1 bedroom · 1 bed · 1.5 baths",
           "Private room",
           1,
           75
          ],
          [
           "Rental unit in Genève · ★4.64 · 1 bedroom · 2 beds · 1 bath",
           "Entire home/apt",
           2,
           120
          ],
          [
           "Rental unit in Carouge · ★4.57 · 1 bedroom · 1 bed · 1 shared bath",
           "Private room",
           1,
           55
          ],
          [
           "Rental unit in Genève · ★4.92 · 1 bedroom · 1 bed · 1 shared bath",
           "Private room",
           1,
           50
          ],
          [
           "Rental unit in Geneva · ★4.71 · 2 bedrooms · 1 bed · 1 shared bath",
           "Private room",
           1,
           83
          ],
          [
           "Rental unit in Genève · ★4.92 · 1 bedroom · 1 bed · 1 shared bath",
           "Private room",
           2,
           66
          ],
          [
           "Rental unit in Genthod · ★4.25 · 1 bedroom · 1 bed · 1 bath",
           "Private room",
           1,
           100
          ],
          [
           "Home in Onex · ★4.66 · 1 bedroom · 1 bed · 1 shared bath",
           "Private room",
           1,
           72
          ],
          [
           "Rental unit in Geneva · ★4.65 · 2 bedrooms · 1 bed · 1 bath",
           "Entire home/apt",
           2,
           90
          ],
          [
           "Place to stay in Carouge · ★4.96 · 1 bedroom · 1 bed · 1 bath",
           "Entire home/apt",
           2,
           132
          ],
          [
           "Rental unit in Genève · ★4.43 · 1 bedroom · 2 beds · 1 bath",
           "Entire home/apt",
           2,
           99
          ],
          [
           "Home in Onex · ★4.73 · 1 bedroom · 1 bed · 1 shared bath",
           "Private room",
           1,
           49
          ],
          [
           "Rental unit in Genève · ★4.80 · 1 bedroom · 1 bed · 1 bath",
           "Entire home/apt",
           2,
           106
          ],
          [
           "Rental unit in Genève · ★4.85 · Studio · 1 bed · 1.5 baths",
           "Entire home/apt",
           2,
           128
          ],
          [
           "Rental unit in Genève · 1 bedroom · 1 bed · 1.5 shared baths",
           "Private room",
           1,
           129
          ],
          [
           "Loft in Genève · ★4.89 · 1 bedroom · 3 beds · 2 baths",
           "Entire home/apt",
           4,
           296
          ],
          [
           "Rental unit in Genève · ★4.70 · 1 bedroom · 1 bed · 1.5 baths",
           "Entire home/apt",
           4,
           131
          ],
          [
           "Home in Vessy · ★4.73 · Studio · 1 bed · 1 bath",
           "Entire home/apt",
           2,
           95
          ],
          [
           "Rental unit in Genève · ★4.78 · 1 bedroom · 2 beds · 1 bath",
           "Entire home/apt",
           4,
           155
          ],
          [
           "Home in Vernier · ★4.55 · 1 bedroom · 1 bed · 2 baths",
           "Private room",
           1,
           75
          ],
          [
           "Bungalow in Cointrin · ★4.67 · 1 bedroom · 2 beds · 1 bath",
           "Entire home/apt",
           4,
           95
          ],
          [
           "Rental unit in Genève · ★4.77 · 2 bedrooms · 3 beds · 1.5 baths",
           "Entire home/apt",
           4,
           335
          ],
          [
           "Condo in Genève · ★4.93 · 1 bedroom · 1 bed · 1 bath",
           "Entire home/apt",
           3,
           247
          ],
          [
           "Rental unit in Geneva · ★4.82 · 1 bedroom · 1 bed · 2 baths",
           "Private room",
           1,
           75
          ],
          [
           "Rental unit in Genève · ★4.36 · 1 bedroom · 1 bed · 1 bath",
           "Entire home/apt",
           2,
           88
          ],
          [
           "Rental unit in Genève · ★4.61 · 1 bedroom · 2 beds · 1 bath",
           "Entire home/apt",
           2,
           109
          ],
          [
           "Rental unit in Genève · 2 bedrooms · 1 bed · 1 bath",
           "Entire home/apt",
           1,
           52
          ],
          [
           "Rental unit in Genève · ★4.67 · 2 bedrooms · 1 bed · 1.5 baths",
           "Entire home/apt",
           2,
           121
          ],
          [
           "Rental unit in Genève · ★4.74 · 1 bedroom · 1 bed · 1 bath",
           "Entire home/apt",
           2,
           125
          ],
          [
           "Rental unit in Genève · ★4.82 · 1 bedroom · 1 bed · 1 shared bath",
           "Private room",
           2,
           40
          ],
          [
           "Rental unit in Genève · ★4.53 · 1 bedroom · 1 bed · 1 bath",
           "Entire home/apt",
           2,
           74
          ],
          [
           "Loft in Genève · ★4.81 · 1 bedroom · 1 bed · 1.5 shared baths",
           "Shared room",
           2,
           20
          ],
          [
           "Rental unit in Genève · ★4.68 · 1 bedroom · 1 bed · 1 bath",
           "Entire home/apt",
           2,
           77
          ],
          [
           "Serviced apartment in Genève · ★4.88 · 1 bedroom · 1 bed · 1.5 baths",
           "Entire home/apt",
           2,
           256
          ],
          [
           "Home in Vandœuvres · ★4.90 · 1 bedroom · 1 bed · 2 shared baths",
           "Private room",
           1,
           125
          ],
          [
           "Rental unit in Genève · ★4.79 · 2 bedrooms · 2 beds · 1 bath",
           "Entire home/apt",
           4,
           76
          ],
          [
           "Rental unit in Chambésy · ★4.50 · 1 bedroom · 1 bed · 1 bath",
           "Entire home/apt",
           2,
           140
          ],
          [
           "Rental unit in Genève · ★4.83 · 1 bedroom · 4 beds · 1 bath",
           "Entire home/apt",
           2,
           102
          ],
          [
           "Condo in Genève · ★5.0 · 1 bedroom · 2 beds · 1 bath",
           "Entire home/apt",
           2,
           110
          ],
          [
           "Rental unit in Lancy · ★4.74 · 1 bedroom · 1 bed · 1 shared bath",
           "Private room",
           1,
           48
          ],
          [
           "Rental unit in Genève · ★4.67 · 2 bedrooms · 2 beds · 1.5 baths",
           "Entire home/apt",
           4,
           105
          ],
          [
           "Rental unit in Chêne-Bougeries · 1 bedroom · 1 bed · 1 private bath",
           "Private room",
           1,
           90
          ],
          [
           "Rental unit in Geneva · ★4.95 · 1 bedroom · 1 bed · 1.5 shared baths",
           "Private room",
           1,
           62
          ],
          [
           "Rental unit in Genève · ★4.43 · 1 bedroom · 3 beds · 1 bath",
           "Entire home/apt",
           6,
           93
          ],
          [
           "Serviced apartment in Genève · ★4.50 · 1 bedroom · 3 beds · 1.5 baths",
           "Entire home/apt",
           4,
           777
          ],
          [
           "Rental unit in Genève · 1 bedroom · 2 beds · 2 baths",
           "Entire home/apt",
           5,
           250
          ],
          [
           "Rental unit in Genève · ★4.90 · 1 bedroom · 3 beds · 1 bath",
           "Entire home/apt",
           4,
           200
          ],
          [
           "Rental unit in Confignon · ★4.91 · 1 bedroom · 1 bed · 1 bath",
           "Entire home/apt",
           2,
           180
          ],
          [
           "Rental unit in Genève · 2 bedrooms · 2 beds · 2 baths",
           "Entire home/apt",
           4,
           450
          ],
          [
           "Rental unit in Genève · 2 bedrooms · 1 bed · 1 bath",
           "Entire home/apt",
           2,
           180
          ],
          [
           "Condo in Genève · ★5.0 · 2 bedrooms · 3 beds · 2 baths",
           "Entire home/apt",
           5,
           400
          ],
          [
           "Rental unit in Genève · ★5.0 · 2 bedrooms · 3 beds · 1 bath",
           "Entire home/apt",
           5,
           73
          ],
          [
           "Bed and breakfast in Genève · ★4.20 · 1 bedroom · 1 bed · 1 shared bath",
           "Private room",
           2,
           60
          ],
          [
           "Rental unit in Carouge · ★4.80 · 1 bedroom · 1 bed · 1 bath",
           "Entire home/apt",
           2,
           114
          ],
          [
           "Home in Le Grand-Saconnex · ★4.70 · 3 bedrooms · 5 beds · 2.5 baths",
           "Entire home/apt",
           7,
           490
          ],
          [
           "Rental unit in Genève · ★4.93 · 1 bedroom · 1 bed · 1 bath",
           "Entire home/apt",
           2,
           154
          ],
          [
           "Rental unit in Genève · ★4.79 · 1 bedroom · 1 bed · 1 bath",
           "Entire home/apt",
           2,
           168
          ],
          [
           "Rental unit in Confignon · 1 bedroom · 1 bed · 1 shared bath",
           "Shared room",
           1,
           500
          ],
          [
           "Rental unit in Genève · ★4.58 · 1 bedroom · 1 bed · Shared half-bath",
           "Private room",
           1,
           75
          ],
          [
           "Rental unit in Genève · 1 bedroom · 1 bed · 1.5 baths",
           "Entire home/apt",
           2,
           175
          ],
          [
           "Rental unit in Genève · ★4.66 · 2 bedrooms · 2 beds · 1.5 baths",
           "Entire home/apt",
           4,
           100
          ],
          [
           "Townhouse in Thônex · 1 bedroom · 2 beds · 1 private bath",
           "Private room",
           2,
           90
          ],
          [
           "Rental unit in Genève · ★4.86 · 1 bedroom · 1 bed · 2.5 baths",
           "Private room",
           1,
           149
          ],
          [
           "Rental unit in Geneva · ★4.74 · 1 bedroom · 1 bed · 1.5 baths",
           "Entire home/apt",
           2,
           107
          ],
          [
           "Rental unit in Genève · ★4.67 · 1 bedroom · 2 beds · 1 bath",
           "Entire home/apt",
           3,
           193
          ],
          [
           "Rental unit in Genève · ★4.88 · Studio · 2 beds · 1 bath",
           "Entire home/apt",
           4,
           119
          ],
          [
           "Rental unit in Meyrin · ★4.87 · 1 bedroom · 1 bed · 1 shared bath",
           "Private room",
           1,
           60
          ],
          [
           "Rental unit in Genève · ★4.55 · 1 bedroom · 2 beds · 1 shared bath",
           "Private room",
           4,
           81
          ],
          [
           "Rental unit in Genève · ★4.79 · Studio · 2 beds · 1 bath",
           "Entire home/apt",
           4,
           113
          ],
          [
           "Rental unit in Genève · ★4.14 · 1 bedroom · 1 bed · 1 bath",
           "Entire home/apt",
           2,
           207
          ],
          [
           "Rental unit in Genève · ★4.71 · 1 bedroom · 2 beds · 1 bath",
           "Entire home/apt",
           3,
           104
          ],
          [
           "Rental unit in Genève · ★4.96 · 2 bedrooms · 2 beds · 1 bath",
           "Entire home/apt",
           4,
           350
          ],
          [
           "Rental unit in Chêne-Bougeries · ★4.90 · 1 bedroom · 1 bed · 1 bath",
           "Entire home/apt",
           3,
           155
          ],
          [
           "Rental unit in Genève · ★4.91 · 1 bedroom · 1 bed · 1.5 shared baths",
           "Private room",
           1,
           110
          ],
          [
           "Home in Vésenaz · ★4.76 · 2 bedrooms · 3 beds · 1 bath",
           "Entire home/apt",
           5,
           180
          ],
          [
           "Rental unit in Genève · ★4.29 · 1 bedroom · 2 beds · 1 bath",
           "Entire home/apt",
           3,
           119
          ],
          [
           "Rental unit in Genève · 3 bedrooms · 2 beds · 1 bath",
           "Entire home/apt",
           3,
           115
          ],
          [
           "Rental unit in Genève · ★4.76 · 1 bedroom · 1 bed · 1 shared bath",
           "Private room",
           1,
           69
          ],
          [
           "Rental unit in Genève · ★4.31 · 1 bedroom · 1 bed · 1 shared bath",
           "Private room",
           1,
           65
          ],
          [
           "Rental unit in Chêne-Bougeries · 1 bedroom · 1 bed · 1 bath",
           "Entire home/apt",
           2,
           144
          ],
          [
           "Rental unit in Carouge · ★4.57 · 1 bedroom · 1 bed · 1 shared bath",
           "Private room",
           2,
           40
          ],
          [
           "Rental unit in Genève · ★4.82 · 1 bedroom · 1 bed · 1 bath",
           "Entire home/apt",
           3,
           150
          ],
          [
           "Rental unit in Genève · ★4.70 · 2 bedrooms · 3 beds · 1.5 baths",
           "Entire home/apt",
           5,
           230
          ],
          [
           "Condo in Bellevue · ★4.60 · 3 bedrooms · 5 beds · 2 baths",
           "Entire home/apt",
           6,
           250
          ],
          [
           "Rental unit in Genève · ★4.86 · 1 bedroom · 2 beds · 1 bath",
           "Entire home/apt",
           2,
           150
          ],
          [
           "Villa in Genthod · 3 bedrooms · 4 beds · 2 baths",
           "Entire home/apt",
           4,
           400
          ],
          [
           "Rental unit in Geneva · ★4.27 · Studio · 1 bed · 1 bath",
           "Entire home/apt",
           1,
           60
          ],
          [
           "Loft in Genève · 1 bedroom · 1 bed · 1 bath",
           "Entire home/apt",
           2,
           140
          ],
          [
           "Serviced apartment in Genève · ★4.78 · 4 bedrooms · 5 beds · 3 baths",
           "Entire home/apt",
           7,
           449
          ],
          [
           "Rental unit in Thônex · ★New · 1 bedroom · 1 bed · 1 bath",
           "Private room",
           2,
           100
          ],
          [
           "Serviced apartment in Genève · ★4.98 · 1 bedroom · 2 beds · 1.5 baths",
           "Entire home/apt",
           4,
           687
          ],
          [
           "Rental unit in Meyrin · ★4.71 · 2 bedrooms · 1 bed · 1 bath",
           "Entire home/apt",
           2,
           66
          ],
          [
           "Rental unit in Genève · ★5.0 · 2 bedrooms · 1 bed · 1 bath",
           "Entire home/apt",
           2,
           120
          ],
          [
           "Rental unit in Genève · ★4.70 · 4 bedrooms · 5 beds · 3 baths",
           "Entire home/apt",
           7,
           436
          ],
          [
           "Rental unit in Genève · ★4.64 · 1 bedroom · 1 bed · 1 bath",
           "Entire home/apt",
           2,
           70
          ],
          [
           "Rental unit in Genève · ★4.88 · 1 bedroom · 2 beds · 1 bath",
           "Entire home/apt",
           4,
           155
          ],
          [
           "Rental unit in Genève · ★4.63 · Studio · 2 beds · 1 bath",
           "Entire home/apt",
           4,
           125
          ],
          [
           "Rental unit in Genève · ★5.0 · 1 bedroom · 2 beds · 1 bath",
           "Entire home/apt",
           4,
           100
          ],
          [
           "Rental unit in Genève · ★4.81 · 1 bedroom · 1 bed · 1.5 shared baths",
           "Private room",
           2,
           75
          ],
          [
           "Home in Vandœuvres · ★5.0 · 1 bedroom · 1 bed · 1.5 shared baths",
           "Private room",
           1,
           56
          ],
          [
           "Rental unit in Genève · ★4.86 · 1 bedroom · 1 bed · 1 bath",
           "Entire home/apt",
           2,
           150
          ],
          [
           "Villa in Vernier · ★4.56 · 2 bedrooms · 3 beds · 1 private bath",
           "Private room",
           6,
           135
          ],
          [
           "Home in Le Grand-Saconnex · ★4.80 · 1 bedroom · 1 bed · 3 shared baths",
           "Private room",
           2,
           69
          ],
          [
           "Rental unit in Genève · ★4.91 · Studio · 1 bed · 1.5 baths",
           "Entire home/apt",
           2,
           119
          ],
          [
           "Home in Onex · ★4.86 · 1 bedroom · 1 bed · 1 shared bath",
           "Private room",
           1,
           81
          ],
          [
           "Rental unit in Le Grand-Saconnex · ★4.06 · 1 bedroom · 1 bed · 1 bath",
           "Private room",
           2,
           70
          ],
          [
           "Rental unit in Genève · ★4.88 · 1 bedroom · 1 bed · 1 bath",
           "Entire home/apt",
           2,
           119
          ],
          [
           "Rental unit in Genève · ★4.33 · 1 bedroom · 1 bed · 1 bath",
           "Entire home/apt",
           2,
           103
          ],
          [
           "Rental unit in Genève · ★4.40 · 1 bedroom · 1 shared bath",
           "Private room",
           1,
           70
          ],
          [
           "Rental unit in Genève · ★4.83 · 1 bedroom · 1 bed · 1 bath",
           "Entire home/apt",
           2,
           83
          ],
          [
           "Rental unit in Genève · ★4.74 · 1 bedroom · 1 bed · 1 shared bath",
           "Private room",
           1,
           79
          ],
          [
           "Rental unit in Genève · ★4.68 · 1 bedroom · 1 bed · 1.5 baths",
           "Entire home/apt",
           2,
           100
          ],
          [
           "Rental unit in Carouge · ★4.33 · 1 bedroom · 2 beds · 1 bath",
           "Entire home/apt",
           4,
           108
          ],
          [
           "Rental unit in Genève · ★4.88 · 1 bedroom · 1 bed · 1 shared bath",
           "Private room",
           2,
           105
          ],
          [
           "Rental unit in Genève · ★4.73 · 1 bedroom · 1 bed · 1.5 shared baths",
           "Private room",
           2,
           115
          ],
          [
           "Rental unit in Genève · ★4.68 · 1 bedroom · 1 bath",
           "Entire home/apt",
           2,
           120
          ],
          [
           "Serviced apartment in Genève · ★5.0 · 2 bedrooms · 3 beds · 2.5 baths",
           "Entire home/apt",
           6,
           900
          ],
          [
           "Rental unit in Genève · 1 bedroom · 1 bed · 1 bath",
           "Entire home/apt",
           2,
           690
          ],
          [
           "Rental unit in crx de rozon · 1 bedroom · 1 bed · 1 bath",
           "Entire home/apt",
           1,
           95
          ],
          [
           "Rental unit in Genève · ★4.68 · 1 bedroom · 1 bed · 1 shared bath",
           "Private room",
           2,
           47
          ],
          [
           "Rental unit in Genève · ★5.0 · 1 bedroom · 1 bed · 1 bath",
           "Entire home/apt",
           2,
           140
          ],
          [
           "Rental unit in Genève · ★4.71 · 1 bedroom · 1 bed · 1 bath",
           "Entire home/apt",
           4,
           100
          ],
          [
           "Guesthouse in Genève · ★5.0 · 1 bedroom · 1 bed · 1.5 shared baths",
           "Private room",
           1,
           65
          ],
          [
           "Home in Veyrier · 1 bedroom · 1 bed · 1 private bath",
           "Private room",
           1,
           75
          ],
          [
           "Rental unit in Genève · ★4.88 · 1 bedroom · 2 beds · 1 bath",
           "Entire home/apt",
           2,
           277
          ],
          [
           "Rental unit in Genève · ★4.44 · 2 bedrooms · 3 beds · 1 bath",
           "Entire home/apt",
           4,
           287
          ],
          [
           "Rental unit in Genève · ★4.82 · 1 bedroom · 2 beds · 1 bath",
           "Entire home/apt",
           3,
           222
          ],
          [
           "Rental unit in Bellevue · ★4.43 · 1 bedroom · 1 bed · 1 shared bath",
           "Private room",
           1,
           35
          ],
          [
           "Rental unit in Genève · ★4.93 · 1 bedroom · 2 beds · 1 bath",
           "Entire home/apt",
           3,
           100
          ],
          [
           "Rental unit in Genève · ★4.56 · 1 bedroom · 1 bed · 1 bath",
           "Entire home/apt",
           2,
           67
          ],
          [
           "Rental unit in Thônex · Studio · 1 bed · 1 bath",
           "Entire home/apt",
           1,
           75
          ],
          [
           "Condo in Genève · ★4.13 · 1 bedroom · 1 bed · 1 bath",
           "Entire home/apt",
           1,
           236
          ],
          [
           "Home in Aire-la-Ville · ★4.86 · 1 bedroom · 1 bed · 1 bath",
           "Private room",
           1,
           90
          ],
          [
           "Rental unit in Genève · ★4.79 · 1 bedroom · 1 bed · 1 bath",
           "Entire home/apt",
           2,
           169
          ],
          [
           "Rental unit in Genève · ★4.89 · 1 bedroom · 1 bed · 1 bath",
           "Private room",
           1,
           64
          ],
          [
           "Rental unit in Geneva · ★4.64 · Studio · 1 bed · 1 bath",
           "Entire home/apt",
           2,
           89
          ],
          [
           "Rental unit in Genève · ★4.73 · Studio · 1 bed · 1 bath",
           "Entire home/apt",
           2,
           120
          ],
          [
           "Rental unit in Chambésy · 1 bedroom · 2 beds · 1.5 baths",
           "Entire home/apt",
           2,
           150
          ],
          [
           "Condo in Genève · ★4.96 · 1 bedroom · 1 bed · 1 bath",
           "Entire home/apt",
           2,
           110
          ],
          [
           "Rental unit in Genève · ★4.61 · 2 bedrooms · 2 beds · 1 bath",
           "Entire home/apt",
           5,
           187
          ],
          [
           "Rental unit in Genève · ★5.0 · 1 bedroom · 1 bed · 1 bath",
           "Entire home/apt",
           2,
           104
          ],
          [
           "Rental unit in Grand-Lancy · ★4.92 · 2 bedrooms · 4 beds · 2 baths",
           "Entire home/apt",
           7,
           220
          ],
          [
           "Rental unit in Genève · ★4.81 · 1 bedroom · 1 bed · 1.5 baths",
           "Entire home/apt",
           2,
           104
          ],
          [
           "Rental unit in Genève · ★4.71 · Studio · 1 bed · 1 bath",
           "Entire home/apt",
           2,
           77
          ],
          [
           "Rental unit in Onex · ★4.90 · 1 bedroom · 1 bed · 1 shared bath",
           "Private room",
           1,
           65
          ],
          [
           "Rental unit in Genève · 2 bedrooms · 3 beds · 1 bath",
           "Entire home/apt",
           4,
           169
          ],
          [
           "Hotel in Genève · ★4.79 · 1 bedroom · 2 beds · 1 private bath",
           "Private room",
           2,
           164
          ],
          [
           "Rental unit in Genève · ★4.64 · 1 bedroom · 1 bed · 1 shared bath",
           "Private room",
           1,
           70
          ],
          [
           "Rental unit in Genève · ★4.70 · 1 bedroom · 2 beds · 1 bath",
           "Entire home/apt",
           3,
           106
          ],
          [
           "Cottage in Bellevue · 2 bedrooms · 2 beds · 2 baths",
           "Entire home/apt",
           4,
           330
          ],
          [
           "Rental unit in Genève · 1 bedroom · 1 bed · 1 bath",
           "Entire home/apt",
           2,
           160
          ],
          [
           "Rental unit in Genève · ★4.11 · 1 bedroom · 2 beds · 1 bath",
           "Entire home/apt",
           4,
           258
          ],
          [
           "Rental unit in Genève · ★4.29 · 2 bedrooms · 3 beds · 1 bath",
           "Entire home/apt",
           6,
           175
          ],
          [
           "Rental unit in Genève · ★4.93 · 1 bedroom · 1 bed · 1 shared bath",
           "Private room",
           2,
           70
          ],
          [
           "Rental unit in Le Grand-Saconnex · ★4.83 · 2 bedrooms · 2 beds · 1 bath",
           "Entire home/apt",
           5,
           200
          ],
          [
           "Rental unit in Genève · ★4.83 · 2 bedrooms · 1 bed · 1 bath",
           "Entire home/apt",
           2,
           64
          ],
          [
           "Guest suite in Grand-Lancy · ★5.0 · 1 bedroom · 2 beds · 1.5 baths",
           "Entire home/apt",
           4,
           95
          ],
          [
           "Rental unit in Carouge · 1 bedroom · 2 beds · 1.5 baths",
           "Entire home/apt",
           4,
           279
          ],
          [
           "Rental unit in Genève · ★4.80 · Studio · 1 bed · 1 bath",
           "Entire home/apt",
           2,
           87
          ],
          [
           "Home in Vernier · ★4.75 · 1 bedroom · 1 bed · 1 shared bath",
           "Private room",
           2,
           51
          ],
          [
           "Rental unit in Genève · ★4.69 · Studio · 1 bed · 1 bath",
           "Entire home/apt",
           2,
           112
          ],
          [
           "Rental unit in Genève · ★4.67 · 1 bedroom · 2 beds · 1 bath",
           "Entire home/apt",
           2,
           140
          ],
          [
           "Rental unit in Genève · ★4.88 · 1 bedroom · 1 bed · 1 bath",
           "Entire home/apt",
           2,
           130
          ],
          [
           "Rental unit in Genève · ★4.74 · 1 bedroom · 1 bed · 1 bath",
           "Entire home/apt",
           2,
           117
          ],
          [
           "Rental unit in Genève · ★4.75 · 1 bedroom · 1 bed · 1 bath",
           "Private room",
           2,
           70
          ],
          [
           "Rental unit in Genève · ★4.65 · Studio · 1 bed · 1 bath",
           "Entire home/apt",
           2,
           76
          ],
          [
           "Bed and breakfast in Genève · ★4.64 · 1 bedroom · 1 bed · 1 private bath",
           "Private room",
           2,
           65
          ],
          [
           "Rental unit in Genève · ★4.50 · 1 bedroom · 1 bed · 1 bath",
           "Entire home/apt",
           2,
           120
          ],
          [
           "Rental unit in Versoix · ★4.95 · 1 bedroom · 1 bed · 1.5 baths",
           "Entire home/apt",
           2,
           85
          ],
          [
           "Rental unit in Vessy · Studio · 1 bed · 1 bath",
           "Entire home/apt",
           2,
           87
          ],
          [
           "Rental unit in Genève · ★4.93 · 1 bedroom · 1 bed · 1 bath",
           "Entire home/apt",
           2,
           90
          ],
          [
           "Rental unit in Geneva · ★4.89 · 1 bedroom · 1 bed · 1 private bath",
           "Private room",
           2,
           200
          ],
          [
           "Rental unit in Genève · ★4.63 · Studio · 1 bed · 1 bath",
           "Entire home/apt",
           2,
           70
          ],
          [
           "Rental unit in Cologny · ★4.11 · 3 bedrooms · 3 beds · 2.5 baths",
           "Entire home/apt",
           7,
           230
          ],
          [
           "Rental unit in Genève · ★4.66 · 1 bedroom · 2 beds · 1.5 baths",
           "Entire home/apt",
           2,
           92
          ],
          [
           "Condo in Genève · ★4.78 · 1 bedroom · 1 bed · 1 private bath",
           "Private room",
           2,
           62
          ],
          [
           "Rental unit in Genève · ★4.70 · 3 bedrooms · 4 beds · 2 baths",
           "Entire home/apt",
           4,
           200
          ],
          [
           "Rental unit in Genève · ★4.62 · Studio · 1 bed · 1 bath",
           "Entire home/apt",
           2,
           90
          ],
          [
           "Rental unit in Genève · ★4.78 · 1 bedroom · 1 bed · 1 bath",
           "Entire home/apt",
           2,
           107
          ],
          [
           "Rental unit in Genève · ★4.52 · 1 bedroom · 1 bed · 1 bath",
           "Entire home/apt",
           2,
           133
          ],
          [
           "Rental unit in Chêne-Bougeries · ★4.97 · 1 bedroom · 2 beds · 1.5 baths",
           "Entire home/apt",
           4,
           130
          ],
          [
           "Rental unit in Genève · 1 bedroom · 1 bed · 1 bath",
           "Entire home/apt",
           2,
           97
          ],
          [
           "Rental unit in Genève · 1 bedroom · 2 beds · 1.5 baths",
           "Entire home/apt",
           4,
           100
          ],
          [
           "Rental unit in Genève · ★4.33 · 1 bedroom · 2 beds · 1.5 baths",
           "Entire home/apt",
           4,
           100
          ],
          [
           "Rental unit in Genève · Studio · 1 bed · 1.5 baths",
           "Entire home/apt",
           2,
           590
          ],
          [
           "Rental unit in Genève · ★4.67 · Studio · 1 bed · 1.5 baths",
           "Entire home/apt",
           2,
           100
          ],
          [
           "Rental unit in Genève · 1 bedroom · 1 bed · 1.5 baths",
           "Entire home/apt",
           4,
           700
          ],
          [
           "Rental unit in Carouge · 1 bedroom · 2 beds · 1.5 baths",
           "Entire home/apt",
           3,
           285
          ],
          [
           "Rental unit in Genève · ★4.86 · 1 bedroom · 1 bed · 1 bath",
           "Entire home/apt",
           2,
           130
          ],
          [
           "Rental unit in Genève · ★New · 1 bedroom · 1 bed · 1 bath",
           "Entire home/apt",
           2,
           140
          ],
          [
           "Nature lodge in Petit-Lancy · ★4.86 · 1 bedroom · 1 bed · 1.5 shared baths",
           "Private room",
           1,
           52
          ],
          [
           "Home in Satigny · ★4.75 · 4 bedrooms · 5 beds · 3 baths",
           "Entire home/apt",
           6,
           300
          ],
          [
           "Rental unit in Geneva · ★4.89 · 1 bedroom · 1 bed · 1.5 shared baths",
           "Private room",
           1,
           51
          ],
          [
           "Rental unit in Genève · 1 bedroom · 1 bed · 1 bath",
           "Entire home/apt",
           2,
           97
          ],
          [
           "Rental unit in Genève · ★5.0 · 1 bedroom · 1 bed · 1 bath",
           "Entire home/apt",
           2,
           120
          ],
          [
           "Home in Genthod · 4 bedrooms · 4 beds · 2.5 baths",
           "Entire home/apt",
           6,
           500
          ],
          [
           "Home in Genève · 1 bedroom · 1 bed · 1 shared bath",
           "Shared room",
           2,
           50
          ],
          [
           "Rental unit in Genève Champel · ★4.81 · 1 bedroom · 2 beds · 1 bath",
           "Entire home/apt",
           3,
           58
          ],
          [
           "Rental unit in Genève · ★5.0 · 1 bedroom · 1 bed · 1 shared bath",
           "Private room",
           2,
           80
          ],
          [
           "Condo in Genève · ★4.22 · 1 bedroom · 1 bed · 1 shared bath",
           "Private room",
           2,
           87
          ],
          [
           "Rental unit in Genève · ★4.73 · 1 bedroom · 1 bed · 1 bath",
           "Entire home/apt",
           2,
           127
          ],
          [
           "Rental unit in Versoix · ★4.71 · 1 bedroom · 2 beds · 1 bath",
           "Private room",
           1,
           85
          ],
          [
           "Condo in Versoix · ★4.71 · 1 bedroom · 1 bed · 1 shared bath",
           "Private room",
           2,
           95
          ],
          [
           "Bed and breakfast in Genève · ★5.0 · 1 bedroom · 1 bed · 1 shared bath",
           "Private room",
           2,
           65
          ],
          [
           "Rental unit in Genève · ★4.92 · 1 bedroom · 2 beds · 1 bath",
           "Entire home/apt",
           4,
           110
          ],
          [
           "Rental unit in Genève · ★4.75 · 1 bedroom · 1 bed · 1 bath",
           "Entire home/apt",
           2,
           97
          ],
          [
           "Rental unit in Vandœuvres · ★4.80 · 3 bedrooms · 2 beds · 3.5 baths",
           "Entire home/apt",
           6,
           1974
          ],
          [
           "Rental unit in Carouge · ★4.61 · Studio · 1 bed · 1 bath",
           "Entire home/apt",
           2,
           90
          ],
          [
           "Rental unit in Genève · ★4.48 · Studio · 1 bed · 1 bath",
           "Entire home/apt",
           2,
           90
          ],
          [
           "Rental unit in Onex · ★5.0 · 1 bedroom · 2 beds · 1 bath",
           "Entire home/apt",
           2,
           80
          ],
          [
           "Rental unit in Genève · ★5.0 · 1 bedroom · 1 bed · 1.5 shared baths",
           "Private room",
           1,
           89
          ],
          [
           "Rental unit in Pregny-Chambésy · ★4.93 · 1 bedroom · 1 bed · 1 bath",
           "Entire home/apt",
           3,
           103
          ],
          [
           "Rental unit in Genève · 1 bedroom · 1 bed · 1 bath",
           "Entire home/apt",
           2,
           130
          ],
          [
           "Rental unit in Genève · ★4.19 · 1 bedroom · 1 bed · 1 bath",
           "Entire home/apt",
           2,
           110
          ],
          [
           "Home in Vernier · ★4.87 · 1 bedroom · 1 bed · 1 shared bath",
           "Private room",
           2,
           51
          ],
          [
           "Rental unit in Genève · 1 bedroom · 1 bed · 1 bath",
           "Entire home/apt",
           2,
           150
          ],
          [
           "Rental unit in Le Grand-Saconnex · ★4.85 · 1 bedroom · 1 bed · 1 shared bath",
           "Private room",
           2,
           200
          ],
          [
           "Condo in Genève · ★4.64 · 2 bedrooms · 3 beds · 1.5 baths",
           "Entire home/apt",
           5,
           186
          ],
          [
           "Rental unit in Genève · ★4.77 · 1 bedroom · 1 bed · 1 shared bath",
           "Private room",
           1,
           56
          ],
          [
           "Rental unit in Vésenaz · ★4.75 · 1 bedroom · 1 bed · 2.5 baths",
           "Entire home/apt",
           3,
           100
          ],
          [
           "Home in Genève · ★4.97 · 2 bedrooms · 2 beds · 1 bath",
           "Entire home/apt",
           2,
           120
          ],
          [
           "Rental unit in Genève · ★5.0 · 2 bedrooms · 2 beds · 1.5 baths",
           "Entire home/apt",
           4,
           165
          ],
          [
           "Rental unit in Genève · ★4.93 · 1 bedroom · 2 beds · 1 bath",
           "Entire home/apt",
           4,
           192
          ],
          [
           "Rental unit in Genève · ★4.86 · 1 bedroom · 1 bed · 1.5 baths",
           "Private room",
           2,
           70
          ],
          [
           "Home in Thônex · ★4.0 · 1 bedroom · 1 bed · 1 bath",
           "Private room",
           1,
           30
          ],
          [
           "Rental unit in Carouge · ★4.72 · 1 bedroom · 1 bed · 1 bath",
           "Entire home/apt",
           2,
           75
          ],
          [
           "Rental unit in Genève · ★4.94 · 1 bedroom · 1 bed · 1 bath",
           "Entire home/apt",
           2,
           116
          ],
          [
           "Rental unit in Versoix · ★4.59 · 1 bedroom · 1 bed · 1.5 shared baths",
           "Private room",
           2,
           56
          ],
          [
           "Rental unit in Genève · ★4.94 · 1 bedroom · 1 bed · 1.5 shared baths",
           "Private room",
           1,
           92
          ],
          [
           "Rental unit in Genève · ★5.0 · 2 bedrooms · 2 beds · 1.5 baths",
           "Entire home/apt",
           4,
           100
          ],
          [
           "Rental unit in Genève · ★4.78 · 1 bedroom · 1 bed · 1 bath",
           "Entire home/apt",
           3,
           188
          ],
          [
           "Rental unit in Chêne-Bougeries · ★5.0 · 1 bedroom · 1 bed · 1 bath",
           "Entire home/apt",
           2,
           100
          ],
          [
           "Villa in Lancy · ★4.81 · 1 bedroom · 1 bed · 1 bath",
           "Private room",
           1,
           42
          ],
          [
           "Rental unit in Genève · ★4.90 · 1 bedroom · 3 beds · 1 bath",
           "Entire home/apt",
           4,
           94
          ],
          [
           "Rental unit in Meyrin · ★4.58 · 1 bedroom · 1 bed · 1.5 baths",
           "Private room",
           2,
           85
          ],
          [
           "Rental unit in Genève · ★5.0 · 2 bedrooms · 1 bed · 1 bath",
           "Entire home/apt",
           2,
           120
          ],
          [
           "Rental unit in Genève · ★4.95 · 2 bedrooms · 2 beds · 1.5 baths",
           "Entire home/apt",
           4,
           180
          ],
          [
           "Home in Bellevue · ★New · 1 bedroom · 1 bed · 1 bath",
           "Entire home/apt",
           1,
           96
          ],
          [
           "Condo in Genève · ★4.63 · 1 bedroom · 2 beds · 1 private bath",
           "Private room",
           3,
           101
          ],
          [
           "Condo in Genève · ★4.82 · 1 bedroom · 1 bed · 1 private bath",
           "Private room",
           2,
           61
          ],
          [
           "Rental unit in Vernier · ★4.93 · 2 bedrooms · 2 beds · 1 private bath",
           "Private room",
           4,
           91
          ],
          [
           "Rental unit in Genève · ★4.56 · 1 bedroom · 2 beds · 1 shared bath",
           "Private room",
           2,
           71
          ],
          [
           "Rental unit in Le Grand-Saconnex · ★4.82 · 1 bedroom · 1 bed · 1 shared bath",
           "Private room",
           2,
           150
          ],
          [
           "Rental unit in Genève · ★4.67 · 1 bedroom · 1 bed · 1 bath",
           "Entire home/apt",
           2,
           66
          ],
          [
           "Rental unit in Veyrier · ★5.0 · 1 bedroom · 1 bed · 1 private bath",
           "Private room",
           2,
           80
          ],
          [
           "Rental unit in Onex · ★4.85 · 1 bedroom · 1 bed · 1.5 baths",
           "Private room",
           2,
           55
          ],
          [
           "Home in Geneva · ★4.67 · 1 bedroom · 2 beds · 1 bath",
           "Entire home/apt",
           2,
           181
          ],
          [
           "Rental unit in Genève · ★4.36 · 2 bedrooms · 3 beds · 1 bath",
           "Entire home/apt",
           6,
           175
          ],
          [
           "Rental unit in Genève · ★4.71 · 1 bedroom · 1 bed · 1 bath",
           "Entire home/apt",
           2,
           101
          ],
          [
           "Rental unit in Genève · ★4.76 · 1 bedroom · 2 beds · 1.5 baths",
           "Entire home/apt",
           4,
           125
          ],
          [
           "Rental unit in Genève · ★4.57 · 1 bedroom · 3 beds · 1 bath",
           "Entire home/apt",
           2,
           68
          ],
          [
           "Rental unit in Genève · ★4.93 · 1 bedroom · 1 bed · 1 bath",
           "Entire home/apt",
           2,
           139
          ],
          [
           "Rental unit in Genève · ★5.0 · 1 bedroom · 1 bed · 1 shared bath",
           "Private room",
           1,
           70
          ],
          [
           "Boat in Genève · ★New · 1 bedroom · 2 beds · Half-bath",
           "Entire home/apt",
           2,
           142
          ],
          [
           "Rental unit in Genève · ★4.50 · Studio · 2 beds · 1 bath",
           "Entire home/apt",
           2,
           115
          ],
          [
           "Rental unit in Genève · ★4.71 · Studio · 1 bed · 1 bath",
           "Entire home/apt",
           2,
           75
          ],
          [
           "Rental unit in Genève · 1 bedroom · 1 bed · 1 bath",
           "Entire home/apt",
           2,
           250
          ],
          [
           "Villa in Cologny · ★4.86 · 4 bedrooms · 5 beds · 3.5 baths",
           "Entire home/apt",
           7,
           299
          ],
          [
           "Rental unit in Genève · ★4.79 · 1 bedroom · 2 beds · 1 bath",
           "Entire home/apt",
           3,
           119
          ],
          [
           "Rental unit in Genève · ★4.67 · 1 bedroom · 1 bed · 1 bath",
           "Entire home/apt",
           1,
           86
          ],
          [
           "Boutique hotel in Genève · ★4.14 · 1 bedroom · 1 bed · 1 private bath",
           "Hotel room",
           1,
           135
          ],
          [
           "Boutique hotel in Genève · ★4.10 · Studio · 2 beds · 1 bath",
           "Hotel room",
           2,
           169
          ],
          [
           "Hotel in Genève · ★4.33 · Studio · 4 beds · 1 private bath",
           "Private room",
           4,
           249
          ],
          [
           "Rental unit in Genève · ★5.0 · 1 bedroom · 1 bed · 1.5 baths",
           "Entire home/apt",
           2,
           100
          ],
          [
           "Boutique hotel in Genève · ★4.0 · Studio · 4 beds · 1 bath",
           "Entire home/apt",
           4,
           259
          ],
          [
           "Rental unit in Genève · ★4.89 · 1 bedroom · 1 bed · 1 shared bath",
           "Private room",
           2,
           80
          ],
          [
           "Rental unit in Genève · 1 bedroom · 1 bed · 1 shared bath",
           "Private room",
           1,
           90
          ],
          [
           "Rental unit in Meyrin · 1 bedroom · 1 bed · 1 shared bath",
           "Private room",
           2,
           227
          ],
          [
           "Rental unit in Genève · ★5.0 · 1 bedroom · 1 bed · 1 bath",
           "Entire home/apt",
           2,
           55
          ],
          [
           "Rental unit in Genève · ★4.97 · 1 bedroom · 1 bed · 1 shared bath",
           "Private room",
           1,
           80
          ],
          [
           "Rental unit in Genève · ★4.69 · 1 bedroom · 1 bed · 1.5 shared baths",
           "Private room",
           1,
           50
          ],
          [
           "Rental unit in Genève · ★4.50 · 1 bedroom · 1 bed · 1 bath",
           "Entire home/apt",
           2,
           85
          ],
          [
           "Rental unit in Genève · ★4.50 · 2 bedrooms · 1 bed · 1 shared bath",
           "Private room",
           2,
           41
          ],
          [
           "Home in Le Grand-Saconnex · ★5.0 · 3 bedrooms · 3 beds · 1.5 baths",
           "Entire home/apt",
           5,
           160
          ],
          [
           "Home in Petit-Lancy · ★4.91 · 1 bedroom · 3 beds · 1 bath",
           "Entire home/apt",
           4,
           120
          ],
          [
           "Rental unit in Genève · ★4.93 · 1 bedroom · 1 bed · 1 shared bath",
           "Private room",
           2,
           70
          ],
          [
           "Rental unit in Soral · ★4.86 · 1 bedroom · 1 bed · 1 bath",
           "Entire home/apt",
           2,
           70
          ],
          [
           "Boutique hotel in Genève · ★4.0 · Studio · 4 beds · 1 bath",
           "Private room",
           4,
           261
          ],
          [
           "Condo in Bellevue · 2 bedrooms · 2 beds · 1.5 shared baths",
           "Private room",
           1,
           125
          ],
          [
           "Rental unit in Conches · ★4.75 · 3 bedrooms · 4 beds · 2.5 baths",
           "Entire home/apt",
           7,
           249
          ],
          [
           "Rental unit in Genève · ★4.95 · 3 bedrooms · 3 beds · 2.5 baths",
           "Entire home/apt",
           5,
           253
          ],
          [
           "Boutique hotel in Genève · ★4.29 · Studio · 2 beds · 1 bath",
           "Entire home/apt",
           2,
           169
          ],
          [
           "Rental unit in Genève · ★4.67 · Studio · 2 beds · 1 bath",
           "Entire home/apt",
           2,
           250
          ],
          [
           "Rental unit in Genève · ★5.0 · 2 bedrooms · 2 beds · 2 baths",
           "Entire home/apt",
           4,
           220
          ],
          [
           "Rental unit in Genève · ★4.91 · 1 bedroom · 1 bed · 1 bath",
           "Entire home/apt",
           1,
           175
          ],
          [
           "Condo in Genève · ★4.88 · 1 bedroom · 1 bed · 1 bath",
           "Entire home/apt",
           2,
           102
          ],
          [
           "Rental unit in Versoix · ★4.69 · 2 bedrooms · 1 bed · 1 bath",
           "Entire home/apt",
           4,
           115
          ],
          [
           "Rental unit in Genève · 1 bedroom · 1 bed · 1 bath",
           "Private room",
           1,
           50
          ],
          [
           "Home in Cartigny · ★4.67 · 1 bedroom · 1 bed · 1 shared bath",
           "Private room",
           2,
           666
          ],
          [
           "Rental unit in Genève · 1 bedroom · 1 bed · 1 shared bath",
           "Private room",
           2,
           188
          ],
          [
           "Loft in Genève · ★4.92 · 1 bedroom · 2 beds · 1.5 baths",
           "Entire home/apt",
           2,
           40
          ],
          [
           "Rental unit in Lancy · ★4.53 · 1 bedroom · 2 beds · 1 bath",
           "Entire home/apt",
           3,
           86
          ],
          [
           "Rental unit in Geneve  · 1 bedroom · 1 bed · 1 bath",
           "Entire home/apt",
           1,
           250
          ],
          [
           "Rental unit in Le Grand-Saconnex · ★4.89 · 1 bedroom · 1 bed · 1 shared bath",
           "Private room",
           1,
           91
          ],
          [
           "Rental unit in Genève · ★4.67 · 1 bedroom · 1 bed · 1 bath",
           "Entire home/apt",
           3,
           3000
          ],
          [
           "Rental unit in Genève · ★4.89 · 1 bedroom · 1 bed · 1 private bath",
           "Private room",
           1,
           75
          ],
          [
           "Rental unit in Genève · ★4.54 · 6 bedrooms · 1 bed · 1 bath",
           "Entire home/apt",
           3,
           100
          ],
          [
           "Rental unit in Genève · ★4.82 · 1 bedroom · 1 bed · 1 bath",
           "Entire home/apt",
           2,
           139
          ],
          [
           "Rental unit in Genève · ★4.45 · 1 bedroom · 1 bed · 1 bath",
           "Entire home/apt",
           2,
           96
          ],
          [
           "Bed and breakfast in Genève · ★4.58 · 1 bedroom · 1 bed · 1 private bath",
           "Private room",
           2,
           87
          ],
          [
           "Home in Le Grand-Saconnex · ★4.92 · 1 bedroom · 1 bed · 1 private bath",
           "Private room",
           1,
           400
          ],
          [
           "Rental unit in Genève · ★4.86 · 1 bedroom · 2 beds · 1 bath",
           "Entire home/apt",
           4,
           280
          ],
          [
           "Guesthouse in Lancy · ★4.51 · 1 bedroom · 2 beds · 1 bath",
           "Entire home/apt",
           4,
           91
          ],
          [
           "Home in Geneva · ★4.67 · 1 bedroom · 1 bed · 1.5 baths",
           "Private room",
           2,
           95
          ],
          [
           "Rental unit in Genève · ★4.89 · 1 bedroom · 2 beds · 1 bath",
           "Entire home/apt",
           4,
           100
          ],
          [
           "Rental unit in Genève · ★4.70 · 1 bedroom · 1 bed · 1 bath",
           "Entire home/apt",
           2,
           189
          ],
          [
           "Rental unit in Genève · ★4.87 · 1 bedroom · 1 bed · 1 bath",
           "Entire home/apt",
           3,
           73
          ],
          [
           "Rental unit in Meyrin · ★4.98 · 2 bedrooms · 2 beds · 1.5 baths",
           "Entire home/apt",
           4,
           195
          ],
          [
           "Villa in Petit Lancy · ★5.0 · 3 bedrooms · 3 beds · 2 baths",
           "Entire home/apt",
           6,
           169
          ],
          [
           "Rental unit in  Genève · ★4.56 · 1 bedroom · 1 bed · 1 shared bath",
           "Private room",
           1,
           68
          ],
          [
           "Rental unit in Genève · ★4.71 · 1 bedroom · 1 bed · 1 bath",
           "Entire home/apt",
           2,
           109
          ],
          [
           "Rental unit in Genève · ★4.90 · 2 bedrooms · 2 beds · 1 bath",
           "Entire home/apt",
           3,
           120
          ],
          [
           "Home in Collonge-Bellerive · 4 bedrooms · 4 beds · 4 baths",
           "Entire home/apt",
           8,
           2300
          ],
          [
           "Rental unit in Genève · ★4.60 · 2 bedrooms · 3 beds · 2 baths",
           "Entire home/apt",
           5,
           249
          ],
          [
           "Condo in Genève · ★4.65 · 1 bedroom · 2 beds · 1 bath",
           "Entire home/apt",
           2,
           218
          ],
          [
           "Rental unit in Genève · ★4.94 · 1 bedroom · 1 bed · 1 bath",
           "Entire home/apt",
           2,
           115
          ],
          [
           "Rental unit in Genève · ★4.67 · 1 bedroom · 1 bed · 1 bath",
           "Entire home/apt",
           2,
           110
          ],
          [
           "Rental unit in Genève · ★4.96 · 1 bedroom · 1 bed · 1 bath",
           "Entire home/apt",
           3,
           110
          ],
          [
           "Rental unit in Genève · ★4.86 · 1 bedroom · 1 bed · 1 bath",
           "Entire home/apt",
           2,
           139
          ],
          [
           "Rental unit in Versoix · 1 bedroom · 1 bed · 1 bath",
           "Private room",
           1,
           45
          ],
          [
           "Rental unit in Genève · ★4.93 · 1 bedroom · 1 bed · 1 bath",
           "Entire home/apt",
           3,
           95
          ],
          [
           "Rental unit in Genève · ★4.91 · 4 bedrooms · 4 beds · 4 baths",
           "Entire home/apt",
           6,
           665
          ],
          [
           "Condo in Genève · ★4.69 · 5 bedrooms · 9 beds · 3.5 baths",
           "Entire home/apt",
           15,
           355
          ],
          [
           "Tiny home in Genève · ★4.95 · 1 bedroom · 1 bed · 1 bath",
           "Entire home/apt",
           2,
           45
          ],
          [
           "Rental unit in Genève · ★5.0 · 1 bedroom · 1 bed · 1.5 baths",
           "Entire home/apt",
           3,
           480
          ],
          [
           "Rental unit in Vernier · ★4.58 · Studio · 1 bed · 1 shared bath",
           "Private room",
           1,
           60
          ],
          [
           "Home in Chêne-Bourg · ★4.92 · 5 bedrooms · 7 beds · 3 baths",
           "Entire home/apt",
           9,
           464
          ],
          [
           "Villa in Cartigny · ★4.86 · 1 bedroom · 1 bed · 1 private bath",
           "Private room",
           2,
           70
          ],
          [
           "Rental unit in Genève · ★4.71 · 1 bedroom · 1 bed · 1 private bath",
           "Private room",
           2,
           78
          ],
          [
           "Rental unit in Genève · ★5.0 · 1 bedroom · 2 beds · 1 bath",
           "Entire home/apt",
           4,
           145
          ],
          [
           "Rental unit in Genève · ★4.83 · 1 bedroom · 1 bed · 1 shared bath",
           "Private room",
           1,
           67
          ],
          [
           "Rental unit in Grand-Lancy · ★4.35 · 2 bedrooms · 2 beds · 1 bath",
           "Entire home/apt",
           3,
           69
          ],
          [
           "Rental unit in Genève · 5 bedrooms · 3 beds · 1 bath",
           "Entire home/apt",
           4,
           179
          ],
          [
           "Rental unit in Genève · ★4.81 · 1 bedroom · 2 beds · 1 bath",
           "Entire home/apt",
           4,
           110
          ],
          [
           "Rental unit in Genève · ★4.90 · 1 bedroom · 1 bed · 1 bath",
           "Entire home/apt",
           2,
           99
          ],
          [
           "Rental unit in Genève · ★4.96 · 1 bedroom · 1 bed · 1 bath",
           "Entire home/apt",
           2,
           110
          ],
          [
           "Place to stay in Bernex · 1 bedroom · 1 bed · 0 shared baths",
           "Shared room",
           2,
           50
          ],
          [
           "Rental unit in Genève · ★5.0 · 1 bedroom · 2 beds · 2.5 baths",
           "Entire home/apt",
           2,
           170
          ],
          [
           "Rental unit in Genève · ★4.83 · 1 bedroom · 1 bed · 1 shared bath",
           "Private room",
           1,
           80
          ],
          [
           "Rental unit in Versoix · 2 bedrooms · 2 beds · 1 bath",
           "Entire home/apt",
           2,
           240
          ],
          [
           "Rental unit in Vernier · ★4.23 · 1 bedroom · 1 bed · 1 shared bath",
           "Private room",
           2,
           54
          ],
          [
           "Condo in Genève · ★4.87 · 1 bedroom · 2 beds · 1.5 baths",
           "Entire home/apt",
           4,
           75
          ],
          [
           "Rental unit in Genève · ★4.88 · 2 bedrooms · 3 beds · 1 bath",
           "Entire home/apt",
           5,
           170
          ],
          [
           "Rental unit in Genève · ★4.84 · 2 bedrooms · 5 beds · 1.5 baths",
           "Entire home/apt",
           4,
           225
          ],
          [
           "Rental unit in Genève · ★5.0 · 1 bedroom · 2 beds · 1 shared bath",
           "Private room",
           2,
           49
          ],
          [
           "Rental unit in Genève · ★5.0 · 1 bedroom · 1 bed · 1 bath",
           "Entire home/apt",
           2,
           135
          ],
          [
           "Rental unit in Genève · Studio · 5 beds · 1 bath",
           "Entire home/apt",
           1,
           113
          ],
          [
           "Rental unit in Genève · ★4.89 · 1 bedroom · 1 bed · 1 bath",
           "Entire home/apt",
           3,
           154
          ],
          [
           "Rental unit in Vernier · ★4.22 · 1 bedroom · 1 bed · 1 shared bath",
           "Private room",
           2,
           56
          ],
          [
           "Rental unit in Genève · ★4.84 · 1 bedroom · 1 bed · 1.5 baths",
           "Entire home/apt",
           2,
           138
          ],
          [
           "Rental unit in Genève · ★4.60 · 1 bedroom · 3 beds · 1 private bath",
           "Private room",
           6,
           63
          ],
          [
           "Rental unit in Genève · ★4.88 · 2 bedrooms · 1 bed · 1 shared bath",
           "Private room",
           1,
           62
          ],
          [
           "Rental unit in Genève · ★5.0 · 2 bedrooms · 1 bed · 1 bath",
           "Entire home/apt",
           3,
           99
          ],
          [
           "Rental unit in Le Grand-Saconnex · ★4.33 · 1 bedroom · 1 bed · 1 shared bath",
           "Private room",
           1,
           70
          ],
          [
           "Guesthouse in Troinex · ★4.87 · Studio · 2 beds · 1 bath",
           "Entire home/apt",
           4,
           95
          ],
          [
           "Rental unit in Genève · ★4.92 · 1 bedroom · 1 bed · 1.5 shared baths",
           "Private room",
           2,
           65
          ],
          [
           "Loft in Genève · ★4.75 · 1 bedroom · 1 bed · 1.5 baths",
           "Entire home/apt",
           2,
           190
          ],
          [
           "Yurt in Meyrin · ★4.83 · 1 bedroom · 4 beds · Half-bath",
           "Entire home/apt",
           4,
           65
          ],
          [
           "Rental unit in Genève · ★4.17 · 1 bedroom · 2 beds · 1 bath",
           "Entire home/apt",
           3,
           94
          ],
          [
           "Rental unit in Genève · ★4.89 · 1 bedroom · 1 bed · 1 shared bath",
           "Private room",
           1,
           47
          ],
          [
           "Rental unit in Genève · ★4.95 · 2 bedrooms · 2 beds · 1 bath",
           "Entire home/apt",
           3,
           270
          ],
          [
           "Rental unit in Genève · ★4.55 · 3 bedrooms · 2 beds · 2 shared baths",
           "Private room",
           3,
           120
          ],
          [
           "Rental unit in Genève · ★4.24 · 1 bedroom · 2 beds · 1 bath",
           "Entire home/apt",
           3,
           115
          ],
          [
           "Rental unit in Genève · ★4.88 · 1 bedroom · 2 beds · 1 bath",
           "Entire home/apt",
           4,
           130
          ],
          [
           "Rental unit in Genève · ★4.42 · 4 bedrooms · 5 beds · 1 bath",
           "Entire home/apt",
           8,
           223
          ],
          [
           "Rental unit in Grand-Lancy · 2 bedrooms · 2 beds · 1.5 baths",
           "Entire home/apt",
           4,
           120
          ],
          [
           "Rental unit in Genève · ★4.82 · 1 bedroom · 1 bed · 1 bath",
           "Entire home/apt",
           2,
           175
          ],
          [
           "Rental unit in Genève · 2 bedrooms · 1 bed · 1.5 baths",
           "Entire home/apt",
           2,
           185
          ],
          [
           "Condo in Genève · ★4.50 · 1 bedroom · 1 bed · 1 bath",
           "Entire home/apt",
           2,
           110
          ],
          [
           "Rental unit in Genève · ★4.44 · 1 bedroom · 1 bed · 1 bath",
           "Entire home/apt",
           2,
           120
          ],
          [
           "Rental unit in Versoix · ★4.48 · 2 bedrooms · 4 beds · 1.5 baths",
           "Entire home/apt",
           4,
           129
          ],
          [
           "Rental unit in Genève · ★4.0 · 2 bedrooms · 2 beds · 2 baths",
           "Entire home/apt",
           4,
           725
          ],
          [
           "Rental unit in Genève · ★4.48 · 1 bedroom · 1 bed · 1 bath",
           "Entire home/apt",
           2,
           117
          ],
          [
           "Rental unit in Genève · ★4.76 · 2 bedrooms · 2 beds · 1 bath",
           "Entire home/apt",
           3,
           140
          ],
          [
           "Rental unit in Genève · ★4.46 · 2 bedrooms · 2 beds · 1 bath",
           "Entire home/apt",
           6,
           390
          ],
          [
           "Rental unit in Genève · ★4.86 · 2 bedrooms · 2 beds · 1 bath",
           "Entire home/apt",
           4,
           150
          ],
          [
           "Rental unit in Bardonnex · ★4.86 · 1 bedroom · 1 bed · 1 shared bath",
           "Private room",
           1,
           49
          ],
          [
           "Home in Genève · ★4.67 · 4 bedrooms · 4 beds · 2.5 baths",
           "Entire home/apt",
           6,
           220
          ],
          [
           "Rental unit in Genève · ★4.75 · 1 bedroom · 1 bed · 1 shared bath",
           "Private room",
           2,
           131
          ],
          [
           "Rental unit in Genève · ★4.91 · 3 bedrooms · 3 beds · 1.5 baths",
           "Entire home/apt",
           5,
           298
          ],
          [
           "Rental unit in Genève · ★4.76 · 1 bedroom · 1 bed · 1 private bath",
           "Private room",
           1,
           66
          ],
          [
           "Rental unit in Genève · ★4.94 · Studio · 1 bed · 1 bath",
           "Entire home/apt",
           2,
           127
          ],
          [
           "Rental unit in Genève · 2 bedrooms · 3 beds · 2 baths",
           "Entire home/apt",
           5,
           135
          ],
          [
           "Condo in Carouge · ★4.75 · 1 bedroom · 1 bed · 1 bath",
           "Entire home/apt",
           2,
           107
          ],
          [
           "Rental unit in Genève · ★4.76 · 1 bedroom · 1 bed · 1.5 baths",
           "Entire home/apt",
           2,
           146
          ],
          [
           "Rental unit in Genève · ★4.91 · Studio · 2 beds · 1 bath",
           "Entire home/apt",
           4,
           104
          ],
          [
           "Rental unit in Carouge · ★4.24 · 1 bedroom · 2 beds · 1 bath",
           "Entire home/apt",
           2,
           50
          ],
          [
           "Rental unit in Genève · ★4.0 · 1 bedroom · 2 beds · 1 bath",
           "Entire home/apt",
           3,
           100
          ],
          [
           "Rental unit in Carouge · ★4.63 · 3 bedrooms · 4 beds · 1.5 baths",
           "Entire home/apt",
           6,
           220
          ],
          [
           "Boutique hotel in Genève · ★4.55 · Studio · 1 bed · 1 bath",
           "Entire home/apt",
           1,
           135
          ],
          [
           "Boutique hotel in Genève · ★4.21 · 1 bedroom · 1 bed · 1 private bath",
           "Private room",
           2,
           169
          ],
          [
           "Rental unit in Genève · ★5.0 · Studio · 1 bed · 1 bath",
           "Entire home/apt",
           2,
           145
          ],
          [
           "Rental unit in Genève · ★4.55 · Studio · 1 bed · 1 bath",
           "Entire home/apt",
           2,
           89
          ],
          [
           "Rental unit in Genève · ★4.85 · 1 bedroom · 4 beds · 1.5 baths",
           "Entire home/apt",
           4,
           175
          ],
          [
           "Rental unit in Genève · ★4.94 · 1 bedroom · 1 bed · 1.5 shared baths",
           "Private room",
           2,
           90
          ],
          [
           "Rental unit in Pregny-Chambésy · ★5.0 · 1 bedroom · 2 beds · 1 bath",
           "Entire home/apt",
           1,
           180
          ],
          [
           "Rental unit in Genève · ★5.0 · 1 bedroom · 1 bed · 1 bath",
           "Entire home/apt",
           3,
           170
          ],
          [
           "Rental unit in Carouge · ★4.77 · 1 bedroom · 1 bed · 1 bath",
           "Entire home/apt",
           3,
           110
          ],
          [
           "Rental unit in Vernier · ★4.94 · 2 bedrooms · 1 bed · 1 private bath",
           "Private room",
           1,
           57
          ],
          [
           "Condo in Bellevue · ★4.50 · 1 bedroom · 1 bed · 1 shared bath",
           "Private room",
           1,
           49
          ],
          [
           "Rental unit in Genève · ★4.0 · 1 bedroom · 2 beds · 1 bath",
           "Entire home/apt",
           4,
           109
          ],
          [
           "Rental unit in Genève · ★4.36 · 1 bedroom · 1 bed · 1 bath",
           "Entire home/apt",
           2,
           99
          ],
          [
           "Rental unit in Genève · ★4.65 · 1 bedroom · 1 bed · 1 bath",
           "Entire home/apt",
           2,
           170
          ],
          [
           "Serviced apartment in Genève · ★4.94 · 3 bedrooms · 5 beds · 2.5 baths",
           "Entire home/apt",
           6,
           425
          ],
          [
           "Rental unit in Genève · ★4.79 · 1 bedroom · 1 bed · 1 bath",
           "Entire home/apt",
           4,
           110
          ],
          [
           "Rental unit in Genève · 2 bedrooms · 2 beds · 1 bath",
           "Entire home/apt",
           4,
           115
          ],
          [
           "Rental unit in Genève · ★4.71 · 2 bedrooms · 1 bed · 1.5 shared baths",
           "Private room",
           2,
           70
          ],
          [
           "Rental unit in Genève · ★4.76 · 2 bedrooms · 2 beds · 2.5 baths",
           "Entire home/apt",
           4,
           180
          ],
          [
           "Home in Chêne-Bougeries · ★4.97 · 1 bedroom · 1 bed · 2 baths",
           "Private room",
           2,
           120
          ],
          [
           "Rental unit in Genève · ★4.76 · Studio · 1 bed · 1 bath",
           "Entire home/apt",
           3,
           89
          ],
          [
           "Rental unit in Genève · ★5.0 · 1 bedroom · 1 bed · 1 bath",
           "Entire home/apt",
           2,
           101
          ],
          [
           "Rental unit in Genève · ★4.40 · 1 bedroom · 1 bed · 1 bath",
           "Entire home/apt",
           2,
           56
          ],
          [
           "Rental unit in Onex · ★5.0 · 2 bedrooms · 3 beds · 1.5 baths",
           "Entire home/apt",
           4,
           250
          ],
          [
           "Rental unit in Genève · ★4.60 · 2 bedrooms · 2 beds · 1.5 baths",
           "Entire home/apt",
           4,
           145
          ],
          [
           "Rental unit in Genève · ★4.31 · 2 bedrooms · 3 beds · 2 baths",
           "Entire home/apt",
           5,
           189
          ],
          [
           "Rental unit in Chêne-Bougeries · Studio · 1 bed · 1 bath",
           "Entire home/apt",
           3,
           250
          ],
          [
           "Rental unit in Genève · ★4.52 · 1 bedroom · 1 bed · 1 bath",
           "Entire home/apt",
           2,
           120
          ],
          [
           "Rental unit in Genève · ★4.36 · 1 bedroom · 1 bed · 1.5 shared baths",
           "Private room",
           1,
           68
          ],
          [
           "Rental unit in Genève · ★4.88 · 1 bedroom · 1 bed · 1 bath",
           "Entire home/apt",
           2,
           93
          ],
          [
           "Townhouse in Le Grand-Saconnex · ★4.86 · 2 bedrooms · 6 beds · 1 shared bath",
           "Private room",
           6,
           410
          ],
          [
           "casa particular in Le Grand-Saconnex · ★4.80 · 1 bedroom · 1 bed · 1 shared bath",
           "Private room",
           2,
           80
          ],
          [
           "Rental unit in Genève · ★4.50 · 2 bedrooms · 2 beds · 1 bath",
           "Entire home/apt",
           4,
           170
          ],
          [
           "Rental unit in Genève · ★4.83 · 1 bedroom · 1 bed · 1 shared bath",
           "Private room",
           1,
           115
          ],
          [
           "Rental unit in Hermance · ★5.0 · 3 bedrooms · 4 beds · 2 baths",
           "Entire home/apt",
           5,
           250
          ],
          [
           "Loft in Cologny · ★5.0 · 4 bedrooms · 8 beds · 1 bath",
           "Entire home/apt",
           7,
           300
          ],
          [
           "Rental unit in Genève · ★4.47 · 1 bedroom · 1 bed · 1 bath",
           "Entire home/apt",
           2,
           120
          ],
          [
           "Home in Chambésy · ★4.97 · 2 bedrooms · 2 beds · 1 bath",
           "Entire home/apt",
           2,
           245
          ],
          [
           "Home in Le Grand-Saconnex · ★4.94 · 1 bedroom · 4 beds · 1 shared bath",
           "Private room",
           4,
           160
          ],
          [
           "Rental unit in Genève · 1 bedroom · 1 bed · 1 bath",
           "Entire home/apt",
           2,
           98
          ],
          [
           "Rental unit in Meinier · ★4.25 · 1 bedroom · 1 bed · 1 bath",
           "Entire home/apt",
           2,
           65
          ],
          [
           "Rental unit in Genève · ★4.89 · 1 bedroom · 1 bed · 1 shared bath",
           "Private room",
           2,
           67
          ],
          [
           "Rental unit in Genève · ★4.95 · Studio · 1 bed · 1 bath",
           "Entire home/apt",
           2,
           140
          ],
          [
           "Rental unit in Carouge · 1 bedroom · 1 bed · 2 baths",
           "Entire home/apt",
           2,
           190
          ],
          [
           "Rental unit in Genève · ★4.90 · 1 bedroom · 1 bed · 1 shared bath",
           "Private room",
           1,
           47
          ],
          [
           "Home in Chêne-Bourg · ★5.0 · 1 bedroom · 1 bed · 1 bath",
           "Private room",
           2,
           93
          ],
          [
           "Loft in Genève · ★5.0 · 1 bedroom · 1 bed · 1 private bath",
           "Private room",
           2,
           180
          ],
          [
           "Home in Le Grand-Saconnex · ★4.96 · 1 bedroom · 1 bed · 1 shared bath",
           "Private room",
           1,
           89
          ],
          [
           "Townhouse in Le Grand-Saconnex · ★4.96 · 1 bedroom · 2 beds · 1 shared bath",
           "Private room",
           2,
           99
          ],
          [
           "Rental unit in Genève · ★4.85 · 1 bedroom · 1 bed · 1 shared bath",
           "Private room",
           1,
           51
          ],
          [
           "Rental unit in Petit-Lancy · ★5.0 · 2 bedrooms · 2 beds · 1 bath",
           "Entire home/apt",
           4,
           130
          ],
          [
           "Rental unit in Genève · ★4.50 · 1 bedroom · 1 bed · 1.5 shared baths",
           "Private room",
           1,
           50
          ],
          [
           "Home in Vernier · ★4.88 · 1 bedroom · 1 bed · 1 shared bath",
           "Private room",
           1,
           40
          ],
          [
           "Loft in Genève · ★4.65 · 1 bedroom · 2 beds · 1 shared bath",
           "Private room",
           3,
           41
          ],
          [
           "Rental unit in Genève · ★4.97 · 1 bedroom · 1 bed · 1 bath",
           "Entire home/apt",
           2,
           190
          ],
          [
           "Chalet in Bardonnex · ★4.79 · 1 bedroom · 1 bed · 1 shared bath",
           "Private room",
           2,
           49
          ],
          [
           "Rental unit in Genève · ★4.92 · 1 bedroom · 2 beds · 1 bath",
           "Entire home/apt",
           2,
           130
          ],
          [
           "Rental unit in Genève · ★4.93 · 3 bedrooms · 5 beds · 1.5 baths",
           "Entire home/apt",
           7,
           290
          ],
          [
           "Rental unit in Genève · ★4.80 · 1 bedroom · 2 beds · 1 bath",
           "Entire home/apt",
           4,
           135
          ],
          [
           "Rental unit in Genève · ★4.80 · 1 bedroom · 1 bed · 1 bath",
           "Entire home/apt",
           2,
           95
          ],
          [
           "Condo in Versoix · 4 bedrooms · 5 beds · 2 baths",
           "Entire home/apt",
           7,
           120
          ],
          [
           "Rental unit in Genève · ★4.70 · Studio · 1 bed · 1 shared bath",
           "Private room",
           1,
           50
          ],
          [
           "Rental unit in Genève · ★4.27 · Studio · 1 bed · 1 bath",
           "Entire home/apt",
           1,
           130
          ],
          [
           "Rental unit in Genève · ★4.39 · 2 bedrooms · 3 beds · 1 bath",
           "Entire home/apt",
           4,
           171
          ],
          [
           "Rental unit in Genève · ★4.54 · 1 bedroom · 1 bed · 1 bath",
           "Entire home/apt",
           4,
           130
          ],
          [
           "Rental unit in Le Grand-Saconnex · ★4.95 · Studio · 1 bed · 1 bath",
           "Entire home/apt",
           2,
           70
          ],
          [
           "Rental unit in Genève · ★4.25 · 1 bedroom · 1 bed · 1 shared bath",
           "Private room",
           1,
           60
          ],
          [
           "Rental unit in Genève · ★4.90 · 1 bedroom · 1 bed · 1 shared bath",
           "Private room",
           1,
           70
          ],
          [
           "Condo in Cointrin · ★4.67 · 1 bedroom · 2 beds · 1 bath",
           "Entire home/apt",
           4,
           160
          ],
          [
           "Rental unit in Genève · ★4.72 · Studio · 2 beds · 1 bath",
           "Entire home/apt",
           2,
           155
          ],
          [
           "Rental unit in Genève · ★5.0 · 1 bedroom · 1 bed · 1 shared bath",
           "Private room",
           2,
           65
          ],
          [
           "Rental unit in Genève · ★4.58 · 2 bedrooms · 3 beds · 1 bath",
           "Entire home/apt",
           4,
           199
          ],
          [
           "Rental unit in Genève · ★4.82 · 1 bedroom · 1 bed · 1 shared bath",
           "Private room",
           1,
           75
          ],
          [
           "Rental unit in Geneva · ★5.0 · 3 bedrooms · 3 beds · 2.5 baths",
           "Entire home/apt",
           6,
           200
          ],
          [
           "Rental unit in Genève · ★5.0 · 2 bedrooms · 2 beds · 2.5 baths",
           "Entire home/apt",
           5,
           1500
          ],
          [
           "Rental unit in Geneva · ★4.53 · 1 bedroom · 1 bed · 1 bath",
           "Entire home/apt",
           2,
           118
          ],
          [
           "Rental unit in Genève · ★4.90 · 1 bedroom · 1 bed · 1 shared bath",
           "Private room",
           1,
           6582
          ],
          [
           "Rental unit in Genève · ★5.0 · 1 bedroom · 1 bed · 1 bath",
           "Entire home/apt",
           2,
           100
          ],
          [
           "Rental unit in Carouge · ★4.88 · 1 bedroom · 1 bed · 1.5 baths",
           "Entire home/apt",
           4,
           240
          ],
          [
           "Condo in Chêne-Bougeries · Studio · 1 bed · 1 bath",
           "Entire home/apt",
           1,
           90
          ],
          [
           "Rental unit in Petit-Lancy · ★4.86 · 1 bedroom · 1 bed · 1 shared bath",
           "Private room",
           2,
           40
          ],
          [
           "Rental unit in Genève · ★4.75 · 1 bedroom · 1 bed · 1 bath",
           "Entire home/apt",
           2,
           110
          ],
          [
           "Rental unit in Genève · ★4.83 · 1 bedroom · 1 bed · 1 private bath",
           "Private room",
           2,
           49
          ],
          [
           "Rental unit in Genève · ★5.0 · 1 bedroom · 1 bed · 1 bath",
           "Entire home/apt",
           2,
           1000
          ],
          [
           "Rental unit in Genève · ★5.0 · 2 bedrooms · 3 beds · 1.5 baths",
           "Entire home/apt",
           4,
           186
          ],
          [
           "Townhouse in Chêne-Bougeries · ★5.0 · 1 bedroom · 1 bed · 2 shared baths",
           "Private room",
           2,
           120
          ],
          [
           "Rental unit in Chêne-Bougeries · ★5.0 · 1 bedroom · 1 bed · 1 bath",
           "Entire home/apt",
           3,
           220
          ],
          [
           "Rental unit in Genève · 1 bedroom · 1 bed · 1 private bath",
           "Private room",
           1,
           34
          ],
          [
           "Rental unit in Genève · ★4.80 · 1 bedroom · 2 beds · 1 bath",
           "Entire home/apt",
           3,
           180
          ],
          [
           "Rental unit in Genève · ★4.63 · 1 bedroom · 1 bed · 2 shared baths",
           "Private room",
           2,
           579
          ],
          [
           "Rental unit in Carouge · 2 bedrooms · 3 beds · 2 baths",
           "Entire home/apt",
           4,
           189
          ],
          [
           "Rental unit in Genève · ★4.96 · 1 bedroom · 1 bed · 1 bath",
           "Entire home/apt",
           2,
           140
          ],
          [
           "Condo in Bellevue · ★4.40 · 1 bedroom · 1 bed · 1 shared bath",
           "Private room",
           1,
           49
          ],
          [
           "Rental unit in Genève · 3 bedrooms · 3 beds · 2 baths",
           "Entire home/apt",
           5,
           180
          ],
          [
           "Rental unit in Genève · ★4.85 · Studio · 1 bath",
           "Entire home/apt",
           2,
           122
          ],
          [
           "Rental unit in Genève · ★4.83 · 1 bedroom · 1 bed · 1 shared bath",
           "Private room",
           2,
           85
          ],
          [
           "Rental unit in Genève · ★4.70 · 3 bedrooms · 4 beds · 2 baths",
           "Entire home/apt",
           6,
           357
          ],
          [
           "Loft in Carouge · ★4.67 · Studio · 2 beds · 1 bath",
           "Entire home/apt",
           4,
           280
          ],
          [
           "Rental unit in Genève · ★4.95 · 1 bedroom · 1 bed · 1 bath",
           "Entire home/apt",
           2,
           200
          ],
          [
           "Rental unit in Genève · ★4.89 · 3 bedrooms · 4 beds · 1.5 baths",
           "Entire home/apt",
           4,
           211
          ],
          [
           "Rental unit in Genève · ★4.95 · Studio · 1 bed · 1 bath",
           "Entire home/apt",
           1,
           120
          ],
          [
           "Loft in Petit-Lancy · ★4.71 · 1 bedroom · 1 bed · 1 bath",
           "Entire home/apt",
           3,
           150
          ],
          [
           "Rental unit in Genève · ★4.89 · 1 bedroom · 1 bed · 1 bath",
           "Entire home/apt",
           2,
           95
          ],
          [
           "Rental unit in Genève · ★4.94 · 3 bedrooms · 3 beds · 1.5 baths",
           "Entire home/apt",
           5,
           180
          ],
          [
           "Rental unit in Genève · ★5.0 · 1 bedroom · 1 bed · 1 bath",
           "Entire home/apt",
           4,
           100
          ],
          [
           "Condo in Genève · ★4.88 · 1 bedroom · 1 bed · 1 shared bath",
           "Private room",
           1,
           45
          ],
          [
           "Rental unit in Genève · ★4.67 · 1 bedroom · 1 bed · 1 bath",
           "Entire home/apt",
           2,
           260
          ],
          [
           "Rental unit in Versoix · 1 bedroom · 1 bed · 1 shared bath",
           "Private room",
           1,
           45
          ],
          [
           "Rental unit in Genève · ★4.72 · 1 bedroom · 3 beds · 1 bath",
           "Entire home/apt",
           4,
           130
          ],
          [
           "Rental unit in Genève · ★4.64 · Studio · 2 beds · 1 bath",
           "Entire home/apt",
           2,
           99
          ],
          [
           "Rental unit in Genève · ★4.74 · 1 bedroom · 1 bed · 1 bath",
           "Entire home/apt",
           2,
           85
          ],
          [
           "Rental unit in Genève · ★4.71 · 1 bedroom · 1 bed · 1.5 baths",
           "Entire home/apt",
           2,
           85
          ],
          [
           "Rental unit in Genève · ★4.63 · 1 bedroom · 3 beds · 1 bath",
           "Entire home/apt",
           3,
           165
          ],
          [
           "Rental unit in Genève · ★5.0 · 1 bedroom · 1 bed · 1 shared bath",
           "Private room",
           2,
           77
          ],
          [
           "Rental unit in Genève · ★4.82 · 2 bedrooms · 2 beds · 1 bath",
           "Entire home/apt",
           2,
           85
          ],
          [
           "Home in Plan-les-Ouates · 3 bedrooms · 5 beds · 1 bath",
           "Entire home/apt",
           5,
           170
          ],
          [
           "Rental unit in Genève · ★4.84 · 1 bedroom · 1 bed · 2.5 shared baths",
           "Private room",
           1,
           90
          ],
          [
           "Rental unit in Genève · ★4.40 · 1 bedroom · 2 beds · 1 bath",
           "Entire home/apt",
           3,
           116
          ],
          [
           "Rental unit in Genève · ★4.50 · 1 bedroom · 1 bed · 1 bath",
           "Entire home/apt",
           2,
           140
          ],
          [
           "Villa in Chambésy · ★4.98 · 1 bedroom · 1 bed · 1.5 baths",
           "Private room",
           2,
           69
          ],
          [
           "Rental unit in Genève · ★5.0 · 1 bedroom · 1 bed · 1 bath",
           "Entire home/apt",
           2,
           179
          ],
          [
           "Rental unit in Veyrier · 1 bedroom · 1 bed · 1 shared bath",
           "Private room",
           4,
           70
          ],
          [
           "Rental unit in Genève · ★4.90 · 1 bedroom · 1 bed · 1 bath",
           "Entire home/apt",
           2,
           107
          ],
          [
           "Rental unit in Lancy · 2 bedrooms · 2 beds · 1 bath",
           "Entire home/apt",
           4,
           101
          ],
          [
           "Condo in Meyrin · ★5.0 · 1 bedroom · 1 bed · 1 bath",
           "Entire home/apt",
           4,
           85
          ],
          [
           "Rental unit in Chambésy · 1 bedroom · 1 bed · 1 bath",
           "Entire home/apt",
           2,
           100
          ],
          [
           "Condo in Genève · ★4.97 · 3 bedrooms · 4 beds · 1.5 baths",
           "Entire home/apt",
           6,
           200
          ],
          [
           "Serviced apartment in Chambésy · 1 bedroom · 2 beds · 1 bath",
           "Entire home/apt",
           3,
           285
          ],
          [
           "Rental unit in Genève · ★4.96 · 1 bedroom · 1 bed · 1 shared bath",
           "Private room",
           1,
           78
          ],
          [
           "Rental unit in Genève · ★4.62 · 1 bedroom · 3 beds · 1 bath",
           "Entire home/apt",
           5,
           128
          ],
          [
           "Rental unit in Grand-Saconnex · ★5.0 · 1 bedroom · 2 beds · 1.5 baths",
           "Entire home/apt",
           2,
           60
          ],
          [
           "Rental unit in Genève · ★4.50 · 1 bedroom · 1 bed · 1.5 shared baths",
           "Private room",
           2,
           75
          ],
          [
           "Rental unit in Genève · ★4.99 · 1 bedroom · 1 bed · 1 bath",
           "Entire home/apt",
           2,
           150
          ],
          [
           "Rental unit in Genève · ★4.83 · 1 bedroom · 2 beds · 1 bath",
           "Entire home/apt",
           4,
           139
          ],
          [
           "Rental unit in Genève · ★4.65 · 2 bedrooms · 4 beds · 1 bath",
           "Entire home/apt",
           4,
           150
          ],
          [
           "Rental unit in Genève · ★4.63 · 1 bedroom · 2 beds · 1 bath",
           "Entire home/apt",
           2,
           75
          ],
          [
           "Rental unit in Genève · ★4.48 · Studio · 2 beds · 1 bath",
           "Entire home/apt",
           3,
           60
          ],
          [
           "Rental unit in Genève · ★4.76 · 1 bedroom · 2 beds · 1 bath",
           "Entire home/apt",
           4,
           135
          ],
          [
           "Rental unit in Genève · ★4.91 · Studio · 1 bed · 1 bath",
           "Entire home/apt",
           2,
           124
          ],
          [
           "Rental unit in Genève · ★5.0 · 2 bedrooms · 1 bed · 1 shared bath",
           "Private room",
           1,
           86
          ],
          [
           "Rental unit in Genève · ★4.58 · 1 bedroom · 1 bed · 1 bath",
           "Entire home/apt",
           2,
           135
          ],
          [
           "Home in Vernier · 1 bedroom · 1 bed · 1 bath",
           "Private room",
           2,
           85
          ],
          [
           "Rental unit in Genève · ★4.79 · 2 bedrooms · 2 beds · 1.5 baths",
           "Entire home/apt",
           3,
           110
          ],
          [
           "Rental unit in Genève · ★4.80 · 1 bedroom · 1 bed · 1 shared bath",
           "Private room",
           2,
           76
          ],
          [
           "Rental unit in Genève · ★4.77 · 3 bedrooms · 4 beds · 1.5 baths",
           "Entire home/apt",
           4,
           126
          ],
          [
           "Rental unit in Cologny · 2 bedrooms · 1 bed · 2.5 baths",
           "Entire home/apt",
           2,
           400
          ],
          [
           "Rental unit in Genève · ★4.83 · 2 bedrooms · 2 beds · 1 shared bath",
           "Private room",
           2,
           80
          ],
          [
           "Rental unit in Genève · ★5.0 · 1 bedroom · 1 bed · 1 shared bath",
           "Private room",
           1,
           153
          ],
          [
           "Rental unit in Genève · ★4.67 · 1 bedroom · 1 bed · 1 shared bath",
           "Private room",
           2,
           75
          ],
          [
           "Rental unit in Genève · ★4.87 · 1 bedroom · 2 beds · 1.5 baths",
           "Entire home/apt",
           3,
           120
          ],
          [
           "Rental unit in Genève · ★4.58 · 2 bedrooms · 2 beds · 1 bath",
           "Entire home/apt",
           4,
           151
          ],
          [
           "Rental unit in Carouge · ★New · 2 bedrooms · 2 beds · 2 baths",
           "Entire home/apt",
           4,
           195
          ],
          [
           "Rental unit in Versoix · ★4.67 · 1 bedroom · 1 bed · 1 shared bath",
           "Private room",
           3,
           50
          ],
          [
           "Rental unit in Vernier · ★4.0 · 1 bedroom · 2 beds · 1 shared bath",
           "Private room",
           1,
           163
          ],
          [
           "Rental unit in Genève · ★4.92 · 2 bedrooms · 3 beds · 2 baths",
           "Entire home/apt",
           5,
           227
          ],
          [
           "Rental unit in Genève · ★4.83 · 1 bedroom · 1 bed · 1 bath",
           "Entire home/apt",
           2,
           110
          ],
          [
           "Rental unit in Genève · ★4.34 · 1 bedroom · 2 beds · 1.5 baths",
           "Entire home/apt",
           4,
           186
          ],
          [
           "Rental unit in Genève · 2 bedrooms · 2 beds · 1 bath",
           "Entire home/apt",
           4,
           165
          ],
          [
           "Guesthouse in Genève · ★4.89 · 1 bedroom · 1 bed · 1 bath",
           "Entire home/apt",
           2,
           100
          ],
          [
           "Rental unit in Genève · ★4.93 · 3 bedrooms · 4 beds · 1.5 baths",
           "Entire home/apt",
           6,
           290
          ],
          [
           "Condo in Genève · ★5.0 · 1 bedroom · 2 beds · 1.5 baths",
           "Entire home/apt",
           4,
           150
          ],
          [
           "Condo in Genève · ★4.59 · 1 bedroom · 3 beds · 1 shared bath",
           "Private room",
           3,
           47
          ],
          [
           "Rental unit in Genève · 1 bedroom · 1 bed · 1 bath",
           "Entire home/apt",
           2,
           79
          ],
          [
           "Rental unit in Genève · Studio · 1 bed · 1 bath",
           "Entire home/apt",
           2,
           89
          ],
          [
           "Rental unit in Vésenaz · 3 bedrooms · 3 beds · 2.5 baths",
           "Entire home/apt",
           6,
           280
          ],
          [
           "Condo in Genève · ★4.83 · 1 bedroom · 1 bed · 1 private bath",
           "Private room",
           2,
           67
          ],
          [
           "Condo in Genève · ★5.0 · 1 bedroom · 1 bed · 1 private bath",
           "Private room",
           2,
           67
          ],
          [
           "Loft in Genève · ★4.0 · 1 bedroom · 2 beds · 1 shared bath",
           "Private room",
           3,
           46
          ],
          [
           "Rental unit in Genève · ★4.67 · 1 bedroom · 1 bed · 1 bath",
           "Entire home/apt",
           2,
           99
          ],
          [
           "Rental unit in Genève · ★4.86 · 1 bedroom · 2 beds · 1 bath",
           "Entire home/apt",
           4,
           82
          ],
          [
           "Boutique hotel in Genève · ★4.0 · 1 bedroom · 1 bed · 1 private bath",
           "Private room",
           2,
           169
          ],
          [
           "Rental unit in Genève · ★4.97 · 2 bedrooms · 3 beds · 2 baths",
           "Entire home/apt",
           4,
           112
          ],
          [
           "Rental unit in Genève · ★4.73 · 1 bedroom · 1 bed · 1 bath",
           "Entire home/apt",
           2,
           145
          ],
          [
           "Rental unit in Genève · 1 bedroom · 1 bed · 1 bath",
           "Entire home/apt",
           4,
           450
          ],
          [
           "Rental unit in Genève · ★4.95 · 1 bedroom · 1 bed · 1.5 baths",
           "Entire home/apt",
           2,
           115
          ],
          [
           "Rental unit in Genève · ★5.0 · 1 bedroom · 1 bed · 1 bath",
           "Entire home/apt",
           2,
           90
          ],
          [
           "Rental unit in Genève · ★5.0 · 1 bedroom · 2 beds · 1.5 baths",
           "Entire home/apt",
           4,
           225
          ],
          [
           "Condo in Chêne-Bougeries · ★4.81 · 2 bedrooms · 1 bed · 1 bath",
           "Entire home/apt",
           3,
           125
          ],
          [
           "Loft in Genève · ★4.43 · 2 bedrooms · 6 beds · 1 bath",
           "Entire home/apt",
           8,
           106
          ],
          [
           "Rental unit in Genève · ★4.84 · 1 bedroom · 1 bed · 1.5 shared baths",
           "Private room",
           1,
           65
          ],
          [
           "Rental unit in Genève · ★4.84 · 1 bedroom · 2 beds · 1.5 shared baths",
           "Private room",
           2,
           85
          ],
          [
           "Rental unit in Plan-les-Ouates · ★4.97 · 1 bedroom · 1 bed · 1.5 shared baths",
           "Private room",
           2,
           41
          ],
          [
           "Rental unit in Genève · ★5.0 · 1 bedroom · 1 bed · 1 shared bath",
           "Private room",
           1,
           96
          ],
          [
           "Rental unit in Genève · ★4.77 · 1 bedroom · 1 bed · 1 bath",
           "Entire home/apt",
           2,
           110
          ],
          [
           "Rental unit in Gaillard  · ★4.67 · 1 bedroom · 1 bed · 1 bath",
           "Entire home/apt",
           2,
           233
          ],
          [
           "Condo in Genève · ★4.88 · 3 bedrooms · 3 beds · 2.5 baths",
           "Entire home/apt",
           7,
           150
          ],
          [
           "Rental unit in Genève · ★4.55 · 1 bedroom · 2 beds · 1 shared bath",
           "Private room",
           2,
           101
          ],
          [
           "Rental unit in Genève · ★4.75 · Studio · 1 bed · 1 bath",
           "Entire home/apt",
           2,
           89
          ],
          [
           "Rental unit in Genève · ★4.59 · 1 bedroom · 1 bed · 1.5 baths",
           "Entire home/apt",
           4,
           104
          ],
          [
           "Rental unit in Genève · ★5.0 · 2 bedrooms · 1 bed · 1 bath",
           "Entire home/apt",
           3,
           80
          ],
          [
           "Rental unit in Genève · ★5.0 · Studio · 1 bed · 1 bath",
           "Entire home/apt",
           2,
           95
          ],
          [
           "Rental unit in Genève · 2 bedrooms · 2 beds · 1.5 baths",
           "Entire home/apt",
           4,
           150
          ],
          [
           "Rental unit in Genève · ★4.75 · Studio · 2 beds · 1 bath",
           "Entire home/apt",
           2,
           92
          ],
          [
           "Rental unit in Genève · ★5.0 · 2 bedrooms · 6 beds · 1.5 baths",
           "Entire home/apt",
           4,
           210
          ],
          [
           "Rental unit in Genève · ★4.45 · 1 bedroom · 1 bed · 1 shared bath",
           "Private room",
           2,
           333
          ],
          [
           "Rental unit in Geneva · ★4.80 · 1 bedroom · 1 bed · 1 bath",
           "Entire home/apt",
           2,
           200
          ],
          [
           "Villa in Chêne-Bougeries · ★4.66 · 7 bedrooms · 8 beds · 2.5 baths",
           "Entire home/apt",
           10,
           500
          ],
          [
           "Rental unit in Genève · 2 bedrooms · 3 beds · 1 bath",
           "Entire home/apt",
           4,
           165
          ],
          [
           "Rental unit in Genève · ★4.89 · 1 bedroom · 1 bed · 1 shared bath",
           "Private room",
           2,
           90
          ],
          [
           "Rental unit in Genève · ★4.64 · 1 bedroom · 1 bed · 1 bath",
           "Entire home/apt",
           4,
           130
          ],
          [
           "Rental unit in Carouge · ★4.94 · 1 bedroom · 1 bed · 1 bath",
           "Entire home/apt",
           3,
           100
          ],
          [
           "Home in Anières · ★4.93 · 3 bedrooms · 7 beds · 2.5 baths",
           "Entire home/apt",
           6,
           450
          ],
          [
           "Rental unit in Genève · ★5.0 · 1 bedroom · 1 bed · 1 bath",
           "Entire home/apt",
           3,
           69
          ],
          [
           "Rental unit in Genève · ★4.87 · 1 bedroom · 1 bed · 1 bath",
           "Entire home/apt",
           2,
           90
          ],
          [
           "Rental unit in Genève · ★New · 1 bedroom · 2 beds · 1 bath",
           "Entire home/apt",
           3,
           130
          ],
          [
           "Rental unit in Genève · ★5.0 · 1 bedroom · 1 bed · 2 baths",
           "Entire home/apt",
           3,
           156
          ],
          [
           "Rental unit in Genève · ★5.0 · 2 bedrooms · 2 beds · 1 bath",
           "Entire home/apt",
           4,
           155
          ],
          [
           "Rental unit in Genève · ★4.53 · 2 bedrooms · 2 beds · 1 bath",
           "Entire home/apt",
           4,
           150
          ],
          [
           "Rental unit in Genève · ★4.85 · Studio · 2 beds · 1 bath",
           "Entire home/apt",
           4,
           100
          ],
          [
           "Rental unit in Genève · ★4.67 · 1 bedroom · 2 beds · 1 bath",
           "Entire home/apt",
           4,
           100
          ],
          [
           "Rental unit in Carouge · 1 bedroom · 1 bed · 1 bath",
           "Entire home/apt",
           2,
           55
          ],
          [
           "Rental unit in Carouge · ★4.90 · 1 bedroom · 1 bed · 1.5 shared baths",
           "Private room",
           1,
           50
          ],
          [
           "Rental unit in Genève · ★4.68 · 1 bedroom · 1 bed · 1 bath",
           "Entire home/apt",
           4,
           130
          ],
          [
           "Rental unit in Genève · ★4.53 · 1 bedroom · 1 bed · 1 bath",
           "Entire home/apt",
           4,
           108
          ],
          [
           "Rental unit in Lancy · ★4.88 · 2 bedrooms · 3 beds · 2 baths",
           "Entire home/apt",
           7,
           220
          ],
          [
           "Rental unit in Genève · ★4.91 · 1 bedroom · 2 beds · 1 bath",
           "Entire home/apt",
           3,
           150
          ],
          [
           "Rental unit in Genève · ★4.21 · 1 bedroom · 2 beds · 1 bath",
           "Entire home/apt",
           3,
           96
          ],
          [
           "Condo in Genève · Studio · 1 bed · 1 bath",
           "Entire home/apt",
           1,
           116
          ],
          [
           "Condo in Genève · Studio · 1 bed · 1 bath",
           "Entire home/apt",
           1,
           119
          ],
          [
           "Rental unit in Genève · 1 bedroom · 2 beds · 1 bath",
           "Entire home/apt",
           2,
           136
          ],
          [
           "Rental unit in Genève · ★4.92 · 1 bedroom · 1 bed · 1 bath",
           "Entire home/apt",
           1,
           150
          ],
          [
           "Rental unit in Genève · ★4.87 · 1 bedroom · 1 bed · 1 private bath",
           "Private room",
           2,
           51
          ],
          [
           "Rental unit in Carouge · ★4.0 · 1 bedroom · 1 bed · 1 bath",
           "Entire home/apt",
           3,
           130
          ],
          [
           "Rental unit in Genève · ★5.0 · 1 bedroom · 1 bed · 1 shared bath",
           "Private room",
           2,
           55
          ],
          [
           "Rental unit in Genève · ★4.47 · 2 bedrooms · 2 beds · 1 bath",
           "Entire home/apt",
           4,
           202
          ],
          [
           "Rental unit in Meyrin · 2 bedrooms · 2 beds · 1 bath",
           "Entire home/apt",
           3,
           151
          ],
          [
           "Rental unit in Genève · ★4.93 · 2 bedrooms · 2 beds · 1 bath",
           "Entire home/apt",
           4,
           250
          ],
          [
           "Rental unit in Genève · ★4.67 · 1 bedroom · 1 bed · 1 bath",
           "Entire home/apt",
           4,
           144
          ],
          [
           "Condo in Genève · 2 bedrooms · 2 beds · 2 baths",
           "Entire home/apt",
           4,
           203
          ],
          [
           "Rental unit in Genève · ★5.0 · 1 bedroom · 1 bed · 1 bath",
           "Entire home/apt",
           2,
           72
          ],
          [
           "Rental unit in Genève · ★5.0 · 1 bedroom · 1 bed · 1 shared bath",
           "Private room",
           1,
           157
          ],
          [
           "Rental unit in Lancy · ★4.67 · 3 bedrooms · 1 bed · 2 baths",
           "Entire home/apt",
           2,
           154
          ],
          [
           "Rental unit in Carouge · ★4.88 · 2 bedrooms · 2 beds · 1 bath",
           "Entire home/apt",
           4,
           120
          ],
          [
           "Rental unit in Genève · ★4.91 · 1 bedroom · 1 bed · 1 bath",
           "Entire home/apt",
           2,
           140
          ],
          [
           "Rental unit in Genève · ★4.83 · 1 bedroom · 1 bed · 1 shared bath",
           "Private room",
           2,
           42
          ],
          [
           "Rental unit in Meyrin · ★4.97 · 1 bedroom · 1 bed · 1 private bath",
           "Private room",
           2,
           74
          ],
          [
           "Rental unit in Genève · 3 bedrooms · 4 beds · 2 baths",
           "Entire home/apt",
           5,
           130
          ],
          [
           "Rental unit in Genève · ★4.87 · 1 bedroom · 2 beds · 1.5 baths",
           "Entire home/apt",
           2,
           120
          ],
          [
           "Rental unit in Meyrin · ★4.86 · 1 bedroom · 1 bed · 1 shared bath",
           "Private room",
           1,
           85
          ],
          [
           "Rental unit in Genève · ★4.88 · 1 bedroom · 2 beds · 1 bath",
           "Entire home/apt",
           3,
           150
          ],
          [
           "Rental unit in Genève · ★4.83 · 1 bedroom · 1 bed · 1 shared bath",
           "Private room",
           1,
           65
          ],
          [
           "Rental unit in Genève · ★4.21 · 1 bedroom · 1 bed · 1 bath",
           "Entire home/apt",
           2,
           100
          ],
          [
           "Home in Le Grand-Saconnex · ★4.61 · 2 bedrooms · 2 beds · 1 shared bath",
           "Private room",
           4,
           125
          ],
          [
           "Rental unit in Genève · ★5.0 · 1 bedroom · 1 bed · 1 bath",
           "Entire home/apt",
           2,
           150
          ],
          [
           "Guesthouse in Genève · ★4.67 · Studio · 1 bed · 1 bath",
           "Entire home/apt",
           2,
           95
          ],
          [
           "Home in Cointrin  · ★5.0 · 1 bedroom · 1 bed · 1 private bath",
           "Private room",
           2,
           110
          ],
          [
           "Aparthotel in Genève · ★5.0 · 1 bedroom · 1 bed · 1 bath",
           "Hotel room",
           2,
           270
          ],
          [
           "Aparthotel in Genève · ★4.75 · 1 bedroom · 1 bed · 1 bath",
           "Hotel room",
           2,
           270
          ],
          [
           "Rental unit in Genève · ★4.75 · 2 bedrooms · 2 beds · 1 bath",
           "Entire home/apt",
           4,
           250
          ],
          [
           "Rental unit in Genève · ★4.29 · 1 bedroom · 1 bed · 1 shared bath",
           "Private room",
           2,
           68
          ],
          [
           "Rental unit in Lancy · ★4.83 · 2 bedrooms · 2 beds · 2 baths",
           "Entire home/apt",
           4,
           150
          ],
          [
           "Rental unit in Genève · ★4.78 · 1 bedroom · 4 beds · 1 bath",
           "Entire home/apt",
           4,
           99
          ],
          [
           "Rental unit in Genève · ★4.98 · 1 bedroom · 1 bed · 1 shared bath",
           "Private room",
           2,
           80
          ],
          [
           "Home in Anières · ★5.0 · 1 bedroom · 1 bed · 1 private bath",
           "Private room",
           1,
           73
          ],
          [
           "Rental unit in Genève · ★4.97 · 2 bedrooms · 3 beds · 1.5 baths",
           "Entire home/apt",
           5,
           209
          ],
          [
           "Rental unit in Genève · 1 bedroom · 1 bed · 1 bath",
           "Entire home/apt",
           2,
           80
          ],
          [
           "Rental unit in Genève · ★4.97 · 1 bedroom · 1 bed · 1 shared bath",
           "Private room",
           1,
           70
          ],
          [
           "Rental unit in Carouge · ★4.91 · 1 bedroom · 1 bed · 1.5 baths",
           "Private room",
           1,
           85
          ],
          [
           "Rental unit in Carouge · ★4.90 · 1 bedroom · 1 bed · 1 shared bath",
           "Private room",
           1,
           86
          ],
          [
           "Rental unit in Genève · ★4.43 · 1 bedroom · 2 beds · 1 bath",
           "Entire home/apt",
           2,
           105
          ],
          [
           "Rental unit in Genève · ★4.82 · 1 bedroom · 2 beds · 1 bath",
           "Entire home/apt",
           2,
           149
          ],
          [
           "Rental unit in Genève · ★4.75 · 2 bedrooms · 3 beds · 1 bath",
           "Entire home/apt",
           4,
           380
          ],
          [
           "Loft in Versoix · ★4.50 · 2 bedrooms · 2 beds · 1 bath",
           "Entire home/apt",
           4,
           179
          ],
          [
           "Rental unit in Versoix · 1 bedroom · 1 bed · 1 shared bath",
           "Private room",
           1,
           69
          ],
          [
           "Home in Chêne-Bourg · ★4.85 · 1 bedroom · 1 bed · 1 private bath",
           "Private room",
           2,
           67
          ],
          [
           "Rental unit in Dardagny · 1 bedroom · 1 bed · 1 bath",
           "Entire home/apt",
           2,
           100
          ],
          [
           "Rental unit in Genève · ★4.75 · 1 bedroom · 2 beds · 1 bath",
           "Entire home/apt",
           3,
           140
          ],
          [
           "Rental unit in Genève · ★4.77 · Studio · 1 bed · 1 bath",
           "Entire home/apt",
           2,
           164
          ],
          [
           "Rental unit in Puplinge · ★5.0 · 1 bedroom · 3 beds · 1 shared bath",
           "Private room",
           1,
           42
          ],
          [
           "Rental unit in Genève · 3 bedrooms · 3 beds · 1.5 baths",
           "Entire home/apt",
           3,
           166
          ],
          [
           "Rental unit in Cologny · ★4.50 · 2 bedrooms · 2 beds · 2 baths",
           "Entire home/apt",
           5,
           147
          ],
          [
           "Hotel in Genève · ★4.65 · 2 bedrooms · 3 beds · 1.5 baths",
           "Private room",
           4,
           200
          ],
          [
           "Hotel in Genève · ★4.66 · 2 bedrooms · 3 beds · 1.5 baths",
           "Private room",
           4,
           200
          ],
          [
           "Rental unit in Genève · ★4.67 · 1 bedroom · 1 bed · 1 bath",
           "Entire home/apt",
           2,
           159
          ],
          [
           "Rental unit in Genève · 1 bedroom · 1 bed · 1 bath",
           "Entire home/apt",
           2,
           210
          ],
          [
           "Rental unit in Genève · ★4.83 · 1 bedroom · 1 bed · 1 shared bath",
           "Private room",
           1,
           65
          ],
          [
           "Rental unit in Genève · ★4.70 · 1 bedroom · 1 bed · 1 bath",
           "Entire home/apt",
           3,
           90
          ],
          [
           "Rental unit in Puplinge · 2 bedrooms · 2 beds · 1 bath",
           "Entire home/apt",
           4,
           145
          ],
          [
           "Loft in Genève · ★4.90 · Studio · 2 beds · 1 bath",
           "Entire home/apt",
           2,
           87
          ],
          [
           "Rental unit in Genève · ★4.92 · 1 bedroom · 1 bed · 1.5 shared baths",
           "Private room",
           3,
           90
          ],
          [
           "Rental unit in Genève · ★5.0 · 2 bedrooms · 2 beds · 1.5 baths",
           "Entire home/apt",
           4,
           111
          ],
          [
           "Rental unit in Genève · ★4.75 · 2 bedrooms · 2 beds · 1 bath",
           "Entire home/apt",
           4,
           181
          ],
          [
           "Rental unit in Genève · ★4.93 · 2 bedrooms · 3 beds · 2.5 baths",
           "Entire home/apt",
           4,
           150
          ],
          [
           "Rental unit in Genève · ★4.67 · 1 bedroom · 2 beds · 1 bath",
           "Entire home/apt",
           4,
           90
          ],
          [
           "Rental unit in Genève · ★4.70 · 2 bedrooms · 2 beds · 1 bath",
           "Entire home/apt",
           5,
           175
          ],
          [
           "Rental unit in Carouge · ★4.75 · 1 bedroom · 2 beds · 1 bath",
           "Entire home/apt",
           4,
           135
          ],
          [
           "Rental unit in Genève · ★4.86 · 1 bedroom · 1 bed · 1 bath",
           "Entire home/apt",
           3,
           90
          ],
          [
           "Rental unit in Genève · ★5.0 · 1 bedroom · 1 bed · 1 bath",
           "Entire home/apt",
           2,
           150
          ],
          [
           "Rental unit in Carouge · ★4.67 · 1 bedroom · 3 beds · 1 bath",
           "Entire home/apt",
           6,
           198
          ],
          [
           "Rental unit in Genève · ★5.0 · 1 bedroom · 1 bed · 1 bath",
           "Entire home/apt",
           4,
           110
          ],
          [
           "Home in Lancy · 4 bedrooms · 4 beds · 2 baths",
           "Entire home/apt",
           6,
           220
          ],
          [
           "Rental unit in Vessy · ★4.95 · 1 bedroom · 1 bed · 1 bath",
           "Entire home/apt",
           3,
           130
          ],
          [
           "Rental unit in Versoix · ★4.65 · Studio · 2 beds · 1 bath",
           "Entire home/apt",
           3,
           125
          ],
          [
           "Rental unit in Genève · ★5.0 · 1 bedroom · 1 bed · 1 private bath",
           "Private room",
           1,
           115
          ],
          [
           "Rental unit in Genève · ★4.90 · 1 bedroom · 1 bed · 1 bath",
           "Entire home/apt",
           2,
           60
          ],
          [
           "Home in Vernier · ★4.67 · 2 bedrooms · 1 bed · 1 shared bath",
           "Private room",
           1,
           40
          ],
          [
           "Rental unit in Genève · ★4.90 · 1 bedroom · 1 bed · 2 shared baths",
           "Private room",
           1,
           59
          ],
          [
           "Rental unit in Genève · 1 bedroom · 1 bed · 1.5 baths",
           "Entire home/apt",
           1,
           100
          ],
          [
           "Rental unit in Genève · ★4.73 · 1 bedroom · 1 bed · 1 bath",
           "Entire home/apt",
           1,
           100
          ],
          [
           "Rental unit in Genève · ★4.78 · 2 bedrooms · 2 beds · 1.5 baths",
           "Entire home/apt",
           5,
           163
          ],
          [
           "Rental unit in Châtelaine · 3 bedrooms · 2 beds · 2 shared baths",
           "Private room",
           1,
           60
          ],
          [
           "Condo in Chêne-Bougeries · 1 bedroom · 1 bed · 1 bath",
           "Entire home/apt",
           1,
           85
          ],
          [
           "Rental unit in Châtelaine · Studio · 1 bed · 2 shared baths",
           "Private room",
           1,
           60
          ],
          [
           "Rental unit in Châtelaine · 3 bedrooms · 1 bed · 2 baths",
           "Private room",
           1,
           70
          ],
          [
           "Rental unit in Genève · ★4.95 · 1 bedroom · 1 bed · 1 shared bath",
           "Private room",
           2,
           160
          ],
          [
           "Rental unit in Genève · ★4.49 · Studio · 2 beds · 1 bath",
           "Entire home/apt",
           2,
           49
          ],
          [
           "Rental unit in Genève · ★4.57 · 3 bedrooms · 3 beds · 2 baths",
           "Entire home/apt",
           5,
           263
          ],
          [
           "Rental unit in Genève · 1 bedroom · 1 bed · 1.5 shared baths",
           "Private room",
           1,
           40
          ],
          [
           "Rental unit in Genève · 1 bedroom · 2 beds · 1 bath",
           "Entire home/apt",
           3,
           250
          ],
          [
           "Rental unit in Chêne-Bougeries · ★4.33 · 2 bedrooms · 2 beds · 1 bath",
           "Entire home/apt",
           7,
           64
          ],
          [
           "Rental unit in Genève · ★4.85 · 1 bedroom · 1 bed · 1 bath",
           "Entire home/apt",
           2,
           100
          ],
          [
           "Rental unit in Genève · ★4.79 · 1 bedroom · 2 beds · 1 bath",
           "Entire home/apt",
           5,
           166
          ],
          [
           "Rental unit in Chêne-Bougeries · ★4.59 · 1 bedroom · 1 bed · 1 private bath",
           "Private room",
           2,
           60
          ],
          [
           "Rental unit in Genève · ★4.58 · Studio · 1 bed · 1 bath",
           "Entire home/apt",
           2,
           83
          ],
          [
           "Rental unit in Genève · ★4.70 · 2 bedrooms · 3 beds · 2.5 baths",
           "Entire home/apt",
           6,
           210
          ],
          [
           "Rental unit in Genève · ★4.96 · 2 bedrooms · 2 beds · 1.5 baths",
           "Entire home/apt",
           3,
           118
          ],
          [
           "Rental unit in Genève · ★5.0 · 1 bedroom · 1 bed · 1 bath",
           "Entire home/apt",
           2,
           150
          ],
          [
           "Townhouse in Chêne-Bougeries · ★5.0 · 1 bedroom · 1 bed · 2 shared baths",
           "Private room",
           1,
           120
          ],
          [
           "Condo in Vernier · 2 bedrooms · 2 beds · 2 baths",
           "Entire home/apt",
           4,
           300
          ],
          [
           "Rental unit in Genève · ★5.0 · 1 bedroom · 1 bed · 1.5 shared baths",
           "Private room",
           1,
           62
          ],
          [
           "Rental unit in Genève · ★4.82 · 1 bedroom · 1 bed · 1 bath",
           "Entire home/apt",
           2,
           115
          ],
          [
           "Rental unit in Genève · ★5.0 · Studio · 1 bed · 1 bath",
           "Entire home/apt",
           2,
           60
          ],
          [
           "Rental unit in Genève · ★4.94 · 1 bedroom · 1 bed · 1.5 shared baths",
           "Private room",
           1,
           59
          ],
          [
           "Rental unit in Cologny · ★4.88 · Studio · 2 beds · 1 bath",
           "Entire home/apt",
           3,
           110
          ],
          [
           "Rental unit in Thônex · ★4.79 · 2 bedrooms · 3 beds · 1 bath",
           "Entire home/apt",
           4,
           120
          ],
          [
           "Rental unit in Cologny · ★4.79 · 1 bedroom · 2 beds · 1 bath",
           "Entire home/apt",
           2,
           93
          ],
          [
           "Rental unit in Vernier · ★4.56 · 3 bedrooms · 5 beds · 2.5 baths",
           "Entire home/apt",
           8,
           160
          ],
          [
           "Home in Geneva · 4 bedrooms · 6 beds · 2.5 baths",
           "Entire home/apt",
           7,
           450
          ],
          [
           "Rental unit in Carouge · ★4.70 · 3 bedrooms · 3 beds · 1.5 baths",
           "Entire home/apt",
           6,
           200
          ],
          [
           "Rental unit in Genève · ★4.39 · Studio · 1 bed · 1 bath",
           "Entire home/apt",
           2,
           70
          ],
          [
           "Rental unit in Genève · ★4.69 · 1 bedroom · 2 beds · 1 bath",
           "Entire home/apt",
           4,
           155
          ],
          [
           "Townhouse in Chêne-Bougeries · ★5.0 · 1 bedroom · 1 bed · 2 shared baths",
           "Private room",
           2,
           120
          ],
          [
           "Rental unit in Genève · ★5.0 · 2 bedrooms · 2 beds · 2 baths",
           "Entire home/apt",
           4,
           170
          ],
          [
           "Home in Chêne-Bougeries · 1 bedroom · 1 bed · 2 shared baths",
           "Private room",
           2,
           120
          ],
          [
           "Rental unit in Châtelaine · ★5.0 · 2 bedrooms · 4 beds · 1 bath",
           "Entire home/apt",
           4,
           110
          ],
          [
           "Rental unit in Plan-les-Ouates · 2 bedrooms · 2 beds · 1 bath",
           "Entire home/apt",
           4,
           100
          ],
          [
           "Rental unit in Genève · ★4.84 · 2 bedrooms · 1 bed · 2 baths",
           "Entire home/apt",
           4,
           188
          ],
          [
           "Rental unit in Le Grand-Saconnex · ★5.0 · 1 bedroom · 1 bed · 1 bath",
           "Entire home/apt",
           3,
           140
          ],
          [
           "Rental unit in Cointrin · ★4.85 · 1 bedroom · 1 bed · 1 shared bath",
           "Private room",
           1,
           50
          ],
          [
           "Condo in Gaillard · 1 bedroom · 1 bed · 1.5 shared baths",
           "Private room",
           2,
           58
          ],
          [
           "Villa in Anières · ★4.85 · 1 bedroom · 1 bed · 1 private bath",
           "Private room",
           2,
           65
          ],
          [
           "Rental unit in Gaillard · ★4.83 · 1 bedroom · 2 beds · 1 bath",
           "Entire home/apt",
           4,
           77
          ],
          [
           "Rental unit in Genève · ★4.94 · 1 bedroom · 1 bed · 1 bath",
           "Entire home/apt",
           2,
           114
          ],
          [
           "Rental unit in Genève · 2 bedrooms · 1 bed · 1 bath",
           "Entire home/apt",
           2,
           211
          ],
          [
           "Rental unit in Meyrin · ★4.75 · 1 bedroom · 1 bed · 1 shared bath",
           "Private room",
           2,
           60
          ],
          [
           "Rental unit in Genève · ★4.80 · 1 bedroom · 1 bed · 1 bath",
           "Entire home/apt",
           2,
           130
          ],
          [
           "Rental unit in Genève · ★4.66 · 3 bedrooms · 3 beds · 2.5 baths",
           "Entire home/apt",
           4,
           200
          ],
          [
           "Rental unit in Genève · ★4.58 · Studio · 1 bed · 1 bath",
           "Entire home/apt",
           3,
           120
          ],
          [
           "Rental unit in Grand-Saconnex · 1 bedroom · 1 bed · 1 bath",
           "Private room",
           2,
           80
          ],
          [
           "Home in Thônex · 3 bedrooms · 2 beds · 2 baths",
           "Private room",
           5,
           150
          ],
          [
           "Home in Thônex · 1 bedroom · 1 bed · 1 private bath",
           "Private room",
           2,
           65
          ],
          [
           "Rental unit in Geneva · 1 bedroom · 1 bed · 2.5 shared baths",
           "Private room",
           2,
           150
          ],
          [
           "Rental unit in Genève · ★4.37 · 1 bedroom · 1 bed · 1 bath",
           "Entire home/apt",
           2,
           85
          ],
          [
           "Rental unit in Genève · ★4.92 · Studio · 1 bed · 1 bath",
           "Entire home/apt",
           2,
           110
          ],
          [
           "Farm stay in Le Grand-Saconnex · 1 bedroom · 1 bed · 1 private bath",
           "Private room",
           1,
           100
          ],
          [
           "Rental unit in Genève · Studio · 2 beds · 1 bath",
           "Entire home/apt",
           2,
           65
          ],
          [
           "Home in Lancy · ★New · 3 bedrooms · 3 beds · 2 baths",
           "Entire home/apt",
           4,
           215
          ],
          [
           "Rental unit in Genève · ★4.77 · 1 bedroom · 1 bed · 1 bath",
           "Entire home/apt",
           2,
           75
          ],
          [
           "Rental unit in Chêne-Bougeries · 1 bedroom · 1 bed · 1 shared bath",
           "Private room",
           2,
           105
          ],
          [
           "Rental unit in Genève · ★4.98 · 1 bedroom · 1 bed · 1.5 baths",
           "Private room",
           2,
           125
          ],
          [
           "Rental unit in Genève · ★5.0 · Studio · 1 bed · 1 bath",
           "Entire home/apt",
           2,
           80
          ],
          [
           "Serviced apartment in Genève · Studio · 1 bed · 1 bath",
           "Entire home/apt",
           2,
           135
          ],
          [
           "Rental unit in Le Lignon · ★4.79 · 1 bedroom · 1 bed · 1.5 baths",
           "Private room",
           2,
           80
          ],
          [
           "Rental unit in Genève · 1 bedroom · 1 bed · 1 bath",
           "Entire home/apt",
           2,
           150
          ],
          [
           "Home in Vessy · 3 bedrooms · 5 beds · 3 baths",
           "Entire home/apt",
           7,
           200
          ],
          [
           "Rental unit in Chêne-Bougeries · 1 bedroom · 1 bed · 1 shared bath",
           "Private room",
           2,
           105
          ],
          [
           "Rental unit in Chêne-Bougeries · ★4.67 · 1 bedroom · 1 bed · 1 bath",
           "Entire home/apt",
           4,
           230
          ],
          [
           "Condo in Genève · ★4.65 · 1 bedroom · 3 beds · 1 bath",
           "Entire home/apt",
           4,
           135
          ],
          [
           "Rental unit in Geneva · 1 bedroom · 1 bed · 1 bath",
           "Entire home/apt",
           1,
           139
          ],
          [
           "Rental unit in Geneva · 2 bedrooms · 2 beds · 2 baths",
           "Entire home/apt",
           2,
           204
          ],
          [
           "Rental unit in Genève · ★4.67 · 1 bedroom · 1 bed · 1 bath",
           "Entire home/apt",
           2,
           350
          ],
          [
           "Rental unit in Genève · ★4.83 · 2 bedrooms · 4 beds · 1.5 baths",
           "Entire home/apt",
           6,
           178
          ],
          [
           "Rental unit in Genève · ★4.77 · 1 bedroom · 2 beds · 1 bath",
           "Entire home/apt",
           2,
           98
          ],
          [
           "Rental unit in Genève · ★5.0 · 1 bedroom · 1 bed · 1 private bath",
           "Private room",
           2,
           87
          ],
          [
           "Rental unit in Geneva · 1 bedroom · 1 bed · 1.5 baths",
           "Entire home/apt",
           2,
           130
          ],
          [
           "Rental unit in Genève · 2 bedrooms · 2 beds · 1 bath",
           "Entire home/apt",
           4,
           129
          ],
          [
           "Rental unit in Genève · ★4.93 · Studio · 2 beds · 1.5 shared baths",
           "Private room",
           2,
           72
          ],
          [
           "Rental unit in Genève · ★4.93 · 1 bedroom · 1 bed · 1.5 shared baths",
           "Private room",
           1,
           60
          ],
          [
           "Condo in Genève · ★4.31 · 1 bedroom · 1 bed · 1.5 shared baths",
           "Private room",
           2,
           42
          ],
          [
           "Rental unit in Genève · ★4.49 · 1 bedroom · 1 bed · 1 shared bath",
           "Private room",
           1,
           60
          ],
          [
           "Rental unit in Ferney-Voltaire · ★4.87 · 4 bedrooms · 4 beds · 2 baths",
           "Entire home/apt",
           5,
           154
          ],
          [
           "Rental unit in Genève · ★4.84 · 1 bedroom · 1 bed · 1 bath",
           "Entire home/apt",
           2,
           92
          ],
          [
           "Rental unit in Genève · 1 bedroom · 1 bed · 1 bath",
           "Entire home/apt",
           2,
           215
          ],
          [
           "Serviced apartment in Genève · ★4.40 · Studio · 1 bed · 1 bath",
           "Entire home/apt",
           2,
           100
          ],
          [
           "Rental unit in Geneva · ★4.88 · 1 bedroom · 1 bed · 1 shared bath",
           "Private room",
           2,
           77
          ],
          [
           "Townhouse in Céligny · 4 bedrooms · 4 beds · 3 baths",
           "Entire home/apt",
           7,
           148
          ],
          [
           "Rental unit in Genève · ★4.66 · Studio · 1 bed · 1 bath",
           "Entire home/apt",
           2,
           100
          ],
          [
           "Condo in Genève · ★4.89 · 4 bedrooms · 8 beds · 2.5 baths",
           "Entire home/apt",
           8,
           330
          ],
          [
           "Rental unit in Genève · 1 bedroom · 1 bed · 1.5 baths",
           "Entire home/apt",
           3,
           85
          ],
          [
           "Hotel in Hermance · 2 bedrooms · 4 beds · 3 baths",
           "Private room",
           4,
           250
          ],
          [
           "Rental unit in Genève · ★4.75 · Studio · 1 bed · 1 bath",
           "Entire home/apt",
           2,
           75
          ],
          [
           "Rental unit in Genève · ★5.0 · Studio · 1 bed · 1 bath",
           "Entire home/apt",
           2,
           87
          ],
          [
           "Rental unit in Genève · ★4.88 · 1 bedroom · 4 beds · 1 bath",
           "Entire home/apt",
           4,
           127
          ],
          [
           "Rental unit in Genève · ★4.67 · 2 bedrooms · 2 beds · 1.5 baths",
           "Entire home/apt",
           4,
           195
          ],
          [
           "Rental unit in Genève · ★4.64 · Studio · 1 bed · 1 bath",
           "Entire home/apt",
           2,
           61
          ],
          [
           "Rental unit in Genève · ★4.63 · 1 bedroom · 1 bed · 1 bath",
           "Entire home/apt",
           2,
           125
          ],
          [
           "Rental unit in Versoix · ★4.91 · Studio · 2 beds · 1 bath",
           "Entire home/apt",
           2,
           85
          ],
          [
           "Rental unit in Genève · ★5.0 · 1 bedroom · 1 bed · 1 shared bath",
           "Private room",
           2,
           120
          ],
          [
           "Condo in Genève · ★4.80 · 1 bedroom · 2 beds · 1 bath",
           "Entire home/apt",
           2,
           120
          ],
          [
           "Rental unit in Genève · ★4.96 · 1 bedroom · 2 beds · 1 bath",
           "Entire home/apt",
           1,
           84
          ],
          [
           "Home in Le Grand-Saconnex · 5 bedrooms · 5 beds · 4.5 baths",
           "Entire home/apt",
           10,
           600
          ],
          [
           "Villa in Genève · ★4.84 · 3 bedrooms · 5 beds · 1 bath",
           "Entire home/apt",
           6,
           333
          ],
          [
           "Rental unit in Genève · ★4.93 · 1 bedroom · 1 bed · 1 private bath",
           "Private room",
           1,
           55
          ],
          [
           "Rental unit in Genève · ★5.0 · 2 bedrooms · 2 beds · 1.5 baths",
           "Entire home/apt",
           4,
           180
          ],
          [
           "Bed and breakfast in Genève  · Studio · 1 bed · 1 private bath",
           "Private room",
           2,
           48
          ],
          [
           "Rental unit in Genève · 1 bedroom · 1 bed · 1 bath",
           "Private room",
           4,
           220
          ],
          [
           "Rental unit in Genève · ★4.50 · Studio · 1 bed · 1 bath",
           "Entire home/apt",
           2,
           133
          ],
          [
           "Rental unit in Genève · ★4.81 · 1 bedroom · 3 beds · 2 shared baths",
           "Private room",
           2,
           90
          ],
          [
           "Houseboat in Genève · 1 bedroom · 1 bed · 1 bath",
           "Entire home/apt",
           2,
           490
          ],
          [
           "Rental unit in Genève · 1 bedroom · 1 bed · 1 bath",
           "Entire home/apt",
           2,
           80
          ],
          [
           "Rental unit in Genève · 1 bedroom · 1 bed · 1 shared bath",
           "Private room",
           1,
           64
          ],
          [
           "Condo in Onex · 1 bedroom · 1 bath",
           "Entire home/apt",
           2,
           92
          ],
          [
           "Rental unit in Chêne-Bougeries · ★4.88 · 1 bedroom · 1 bed · 1 private bath",
           "Private room",
           2,
           60
          ],
          [
           "Rental unit in Versoix · ★4.58 · 2 bedrooms · 2 beds · 1.5 baths",
           "Entire home/apt",
           4,
           180
          ],
          [
           "Rental unit in Genève · ★4.63 · 1 bedroom · 1 bed · 1 private bath",
           "Private room",
           2,
           56
          ],
          [
           "Townhouse in Genève · 2 bedrooms · 2 beds · 2 baths",
           "Entire home/apt",
           6,
           1359
          ],
          [
           "Rental unit in Genève · 1 bedroom · 1 bed · 1 bath",
           "Entire home/apt",
           2,
           590
          ],
          [
           "Rental unit in Genève · 1 bedroom · 1 bed · 1.5 baths",
           "Private room",
           2,
           71
          ],
          [
           "Rental unit in Le Grand-Saconnex · ★4.86 · 1 bedroom · 1 bed · 1 shared bath",
           "Private room",
           2,
           65
          ],
          [
           "Rental unit in Le Grand-Saconnex · ★4.88 · 1 bedroom · 1 bed · 1 shared bath",
           "Private room",
           1,
           69
          ],
          [
           "Boutique hotel in Genève · ★4.51 · 1 bedroom · 1 bed · 1 bath",
           "Private room",
           1,
           111
          ],
          [
           "Rental unit in Genève · ★5.0 · 1 bedroom · 1 bed · 1 bath",
           "Entire home/apt",
           2,
           80
          ],
          [
           "Home in Meyrin · ★5.0 · 1 bedroom · 1 bed · 1 private bath",
           "Private room",
           1,
           65
          ],
          [
           "Rental unit in Onex · 1 bedroom · 1 bed · 1 private bath",
           "Private room",
           2,
           150
          ],
          [
           "Rental unit in Genève · ★4.78 · 1 bedroom · 1 bed · 1 bath",
           "Entire home/apt",
           2,
           121
          ],
          [
           "Rental unit in Genève · ★4.89 · 1 bedroom · 1 bed · 1 bath",
           "Entire home/apt",
           2,
           82
          ],
          [
           "Rental unit in Versoix · 1 bedroom · 1 bed · 1 private bath",
           "Private room",
           1,
           78
          ],
          [
           "Boutique hotel in Genève · ★4.25 · 1 bedroom · 1 bed · 1 shared bath",
           "Private room",
           1,
           143
          ],
          [
           "Boutique hotel in Genève · ★4.70 · 1 bedroom · 1 bed · 1 bath",
           "Private room",
           2,
           105
          ],
          [
           "Rental unit in Genève · ★4.95 · 1 bedroom · 2 beds · 1 bath",
           "Entire home/apt",
           4,
           92
          ],
          [
           "Rental unit in Le Grand-Saconnex · ★4.45 · 1 bedroom · 1 bed · 2 baths",
           "Private room",
           1,
           70
          ],
          [
           "Condo in Plan-les-Ouates · ★4.67 · 1 bedroom · 1 bed · 1 shared bath",
           "Private room",
           1,
           49
          ],
          [
           "Rental unit in Bellevue · ★4.94 · 1 bedroom · 2 beds · 1.5 shared baths",
           "Private room",
           3,
           60
          ],
          [
           "Rental unit in Genève · 2 bedrooms · 2 beds · 1 bath",
           "Entire home/apt",
           4,
           200
          ],
          [
           "Rental unit in Cologny · 3 bedrooms · 5 beds · 2 baths",
           "Entire home/apt",
           5,
           270
          ],
          [
           "Rental unit in Genève · 1 bedroom · 2 beds · 1 bath",
           "Entire home/apt",
           2,
           99
          ],
          [
           "Rental unit in Le Grand-Saconnex · ★4.81 · 1 bedroom · 1 bed · 1.5 shared baths",
           "Private room",
           1,
           45
          ],
          [
           "Rental unit in Genève · ★4.32 · Studio · 1 bed · 1.5 baths",
           "Entire home/apt",
           2,
           94
          ],
          [
           "Rental unit in Genève · ★4.73 · 2 bedrooms · 2 beds · 1 bath",
           "Entire home/apt",
           5,
           100
          ],
          [
           "Rental unit in Genève · 1 bedroom · 1 bed · 1 bath",
           "Entire home/apt",
           2,
           88
          ],
          [
           "Rental unit in Genève · ★5.0 · 1 bedroom · 1 bed · 1.5 baths",
           "Private room",
           1,
           80
          ],
          [
           "Condo in Meyrin · ★5.0 · 1 bedroom · 3 beds · 1 bath",
           "Entire home/apt",
           4,
           72
          ],
          [
           "Rental unit in Genève · ★5.0 · 1 bedroom · 1 bed · 1.5 shared baths",
           "Private room",
           2,
           110
          ],
          [
           "Home in Aire-la-Ville · ★4.75 · 3 bedrooms · 4 beds · 2.5 baths",
           "Entire home/apt",
           6,
           130
          ],
          [
           "Rental unit in Lancy · ★4.50 · 1 bedroom · 2 beds · 1.5 baths",
           "Entire home/apt",
           4,
           140
          ],
          [
           "Home in Vésenaz · 2 bedrooms · 3 beds · 1.5 baths",
           "Entire home/apt",
           4,
           300
          ],
          [
           "Rental unit in Genève · ★4.89 · 1 bedroom · 2 beds · 1 bath",
           "Entire home/apt",
           3,
           100
          ],
          [
           "Rental unit in Genève · ★4.50 · 3 bedrooms · 3 beds · 2 baths",
           "Entire home/apt",
           6,
           200
          ],
          [
           "Home in Plan-les-Ouates · 3 bedrooms · 4 beds · 2.5 baths",
           "Entire home/apt",
           5,
           200
          ],
          [
           "Rental unit in Genève · ★4.76 · Studio · 1 bed · 1 bath",
           "Entire home/apt",
           2,
           113
          ],
          [
           "Rental unit in Genève · ★4.94 · 1 bedroom · 2 beds · 1.5 baths",
           "Entire home/apt",
           3,
           180
          ],
          [
           "Rental unit in Genève · 1 bedroom · 1 bed · 1 bath",
           "Entire home/apt",
           2,
           100
          ],
          [
           "Bed and breakfast in Thônex · ★4.79 · 1 bedroom · 2 beds · 1.5 shared baths",
           "Private room",
           2,
           50
          ],
          [
           "Bed and breakfast in Plan-les-Ouates · 1 bedroom · 1 bed · 1 private bath",
           "Private room",
           1,
           85
          ],
          [
           "Home in Le Grand-Saconnex · 1 bedroom · 4 beds · 1 shared bath",
           "Private room",
           4,
           160
          ],
          [
           "Home in Le Grand-Saconnex · ★5.0 · 1 bedroom · 2 beds · 1 shared bath",
           "Private room",
           2,
           99
          ],
          [
           "Home in Le Grand-Saconnex · 1 bedroom · 1 bed · 1 shared bath",
           "Private room",
           1,
           89
          ],
          [
           "Rental unit in Genève · ★4.71 · Studio · 1 bed · 1 bath",
           "Entire home/apt",
           2,
           100
          ],
          [
           "Rental unit in Genève · ★4.67 · 2 bedrooms · 2 beds · 1.5 baths",
           "Entire home/apt",
           4,
           233
          ],
          [
           "Guest suite in Aïre le Lignon · ★4.14 · Studio · 1 bed · 1 bath",
           "Entire home/apt",
           2,
           110
          ],
          [
           "Home in Chêne-Bourg · 2 bedrooms · 3 beds · 2 baths",
           "Entire home/apt",
           4,
           300
          ],
          [
           "Home in Chêne-Bourg · 3 bedrooms · 3 beds · 3 baths",
           "Entire home/apt",
           5,
           350
          ],
          [
           "Rental unit in Genève · Studio · 1 bed · 1 bath",
           "Entire home/apt",
           2,
           590
          ],
          [
           "Rental unit in Genève · 1 bedroom · 2 beds · 1 bath",
           "Entire home/apt",
           4,
           690
          ],
          [
           "Rental unit in Genève · 1 bedroom · 2 beds · 1 bath",
           "Entire home/apt",
           4,
           690
          ],
          [
           "Rental unit in Genève · 1 bedroom · 1 bed · 1 bath",
           "Entire home/apt",
           4,
           690
          ],
          [
           "Rental unit in Genève · 2 bedrooms · 2 beds · 2.5 baths",
           "Entire home/apt",
           6,
           1250
          ],
          [
           "Rental unit in Genève · 2 bedrooms · 2 beds · 2 baths",
           "Entire home/apt",
           6,
           2000
          ],
          [
           "Rental unit in Genève · ★5.0 · 1 bedroom · 1 bed · 1 bath",
           "Entire home/apt",
           4,
           110
          ],
          [
           "Rental unit in Thônex · Studio · 2 beds · 1 private bath",
           "Private room",
           4,
           65
          ],
          [
           "Rental unit in Lancy · ★5.0 · 1 bedroom · 1 bed · 1 shared bath",
           "Private room",
           2,
           67
          ],
          [
           "Rental unit in Genève · ★4.54 · 1 bedroom · 1 bed · 1 bath",
           "Entire home/apt",
           2,
           118
          ],
          [
           "Rental unit in Genève · ★4.64 · Studio · 1 bed · 1 bath",
           "Entire home/apt",
           2,
           128
          ],
          [
           "Rental unit in Chêne-Bougeries · ★4.96 · 2 bedrooms · 3 beds · 1 bath",
           "Entire home/apt",
           4,
           150
          ],
          [
           "Rental unit in Chêne-Bougeries · 1 bedroom · 3 beds · 1 shared bath",
           "Private room",
           2,
           90
          ],
          [
           "Serviced apartment in Genève · 1 bedroom · 1 bed · 1 bath",
           "Entire home/apt",
           2,
           85
          ],
          [
           "Rental unit in Genève · 3 bedrooms · 3 beds · 3.5 baths",
           "Entire home/apt",
           4,
           366
          ],
          [
           "Rental unit in Russin · ★4.88 · 2 bedrooms · 4 beds · 1 bath",
           "Entire home/apt",
           4,
           120
          ],
          [
           "Rental unit in Geneva · ★4.33 · 1 bedroom · 1 bed · 1 shared bath",
           "Private room",
           1,
           65
          ],
          [
           "Rental unit in Cologny · ★4.73 · 2 bedrooms · 4 beds · 1.5 baths",
           "Entire home/apt",
           6,
           159
          ],
          [
           "Home in Vandœuvres · 1 bedroom · 1 bed · 1 private bath",
           "Private room",
           1,
           75
          ],
          [
           "Rental unit in Genève · 1 bedroom · 1 bed · 1.5 shared baths",
           "Private room",
           1,
           78
          ],
          [
           "Rental unit in Genève · ★5.0 · 1 bedroom · 2 beds · 1 bath",
           "Entire home/apt",
           2,
           130
          ],
          [
           "Townhouse in Le Grand-Saconnex · 1 bedroom · 1 bed · 1 shared bath",
           "Private room",
           1,
           100
          ],
          [
           "Rental unit in Le Lignon · 1 bedroom · 2 beds · 1.5 baths",
           "Entire home/apt",
           4,
           90
          ],
          [
           "Rental unit in Genève · ★4.0 · 1 bedroom · 0 shared baths",
           "Shared room",
           2,
           434
          ],
          [
           "Guesthouse in Chêne-Bourg  · ★4.33 · Studio · 1 bath",
           "Entire home/apt",
           2,
           73
          ],
          [
           "Guesthouse in Bellevue · ★4.98 · 1 bedroom · 2 beds · 1 bath",
           "Entire home/apt",
           2,
           126
          ],
          [
           "Rental unit in Carouge · 1 bedroom · 1 bed · 1 bath",
           "Entire home/apt",
           2,
           99
          ],
          [
           "Condo in Genève · ★4.89 · 1 bedroom · 1 bath",
           "Private room",
           2,
           90
          ],
          [
           "Rental unit in Genève · ★4.47 · 1 bedroom · 1 bed · 1 bath",
           "Entire home/apt",
           2,
           128
          ],
          [
           "Rental unit in Genève · ★4.64 · 1 bedroom · 1 bed · 1.5 shared baths",
           "Private room",
           1,
           68
          ],
          [
           "Rental unit in Genève · 2 bedrooms · 3 beds · 1.5 baths",
           "Entire home/apt",
           5,
           116
          ],
          [
           "Rental unit in Genève · ★4.33 · 1 bedroom · 1 bed · 1 shared bath",
           "Private room",
           2,
           78
          ],
          [
           "Rental unit in Onex · ★5.0 · 1 bedroom · 2 beds · 1.5 baths",
           "Entire home/apt",
           4,
           200
          ],
          [
           "Rental unit in Genève · ★5.0 · 1 bedroom · 2 beds · 1 bath",
           "Entire home/apt",
           3,
           150
          ],
          [
           "Rental unit in Thônex · ★4.63 · 1 bedroom · 2 beds · 1.5 shared baths",
           "Private room",
           1,
           36
          ],
          [
           "Rental unit in Genève · ★4.89 · 2 bedrooms · 3 beds · 1 bath",
           "Entire home/apt",
           6,
           200
          ],
          [
           "Condo in Carouge · ★4.92 · 2 bedrooms · 2 beds · 3 baths",
           "Entire home/apt",
           4,
           250
          ],
          [
           "Hotel in Genève · ★4.50 · 1 bedroom · 1 bed · 1 bath",
           "Private room",
           1,
           108
          ],
          [
           "Rental unit in Genève · ★4.70 · 1 bedroom · 1 bed · 1 bath",
           "Entire home/apt",
           2,
           118
          ],
          [
           "Rental unit in Genève · ★4.53 · 1 bedroom · 1 bed · 1 bath",
           "Entire home/apt",
           2,
           118
          ],
          [
           "Rental unit in Genève · ★4.56 · 1 bedroom · 1 bed · 1 bath",
           "Entire home/apt",
           2,
           128
          ],
          [
           "Rental unit in Genève · ★4.75 · 1 bedroom · 1 bed · 1 bath",
           "Entire home/apt",
           2,
           120
          ],
          [
           "Rental unit in Genève · ★4.43 · 1 bedroom · 1 bed · 1 bath",
           "Entire home/apt",
           2,
           116
          ],
          [
           "Rental unit in Genève · 2 bedrooms · 2 beds · 2 baths",
           "Entire home/apt",
           4,
           748
          ],
          [
           "Rental unit in Versoix · ★3.75 · 1 bedroom · 2 beds · 1 bath",
           "Entire home/apt",
           4,
           80
          ],
          [
           "Rental unit in Genève · ★4.58 · Studio · 1 bed · 1 bath",
           "Entire home/apt",
           2,
           119
          ],
          [
           "Rental unit in Genève · ★4.58 · 1 bedroom · 1 bed · 1 bath",
           "Entire home/apt",
           2,
           116
          ],
          [
           "Rental unit in Genève · 3 bedrooms · 3 beds · 1.5 baths",
           "Entire home/apt",
           5,
           150
          ],
          [
           "Rental unit in Genève · 1 bedroom · 1 bed · 1 bath",
           "Entire home/apt",
           2,
           151
          ],
          [
           "Rental unit in Genève · ★4.94 · 1 bedroom · 1 bed · 1.5 baths",
           "Private room",
           1,
           72
          ],
          [
           "Rental unit in Genève · ★4.80 · 1 bedroom · 2 beds · 1 bath",
           "Entire home/apt",
           4,
           174
          ],
          [
           "Rental unit in Genève · ★4.40 · 2 bedrooms · 2 beds · 1 bath",
           "Entire home/apt",
           3,
           130
          ],
          [
           "Rental unit in Genève · ★4.77 · 1 bedroom · 1 bed · 1 private bath",
           "Private room",
           2,
           100
          ],
          [
           "Home in Meyrin · ★4.97 · 1 bedroom · 1 bed · 1 shared bath",
           "Private room",
           1,
           65
          ],
          [
           "Rental unit in Versoix · 1 bedroom · 1 bed · 1 shared bath",
           "Private room",
           1,
           85
          ],
          [
           "Rental unit in Genève · ★4.86 · 1 bedroom · 2 beds · 1 bath",
           "Entire home/apt",
           3,
           123
          ],
          [
           "Rental unit in Cologny · 1 bedroom · 1 bed · 1 bath",
           "Entire home/apt",
           2,
           99
          ],
          [
           "Rental unit in Chêne-Bourg · 3 bedrooms · 3 beds · 1 bath",
           "Entire home/apt",
           4,
           78
          ],
          [
           "Rental unit in Genève · ★4.82 · Studio · 1 bed · 1 bath",
           "Entire home/apt",
           4,
           140
          ],
          [
           "Rental unit in Collonge-Bellerive · ★4.88 · 1 bedroom · 1 bed · 1 bath",
           "Entire home/apt",
           1,
           69
          ],
          [
           "Rental unit in Genève · ★4.77 · 1 bedroom · 2 beds · 1 bath",
           "Entire home/apt",
           1,
           150
          ],
          [
           "Rental unit in Genève · ★4.89 · 1 bedroom · 1 bed · 1 bath",
           "Entire home/apt",
           2,
           90
          ],
          [
           "Rental unit in Genève · ★4.67 · 2 bedrooms · 3 beds · 1.5 baths",
           "Entire home/apt",
           4,
           324
          ],
          [
           "Rental unit in Genève · ★4.52 · 1 bedroom · 1 bed · 1 shared bath",
           "Private room",
           2,
           60
          ],
          [
           "Serviced apartment in Genève · 1 bedroom · 1 bed · 1 bath",
           "Entire home/apt",
           2,
           85
          ],
          [
           "Rental unit in Genève · ★4.78 · Studio · 1 bed · 1 bath",
           "Entire home/apt",
           1,
           71
          ],
          [
           "Rental unit in Genève · ★4.38 · 1 bedroom · 1 bed · 1 bath",
           "Entire home/apt",
           2,
           89
          ],
          [
           "Townhouse in Le Grand-Saconnex · 1 bedroom · 1 bed · 1 shared bath",
           "Private room",
           2,
           168
          ],
          [
           "Townhouse in Le Grand-Saconnex · ★5.0 · 1 bedroom · 1 bed · 1 shared bath",
           "Private room",
           2,
           168
          ],
          [
           "Rental unit in Genève · ★4.89 · Studio · 2 beds · 1 bath",
           "Entire home/apt",
           4,
           88
          ],
          [
           "Townhouse in Le Grand-Saconnex · 1 bedroom · 3 beds · 1 shared bath",
           "Private room",
           4,
           336
          ],
          [
           "Rental unit in Genève · ★4.88 · 1 bedroom · 1 bed · 1 shared bath",
           "Private room",
           2,
           67
          ],
          [
           "Rental unit in Genève · 2 bedrooms · 2 beds · 1 bath",
           "Entire home/apt",
           3,
           109
          ],
          [
           "Townhouse in Le Grand-Saconnex · 1 bedroom · 2 beds · 1 private bath",
           "Private room",
           3,
           288
          ],
          [
           "Rental unit in Genève · ★4.71 · Studio · 1 bed · 1 bath",
           "Entire home/apt",
           2,
           130
          ],
          [
           "Serviced apartment in Genève · ★4.67 · 1 bedroom · 1 bed · 1 private bath",
           "Private room",
           2,
           249
          ],
          [
           "Rental unit in Genève · ★3.80 · 1 bedroom · 2 beds · 1.5 baths",
           "Entire home/apt",
           3,
           200
          ],
          [
           "Rental unit in Le Grand-Saconnex · ★4.86 · 1 bedroom · 1 bed · 1 bath",
           "Entire home/apt",
           2,
           130
          ],
          [
           "Rental unit in Thônex · ★4.88 · 1 bedroom · 1 bed · 1.5 shared baths",
           "Private room",
           1,
           36
          ],
          [
           "Rental unit in Carouge · 1 bedroom · 1 bath",
           "Entire home/apt",
           1,
           116
          ],
          [
           "Rental unit in Carouge · 1 bedroom · 1 bath",
           "Entire home/apt",
           1,
           107
          ],
          [
           "Rental unit in Carouge · 1 bedroom · 1 bath",
           "Entire home/apt",
           1,
           107
          ],
          [
           "Rental unit in Genève · ★4.80 · 1 bedroom · 2 beds · 1 bath",
           "Entire home/apt",
           3,
           116
          ],
          [
           "Bed and breakfast in Bernex · Studio · 1 bed · 1 shared bath",
           "Private room",
           1,
           82
          ],
          [
           "Rental unit in Genève · ★5.0 · 2 bedrooms · 1 bed · 1 bath",
           "Entire home/apt",
           3,
           94
          ],
          [
           "Rental unit in Genève · ★4.46 · Studio · 2 beds · 1 bath",
           "Entire home/apt",
           3,
           99
          ],
          [
           "Rental unit in Genève · ★4.40 · 1 bedroom · 1 bed · 1 bath",
           "Entire home/apt",
           2,
           116
          ],
          [
           "Rental unit in Carouge · 1 bedroom · 1 bath",
           "Entire home/apt",
           1,
           107
          ],
          [
           "Hotel in Geneva · ★4.46 · 1 bedroom · 1 bed · 1 private bath",
           "Private room",
           1,
           100
          ],
          [
           "Hotel in Geneva · ★4.43 · 1 bedroom · 1 bed · 1 private bath",
           "Private room",
           2,
           140
          ],
          [
           "Condo in Genève · ★4.79 · 1 bedroom · 1 bed · 1.5 baths",
           "Entire home/apt",
           2,
           99
          ],
          [
           "Rental unit in Genève · ★3.60 · 1 bedroom · 2 beds · 1 bath",
           "Entire home/apt",
           3,
           90
          ],
          [
           "Home in Plan-les-Ouates · ★4.25 · 3 bedrooms · 5 beds · 2 baths",
           "Entire home/apt",
           6,
           350
          ],
          [
           "Rental unit in Carouge · ★4.92 · 1 bedroom · 1 bed · 1 bath",
           "Private room",
           1,
           85
          ],
          [
           "Condo in Genève · ★4.47 · Studio · 1 bed · 1 bath",
           "Entire home/apt",
           2,
           148
          ],
          [
           "Condo in Genève · ★4.50 · Studio · 1 bed · 1 bath",
           "Entire home/apt",
           2,
           148
          ],
          [
           "Condo in Genève · ★4.79 · Studio · 1 bed · 1 bath",
           "Entire home/apt",
           2,
           148
          ],
          [
           "Condo in Genève · Studio · 1 bed · 1 bath",
           "Entire home/apt",
           2,
           148
          ],
          [
           "Condo in Genève · ★4.83 · Studio · 1 bed · 1 bath",
           "Entire home/apt",
           2,
           148
          ],
          [
           "Condo in Genève · ★4.50 · Studio · 1 bed · 1 bath",
           "Entire home/apt",
           2,
           148
          ],
          [
           "Condo in Genève · ★4.75 · Studio · 1 bed · 1 bath",
           "Entire home/apt",
           2,
           148
          ],
          [
           "Condo in Genève · ★4.71 · Studio · 1 bed · 1 bath",
           "Entire home/apt",
           2,
           148
          ],
          [
           "Condo in Genève · ★5.0 · Studio · 1 bed · 1 bath",
           "Entire home/apt",
           2,
           148
          ],
          [
           "Rental unit in Genève · ★5.0 · 2 bedrooms · 2 beds · 1.5 baths",
           "Entire home/apt",
           4,
           285
          ],
          [
           "Loft in Genève · Studio · 1 bath",
           "Entire home/apt",
           2,
           68
          ],
          [
           "Rental unit in Genève · ★4.55 · Studio · 1 bed · 1 bath",
           "Entire home/apt",
           2,
           100
          ],
          [
           "Rental unit in Genève · ★5.0 · 2 bedrooms · 2 beds · 1 bath",
           "Entire home/apt",
           3,
           163
          ],
          [
           "Rental unit in Genève · ★4.91 · 1 bedroom · 1 bed · 1 bath",
           "Entire home/apt",
           2,
           110
          ],
          [
           "Rental unit in Genève · ★5.0 · 1 bedroom · 1 bed · 1 bath",
           "Entire home/apt",
           3,
           115
          ],
          [
           "Serviced apartment in Genève · ★4.90 · 2 bedrooms · 3 beds · 2.5 baths",
           "Entire home/apt",
           6,
           890
          ],
          [
           "Rental unit in Genève · 1 bedroom · 1 bath",
           "Entire home/apt",
           2,
           120
          ],
          [
           "Home in Lancy · 3 bedrooms · 3 beds · 2.5 baths",
           "Entire home/apt",
           4,
           300
          ],
          [
           "Rental unit in Chêne-Bourg · 1 bedroom · 1 shared bath",
           "Private room",
           2,
           60
          ],
          [
           "Serviced apartment in Genève · 1 bedroom · 1 bed · 1 shared bath",
           "Private room",
           4,
           332
          ],
          [
           "Serviced apartment in Genève · ★4.40 · 1 bedroom · 2 beds · 1 private bath",
           "Private room",
           2,
           291
          ],
          [
           "Home in Thônex · 1 bedroom · 1 bed · 1 shared bath",
           "Private room",
           2,
           40
          ],
          [
           "Rental unit in Thônex · Studio · 1 bed · 1 bath",
           "Entire home/apt",
           2,
           54
          ],
          [
           "Boat in Genève · ★4.52 · 1 bed · Half-bath",
           "Entire home/apt",
           2,
           150
          ],
          [
           "Rental unit in Genève · ★4.63 · 1 bedroom · 1 bed · 1 bath",
           "Entire home/apt",
           2,
           85
          ],
          [
           "Rental unit in Gaillard · ★4.90 · Studio · 1 bed · 1 bath",
           "Entire home/apt",
           2,
           70
          ],
          [
           "Home in Le Grand-Saconnex · ★5.0 · 1 bedroom · 1 bed · 1 bath",
           "Entire home/apt",
           2,
           200
          ],
          [
           "Rental unit in Genève · ★4.72 · 1 bedroom · 1 bed · 1 bath",
           "Entire home/apt",
           2,
           102
          ],
          [
           "Rental unit in Genève · ★4.86 · 1 bedroom · 1 bed · 1 shared bath",
           "Private room",
           1,
           57
          ],
          [
           "Rental unit in Genève · 2 bedrooms · 2 beds · 1 bath",
           "Entire home/apt",
           4,
           115
          ],
          [
           "Rental unit in Genève · ★4.33 · 1 bedroom · 1 bed · 1 shared bath",
           "Private room",
           2,
           65
          ],
          [
           "Rental unit in Genève · ★4.75 · Studio · 1 bed · 1 bath",
           "Entire home/apt",
           2,
           77
          ],
          [
           "Rental unit in Genève · 1 bedroom · 1 bed · 1 shared bath",
           "Private room",
           1,
           50
          ],
          [
           "Hotel in Genève · ★5.0 · 1 bedroom · 1 bed · 1 bath",
           "Private room",
           1,
           128
          ],
          [
           "Hotel in Genève · ★4.84 · 1 bedroom · 1 bed · 1 bath",
           "Private room",
           2,
           128
          ],
          [
           "Rental unit in Genève · ★4.44 · 1 bedroom · 1 bed · 1 bath",
           "Entire home/apt",
           2,
           119
          ],
          [
           "Rental unit in Versoix · ★5.0 · 1 bedroom · 1 bed · 1 shared bath",
           "Private room",
           1,
           69
          ],
          [
           "Rental unit in Genève · ★3.60 · 1 bedroom · 1 bed · 1 bath",
           "Entire home/apt",
           2,
           136
          ],
          [
           "Rental unit in Genève · Studio · 2 beds · 1 bath",
           "Entire home/apt",
           3,
           69
          ],
          [
           "Rental unit in Genève · ★4.80 · 3 bedrooms · 4 beds · 1 bath",
           "Entire home/apt",
           5,
           170
          ],
          [
           "Rental unit in Genève · 1 bedroom · 2 beds · 1 bath",
           "Entire home/apt",
           2,
           140
          ],
          [
           "Rental unit in Châtelaine · 3 bedrooms · 3 beds · 1 bath",
           "Entire home/apt",
           4,
           110
          ],
          [
           "Hotel in Genève · 1 bedroom · 1 bed · 1 private bath",
           "Private room",
           2,
           220
          ],
          [
           "Hotel in Genève · 1 bedroom · 2 beds · 1 private bath",
           "Private room",
           3,
           288
          ],
          [
           "Hotel in Genève · 1 bedroom · 1 bed · 1 private bath",
           "Private room",
           2,
           500
          ],
          [
           "Home in Thônex · ★5.0 · Studio · 2 beds · 1 bath",
           "Entire home/apt",
           2,
           60
          ],
          [
           "Rental unit in Genève · 1 bedroom · 1 bed · 1 bath",
           "Entire home/apt",
           2,
           149
          ],
          [
           "Rental unit in Genève · 1 bedroom · 1 bed · 1 bath",
           "Entire home/apt",
           4,
           200
          ],
          [
           "Hotel in Genève · 1 bedroom · 1 bed · 1 private bath",
           "Private room",
           2,
           107
          ],
          [
           "Hotel in Genève · 1 bedroom · 1 shared bath",
           "Private room",
           2,
           116
          ],
          [
           "Hotel in Genève · 1 bedroom · 1 shared bath",
           "Private room",
           2,
           125
          ],
          [
           "Hotel in Genève · 1 bedroom · 1.5 baths",
           "Private room",
           2,
           144
          ],
          [
           "Condo in Genève · 2 bedrooms · 2 beds · 1 bath",
           "Entire home/apt",
           3,
           136
          ],
          [
           "Rental unit in Dardagny · 2 bedrooms · 3 beds · 2 baths",
           "Entire home/apt",
           4,
           105
          ],
          [
           "Guest suite in Genève · 1 bedroom · 1 bed · 1.5 baths",
           "Entire home/apt",
           1,
           49
          ],
          [
           "Guest suite in Genève · 1 bedroom · 1 bed · 1.5 baths",
           "Entire home/apt",
           1,
           49
          ],
          [
           "Guest suite in Genève · ★4.67 · 1 bedroom · 1 bed · 1.5 baths",
           "Entire home/apt",
           1,
           49
          ],
          [
           "Guest suite in Genève · 1 bedroom · 1 bed · 1.5 baths",
           "Entire home/apt",
           1,
           49
          ],
          [
           "Guest suite in Genève · 1 bedroom · 1 bed · 1.5 baths",
           "Entire home/apt",
           1,
           49
          ],
          [
           "Guest suite in Genève · 1 bedroom · 1 bed · 1.5 baths",
           "Entire home/apt",
           1,
           49
          ],
          [
           "Rental unit in Genève · ★5.0 · 1 bedroom · 1 bed · 1 bath",
           "Entire home/apt",
           2,
           145
          ],
          [
           "Rental unit in Genève · ★4.80 · 1 bedroom · 1 bed · 1 bath",
           "Entire home/apt",
           4,
           123
          ],
          [
           "Rental unit in Genève · 1 bedroom · 1 bed · 1 bath",
           "Entire home/apt",
           2,
           103
          ],
          [
           "Rental unit in Genève · ★4.50 · Studio · 1 bed · 1 bath",
           "Entire home/apt",
           4,
           55
          ],
          [
           "Rental unit in Carouge · Studio · 3 beds · 1 bath",
           "Entire home/apt",
           2,
           35
          ],
          [
           "Rental unit in Carouge · 2 bedrooms · 2 beds · 1 bath",
           "Entire home/apt",
           4,
           200
          ],
          [
           "Rental unit in Genève · 1 bedroom · 2 beds · 1 bath",
           "Entire home/apt",
           4,
           108
          ],
          [
           "Rental unit in Bellevue · ★5.0 · 1 bedroom · 1 bed · 1.5 baths",
           "Entire home/apt",
           2,
           120
          ],
          [
           "Rental unit in Genève · ★4.50 · 1 bedroom · 1 bed · 1 bath",
           "Entire home/apt",
           2,
           128
          ],
          [
           "Condo in Genève · ★4.84 · Studio · 1 bed · 1 shared bath",
           "Private room",
           1,
           58
          ],
          [
           "Condo in Thônex · 1 bedroom · 2 beds · 1 bath",
           "Entire home/apt",
           4,
           200
          ],
          [
           "Rental unit in Genève · ★4.50 · 1 bedroom · 1 bed · 1 bath",
           "Entire home/apt",
           2,
           65
          ],
          [
           "Rental unit in Genève · 1 bedroom · 1 bed · 1 shared bath",
           "Private room",
           2,
           47
          ],
          [
           "Hotel in Genève · ★5.0 · 1 bedroom · 1 bed · 1 private bath",
           "Private room",
           2,
           220
          ],
          [
           "Hotel in Genève · ★4.0 · 1 bedroom · 2 beds · 1 private bath",
           "Private room",
           4,
           288
          ],
          [
           "Rental unit in Genève · ★4.29 · 1 bedroom · 1 bed · 1 bath",
           "Entire home/apt",
           2,
           137
          ],
          [
           "Rental unit in Genève · ★4.50 · 1 bedroom · 1 bed · 1 bath",
           "Entire home/apt",
           4,
           95
          ],
          [
           "Rental unit in Genève · ★4.86 · 1 bedroom · 1 bed · 1 bath",
           "Entire home/apt",
           4,
           105
          ],
          [
           "Rental unit in Genève · ★4.92 · 1 bedroom · 1 bed · 1 shared bath",
           "Private room",
           2,
           78
          ],
          [
           "Loft in Genève · 1 bedroom · 3 beds · 1 bath",
           "Entire home/apt",
           4,
           160
          ],
          [
           "Condo in Pregny-Chambésy · ★5.0 · 1 bedroom · 1 bed · 1 bath",
           "Entire home/apt",
           3,
           103
          ],
          [
           "Hotel in Genève · 1 bedroom · 1 bed · 1 private bath",
           "Private room",
           1,
           127
          ],
          [
           "Hotel in Genève · ★4.50 · 1 bedroom · 1 bed · 1 private bath",
           "Private room",
           2,
           128
          ],
          [
           "Hotel in Genève · 1 bedroom · 1 bed · 1 private bath",
           "Private room",
           2,
           127
          ],
          [
           "Hotel in Genève · ★4.50 · 1 bedroom · 1 bed · 1 private bath",
           "Private room",
           2,
           128
          ],
          [
           "Rental unit in Genève · 2 bedrooms · 2 beds · 1 bath",
           "Entire home/apt",
           4,
           95
          ],
          [
           "Rental unit in Genève · ★4.89 · 1 bedroom · 2 beds · 1 bath",
           "Entire home/apt",
           2,
           90
          ],
          [
           "Rental unit in Genève · ★4.90 · 1 bedroom · 1 bed · 1 shared bath",
           "Private room",
           1,
           70
          ],
          [
           "Hotel in Genève · ★4.69 · 1 bedroom · 1 bed · 1 private bath",
           "Private room",
           2,
           128
          ],
          [
           "Hotel in Genève · ★4.67 · 1 bedroom · 1 bed · 1 private bath",
           "Private room",
           2,
           128
          ],
          [
           "Hotel in Genève · ★4.14 · 1 bedroom · 1 bed · 1 shared bath",
           "Private room",
           1,
           101
          ],
          [
           "Rental unit in Genève · 1 bedroom · 2 beds · 1 bath",
           "Entire home/apt",
           4,
           120
          ],
          [
           "Hotel in Genève · 1 bedroom · 1 bed · 1 shared bath",
           "Private room",
           1,
           109
          ],
          [
           "Rental unit in Genève · ★4.67 · 1 bedroom · 1 bed · 1 bath",
           "Entire home/apt",
           2,
           66
          ],
          [
           "Rental unit in Carouge · 1 bedroom · 1 bed · 1 shared bath",
           "Private room",
           2,
           35
          ],
          [
           "Rental unit in Genève · ★4.67 · 3 bedrooms · 3 beds · 2 baths",
           "Entire home/apt",
           6,
           425
          ],
          [
           "Boutique hotel in Genève · ★4.54 · 1 bedroom · 1 private bath",
           "Private room",
           1,
           75
          ],
          [
           "Boutique hotel in Genève · ★4.67 · 1 bedroom · 1 bed · 1 private bath",
           "Private room",
           2,
           159
          ],
          [
           "Rental unit in Genève · ★4.63 · Studio · 1 bed · 1 bath",
           "Entire home/apt",
           2,
           93
          ],
          [
           "Rental unit in Genève · 1 bedroom · 1 bed · 1 bath",
           "Entire home/apt",
           2,
           200
          ],
          [
           "Rental unit in Genève · ★4.37 · 1 bedroom · 1 bed · 1 bath",
           "Entire home/apt",
           2,
           91
          ],
          [
           "Rental unit in Genève · 1 bedroom · 1 bed · 1 private bath",
           "Private room",
           2,
           115
          ],
          [
           "Rental unit in Genève · ★4.54 · 1 bedroom · 1 bed · 1 shared bath",
           "Private room",
           1,
           65
          ],
          [
           "Condo in Genève · ★4.31 · 2 bedrooms · 2 beds · 1.5 baths",
           "Entire home/apt",
           4,
           159
          ],
          [
           "Rental unit in Corsier · 1 bedroom · 1 bed · 1 bath",
           "Entire home/apt",
           2,
           165
          ],
          [
           "Rental unit in Genève · ★4.63 · Studio · 1 bath",
           "Entire home/apt",
           4,
           70
          ],
          [
           "Rental unit in Genève · ★5.0 · 1 bedroom · 1 bed · 1 shared bath",
           "Private room",
           1,
           88
          ],
          [
           "Rental unit in Genève · ★4.84 · 1 bedroom · 1 bed · 1 bath",
           "Entire home/apt",
           2,
           100
          ],
          [
           "Rental unit in Troinex · ★4.82 · 1 bedroom · 3 beds · 1 bath",
           "Entire home/apt",
           4,
           90
          ],
          [
           "Rental unit in Genève · ★4.92 · 1 bedroom · 1 bed · 1 bath",
           "Entire home/apt",
           2,
           120
          ],
          [
           "Rental unit in Genève · ★5.0 · 1 bedroom · 2 beds · 1 bath",
           "Entire home/apt",
           2,
           155
          ],
          [
           "Rental unit in Genève · 3 bedrooms · 2 beds · 1 bath",
           "Entire home/apt",
           4,
           125
          ],
          [
           "Rental unit in Genève · 1 bedroom · 1 bed · 1 bath",
           "Entire home/apt",
           3,
           65
          ],
          [
           "Rental unit in Genève · ★4.33 · Studio · 1 bed · 1 bath",
           "Entire home/apt",
           2,
           70
          ],
          [
           "Rental unit in Genève · 1 bedroom · 1 bed · 1.5 baths",
           "Entire home/apt",
           2,
           72
          ],
          [
           "Rental unit in Genève · 1 bedroom · 2 beds · 1.5 baths",
           "Entire home/apt",
           2,
           60
          ],
          [
           "Rental unit in Genève · 2 bedrooms · 2 beds · 1 bath",
           "Entire home/apt",
           4,
           119
          ],
          [
           "Rental unit in Lancy · 1 bedroom · 1 bed · 1 shared bath",
           "Private room",
           2,
           78
          ],
          [
           "Rental unit in Genève · ★4.93 · Studio · 1 bed · 1 bath",
           "Entire home/apt",
           2,
           100
          ],
          [
           "Rental unit in Genève · 4 bedrooms · 4 beds · 2 baths",
           "Entire home/apt",
           6,
           160
          ],
          [
           "Condo in Genève · Studio · 1 bed · 1 bath",
           "Entire home/apt",
           1,
           125
          ],
          [
           "Townhouse in Genève · ★4.82 · 1 bedroom · 1 bed · 1 bath",
           "Entire home/apt",
           2,
           100
          ],
          [
           "Rental unit in Genève · 1 bedroom · 1 bed · 1 private bath",
           "Private room",
           1,
           45
          ],
          [
           "Home in Chêne-Bourg · ★4.89 · 1 bedroom · 1 bed · 1 private bath",
           "Private room",
           2,
           55
          ],
          [
           "Rental unit in Genève · ★4.87 · 1 bedroom · 1 bed · 1.5 shared baths",
           "Private room",
           2,
           99
          ],
          [
           "Rental unit in Genève · 1 bedroom · 1 bed · 1 bath",
           "Entire home/apt",
           2,
           79
          ],
          [
           "Condo in Genève · 1 bedroom · 1 bath",
           "Entire home/apt",
           4,
           69
          ],
          [
           "Condo in Meinier · ★4.57 · 1 bedroom · 2 beds · 1 bath",
           "Entire home/apt",
           4,
           351
          ],
          [
           "Loft in Genève · 2 bedrooms · 2 beds · 2 baths",
           "Entire home/apt",
           4,
           150
          ],
          [
           "Rental unit in Vernier · ★5.0 · 1 bedroom · 2 beds · 1 bath",
           "Entire home/apt",
           4,
           120
          ],
          [
           "Rental unit in Genève · ★4.91 · 1 bedroom · 1 bed · 1.5 shared baths",
           "Private room",
           1,
           86
          ],
          [
           "Rental unit in Versoix · ★5.0 · 2 bedrooms · 2 beds · 1 bath",
           "Entire home/apt",
           4,
           96
          ],
          [
           "Rental unit in Genève · ★4.79 · 2 bedrooms · 3 beds · 1 bath",
           "Entire home/apt",
           4,
           209
          ],
          [
           "Loft in Genève · ★4.80 · 1 bedroom · 1 bed · 1 bath",
           "Entire home/apt",
           2,
           74
          ],
          [
           "Rental unit in Genève · ★5.0 · 1 bedroom · 1 bed · 1 shared bath",
           "Private room",
           2,
           40
          ],
          [
           "Rental unit in Carouge · ★4.25 · 1 bedroom · 1 bed · 1 private bath",
           "Private room",
           1,
           80
          ],
          [
           "Rental unit in Versoix · ★5.0 · 1 bedroom · 1 bed · 1 bath",
           "Entire home/apt",
           2,
           155
          ],
          [
           "Condo in Genève · ★4.10 · 1 bedroom · 1 bed · 1 bath",
           "Entire home/apt",
           4,
           132
          ],
          [
           "Rental unit in Genève · ★4.19 · 2 bedrooms · 3 beds · 1 bath",
           "Entire home/apt",
           6,
           175
          ],
          [
           "Rental unit in Genève · 1 bedroom · 1 bed · 1 bath",
           "Entire home/apt",
           2,
           75
          ],
          [
           "Rental unit in Genève · ★4.85 · 1 bedroom · 1 bed · 1.5 baths",
           "Entire home/apt",
           2,
           117
          ],
          [
           "Condo in Genève · ★4.62 · 1 bedroom · 1 bed · 1 bath",
           "Entire home/apt",
           2,
           121
          ],
          [
           "Rental unit in Genève · 1 bedroom · 2 beds · 1 shared bath",
           "Private room",
           2,
           42
          ],
          [
           "Rental unit in Genève · ★4.89 · 1 bedroom · 1 bed · 1 bath",
           "Entire home/apt",
           2,
           71
          ],
          [
           "Bed and breakfast in Genève · ★4.82 · 1 bedroom · 1 bed · 1 shared bath",
           "Private room",
           2,
           64
          ],
          [
           "Rental unit in Genève · ★5.0 · 1 bedroom · 2 beds · 1 bath",
           "Entire home/apt",
           4,
           320
          ],
          [
           "Rental unit in Genève · 1 bedroom · 1 bed · 1.5 baths",
           "Entire home/apt",
           2,
           100
          ],
          [
           "Loft in Genève · ★5.0 · 3 bedrooms · 6 beds · 1.5 baths",
           "Entire home/apt",
           10,
           240
          ],
          [
           "Rental unit in Carouge · ★4.89 · 1 bedroom · 1 bed · 1 shared bath",
           "Private room",
           2,
           75
          ],
          [
           "Rental unit in Genève · ★4.88 · 1 bedroom · 2 beds · 1 bath",
           "Entire home/apt",
           2,
           106
          ],
          [
           "Rental unit in Genève · Studio · 2 beds · 1 bath",
           "Entire home/apt",
           3,
           300
          ],
          [
           "Rental unit in Chêne-Bougeries · Studio · 1 bed · 1 shared bath",
           "Private room",
           2,
           105
          ],
          [
           "Bed and breakfast in Meyrin · ★4.31 · 1 bedroom · 1 bed · 1 shared bath",
           "Private room",
           2,
           99
          ],
          [
           "Rental unit in Genève · ★5.0 · 1 bedroom · 1 bed · 1 shared bath",
           "Private room",
           1,
           75
          ],
          [
           "Rental unit in Chambésy · ★4.66 · 1 bedroom · 1 bed · 1 bath",
           "Entire home/apt",
           3,
           120
          ],
          [
           "Rental unit in Genève · Studio · 1 bed · 1 bath",
           "Entire home/apt",
           2,
           77
          ],
          [
           "Condo in Cologny · ★5.0 · Studio · 1 bed · 1 bath",
           "Entire home/apt",
           2,
           130
          ],
          [
           "Rental unit in Vernier · ★4.80 · Studio · 2 beds · 1 bath",
           "Entire home/apt",
           3,
           79
          ],
          [
           "Rental unit in Genève · ★5.0 · 1 bedroom · 2 beds · 1 bath",
           "Entire home/apt",
           2,
           105
          ],
          [
           "Rental unit in Genève · 1 bedroom · 1 bed · 1 bath",
           "Entire home/apt",
           2,
           140
          ],
          [
           "Rental unit in Genève · ★4.76 · 1 bedroom · 2 beds · 1 bath",
           "Entire home/apt",
           2,
           89
          ],
          [
           "Rental unit in Troinex · ★4.81 · 1 bedroom · 1 bed · 1 bath",
           "Entire home/apt",
           2,
           40
          ],
          [
           "Rental unit in Genève · 1 bedroom · 1 bed · 1.5 baths",
           "Entire home/apt",
           3,
           100
          ],
          [
           "Rental unit in Genève · ★4.67 · 1 bedroom · 2 beds · 1 shared bath",
           "Private room",
           4,
           50
          ],
          [
           "Rental unit in Genève · ★5.0 · 2 bedrooms · 2 beds · 1 bath",
           "Entire home/apt",
           4,
           180
          ],
          [
           "Rental unit in Genève · 1 bedroom · 1 bed · 1 private bath",
           "Private room",
           2,
           70
          ],
          [
           "Rental unit in Genève · 1 bedroom · 2 beds · 1 bath",
           "Entire home/apt",
           3,
           53
          ],
          [
           "Rental unit in Genève · ★3.80 · 2 bedrooms · 2 beds · 1 bath",
           "Entire home/apt",
           2,
           98
          ],
          [
           "Rental unit in Genève · ★4.92 · 1 bedroom · 1 bed · 2 baths",
           "Private room",
           1,
           75
          ],
          [
           "Rental unit in Genève · ★4.37 · 1 bedroom · 1 bed · 1.5 shared baths",
           "Private room",
           1,
           68
          ],
          [
           "Rental unit in Genève · ★4.40 · 1 bedroom · 1 bed · 1 bath",
           "Entire home/apt",
           2,
           120
          ],
          [
           "Rental unit in Genève · ★4.15 · 1 bedroom · 2 beds · 1 bath",
           "Entire home/apt",
           4,
           250
          ],
          [
           "Rental unit in Genève · ★4.40 · 3 bedrooms · 3 beds · 1 bath",
           "Entire home/apt",
           6,
           110
          ],
          [
           "Rental unit in Genève · ★4.80 · Studio · 1 bed · 1 bath",
           "Entire home/apt",
           3,
           90
          ],
          [
           "Rental unit in Chêne-Bougeries · ★4.13 · 2 bedrooms · 2 beds · 2 baths",
           "Entire home/apt",
           4,
           186
          ],
          [
           "Condo in Genève · ★4.86 · Studio · 1 bed · 1 bath",
           "Entire home/apt",
           3,
           90
          ],
          [
           "Rental unit in Corsier · ★5.0 · Studio · 1 bed · 1 bath",
           "Entire home/apt",
           2,
           99
          ],
          [
           "Rental unit in Genève · 1 bedroom · 2 beds · 1 bath",
           "Entire home/apt",
           4,
           115
          ],
          [
           "Rental unit in Genève · 1 bedroom · 1 private bath",
           "Private room",
           1,
           50
          ],
          [
           "Condo in Pregny-Chambésy · ★5.0 · 1 bedroom · 3 beds · 1 bath",
           "Entire home/apt",
           2,
           95
          ],
          [
           "Rental unit in Genève · ★4.97 · 1 bedroom · 1 bed · 1.5 shared baths",
           "Private room",
           1,
           75
          ],
          [
           "Rental unit in Versoix · 1 bedroom · 2 beds · 1 bath",
           "Entire home/apt",
           4,
           116
          ],
          [
           "Rental unit in Genève · ★4.80 · 1 bedroom · 1 bed · 1 shared bath",
           "Private room",
           2,
           50
          ],
          [
           "Rental unit in Genève · 3 bedrooms · 4 beds · 2 baths",
           "Entire home/apt",
           5,
           250
          ],
          [
           "Condo in Gaillard · ★4.67 · 1 bedroom · 1 bed · 1 bath",
           "Entire home/apt",
           2,
           43
          ],
          [
           "Townhouse in Pregny-Chambésy · 1 bedroom · 1 bed · 1 bath",
           "Entire home/apt",
           2,
           90
          ],
          [
           "Rental unit in Genève · ★4.91 · 3 bedrooms · 5 beds · 2 baths",
           "Entire home/apt",
           6,
           290
          ],
          [
           "Rental unit in Genève · ★4.74 · 1 bedroom · 1 bed · 1 private bath",
           "Private room",
           2,
           69
          ],
          [
           "Rental unit in Vernier · 1 bedroom · 1 bed · 1.5 baths",
           "Private room",
           4,
           1500
          ],
          [
           "Rental unit in Genève · ★5.0 · 1 bedroom · 1 bed · 1 bath",
           "Entire home/apt",
           2,
           138
          ],
          [
           "Rental unit in Carouge · ★5.0 · 1 bedroom · 1 bed · 1 bath",
           "Entire home/apt",
           2,
           140
          ],
          [
           "Rental unit in Genève · ★5.0 · 1 bedroom · 2 beds · 1 bath",
           "Entire home/apt",
           4,
           120
          ],
          [
           "Condo in Carouge · Studio · 1 bed · 1 bath",
           "Entire home/apt",
           2,
           120
          ],
          [
           "Rental unit in Genève · ★5.0 · 2 bedrooms · 2 beds · 2.5 baths",
           "Entire home/apt",
           4,
           450
          ],
          [
           "Rental unit in Carouge · ★4.67 · 1 bedroom · 1 bed · 1 bath",
           "Entire home/apt",
           2,
           130
          ],
          [
           "Rental unit in Genève · ★4.14 · 1 bedroom · 1 bed · 1 shared bath",
           "Private room",
           2,
           153
          ],
          [
           "Rental unit in Genève · ★4.67 · 1 bedroom · 1 bed · 1 bath",
           "Entire home/apt",
           3,
           140
          ],
          [
           "Condo in Genève · ★4.43 · 2 bedrooms · 3 beds · 1.5 baths",
           "Entire home/apt",
           5,
           187
          ],
          [
           "Rental unit in Vernier · ★4.56 · 3 bedrooms · 3 beds · 1 bath",
           "Entire home/apt",
           5,
           133
          ],
          [
           "Condo in Genève · Studio · 1 bed · 1 bath",
           "Entire home/apt",
           4,
           111
          ],
          [
           "Rental unit in Genève · ★4.73 · 1 bedroom · 1 bed · 1.5 shared baths",
           "Private room",
           2,
           86
          ],
          [
           "Bed and breakfast in Vernier · ★4.92 · 1 bedroom · 1 bed · 1 shared bath",
           "Private room",
           2,
           39
          ],
          [
           "Condo in Genève · 4 bedrooms · 4 beds · 2.5 baths",
           "Entire home/apt",
           6,
           200
          ],
          [
           "Condo in Vessy · ★4.87 · 1 bedroom · 1 bed · 1 bath",
           "Entire home/apt",
           2,
           70
          ],
          [
           "Rental unit in Genève · 1 bedroom · 1 bed · 1 bath",
           "Entire home/apt",
           3,
           95
          ],
          [
           "Rental unit in Genève · ★3.33 · Studio · 2 beds · 1 bath",
           "Entire home/apt",
           2,
           95
          ],
          [
           "Bed and breakfast in Lancy · ★4.89 · Studio · 1 bed · 1 shared bath",
           "Private room",
           2,
           60
          ],
          [
           "Rental unit in Genève · ★4.92 · 2 bedrooms · 3 beds · 2 baths",
           "Entire home/apt",
           3,
           250
          ],
          [
           "Rental unit in Genève · 2 bedrooms · 3 beds · 2 baths",
           "Entire home/apt",
           5,
           338
          ],
          [
           "Rental unit in Genève · ★4.56 · 1 bedroom · 2 beds · 1 bath",
           "Entire home/apt",
           4,
           100
          ],
          [
           "Rental unit in Chêne-Bougeries · 2 bedrooms · 3 beds · 1 bath",
           "Entire home/apt",
           1,
           110
          ],
          [
           "Rental unit in Genève · ★5.0 · 1 bedroom · 1 bed · 1 bath",
           "Entire home/apt",
           2,
           214
          ],
          [
           "Rental unit in Genève · ★5.0 · 1 bedroom · 1 bed · 1 bath",
           "Entire home/apt",
           2,
           90
          ],
          [
           "Rental unit in Genève · ★4.46 · 1 bedroom · 3 beds · 1 bath",
           "Entire home/apt",
           3,
           138
          ],
          [
           "Rental unit in Genève · ★4.56 · 3 bedrooms · 1 bed · 1 bath",
           "Entire home/apt",
           2,
           149
          ],
          [
           "Rental unit in Genève · ★4.62 · 1 bedroom · 1 bed · 1 bath",
           "Entire home/apt",
           2,
           135
          ],
          [
           "Rental unit in Genève · ★4.51 · 3 bedrooms · 3 beds · 1 bath",
           "Entire home/apt",
           3,
           151
          ],
          [
           "Rental unit in Genève · ★4.51 · 1 bedroom · 3 beds · 1 bath",
           "Entire home/apt",
           3,
           139
          ],
          [
           "Rental unit in Genève · ★4.33 · 1 bedroom · 3 beds · 1 bath",
           "Entire home/apt",
           3,
           146
          ],
          [
           "Rental unit in Genève · ★5.0 · 1 bedroom · 2 beds · 1.5 baths",
           "Entire home/apt",
           5,
           149
          ],
          [
           "Rental unit in Genève · 1 bedroom · 1 bed · 1 bath",
           "Entire home/apt",
           2,
           120
          ],
          [
           "Rental unit in Genève · ★4.35 · 1 bedroom · 3 beds · 1 bath",
           "Entire home/apt",
           3,
           138
          ],
          [
           "Rental unit in Genève · ★4.64 · 1 bedroom · 3 beds · 1 bath",
           "Entire home/apt",
           3,
           146
          ],
          [
           "Rental unit in Genève · ★4.60 · 1 bedroom · 3 beds · 1 bath",
           "Entire home/apt",
           3,
           138
          ],
          [
           "Rental unit in Genève · ★4.58 · 1 bedroom · 3 beds · 1 bath",
           "Entire home/apt",
           3,
           138
          ],
          [
           "Rental unit in Genève · 1 bedroom · 1 bed · 1.5 shared baths",
           "Private room",
           1,
           85
          ],
          [
           "Rental unit in Genève · ★4.59 · 1 bedroom · 3 beds · 1 bath",
           "Entire home/apt",
           3,
           143
          ],
          [
           "Rental unit in Genève · ★4.31 · 1 bedroom · 3 beds · 1 bath",
           "Entire home/apt",
           3,
           146
          ],
          [
           "Condo in Genève · ★4.54 · 1 bedroom · 1 bath",
           "Entire home/apt",
           2,
           215
          ],
          [
           "Rental unit in Genève · ★4.90 · 3 bedrooms · 2 beds · 2 baths",
           "Entire home/apt",
           3,
           350
          ],
          [
           "Rental unit in Genève · 1 bedroom · 1 bed · 1.5 baths",
           "Entire home/apt",
           2,
           189
          ],
          [
           "Condo in Genève · ★4.80 · 1 bedroom · 1 bed · 1 bath",
           "Entire home/apt",
           2,
           115
          ],
          [
           "Rental unit in Genève · 1 bedroom · 2 beds · 1 bath",
           "Entire home/apt",
           3,
           95
          ],
          [
           "Rental unit in Genève · ★5.0 · 1 bedroom · 1 bed · 1 bath",
           "Entire home/apt",
           2,
           100
          ],
          [
           "Rental unit in Gaillard · ★4.88 · 1 bedroom · 1 bed · 1 bath",
           "Entire home/apt",
           4,
           135
          ],
          [
           "Rental unit in Genève · ★4.52 · 1 bedroom · 1 bath",
           "Entire home/apt",
           2,
           212
          ],
          [
           "Hotel in Genève · 1 bedroom · 1 bed · 1 private bath",
           "Private room",
           2,
           441
          ],
          [
           "Hotel in Genève · 1 bedroom · 1 bed · 1 private bath",
           "Private room",
           3,
           516
          ],
          [
           "Hotel in Genève · 1 bedroom · 1 bed · 1 private bath",
           "Private room",
           3,
           596
          ],
          [
           "Rental unit in Genève · 1 bedroom · 1 bed · 1.5 shared baths",
           "Private room",
           2,
           77
          ],
          [
           "Rental unit in Le Grand-Saconnex · ★5.0 · 1 bedroom · 2 beds · 1 shared bath",
           "Private room",
           2,
           58
          ],
          [
           "Condo in Genève · ★4.18 · Studio · 2 beds · 1 bath",
           "Entire home/apt",
           4,
           173
          ],
          [
           "Rental unit in Genève · ★4.58 · Studio · 1 bed · 1 bath",
           "Entire home/apt",
           2,
           108
          ],
          [
           "Rental unit in Genève · ★3.50 · 2 bedrooms · 2 beds · 1 bath",
           "Entire home/apt",
           2,
           100
          ],
          [
           "Rental unit in Genève · 1 bedroom · 1 bed · 1 bath",
           "Entire home/apt",
           2,
           69
          ],
          [
           "Rental unit in Genève · ★4.86 · 3 bedrooms · 4 beds · 1 bath",
           "Entire home/apt",
           4,
           220
          ],
          [
           "Serviced apartment in Genève · ★4.70 · 2 bedrooms · 3 beds · 1 bath",
           "Entire home/apt",
           4,
           320
          ],
          [
           "Rental unit in Genève · ★4.50 · 1 bedroom · 1 bed · 1 bath",
           "Entire home/apt",
           3,
           110
          ],
          [
           "Rental unit in Genève · 1 bedroom · 1 bed · 1 private bath",
           "Private room",
           1,
           80
          ],
          [
           "Rental unit in Genève · ★4.95 · 1 bedroom · 1 bed · 1 bath",
           "Entire home/apt",
           2,
           153
          ],
          [
           "Rental unit in Genève · ★4.83 · 1 bedroom · 2 beds · 1 bath",
           "Entire home/apt",
           3,
           126
          ],
          [
           "Rental unit in Genève · ★3.78 · 2 bedrooms · 2 beds · 1 bath",
           "Entire home/apt",
           4,
           314
          ],
          [
           "Rental unit in Genève · 1 bedroom · 1 bed · 1 shared bath",
           "Private room",
           2,
           40
          ],
          [
           "Condo in Genève · ★4.50 · 2 bedrooms · 2 beds · 2 baths",
           "Entire home/apt",
           4,
           384
          ],
          [
           "Condo in Genève · ★4.77 · 1 bedroom · 1 bed · 1.5 baths",
           "Entire home/apt",
           2,
           265
          ],
          [
           "Condo in Genève · ★4.33 · 1 bedroom · 1 shared bath",
           "Private room",
           1,
           8577
          ],
          [
           "Rental unit in Genève · ★3.92 · 1 bedroom · 1 bed · 1 bath",
           "Entire home/apt",
           2,
           170
          ],
          [
           "Rental unit in Genève · ★4.57 · 1 bedroom · 1 bed · 1 bath",
           "Entire home/apt",
           2,
           100
          ],
          [
           "Rental unit in Genève · 1 bedroom · 1 bath",
           "Entire home/apt",
           2,
           350
          ],
          [
           "Rental unit in Genève · ★5.0 · Studio · 1 bed · 1 bath",
           "Entire home/apt",
           2,
           100
          ],
          [
           "casa particular in Le Grand-Saconnex · ★4.64 · 1 bedroom · 1 bed · 1 shared bath",
           "Private room",
           1,
           65
          ],
          [
           "Rental unit in Genève · ★4.43 · 1 bedroom · 1 bed · 1 bath",
           "Entire home/apt",
           2,
           97
          ],
          [
           "Home in Le Grand-Saconnex · 6 bedrooms · 9 beds · 2.5 baths",
           "Entire home/apt",
           15,
           500
          ],
          [
           "Rental unit in Genève · ★4.71 · 1 bedroom · 1 bed · 1.5 baths",
           "Entire home/apt",
           3,
           157
          ],
          [
           "Rental unit in Geneva · ★New · 1 bedroom · 2 beds · 1 bath",
           "Entire home/apt",
           3,
           100
          ],
          [
           "Rental unit in Genève · 1 bedroom · 2 beds · 1 bath",
           "Entire home/apt",
           2,
           150
          ],
          [
           "Loft in Genève · ★4.87 · 2 bedrooms · 4 beds · 1.5 baths",
           "Entire home/apt",
           6,
           273
          ],
          [
           "Rental unit in Genève · 1 bedroom · 1 bed · 1 bath",
           "Entire home/apt",
           3,
           160
          ],
          [
           "Rental unit in Genève · ★4.91 · 1 bedroom · 1 bed · 1.5 baths",
           "Entire home/apt",
           2,
           109
          ],
          [
           "Place to stay in Genève · ★4.88 · 1 bedroom · 1 bed · 1 bath",
           "Entire home/apt",
           1,
           119
          ],
          [
           "Rental unit in Genève · ★5.0 · 1 bedroom · 1 bed · 1.5 baths",
           "Entire home/apt",
           4,
           117
          ],
          [
           "Rental unit in Genève · ★5.0 · 1 bedroom · 1 bed · 1 shared bath",
           "Private room",
           2,
           65
          ],
          [
           "Rental unit in Genève · 2 bedrooms · 2 beds · 1 bath",
           "Entire home/apt",
           4,
           255
          ],
          [
           "Rental unit in Vésenaz · 1 bedroom · 1 bed · 1 bath",
           "Entire home/apt",
           2,
           51
          ],
          [
           "Rental unit in Versoix · 3 bedrooms · 4 beds · 1 bath",
           "Entire home/apt",
           6,
           129
          ],
          [
           "Rental unit in Genève · 2 bedrooms · 2 beds · 1 bath",
           "Entire home/apt",
           3,
           200
          ],
          [
           "Condo in Genève · ★4.92 · 1 bedroom · 2 beds · 1 bath",
           "Entire home/apt",
           3,
           125
          ],
          [
           "Rental unit in Genève · ★4.67 · 1 bedroom · 1 bed · 1 bath",
           "Entire home/apt",
           2,
           95
          ],
          [
           "Rental unit in Genève · ★4.83 · 1 bedroom · 2 beds · 1 bath",
           "Entire home/apt",
           2,
           159
          ],
          [
           "Bed and breakfast in Genève · ★4.33 · 1 bedroom · 1 bed · 1 shared bath",
           "Private room",
           1,
           80
          ],
          [
           "Rental unit in Lancy · ★3.50 · 1 bedroom · 2 beds · 1 bath",
           "Entire home/apt",
           4,
           82
          ],
          [
           "Rental unit in Genève · Studio · 1 bed · 1 bath",
           "Entire home/apt",
           2,
           70
          ],
          [
           "Rental unit in Bernex · ★5.0 · 2 bedrooms · 2 beds · 3 baths",
           "Entire home/apt",
           4,
           125
          ],
          [
           "Home in Ville-la-Grand · ★4.69 · 4 bedrooms · 6 beds · 1 bath",
           "Entire home/apt",
           8,
           125
          ],
          [
           "Rental unit in Thônex · ★4.88 · 3 bedrooms · 5 beds · 2.5 baths",
           "Entire home/apt",
           6,
           150
          ],
          [
           "Rental unit in Genève · ★2.63 · 1 bedroom · 1 bed · 1 bath",
           "Entire home/apt",
           3,
           495
          ],
          [
           "Condo in Bernex · ★4.87 · 1 bedroom · 4 beds · 1 bath",
           "Entire home/apt",
           5,
           145
          ],
          [
           "Rental unit in Genève · ★4.48 · 1 bedroom · 3 beds · 1 bath",
           "Entire home/apt",
           4,
           200
          ],
          [
           "Rental unit in Genève · ★5.0 · 2 bedrooms · 2 beds · 1 bath",
           "Entire home/apt",
           5,
           130
          ],
          [
           "Rental unit in Genève · ★4.91 · 2 bedrooms · 1 bed · 1 bath",
           "Entire home/apt",
           2,
           159
          ],
          [
           "Rental unit in Genève · ★5.0 · 1 bedroom · 1 bed · 1 bath",
           "Entire home/apt",
           4,
           150
          ],
          [
           "Condo in Vessy · ★4.62 · 1 bedroom · 1 bed · 1 bath",
           "Entire home/apt",
           2,
           75
          ],
          [
           "Rental unit in Genève · ★4.44 · 1 bedroom · 2 beds · 1 bath",
           "Entire home/apt",
           4,
           129
          ],
          [
           "Rental unit in Genève · ★4.80 · 2 bedrooms · 1 bed · 1 bath",
           "Entire home/apt",
           3,
           79
          ],
          [
           "Rental unit in Cointrin · ★4.83 · 1 bedroom · 1 bed · 1 bath",
           "Entire home/apt",
           2,
           85
          ],
          [
           "Rental unit in Genève · ★4.52 · 1 bedroom · 1 bed · 1.5 baths",
           "Entire home/apt",
           1,
           90
          ],
          [
           "Condo in Petit-Lancy · 1 bedroom · 2 beds · 1 bath",
           "Entire home/apt",
           4,
           164
          ],
          [
           "Rental unit in Genève · 1 bedroom · 1 bed · 1 bath",
           "Entire home/apt",
           1,
           100
          ],
          [
           "Condo in Chêne-Bougeries · ★4.92 · 1 bedroom · 1 bed · 1 private bath",
           "Private room",
           2,
           80
          ],
          [
           "Condo in Genève · ★4.85 · 1 bedroom · 2 beds · 1 bath",
           "Entire home/apt",
           4,
           137
          ],
          [
           "Rental unit in Genève · ★4.98 · 1 bedroom · 1 shared bath",
           "Private room",
           2,
           80
          ],
          [
           "Rental unit in Genève · ★4.70 · 1 bedroom · 1 bed · 1 bath",
           "Entire home/apt",
           1,
           88
          ],
          [
           "Rental unit in Genève · ★4.71 · 1 bedroom · 1 bed · 1 bath",
           "Entire home/apt",
           2,
           110
          ],
          [
           "Bed and breakfast in Genève · ★4.90 · 2 bedrooms · 3 beds · 3 shared baths",
           "Private room",
           2,
           95
          ],
          [
           "Rental unit in Versoix · ★4.22 · 1 bedroom · 1 bed · 1 shared bath",
           "Private room",
           2,
           70
          ],
          [
           "Condo in Genève · 1 bedroom · 1 bed · 1 shared bath",
           "Private room",
           2,
           45
          ],
          [
           "Rental unit in Le Grand-Saconnex · 1 bedroom · 1 bed · 1 bath",
           "Entire home/apt",
           4,
           351
          ],
          [
           "Hotel in Genève · ★4.81 · 2 bedrooms · 4 beds · 2 baths",
           "Private room",
           4,
           178
          ],
          [
           "Rental unit in Genève · 1 bedroom · 1.5 baths",
           "Entire home/apt",
           1,
           195
          ],
          [
           "Rental unit in Genève · ★4.89 · Studio · 1 bed · 1 bath",
           "Entire home/apt",
           2,
           88
          ],
          [
           "Rental unit in Geneva · ★4.88 · 1 bedroom · 1 bed · 1 shared bath",
           "Private room",
           1,
           75
          ],
          [
           "casa particular in Chêne-Bourg · 2 bedrooms · 2 beds · 1 shared bath",
           "Private room",
           4,
           186
          ],
          [
           "Rental unit in Genève · ★4.83 · 1 bedroom · 1 bed · 1 shared bath",
           "Shared room",
           1,
           56
          ],
          [
           "Rental unit in Genève · ★4.50 · Studio · 1 bed · 1 bath",
           "Entire home/apt",
           2,
           99
          ],
          [
           "Condo in Genève · 1 bedroom · 1 bed · 1 bath",
           "Entire home/apt",
           2,
           129
          ],
          [
           "Condo in Genève · ★4.93 · 1 bedroom · 2 beds · 2 baths",
           "Entire home/apt",
           2,
           250
          ],
          [
           "Condo in Carouge · 1 bedroom · 1 bed · 1.5 baths",
           "Entire home/apt",
           2,
           180
          ],
          [
           "Condo in Genève · 1 bedroom · 1 bed · 1 shared bath",
           "Private room",
           1,
           69
          ],
          [
           "Rental unit in Genève · 1 bedroom · 1 bed · 1 bath",
           "Entire home/apt",
           3,
           495
          ],
          [
           "Rental unit in Genève · ★4.11 · 1 bedroom · 1 bed · 1 bath",
           "Entire home/apt",
           3,
           495
          ],
          [
           "Rental unit in Genève · ★4.89 · 1 bedroom · 1 bed · 1 bath",
           "Entire home/apt",
           2,
           130
          ],
          [
           "Condo in Genève · ★4.63 · 1 bedroom · 1 bed · 1 bath",
           "Private room",
           1,
           59
          ],
          [
           "Condo in Genève · 1 bedroom · 1 bed · 1 shared bath",
           "Private room",
           1,
           59
          ],
          [
           "Rental unit in Genève · ★4.0 · 1 bedroom · 2 beds · 1 bath",
           "Entire home/apt",
           2,
           132
          ],
          [
           "Condo in Genève · Studio · 2 beds · 1.5 baths",
           "Entire home/apt",
           2,
           80
          ],
          [
           "Hotel in Cointrin · 1 bedroom · 1 bed · 1 private bath",
           "Private room",
           2,
           160
          ],
          [
           "Rental unit in Genève · 2 bedrooms · 2 beds · 1.5 baths",
           "Entire home/apt",
           4,
           180
          ],
          [
           "Rental unit in Genève · 1 bedroom · 1 bed · 1 shared bath",
           "Private room",
           2,
           95
          ],
          [
           "Condo in Genève · 3 bedrooms · 3 beds · 2.5 baths",
           "Entire home/apt",
           6,
           309
          ],
          [
           "Rental unit in Genève · Studio · 1 bed · 1 bath",
           "Entire home/apt",
           2,
           98
          ],
          [
           "Rental unit in Genève · ★4.76 · 2 bedrooms · 2 beds · 1 bath",
           "Entire home/apt",
           4,
           188
          ],
          [
           "Rental unit in Genève · ★4.84 · 1 bedroom · 1 bed · 1 bath",
           "Entire home/apt",
           4,
           129
          ],
          [
           "Rental unit in Genève · ★4.87 · 1 bedroom · 1 bed · 1 bath",
           "Entire home/apt",
           2,
           113
          ],
          [
           "Rental unit in Genève · ★4.58 · 1 bedroom · 2 beds · 1 bath",
           "Entire home/apt",
           4,
           96
          ],
          [
           "Rental unit in Genève · ★5.0 · 1 bedroom · 1 bed · 1 bath",
           "Private room",
           2,
           95
          ],
          [
           "Condo in Genève · 2 bedrooms · 1 bed · 1 bath",
           "Entire home/apt",
           4,
           280
          ],
          [
           "Rental unit in Genève · ★5.0 · 1 bedroom · 1 bed · 1 bath",
           "Entire home/apt",
           2,
           105
          ],
          [
           "Rental unit in Genève · ★4.60 · 1 bedroom · 1 bed · 1 shared bath",
           "Private room",
           2,
           70
          ],
          [
           "Rental unit in Genève · ★4.92 · 2 bedrooms · 2 beds · 2 baths",
           "Entire home/apt",
           4,
           185
          ],
          [
           "Condo in Lancy · 1 bedroom · 1 bed · 2 shared baths",
           "Private room",
           1,
           134
          ],
          [
           "Rental unit in Genève · ★4.15 · Studio · 1 bed · 1 bath",
           "Entire home/apt",
           2,
           100
          ],
          [
           "casa particular in Genève · ★4.82 · 1 bedroom · 1 bed · 1.5 baths",
           "Private room",
           2,
           75
          ],
          [
           "Rental unit in Genève · ★4.88 · 2 bedrooms · 2 beds · 1 bath",
           "Entire home/apt",
           4,
           219
          ],
          [
           "Rental unit in Carouge · ★5.0 · 1 bedroom · 1 bed · 1 bath",
           "Entire home/apt",
           2,
           150
          ],
          [
           "Rental unit in Genève · ★4.88 · 4 bedrooms · 5 beds · 3 baths",
           "Entire home/apt",
           8,
           631
          ],
          [
           "Rental unit in Genève · ★4.86 · 2 bedrooms · 3 beds · 1 bath",
           "Entire home/apt",
           5,
           169
          ],
          [
           "Rental unit in Genève · ★5.0 · 2 bedrooms · 2 beds · 1 bath",
           "Entire home/apt",
           4,
           190
          ],
          [
           "Rental unit in Genève · 2 bedrooms · 2 beds · 1 bath",
           "Entire home/apt",
           4,
           131
          ],
          [
           "Rental unit in Genève · 1 bedroom · 1.5 baths",
           "Entire home/apt",
           3,
           121
          ],
          [
           "Rental unit in Genève · 1 bedroom · 1 bed · 1 bath",
           "Entire home/apt",
           2,
           500
          ],
          [
           "Rental unit in Genève · ★4.80 · 2 bedrooms · 2 beds · 1 bath",
           "Entire home/apt",
           3,
           294
          ],
          [
           "Rental unit in Genève · ★5.0 · 2 bedrooms · 1 bed · 1.5 shared baths",
           "Private room",
           2,
           75
          ],
          [
           "Loft in Hermance · 1 bedroom · 1 bath",
           "Entire home/apt",
           2,
           150
          ],
          [
           "Rental unit in Versoix · ★5.0 · 1 bedroom · 1 bed · 1 bath",
           "Entire home/apt",
           1,
           60
          ],
          [
           "Rental unit in Vernier · ★4.22 · 1 bedroom · 1 bed · 1 bath",
           "Entire home/apt",
           3,
           111
          ],
          [
           "Rental unit in Genève · 1 bedroom · 1 bath",
           "Entire home/apt",
           2,
           125
          ],
          [
           "Villa in Onex · 4 bedrooms · 4 beds · 3.5 baths",
           "Entire home/apt",
           5,
           180
          ],
          [
           "Rental unit in Thônex · ★5.0 · 1 bedroom · 1 bed · 1 bath",
           "Entire home/apt",
           2,
           96
          ],
          [
           "Condo in Genève · 1 bedroom · 1 bed · 1 bath",
           "Entire home/apt",
           2,
           775
          ],
          [
           "Rental unit in Genève · 1 bedroom · 2 beds · 2 baths",
           "Entire home/apt",
           3,
           90
          ],
          [
           "Rental unit in Genève · ★3.50 · 2 bedrooms · 4 beds · 2 baths",
           "Private room",
           6,
           90
          ],
          [
           "Rental unit in Genève · ★4.75 · 1 bedroom · 1 bed · 1 private bath",
           "Private room",
           2,
           75
          ],
          [
           "Rental unit in Genève · ★4.84 · 2 bedrooms · 2 beds · 1 bath",
           "Entire home/apt",
           3,
           180
          ],
          [
           "Rental unit in Genève · ★4.82 · 2 bedrooms · 2 beds · 1 bath",
           "Entire home/apt",
           4,
           239
          ],
          [
           "Rental unit in Genève · ★4.62 · Studio · 1 bed · 1 bath",
           "Entire home/apt",
           2,
           135
          ],
          [
           "Bed and breakfast in Meyrin · 1 bedroom · 2 beds · 1 private bath",
           "Private room",
           2,
           135
          ],
          [
           "Bed and breakfast in Meyrin · ★5.0 · 1 bedroom · 2 beds · 2 shared baths",
           "Private room",
           2,
           125
          ],
          [
           "Bed and breakfast in Meyrin · ★5.0 · 1 bedroom · 1 bed · 2 shared baths",
           "Private room",
           2,
           140
          ],
          [
           "Bed and breakfast in Laconnex · ★New · 1 bedroom · 1 bed · 1 shared bath",
           "Private room",
           2,
           87
          ],
          [
           "Bed and breakfast in Meyrin · ★4.92 · 1 bedroom · 2 beds · 1.5 baths",
           "Private room",
           2,
           117
          ],
          [
           "Rental unit in Genève · ★New · 1 bedroom · 1 bed · 1 bath",
           "Entire home/apt",
           4,
           157
          ],
          [
           "Rental unit in Genève · ★4.58 · 1 bedroom · 1 bed · 1 bath",
           "Entire home/apt",
           2,
           107
          ],
          [
           "Condo in Genève · 1 bedroom · 1 bed · 1 bath",
           "Entire home/apt",
           2,
           140
          ],
          [
           "Rental unit in Genève · ★4.48 · 1 bedroom · 1 bed · 1 bath",
           "Entire home/apt",
           2,
           87
          ],
          [
           "Rental unit in Genève · ★4.78 · 1 bedroom · 1 bed · 1 bath",
           "Entire home/apt",
           4,
           130
          ],
          [
           "Rental unit in Genève · ★4.65 · 1 bedroom · 1 bed · 1 bath",
           "Entire home/apt",
           2,
           260
          ],
          [
           "Rental unit in Soral · 1 bedroom · 2 beds · 1 bath",
           "Entire home/apt",
           2,
           58
          ],
          [
           "Rental unit in Genève · ★5.0 · 1 bedroom · 1 bath",
           "Entire home/apt",
           4,
           105
          ],
          [
           "casa particular in Carouge · ★4.64 · 2 bedrooms · 3 beds · 1 bath",
           "Entire home/apt",
           4,
           189
          ],
          [
           "Rental unit in Genève · 1 bedroom · 1 bed · 1 bath",
           "Entire home/apt",
           1,
           200
          ],
          [
           "Condo in Genève · ★4.57 · 1 bedroom · 1 bed · 1 bath",
           "Entire home/apt",
           2,
           200
          ],
          [
           "Rental unit in Genève · ★4.67 · 2 bedrooms · 3 beds · 1 bath",
           "Entire home/apt",
           5,
           99
          ],
          [
           "Rental unit in Genève · ★4.56 · 2 bedrooms · 3 beds · 1 bath",
           "Entire home/apt",
           5,
           175
          ],
          [
           "Serviced apartment in Vernier · ★4.91 · Studio · 1 bed · 1 bath",
           "Entire home/apt",
           2,
           146
          ],
          [
           "casa particular in Genève · ★4.86 · 1 bedroom · 1 bed · 1 shared bath",
           "Private room",
           1,
           49
          ],
          [
           "Rental unit in Genève · ★4.27 · 1 bedroom · 1 bed · 1 bath",
           "Entire home/apt",
           3,
           145
          ],
          [
           "Rental unit in Vernier · ★4.94 · 1 bedroom · 1 bed · 1 shared bath",
           "Private room",
           1,
           50
          ],
          [
           "Rental unit in Genève · ★4.56 · 1 bedroom · 1 bed · 1 bath",
           "Entire home/apt",
           2,
           135
          ],
          [
           "Rental unit in Genève · ★5.0 · 2 bedrooms · 2 beds · 1 bath",
           "Entire home/apt",
           4,
           150
          ],
          [
           "Rental unit in Genève · ★5.0 · 1 bedroom · 2 beds · 1 bath",
           "Entire home/apt",
           3,
           220
          ],
          [
           "Rental unit in Genève · ★5.0 · 1 bedroom · 1 bed · 1.5 shared baths",
           "Private room",
           1,
           49
          ],
          [
           "Townhouse in Chêne-Bourg · 1 bedroom · 1 bed · 1.5 shared baths",
           "Private room",
           2,
           80
          ],
          [
           "Serviced apartment in Genève · 1 bedroom · 1 bed · 1 bath",
           "Entire home/apt",
           2,
           766
          ],
          [
           "Condo in Genève · ★4.94 · 1 bedroom · 1 bed · 1 private bath",
           "Private room",
           1,
           88
          ],
          [
           "Rental unit in Genève · 2 bedrooms · 3 beds · 1 bath",
           "Entire home/apt",
           4,
           68
          ],
          [
           "Rental unit in Genève · ★5.0 · 1 bedroom · 2 beds · 1.5 baths",
           "Entire home/apt",
           3,
           170
          ],
          [
           "Vacation home in Genève · ★4.55 · Studio · 1 bed · 1 bath",
           "Entire home/apt",
           2,
           76
          ],
          [
           "Rental unit in Genève · ★5.0 · 1 bedroom · 2 beds · 1 bath",
           "Entire home/apt",
           3,
           265
          ],
          [
           "Villa in Vernier · ★4.82 · 1 bedroom · 1 bed · 1.5 shared baths",
           "Private room",
           1,
           40
          ],
          [
           "Rental unit in Carouge · ★4.80 · 3 bedrooms · 3 beds · 1 bath",
           "Entire home/apt",
           4,
           220
          ],
          [
           "Rental unit in Genève · ★5.0 · 1 bedroom · 1 bed · 1 bath",
           "Entire home/apt",
           1,
           120
          ],
          [
           "Vacation home in Genève · ★5.0 · 1 bedroom · 2 beds · 1.5 baths",
           "Entire home/apt",
           4,
           130
          ],
          [
           "Rental unit in Genève · ★4.47 · 1 bedroom · 1 bed · 1 bath",
           "Entire home/apt",
           2,
           101
          ],
          [
           "Condo in Genève · ★5.0 · 1 bedroom · 1 bed · 1 bath",
           "Entire home/apt",
           2,
           171
          ],
          [
           "Rental unit in Plan-les-Ouates · ★5.0 · 3 bedrooms · 4 beds · 2 baths",
           "Entire home/apt",
           6,
           351
          ],
          [
           "Rental unit in Genève · ★4.43 · 1 bedroom · 1 bed · 1 bath",
           "Entire home/apt",
           3,
           140
          ],
          [
           "Rental unit in Genève · ★4.67 · 1 bedroom · 1 bed · 1.5 shared baths",
           "Private room",
           2,
           82
          ],
          [
           "Rental unit in Genève · 1 bedroom · 1 bed · 1 bath",
           "Entire home/apt",
           2,
           131
          ],
          [
           "Rental unit in Genève · 1 bedroom · 1 bed · 1.5 baths",
           "Entire home/apt",
           2,
           135
          ],
          [
           "Rental unit in Genève · ★4.17 · 1 bedroom · 2 beds · 1 bath",
           "Entire home/apt",
           3,
           120
          ],
          [
           "Bed and breakfast in Vernier · ★4.86 · 1 bedroom · 1 bed · 1.5 shared baths",
           "Private room",
           2,
           60
          ],
          [
           "Bed and breakfast in Vernier · ★4.67 · 1 bedroom · 1 bed · 1 private bath",
           "Private room",
           1,
           38
          ],
          [
           "Bed and breakfast in Genève · ★4.98 · 1 bedroom · 1 bed · 1.5 shared baths",
           "Private room",
           1,
           61
          ],
          [
           "Bed and breakfast in Vernier · ★4.87 · 1 bedroom · 1 bed · 1.5 shared baths",
           "Private room",
           1,
           40
          ],
          [
           "Rental unit in Genève · ★4.90 · 1 bedroom · 1 bed · 1 bath",
           "Entire home/apt",
           3,
           117
          ],
          [
           "Rental unit in Genève · ★4.69 · 1 bedroom · 1 bed · 1 bath",
           "Entire home/apt",
           2,
           140
          ],
          [
           "Rental unit in Genève · ★New · 1 bedroom · 1 bed · 1 bath",
           "Entire home/apt",
           2,
           111
          ],
          [
           "Rental unit in Genève · ★5.0 · 1 bedroom · 1 bed · 1 bath",
           "Entire home/apt",
           2,
           114
          ],
          [
           "Rental unit in Genève · ★4.50 · 1 bedroom · 1 bed · 1 bath",
           "Entire home/apt",
           4,
           159
          ],
          [
           "Hotel in Genève · ★4.83 · 1 bedroom · 1 bed · 1 bath",
           "Private room",
           1,
           108
          ],
          [
           "Vacation home in Genève · ★4.58 · 2 bedrooms · 2 beds · 1 bath",
           "Entire home/apt",
           4,
           137
          ],
          [
           "Condo in Genève · 2 bedrooms · 3 beds · 1 bath",
           "Entire home/apt",
           6,
           170
          ],
          [
           "Rental unit in Genève · ★4.75 · 1 bedroom · 1 bed · 1 bath",
           "Entire home/apt",
           2,
           133
          ],
          [
           "Condo in Genève · 1 bedroom · 1 bed · 1 bath",
           "Entire home/apt",
           3,
           244
          ],
          [
           "Rental unit in Genève · ★4.90 · 1 bedroom · 1 bed · 1 bath",
           "Entire home/apt",
           2,
           70
          ],
          [
           "Rental unit in Genève · ★4.75 · 1 bedroom · 1 bed · 1 shared bath",
           "Private room",
           1,
           65
          ],
          [
           "Rental unit in Genève · ★4.52 · 1 bedroom · 1 bed · 1.5 shared baths",
           "Private room",
           1,
           67
          ],
          [
           "Condo in Vernier · 1 bedroom · 3 beds · 1 bath",
           "Entire home/apt",
           4,
           84
          ],
          [
           "Rental unit in Thônex · 1 bedroom · 1 bed · 1 shared bath",
           "Private room",
           2,
           72
          ],
          [
           "Bed and breakfast in Plan-les-Ouates · 1 bedroom · 2 beds · 1 private bath",
           "Private room",
           1,
           98
          ],
          [
           "Rental unit in Versoix · 1 bedroom · 1 bed · 1.5 baths",
           "Private room",
           2,
           80
          ],
          [
           "Rental unit in Genève · ★4.85 · 1 bedroom · 2 beds · 1.5 shared baths",
           "Private room",
           1,
           75
          ],
          [
           "Rental unit in Genève · ★4.31 · 2 bedrooms · 2 beds · 1 shared bath",
           "Private room",
           5,
           120
          ],
          [
           "Rental unit in Genève · 1 bedroom · 1 bed · 1 bath",
           "Entire home/apt",
           2,
           80
          ],
          [
           "Rental unit in Carouge · 1 bedroom · 1 bed · 1 bath",
           "Entire home/apt",
           2,
           110
          ],
          [
           "Rental unit in Genève · ★5.0 · 1 bedroom · 1 bed · 1 bath",
           "Entire home/apt",
           2,
           90
          ],
          [
           "Rental unit in Genève · ★5.0 · 4 bedrooms · 1 bed · 2.5 baths",
           "Entire home/apt",
           2,
           160
          ],
          [
           "Rental unit in Genève · ★4.71 · 1 bedroom · 1 bed · 1 shared bath",
           "Private room",
           2,
           80
          ],
          [
           "Rental unit in Genève · ★4.76 · 1 bedroom · 1 bed · 1 bath",
           "Entire home/apt",
           2,
           76
          ],
          [
           "Rental unit in Genève · ★4.86 · 1 bedroom · 1 bed · 1 private bath",
           "Private room",
           2,
           60
          ],
          [
           "Guesthouse in Le Grand-Saconnex · ★4.96 · 1 bedroom · 1 bed · 1.5 baths",
           "Entire home/apt",
           2,
           180
          ],
          [
           "Condo in Genève · 1 bedroom · 1 bed · 1 bath",
           "Entire home/apt",
           2,
           276
          ],
          [
           "Condo in Genève · 1 bedroom · 1 bed · 1 bath",
           "Entire home/apt",
           2,
           298
          ],
          [
           "Villa in Troinex · 4 bedrooms · 5 beds · 2.5 baths",
           "Entire home/apt",
           8,
           350
          ],
          [
           "Rental unit in Genève · ★4.67 · 1 bedroom · 1 bed · 1 bath",
           "Entire home/apt",
           1,
           90
          ],
          [
           "Condo in Genève · ★4.20 · Studio · 2 beds · 1 bath",
           "Entire home/apt",
           3,
           91
          ],
          [
           "Condo in Genève · ★4.78 · 2 bedrooms · 2 beds · 2 baths",
           "Entire home/apt",
           4,
           191
          ],
          [
           "Rental unit in Genève · ★3.33 · 1 bedroom · 1 bed · 1 bath",
           "Entire home/apt",
           2,
           98
          ],
          [
           "Rental unit in Chêne-Bougeries · 1 bedroom · 1 bed · 1 bath",
           "Entire home/apt",
           2,
           90
          ],
          [
           "Condo in Genève · ★5.0 · 1 bedroom · 1 bed · 1 bath",
           "Entire home/apt",
           2,
           173
          ],
          [
           "Condo in Chêne-Bourg · ★4.20 · 1 bedroom · 1 bed · 1 bath",
           "Entire home/apt",
           2,
           80
          ],
          [
           "Rental unit in Genève · ★4.40 · 1 bedroom · 2 beds · 1 bath",
           "Entire home/apt",
           2,
           93
          ],
          [
           "Rental unit in Genève · 1 bedroom · 1 bed · 1 bath",
           "Entire home/apt",
           2,
           100
          ],
          [
           "Rental unit in Genève · ★5.0 · 1 bedroom · 1 bed · 1.5 shared baths",
           "Private room",
           1,
           70
          ],
          [
           "Condo in Genève · ★5.0 · 1 bedroom · 1 bed · 1 shared bath",
           "Private room",
           1,
           75
          ],
          [
           "Rental unit in Genève · 1 bedroom · 1 bed · 1 bath",
           "Entire home/apt",
           2,
           117
          ],
          [
           "Rental unit in Genève · ★4.29 · 1 bedroom · 2 beds · 1 bath",
           "Entire home/apt",
           4,
           200
          ],
          [
           "Condo in Genève · ★4.54 · 1 bedroom · 2 beds · 1 bath",
           "Entire home/apt",
           4,
           163
          ],
          [
           "Rental unit in Genève · ★4.79 · 1 bedroom · 2 beds · 1 bath",
           "Entire home/apt",
           2,
           155
          ],
          [
           "Rental unit in Genève · ★4.0 · 1 bedroom · 1 bed · 1 bath",
           "Entire home/apt",
           2,
           116
          ],
          [
           "Rental unit in Genève · ★4.67 · 1 bedroom · 1 bed · 1 bath",
           "Entire home/apt",
           2,
           120
          ],
          [
           "Condo in Genève · ★5.0 · 1 bedroom · 4 beds · 1.5 baths",
           "Entire home/apt",
           4,
           108
          ],
          [
           "Rental unit in Genève · ★4.80 · 2 bedrooms · 2 beds · 1 bath",
           "Entire home/apt",
           4,
           124
          ],
          [
           "Rental unit in Genève · ★4.82 · 2 bedrooms · 2 beds · 1.5 baths",
           "Entire home/apt",
           4,
           173
          ],
          [
           "Home in Veyrier · ★5.0 · 1 bedroom · 1 bed · 1 shared bath",
           "Private room",
           1,
           60
          ],
          [
           "Rental unit in Genève · ★4.75 · 1 bedroom · 1 bed · 1 bath",
           "Entire home/apt",
           2,
           125
          ],
          [
           "Rental unit in Genève · ★5.0 · 2 bedrooms · 2 beds · 1 bath",
           "Entire home/apt",
           4,
           170
          ],
          [
           "Rental unit in Genève · ★4.79 · 1 bedroom · 1 bed · 1 bath",
           "Entire home/apt",
           2,
           85
          ],
          [
           "Rental unit in Genève · ★4.68 · 1 bedroom · 1 bed · 1 bath",
           "Entire home/apt",
           2,
           145
          ],
          [
           "Rental unit in Genève · 1 bedroom · 1 bed · 1 bath",
           "Entire home/apt",
           2,
           123
          ],
          [
           "Rental unit in Genève · ★4.55 · 1 bedroom · 1 bed · 1 bath",
           "Entire home/apt",
           1,
           85
          ],
          [
           "Rental unit in Genève · ★4.91 · 1 bedroom · 1 bed · 1 bath",
           "Entire home/apt",
           2,
           155
          ],
          [
           "Rental unit in Genève · 2 bedrooms · 2 beds · 1 bath",
           "Entire home/apt",
           3,
           190
          ],
          [
           "Rental unit in Genève · ★5.0 · 1 bedroom · 1 bed · 1 bath",
           "Entire home/apt",
           2,
           103
          ],
          [
           "Rental unit in Genève · ★4.79 · 1 bedroom · 2 beds · 1 bath",
           "Entire home/apt",
           3,
           150
          ],
          [
           "Loft in Genève · ★4.88 · 1 bedroom · 1 bed · 1 bath",
           "Entire home/apt",
           2,
           86
          ],
          [
           "Rental unit in Genève · ★5.0 · 1 bedroom · 2 beds · 1 bath",
           "Entire home/apt",
           2,
           100
          ],
          [
           "Rental unit in Genève · ★5.0 · 1 bedroom · 1 bed · 1.5 shared baths",
           "Shared room",
           1,
           60
          ],
          [
           "Condo in Genève · ★3.71 · 1 bedroom · 1 bed · 1 shared bath",
           "Private room",
           1,
           59
          ],
          [
           "casa particular in Onex · ★5.0 · 1 bedroom · 1 bed · 1 shared bath",
           "Private room",
           1,
           40
          ],
          [
           "Condo in Genève · 1 bedroom · 1 bed · 1 bath",
           "Entire home/apt",
           2,
           102
          ],
          [
           "Rental unit in Genève · ★3.33 · 1 bedroom · 2 beds · 1 bath",
           "Entire home/apt",
           4,
           149
          ],
          [
           "Rental unit in Genève · 1 bedroom · 1 bed · 1.5 shared baths",
           "Private room",
           2,
           55
          ],
          [
           "Rental unit in Genève · 1 bedroom · 2 beds · 1 bath",
           "Entire home/apt",
           4,
           245
          ],
          [
           "Rental unit in Genève · ★4.33 · 2 bedrooms · 2 beds · 2 baths",
           "Entire home/apt",
           4,
           646
          ],
          [
           "Rental unit in Genève · ★4.85 · Studio · 1 bed · 1 bath",
           "Entire home/apt",
           2,
           154
          ],
          [
           "Rental unit in Meinier · 2 bedrooms · 3 beds · 1 bath",
           "Entire home/apt",
           4,
           130
          ],
          [
           "Rental unit in Genève · ★4.64 · 1 bedroom · 1 bed · 1 shared bath",
           "Private room",
           1,
           67
          ],
          [
           "Rental unit in Genève · ★4.75 · 1 bedroom · 1 bed · 1 shared bath",
           "Private room",
           1,
           67
          ],
          [
           "Home in Vernier · ★4.25 · 1 bedroom · 1 bed · 1 bath",
           "Private room",
           2,
           72
          ],
          [
           "Rental unit in Genève · ★3.11 · 1 bedroom · 2 beds · 1.5 shared baths",
           "Private room",
           3,
           79
          ],
          [
           "Rental unit in Genève · ★4.0 · 2 bedrooms · 3 beds · 2 baths",
           "Entire home/apt",
           6,
           620
          ],
          [
           "Rental unit in Genève · ★4.86 · 1 bedroom · 1 bed · 1 shared bath",
           "Private room",
           2,
           110
          ],
          [
           "Rental unit in Genève · ★4.56 · 3 bedrooms · 3 beds · 1 bath",
           "Entire home/apt",
           4,
           150
          ],
          [
           "Condo in Genève · ★5.0 · 1 bedroom · 2 beds · 1 private bath",
           "Private room",
           2,
           70
          ],
          [
           "Rental unit in Genève · ★4.55 · 1 bedroom · 1 bed · 1 bath",
           "Entire home/apt",
           2,
           130
          ],
          [
           "Condo in Genève · ★4.75 · 4 bedrooms · 5 beds · 3 baths",
           "Entire home/apt",
           5,
           275
          ],
          [
           "Rental unit in Genève · ★4.55 · 1 bedroom · 1 bed · 1 bath",
           "Entire home/apt",
           1,
           85
          ],
          [
           "Rental unit in Versoix · Studio · 1 bed · 1 bath",
           "Entire home/apt",
           2,
           65
          ],
          [
           "Rental unit in Genève · ★4.93 · 1 bedroom · 1 bed · 1 bath",
           "Entire home/apt",
           2,
           129
          ],
          [
           "Rental unit in Genève · ★5.0 · 1 bedroom · 1 bed · 1.5 baths",
           "Entire home/apt",
           2,
           135
          ],
          [
           "Rental unit in Genève · ★4.67 · 1 bedroom · 1 bed · 1 bath",
           "Entire home/apt",
           2,
           105
          ],
          [
           "Rental unit in Genève · 1 bedroom · 1 bed · 1 bath",
           "Entire home/apt",
           2,
           180
          ],
          [
           "Rental unit in Genève · ★4.80 · 1 bedroom · 1 bed · 1 shared bath",
           "Private room",
           2,
           312
          ],
          [
           "Rental unit in Genève · 1 bedroom · 1 bed · 1 bath",
           "Entire home/apt",
           2,
           290
          ],
          [
           "Rental unit in Onex · 2 bedrooms · 2 beds · 1 bath",
           "Entire home/apt",
           3,
           161
          ],
          [
           "Condo in Genève · 2 bedrooms · 2 beds · 1 bath",
           "Entire home/apt",
           4,
           245
          ],
          [
           "Rental unit in Genève · ★4.56 · 1 bedroom · 2 beds · 1.5 baths",
           "Entire home/apt",
           4,
           250
          ],
          [
           "Rental unit in Genève · ★5.0 · 1 bedroom · 1 bed · 1 bath",
           "Entire home/apt",
           1,
           140
          ],
          [
           "Home in Thônex · 1 bedroom · 2 beds · 1.5 baths",
           "Private room",
           3,
           67
          ],
          [
           "Rental unit in Genève · 2 bedrooms · 2 beds · 1 bath",
           "Entire home/apt",
           4,
           120
          ],
          [
           "Rental unit in Genève · ★4.74 · 1 bedroom · 6 beds · 1 bath",
           "Entire home/apt",
           6,
           341
          ],
          [
           "Rental unit in Genève · ★4.44 · 1 bedroom · 4 beds · 1 bath",
           "Entire home/apt",
           4,
           160
          ],
          [
           "Guesthouse in Bernex · ★5.0 · 1 bedroom · 1 bed · 1 bath",
           "Entire home/apt",
           2,
           91
          ],
          [
           "Rental unit in Carouge · ★4.96 · 1 bedroom · 1 bed · 1 bath",
           "Entire home/apt",
           2,
           120
          ],
          [
           "Rental unit in Genève · ★4.92 · 1 bedroom · 1 bed · 1 bath",
           "Entire home/apt",
           2,
           89
          ],
          [
           "Rental unit in Genf · ★4.86 · 1 bedroom · 1 bed · 1 bath",
           "Entire home/apt",
           2,
           95
          ],
          [
           "Condo in Genève · ★4.80 · 1 bedroom · 1 bed · 1 bath",
           "Entire home/apt",
           2,
           120
          ],
          [
           "Rental unit in Carouge · 1 bedroom · 1 bed · 1 bath",
           "Entire home/apt",
           2,
           100
          ],
          [
           "Rental unit in Genève · ★4.67 · Studio · 1 bed · 1 bath",
           "Entire home/apt",
           2,
           87
          ],
          [
           "Rental unit in Le Grand-Saconnex · 3 bedrooms · 4 beds · 1.5 shared baths",
           "Private room",
           8,
           414
          ],
          [
           "Rental unit in Genève · Studio · 1 bed · 1 bath",
           "Entire home/apt",
           2,
           160
          ],
          [
           "Rental unit in Genève · ★4.86 · 1 bedroom · 1 bed · 1 shared bath",
           "Private room",
           2,
           64
          ],
          [
           "Rental unit in Genève · 1 bedroom · 1 bed · 1 bath",
           "Private room",
           2,
           68
          ],
          [
           "Rental unit in Genève · ★5.0 · 1 bedroom · 1 bed · 1 bath",
           "Entire home/apt",
           2,
           340
          ],
          [
           "Rental unit in Carouge · ★4.95 · 1 bedroom · 2 beds · 1 private bath",
           "Private room",
           2,
           58
          ],
          [
           "Rental unit in Chêne-Bougeries · ★4.75 · 2 bedrooms · 2 beds · 1 bath",
           "Entire home/apt",
           4,
           161
          ],
          [
           "Rental unit in Genève · ★5.0 · 1 bedroom · 1 bed · 1 bath",
           "Entire home/apt",
           1,
           50
          ],
          [
           "Rental unit in Genève · ★4.20 · 3 bedrooms · 2 beds · 2.5 baths",
           "Entire home/apt",
           4,
           100
          ],
          [
           "Rental unit in Genève · 1 bedroom · 1 bed · 1 bath",
           "Entire home/apt",
           2,
           128
          ],
          [
           "Rental unit in Genève · ★4.59 · 1 bedroom · 1 bed · 1 bath",
           "Entire home/apt",
           2,
           265
          ],
          [
           "Rental unit in Genève · ★4.69 · 2 bedrooms · 3 beds · 1 bath",
           "Entire home/apt",
           6,
           206
          ],
          [
           "Rental unit in Genève · ★4.95 · 1 bedroom · 1 bed · 1 bath",
           "Entire home/apt",
           2,
           150
          ],
          [
           "Rental unit in Genève · ★4.92 · 1 bedroom · 1 bed · 1.5 baths",
           "Entire home/apt",
           2,
           130
          ],
          [
           "Rental unit in Carouge · ★4.89 · 1 bedroom · 1 bed · 1 shared bath",
           "Private room",
           2,
           55
          ],
          [
           "Rental unit in Genève · ★4.63 · 1 bedroom · 1 bed · 1 bath",
           "Entire home/apt",
           2,
           111
          ],
          [
           "Condo in Genève · ★4.66 · 1 bedroom · 1 bed · 1 bath",
           "Entire home/apt",
           2,
           104
          ],
          [
           "Rental unit in Genève · ★4.68 · 1 bedroom · 1 bed · 1 shared bath",
           "Private room",
           1,
           65
          ],
          [
           "Rental unit in Carouge · ★4.72 · 1 bedroom · 1 bed · 1 shared bath",
           "Private room",
           2,
           84
          ],
          [
           "Townhouse in Cologny · 1 bedroom · 1 bed · 1 private bath",
           "Private room",
           2,
           155
          ],
          [
           "Rental unit in Genève · 1 bedroom · 1 bed · 1 bath",
           "Entire home/apt",
           2,
           112
          ],
          [
           "Rental unit in Genève · 2 bedrooms · 2 beds · 1 bath",
           "Entire home/apt",
           4,
           183
          ],
          [
           "Rental unit in Genève · ★4.88 · 1 bedroom · 1 bed · 1 shared bath",
           "Private room",
           1,
           117
          ],
          [
           "Condo in Genève · 1 bedroom · 1 bed · 1 bath",
           "Entire home/apt",
           4,
           295
          ],
          [
           "Rental unit in Genève · ★4.59 · Studio · 1 bed · 1 bath",
           "Entire home/apt",
           2,
           99
          ],
          [
           "Rental unit in Carouge · 1 bedroom · 1 bed · 1 bath",
           "Entire home/apt",
           2,
           112
          ],
          [
           "Rental unit in Chêne-Bougeries · 3 bedrooms · 3 beds · 2 baths",
           "Entire home/apt",
           5,
           200
          ],
          [
           "Rental unit in Chêne-Bougeries · 1 bedroom · 1 bed · 1 shared bath",
           "Private room",
           1,
           75
          ],
          [
           "Rental unit in Genève · ★New · 1 bedroom · 1 bed · 1 bath",
           "Entire home/apt",
           2,
           150
          ],
          [
           "Rental unit in Vernier · 2 bedrooms · 2 beds · 2 baths",
           "Entire home/apt",
           4,
           260
          ],
          [
           "Rental unit in Genève · ★4.76 · 1 bedroom · 1 bed · 1 bath",
           "Entire home/apt",
           2,
           75
          ],
          [
           "Rental unit in Genève · 1 bedroom · 1 bed · 1 bath",
           "Entire home/apt",
           2,
           120
          ],
          [
           "Rental unit in Genève · ★5.0 · 1 bedroom · 1 bed · 1 bath",
           "Entire home/apt",
           2,
           200
          ],
          [
           "casa particular in Genève · 1 bedroom · 1 bed · 1 shared bath",
           "Private room",
           1,
           85
          ],
          [
           "Rental unit in Genève · ★5.0 · 1 bedroom · 1 bed · 1 bath",
           "Entire home/apt",
           2,
           100
          ],
          [
           "Rental unit in Genève · 1 bedroom · 1 bed · 1 bath",
           "Entire home/apt",
           2,
           2000
          ],
          [
           "Rental unit in Genève · ★4.69 · 2 bedrooms · 3 beds · 1 bath",
           "Entire home/apt",
           6,
           200
          ],
          [
           "Rental unit in Vernier · ★5.0 · 1 bedroom · 1 bed · 1 bath",
           "Entire home/apt",
           2,
           155
          ],
          [
           "Rental unit in Genève · ★4.91 · 1 bedroom · 1 bed · 1 bath",
           "Entire home/apt",
           3,
           104
          ],
          [
           "Rental unit in Genève · ★4.85 · 1 bedroom · 1 bed · 1.5 baths",
           "Entire home/apt",
           2,
           130
          ],
          [
           "Rental unit in Genève · 4 bedrooms · 4 beds · 4 baths",
           "Entire home/apt",
           8,
           1585
          ],
          [
           "Rental unit in Lancy · 1 bedroom · 2 beds · 1.5 baths",
           "Entire home/apt",
           2,
           90
          ],
          [
           "Condo in Genève · ★4.43 · 1 bedroom · 1 bed · 1 bath",
           "Entire home/apt",
           2,
           85
          ],
          [
           "Rental unit in Genève · ★4.88 · 1 bedroom · 2 beds · 1 bath",
           "Entire home/apt",
           3,
           102
          ],
          [
           "Rental unit in Genève · ★4.35 · 1 bedroom · 2 beds · 1 bath",
           "Entire home/apt",
           4,
           125
          ],
          [
           "Condo in Bernex · ★5.0 · 2 bedrooms · 2 beds · 2 baths",
           "Entire home/apt",
           4,
           230
          ],
          [
           "Townhouse in Onex · 3 bedrooms · 3 beds · 2.5 baths",
           "Entire home/apt",
           5,
           330
          ],
          [
           "Rental unit in Genève · 1 bedroom · 1 bed · 1.5 baths",
           "Entire home/apt",
           4,
           435
          ],
          [
           "Home in Hermance · ★4.75 · 1 bedroom · 1 bed · 1 bath",
           "Entire home/apt",
           2,
           220
          ],
          [
           "Vacation home in Genève · ★4.33 · 1 bedroom · 2 beds · 1 bath",
           "Entire home/apt",
           2,
           117
          ],
          [
           "Rental unit in Genève · ★5.0 · 2 bedrooms · 2 beds · 2 baths",
           "Entire home/apt",
           3,
           215
          ],
          [
           "Rental unit in Genève · Studio · 1 bed · 1.5 baths",
           "Entire home/apt",
           3,
           70
          ],
          [
           "Rental unit in Genève · 1 bedroom · 2 beds · 1 bath",
           "Entire home/apt",
           4,
           100
          ],
          [
           "Rental unit in Genève · ★4.88 · 1 bedroom · 1 bed · 1 shared bath",
           "Private room",
           2,
           85
          ],
          [
           "Condo in Genève · ★4.76 · 1 bedroom · 1 bed · 1 bath",
           "Entire home/apt",
           1,
           95
          ],
          [
           "Rental unit in Genève · ★4.33 · 1 bedroom · 1 bed · 1 bath",
           "Entire home/apt",
           3,
           138
          ],
          [
           "Condo in Genève · 1 bedroom · 2 beds · 1 bath",
           "Entire home/apt",
           3,
           180
          ],
          [
           "casa particular in Lancy · ★5.0 · 1 bedroom · 1 bed · 1.5 shared baths",
           "Private room",
           2,
           65
          ],
          [
           "Rental unit in Corsier · ★5.0 · 1 bedroom · 1 bed · 1 bath",
           "Entire home/apt",
           2,
           106
          ],
          [
           "Rental unit in Genève · 1 bedroom · 1 bed · 1 bath",
           "Entire home/apt",
           2,
           85
          ],
          [
           "Rental unit in Genève · 2 bedrooms · 1 bed · 1.5 baths",
           "Entire home/apt",
           4,
           120
          ],
          [
           "Rental unit in Genève · ★4.60 · 1 bedroom · 1 bed · 1 bath",
           "Entire home/apt",
           3,
           150
          ],
          [
           "Rental unit in Genève · ★4.79 · 1 bedroom · 1 bed · 1 bath",
           "Entire home/apt",
           2,
           120
          ],
          [
           "Condo in Genève · ★5.0 · 1 bedroom · 1 bed · 1 bath",
           "Entire home/apt",
           2,
           150
          ],
          [
           "Home in Satigny · 1 bedroom · 1 bed · 1 private bath",
           "Private room",
           2,
           100
          ],
          [
           "Rental unit in Genève · ★5.0 · 1 bedroom · 1 bed · 2.5 baths",
           "Entire home/apt",
           2,
           100
          ],
          [
           "Rental unit in Genève · 4 bedrooms · 3 beds · 2 baths",
           "Entire home/apt",
           5,
           330
          ],
          [
           "Condo in Genève · ★4.84 · 1 bedroom · 1 bed · 1 bath",
           "Entire home/apt",
           1,
           100
          ],
          [
           "Rental unit in Genève · ★4.79 · Studio · 1 bed · 1 bath",
           "Entire home/apt",
           2,
           75
          ],
          [
           "Rental unit in Genève · ★4.66 · Studio · 1 bed · 1 bath",
           "Entire home/apt",
           2,
           110
          ],
          [
           "Rental unit in Genthod · ★5.0 · 1 bedroom · 1 bed · 1 bath",
           "Entire home/apt",
           2,
           75
          ],
          [
           "Rental unit in Genève · 1 bedroom · 1 bed · 1 shared bath",
           "Private room",
           1,
           81
          ],
          [
           "Rental unit in Genève · 1 bedroom · 1 bed · 1 bath",
           "Entire home/apt",
           3,
           180
          ],
          [
           "Home in Veyrier · ★4.94 · 1 bedroom · 1 bed · 1 shared bath",
           "Private room",
           1,
           60
          ],
          [
           "Rental unit in Genève · ★4.80 · 1 bedroom · 2 beds · 1 bath",
           "Entire home/apt",
           2,
           130
          ],
          [
           "Rental unit in Geneva · 1 bedroom · 2 beds · 1 bath",
           "Entire home/apt",
           4,
           190
          ],
          [
           "Condo in Genève · ★4.82 · 1 bedroom · 1 bed · 1 bath",
           "Entire home/apt",
           2,
           115
          ],
          [
           "Home in Avully · ★5.0 · 4 bedrooms · 4 beds · 2.5 baths",
           "Entire home/apt",
           7,
           286
          ],
          [
           "Rental unit in Genève · ★5.0 · 1 bedroom · 2 beds · 1.5 baths",
           "Entire home/apt",
           2,
           120
          ],
          [
           "Villa in Thônex · 1 bedroom · 2 beds · 1 private bath",
           "Private room",
           2,
           79
          ],
          [
           "Condo in Hermance · 1 bedroom · 2 beds · 1 bath",
           "Entire home/apt",
           4,
           450
          ],
          [
           "Condo in Genève · ★4.75 · 1 bedroom · 1 bed · 1 bath",
           "Entire home/apt",
           3,
           101
          ],
          [
           "Home in Chêne-Bourg · 2 bedrooms · 2 beds · 2 baths",
           "Entire home/apt",
           4,
           140
          ],
          [
           "Rental unit in Vernier · ★5.0 · 1 bedroom · 1 bed · 1 shared bath",
           "Private room",
           1,
           53
          ],
          [
           "Rental unit in Genève · ★4.85 · 1 bedroom · 1 bed · 1 shared bath",
           "Private room",
           1,
           56
          ],
          [
           "Villa in Plan-les-Ouates · ★4.33 · 3 bedrooms · 3 beds · 2 baths",
           "Entire home/apt",
           4,
           250
          ],
          [
           "Rental unit in Versoix · 1 bedroom · 1 bed · 1 bath",
           "Entire home/apt",
           4,
           150
          ],
          [
           "Condo in Genève · ★4.44 · 2 bedrooms · 2 beds · 1 bath",
           "Entire home/apt",
           4,
           200
          ],
          [
           "Rental unit in Versoix · ★4.80 · 1 bedroom · 1 bed · 1 shared bath",
           "Private room",
           2,
           351
          ],
          [
           "Rental unit in Genève · ★4.83 · 2 bedrooms · 3 beds · 1.5 baths",
           "Entire home/apt",
           4,
           165
          ],
          [
           "Rental unit in Genève · ★5.0 · 2 bedrooms · 3 beds · 1 bath",
           "Entire home/apt",
           4,
           287
          ],
          [
           "Rental unit in Versoix · ★5.0 · 1 bedroom · 1 bed · 1 shared bath",
           "Private room",
           2,
           351
          ],
          [
           "Rental unit in Genève · 2 bedrooms · 1 bed · 1 bath",
           "Entire home/apt",
           4,
           175
          ],
          [
           "Rental unit in Genève · ★5.0 · 2 bedrooms · 2 beds · 1.5 baths",
           "Entire home/apt",
           4,
           365
          ],
          [
           "Condo in Troinex · 2 bedrooms · 2 beds · 2 baths",
           "Entire home/apt",
           4,
           450
          ],
          [
           "Rental unit in Genève · ★5.0 · 3 bedrooms · 3 beds · 1.5 baths",
           "Entire home/apt",
           4,
           380
          ],
          [
           "Rental unit in Genève · ★5.0 · 1 bedroom · 1 bed · 1 shared bath",
           "Private room",
           1,
           80
          ],
          [
           "Condo in Genève · ★4.71 · 1 bedroom · 2 beds · 1 shared bath",
           "Private room",
           2,
           80
          ],
          [
           "Rental unit in Genève · 1 bedroom · 1 bed · 1 bath",
           "Entire home/apt",
           2,
           118
          ],
          [
           "Rental unit in Genève · 2 bedrooms · 3 beds · 1 bath",
           "Entire home/apt",
           4,
           172
          ],
          [
           "Rental unit in Genève · 1 bedroom · 1 bed · 1 bath",
           "Entire home/apt",
           2,
           128
          ],
          [
           "Condo in Genève · ★4.73 · 1 bedroom · 2 beds · 1 bath",
           "Entire home/apt",
           2,
           105
          ],
          [
           "Rental unit in Genève · 1 bedroom · 1 bed · 1 bath",
           "Entire home/apt",
           2,
           74
          ],
          [
           "Rental unit in Genève · 1 bedroom · 1 bed · 1 bath",
           "Entire home/apt",
           2,
           130
          ],
          [
           "Rental unit in Genève · 1 bedroom · 1 bed · 1 bath",
           "Entire home/apt",
           2,
           130
          ],
          [
           "Condo in Genève · ★4.67 · 2 bedrooms · 2 beds · 1.5 baths",
           "Entire home/apt",
           3,
           162
          ],
          [
           "Serviced apartment in Genève · ★4.75 · 1 bedroom · 2 beds · 1 bath",
           "Entire home/apt",
           1,
           100
          ],
          [
           "Rental unit in Genève · 1 bedroom · 1 bed · 1 bath",
           "Entire home/apt",
           2,
           200
          ],
          [
           "Rental unit in Genève · ★4.38 · 1 bedroom · 1 bed · 1 bath",
           "Entire home/apt",
           2,
           100
          ],
          [
           "Condo in Genève · ★4.50 · 1 bedroom · 1 bed · 1.5 baths",
           "Entire home/apt",
           2,
           125
          ],
          [
           "Rental unit in Genève · 1 bedroom · 1 bed · 1 bath",
           "Entire home/apt",
           2,
           96
          ],
          [
           "Rental unit in Genève · ★4.22 · 1 bedroom · 1 bed · 1 bath",
           "Private room",
           2,
           85
          ],
          [
           "Rental unit in Genève · ★4.33 · Studio · 1 bed · 1 bath",
           "Entire home/apt",
           2,
           80
          ],
          [
           "Rental unit in Versoix · ★4.50 · 1 bedroom · 1 bath",
           "Entire home/apt",
           3,
           135
          ],
          [
           "Rental unit in Veyrier · ★4.49 · 2 bedrooms · 3 beds · 1 bath",
           "Entire home/apt",
           8,
           149
          ],
          [
           "Rental unit in Genève · 1 bedroom · 1 bed · 1 bath",
           "Entire home/apt",
           2,
           102
          ],
          [
           "Rental unit in Genève · ★5.0 · 1 bedroom · 2 beds · 1 bath",
           "Entire home/apt",
           2,
           97
          ],
          [
           "Bed and breakfast in Le Grand-Saconnex · ★4.70 · 1 bedroom · 1 bed · 1 shared bath",
           "Private room",
           2,
           85
          ],
          [
           "Loft in Versoix · 1 bedroom · 1 bed · 1 shared bath",
           "Private room",
           1,
           54
          ],
          [
           "Rental unit in Genève · ★4.93 · 1 bedroom · 1 bed · 1 bath",
           "Entire home/apt",
           2,
           175
          ],
          [
           "Bed and breakfast in Le Grand-Saconnex · ★4.76 · 1 bedroom · 1 bed · 1 shared bath",
           "Private room",
           2,
           65
          ],
          [
           "Rental unit in Genève · 2 bedrooms · 2 beds · 1 bath",
           "Entire home/apt",
           4,
           109
          ],
          [
           "Rental unit in Genève · ★3.96 · Studio · 1 bed · 1 bath",
           "Entire home/apt",
           2,
           120
          ],
          [
           "Rental unit in Petit-Lancy · 1 bedroom · 1 bed · 1 bath",
           "Entire home/apt",
           4,
           101
          ],
          [
           "Rental unit in Genève · 1 bedroom · 1 bed · 1.5 baths",
           "Entire home/apt",
           2,
           70
          ],
          [
           "Rental unit in Genève · ★4.55 · 1 bedroom · 2 beds · 1 private bath",
           "Private room",
           2,
           80
          ],
          [
           "Rental unit in Genève · ★4.65 · Studio · 1 bed · 1 bath",
           "Entire home/apt",
           4,
           101
          ],
          [
           "Bed and breakfast in Genève · ★4.86 · 1 bedroom · 2 beds · 1 shared bath",
           "Private room",
           3,
           55
          ],
          [
           "Home in Collex-Bossy · 1 bedroom · 1 bed · 1 private bath",
           "Private room",
           1,
           65
          ],
          [
           "Rental unit in Genève · ★4.40 · 1 bedroom · 1 bed · 1 bath",
           "Entire home/apt",
           2,
           105
          ],
          [
           "Rental unit in Le Grand-Saconnex · ★5.0 · 1 bedroom · 1 bed · 1 shared bath",
           "Private room",
           1,
           113
          ],
          [
           "Rental unit in Carouge · ★5.0 · 1 bedroom · 1 bed · 1 bath",
           "Entire home/apt",
           3,
           120
          ],
          [
           "Condo in Genève · ★4.86 · 1 bedroom · 1 bed · 1.5 baths",
           "Entire home/apt",
           3,
           302
          ],
          [
           "Rental unit in Genève · ★4.82 · 1 bedroom · 2 beds · 1 bath",
           "Entire home/apt",
           2,
           103
          ],
          [
           "Rental unit in Genève · 1 bedroom · 1 bed · 1 bath",
           "Entire home/apt",
           2,
           80
          ],
          [
           "Rental unit in Genève · ★4.80 · 1 bedroom · 1 bed · 1 bath",
           "Entire home/apt",
           4,
           199
          ],
          [
           "Condo in Genève · ★4.80 · 1 bedroom · 2 beds · 1 bath",
           "Entire home/apt",
           2,
           121
          ],
          [
           "Rental unit in Genève · ★4.89 · 2 bedrooms · 1 bed · 1 bath",
           "Entire home/apt",
           4,
           163
          ],
          [
           "Rental unit in Genève · ★5.0 · 1 bedroom · 1 bed · 1 shared bath",
           "Private room",
           1,
           60
          ],
          [
           "Condo in Genève · ★4.89 · 1 bedroom · 1 bed · 1 bath",
           "Entire home/apt",
           2,
           210
          ],
          [
           "Rental unit in Genève · ★4.0 · 1 bedroom · 1 bed · 1 bath",
           "Entire home/apt",
           2,
           92
          ],
          [
           "Rental unit in Chêne-Bougeries · 2 bedrooms · 1 bed · 2 baths",
           "Entire home/apt",
           4,
           110
          ],
          [
           "Condo in Genève · ★4.33 · 1 bedroom · 1 bed · 1 bath",
           "Entire home/apt",
           2,
           93
          ],
          [
           "Condo in Genève · 1 bedroom · 1 bed · 1 bath",
           "Entire home/apt",
           2,
           150
          ],
          [
           "Rental unit in Genève · ★4.75 · 1 bedroom · 1 bed · 1 bath",
           "Entire home/apt",
           2,
           110
          ],
          [
           "Home in Collex-Bossy · 1 bedroom · 1 bed · 1 bath",
           "Private room",
           1,
           73
          ],
          [
           "Rental unit in Genève · ★4.91 · 1 bedroom · 1 bed · 1.5 baths",
           "Entire home/apt",
           2,
           152
          ],
          [
           "Rental unit in Collonge-Bellerive · 1 bedroom · 1 bed · 1.5 shared baths",
           "Private room",
           1,
           200
          ],
          [
           "Condo in Genève · ★5.0 · 2 bedrooms · 3 beds · 1.5 baths",
           "Entire home/apt",
           3,
           150
          ],
          [
           "Home in Genève · ★4.92 · 1 bedroom · 2 beds · 1 private bath",
           "Private room",
           2,
           68
          ],
          [
           "Rental unit in Carouge · 3 bedrooms · 3 beds · 2 baths",
           "Entire home/apt",
           6,
           300
          ],
          [
           "Rental unit in Genève · ★5.0 · 1 bedroom · 1 bed · 1 bath",
           "Entire home/apt",
           2,
           110
          ],
          [
           "Rental unit in Genève · ★3.80 · 1 bedroom · 1 bed · 1 bath",
           "Entire home/apt",
           2,
           120
          ],
          [
           "Condo in Genève · ★3.75 · 2 bedrooms · 1 bed · 1 bath",
           "Entire home/apt",
           4,
           230
          ],
          [
           "Rental unit in Genève · ★4.83 · 1 bedroom · 2 beds · 1.5 baths",
           "Private room",
           2,
           99
          ],
          [
           "Bed and breakfast in Genève · ★4.33 · 1 bedroom · 1 bed · 1 shared bath",
           "Private room",
           2,
           119
          ],
          [
           "Rental unit in Jussy · ★4.93 · 1 bedroom · 1 bed · 1 bath",
           "Entire home/apt",
           2,
           65
          ],
          [
           "Rental unit in Genève · ★5.0 · Studio · 1 bed · 1.5 baths",
           "Private room",
           2,
           80
          ],
          [
           "Rental unit in Genève · Studio · 1 bed · 1 bath",
           "Entire home/apt",
           2,
           169
          ],
          [
           "Rental unit in Genève · ★4.88 · 1 bedroom · 1 bed · 1.5 shared baths",
           "Private room",
           1,
           68
          ],
          [
           "Condo in Plan-les-Ouates · ★4.50 · 3 bedrooms · 4 beds · 2 baths",
           "Entire home/apt",
           5,
           140
          ],
          [
           "Rental unit in Genève · 1 bedroom · 1 bed · 1 private bath",
           "Private room",
           1,
           115
          ],
          [
           "Condo in Genève · ★5.0 · 3 bedrooms · 3 beds · 2.5 baths",
           "Entire home/apt",
           5,
           495
          ],
          [
           "Rental unit in Genève · ★5.0 · 1 bedroom · 2 beds · 1 bath",
           "Entire home/apt",
           4,
           159
          ],
          [
           "Condo in Plan-les-Ouates · 1 bedroom · 1 bed · 1 shared bath",
           "Private room",
           1,
           45
          ],
          [
           "Rental unit in Genève · ★4.44 · 1 bedroom · 1 bed · 1 bath",
           "Entire home/apt",
           2,
           75
          ],
          [
           "Rental unit in Genève · ★4.89 · 1 bedroom · 1 bed · 1 shared bath",
           "Private room",
           2,
           80
          ],
          [
           "Rental unit in Genève · 1 bedroom · 1 bed · 1 bath",
           "Entire home/apt",
           2,
           120
          ],
          [
           "Rental unit in Genève · ★5.0 · 1 bedroom · 1 bed · 1 shared bath",
           "Private room",
           2,
           48
          ],
          [
           "Bed and breakfast in Cologny · 1 bedroom · 1 bed · 1 private bath",
           "Private room",
           2,
           195
          ],
          [
           "Rental unit in Genève · ★4.60 · 1 bedroom · 1 bed · 1 shared bath",
           "Private room",
           2,
           99
          ],
          [
           "Bed and breakfast in Cologny · 1 bedroom · 1 bed · 1 private bath",
           "Private room",
           2,
           204
          ],
          [
           "Home in Plan-les-Ouates · ★4.84 · 2 bedrooms · 3 beds · 1 bath",
           "Entire home/apt",
           4,
           135
          ],
          [
           "Rental unit in Genève · 2 bedrooms · 2 beds · 1.5 baths",
           "Entire home/apt",
           4,
           200
          ],
          [
           "Rental unit in Lancy · 1 bedroom · 1 bed · 1 shared bath",
           "Private room",
           1,
           55
          ],
          [
           "Villa in Cologny · 5 bedrooms · 5 beds · 5 baths",
           "Entire home/apt",
           10,
           8000
          ],
          [
           "Rental unit in Genève · 1 bedroom · 1 bed · 1 bath",
           "Entire home/apt",
           2,
           150
          ],
          [
           "Rental unit in Genève · ★4.62 · 1 bedroom · 2 beds · 1 bath",
           "Entire home/apt",
           4,
           198
          ],
          [
           "Rental unit in Genève · 3 bedrooms · 5 beds · 2.5 baths",
           "Entire home/apt",
           6,
           340
          ],
          [
           "Rental unit in Genève · ★4.44 · 1 bedroom · 1 bed · 1 bath",
           "Entire home/apt",
           2,
           80
          ],
          [
           "Rental unit in Genève · ★4.59 · 1 bedroom · 1 bed · 1 bath",
           "Entire home/apt",
           2,
           95
          ],
          [
           "Rental unit in Genève · ★5.0 · 2 bedrooms · 2 beds · 1 bath",
           "Entire home/apt",
           4,
           409
          ],
          [
           "Condo in Genève · ★4.50 · 1 bedroom · 1 bed · 1 bath",
           "Entire home/apt",
           2,
           125
          ],
          [
           "Rental unit in Genève · ★4.86 · 1 bedroom · 1 bed · 1 bath",
           "Entire home/apt",
           2,
           115
          ],
          [
           "Bed and breakfast in Genève · ★4.87 · 1 bedroom · 1 bed · 1 shared bath",
           "Private room",
           1,
           60
          ],
          [
           "Rental unit in Genève · ★4.73 · 1 bedroom · 1 bed · 1 bath",
           "Entire home/apt",
           2,
           96
          ],
          [
           "Rental unit in Genève · 1 bedroom · 1 bed · 1 shared bath",
           "Private room",
           1,
           75
          ],
          [
           "Rental unit in Genève · ★4.67 · 1 bedroom · 1 bed · 1 shared bath",
           "Private room",
           2,
           50
          ],
          [
           "Rental unit in Genève · ★4.90 · 2 bedrooms · 2 beds · 1 bath",
           "Entire home/apt",
           2,
           129
          ],
          [
           "Rental unit in Genève · 1 bedroom · 2 beds · 1 bath",
           "Entire home/apt",
           4,
           110
          ],
          [
           "Rental unit in Genève · ★5.0 · 1 bedroom · 1 bed · 1.5 shared baths",
           "Private room",
           1,
           60
          ],
          [
           "Rental unit in Genève · ★4.83 · 2 bedrooms · 2 beds · 2 baths",
           "Entire home/apt",
           3,
           631
          ],
          [
           "Rental unit in Genève · 1 bedroom · 1 bed · 1.5 baths",
           "Entire home/apt",
           2,
           260
          ],
          [
           "Condo in Genève · 1 bedroom · 1 bed · 2.5 baths",
           "Entire home/apt",
           4,
           180
          ],
          [
           "casa particular in Genève · 1 bed · 1 bath",
           "Entire home/apt",
           3,
           495
          ],
          [
           "Condo in Chêne-Bougeries · 1 bedroom · 2 beds · 1 private bath",
           "Private room",
           4,
           120
          ],
          [
           "casa particular in Chêne-Bougeries · 1 bedroom · 1 bed · 1 private bath",
           "Private room",
           2,
           100
          ],
          [
           "Bed and breakfast in Genève · ★4.46 · 1 bedroom · 1 bed · 1.5 shared baths",
           "Private room",
           2,
           108
          ],
          [
           "Rental unit in Genève · ★4.59 · 2 bedrooms · 2 beds · 1 bath",
           "Entire home/apt",
           5,
           182
          ],
          [
           "Rental unit in Genève · Studio · 1 bed · 1 bath",
           "Entire home/apt",
           1,
           180
          ],
          [
           "Rental unit in Genève · 1 bedroom · 1 bed · 1 shared bath",
           "Private room",
           2,
           132
          ],
          [
           "Bed and breakfast in Genève · ★4.53 · 1 bedroom · 1 bed · 1.5 shared baths",
           "Private room",
           2,
           108
          ],
          [
           "Bed and breakfast in Genève · ★4.82 · 1 bedroom · 1 bed · 1.5 shared baths",
           "Private room",
           2,
           108
          ],
          [
           "Bed and breakfast in Genève · ★4.57 · 1 bedroom · 1 bed · 1.5 shared baths",
           "Private room",
           2,
           108
          ],
          [
           "Rental unit in Meyrin · 1 bedroom · 1 bed · 1 shared bath",
           "Private room",
           1,
           58
          ],
          [
           "Rental unit in Genève · 1 bedroom · 1 bed · 1 private bath",
           "Private room",
           1,
           100
          ],
          [
           "Home in Versoix · 1 bedroom · 1 bed · 1 shared bath",
           "Private room",
           1,
           80
          ],
          [
           "Rental unit in Gaillard · ★4.90 · 1 bedroom · 2 beds · 1 bath",
           "Entire home/apt",
           4,
           86
          ],
          [
           "Rental unit in Genève · ★3.67 · 1 bedroom · 1 bed · 1 bath",
           "Entire home/apt",
           4,
           84
          ],
          [
           "Rental unit in Genève · ★4.48 · 1 bedroom · 1 bed · 1 bath",
           "Entire home/apt",
           4,
           200
          ],
          [
           "Condo in Chêne-Bougeries · 1 bedroom · 1 bed · 2 baths",
           "Entire home/apt",
           4,
           135
          ],
          [
           "Rental unit in Genève · ★5.0 · Studio · 2 beds · 1 bath",
           "Entire home/apt",
           2,
           180
          ],
          [
           "Rental unit in Genève · ★4.57 · 1 bedroom · 1 bed · 1 bath",
           "Entire home/apt",
           2,
           150
          ],
          [
           "Rental unit in Genève · ★4.50 · 1 bedroom · 1 bed · 1 bath",
           "Entire home/apt",
           2,
           120
          ],
          [
           "Condo in Genève · ★4.33 · 3 bedrooms · 3 beds · 1.5 baths",
           "Entire home/apt",
           4,
           260
          ],
          [
           "Rental unit in Chêne-Bougeries · 1 bedroom · 1 bed · 1 private bath",
           "Private room",
           4,
           1000
          ],
          [
           "Rental unit in Genève · ★3.75 · 1 bedroom · 1 bed · 1 shared bath",
           "Private room",
           2,
           74
          ],
          [
           "Camper/RV in Chêne-Bougeries · 1 bedroom · 2 beds · 1 bath",
           "Entire home/apt",
           4,
           153
          ],
          [
           "Rental unit in Meyrin · Studio · 1 bed · 1 bath",
           "Entire home/apt",
           3,
           100
          ],
          [
           "Rental unit in Genève · 2 bedrooms · 1 bed · 2 shared baths",
           "Private room",
           2,
           153
          ],
          [
           "Rental unit in Genève · ★4.52 · 1 bedroom · 1 bed · 1 bath",
           "Entire home/apt",
           2,
           183
          ],
          [
           "Loft in Genève · 1 bedroom · 1 bed · 1 bath",
           "Entire home/apt",
           2,
           100
          ],
          [
           "Rental unit in Genève · 2 bedrooms · 1 bed · 1 bath",
           "Entire home/apt",
           4,
           180
          ],
          [
           "Place to stay in Genève · ★4.86 · 1 bedroom · 1 bed · 2 baths",
           "Entire home/apt",
           2,
           116
          ],
          [
           "Condo in Genève · ★4.85 · 1 bedroom · 2 beds · 1 bath",
           "Entire home/apt",
           4,
           141
          ],
          [
           "Rental unit in Genève · ★4.32 · 1 bedroom · 1 bed · 1 bath",
           "Entire home/apt",
           2,
           100
          ],
          [
           "Rental unit in Genève · 4 bedrooms · 4 beds · 4 baths",
           "Entire home/apt",
           8,
           5000
          ],
          [
           "Rental unit in Genève · 2 bedrooms · 2 beds · 2 baths",
           "Entire home/apt",
           4,
           500
          ],
          [
           "Rental unit in Genève · ★4.86 · 2 bedrooms · 3 beds · 1 bath",
           "Entire home/apt",
           5,
           244
          ],
          [
           "Rental unit in Genève · ★4.96 · 1 bedroom · 1 bed · 1 bath",
           "Entire home/apt",
           2,
           100
          ],
          [
           "Rental unit in Genève · 2 bedrooms · 1 bed · 1 bath",
           "Entire home/apt",
           2,
           80
          ],
          [
           "Rental unit in Genève · ★4.71 · 2 bedrooms · 2 beds · 2 baths",
           "Entire home/apt",
           3,
           200
          ],
          [
           "Boat in Bellevue · 1 bedroom · 1 bed · 1 bath",
           "Entire home/apt",
           9,
           6500
          ],
          [
           "Rental unit in Genève · ★4.86 · 2 bedrooms · 3 beds · 1 bath",
           "Entire home/apt",
           6,
           311
          ],
          [
           "Rental unit in Genève · 1 bedroom · 1 bed · 1 shared bath",
           "Private room",
           2,
           141
          ],
          [
           "Rental unit in Genève · ★4.78 · 1 bedroom · 1 bed · 1 bath",
           "Entire home/apt",
           2,
           166
          ],
          [
           "Home in Bellevue · 5 bedrooms · 7 beds · 4.5 baths",
           "Entire home/apt",
           12,
           25000
          ],
          [
           "Rental unit in Genève · 1 bedroom · 1 bed · 1 bath",
           "Entire home/apt",
           2,
           100
          ],
          [
           "Rental unit in Genève · 1 bedroom · 1 bed · 1 shared bath",
           "Private room",
           2,
           152
          ],
          [
           "Rental unit in Genève · 1 bedroom · 2 beds · 1 bath",
           "Entire home/apt",
           4,
           130
          ],
          [
           "Rental unit in Thônex · ★4.75 · 1 bedroom · 1 bed · 1 bath",
           "Private room",
           1,
           38
          ],
          [
           "Rental unit in Genève · 1 bedroom · 1 bed · 1 bath",
           "Entire home/apt",
           2,
           123
          ],
          [
           "Rental unit in Versoix · 1 bedroom · 1 bed · 1 private bath",
           "Private room",
           1,
           80
          ],
          [
           "Rental unit in Genève · 1 bedroom · 1 bed · 1 shared bath",
           "Private room",
           3,
           65
          ],
          [
           "Rental unit in Genève · 1 bedroom · 1 bed · 1 bath",
           "Entire home/apt",
           1,
           129
          ],
          [
           "Rental unit in Le Grand-Saconnex · ★5.0 · 2 bedrooms · 2 beds · 1.5 baths",
           "Entire home/apt",
           3,
           300
          ],
          [
           "Rental unit in Genève · ★5.0 · 1 bedroom · 1 bed · 1 shared bath",
           "Private room",
           1,
           66
          ],
          [
           "Rental unit in Genève · ★4.57 · 3 bedrooms · 3 beds · 1 bath",
           "Entire home/apt",
           6,
           200
          ],
          [
           "Rental unit in Genève · ★4.86 · 1 bedroom · 1 bed · 1 bath",
           "Entire home/apt",
           2,
           113
          ],
          [
           "Rental unit in Genève · ★4.59 · 1 bedroom · 2 beds · 1 bath",
           "Entire home/apt",
           4,
           141
          ],
          [
           "Rental unit in Genève · 1 bedroom · 1 bed · 1 shared bath",
           "Private room",
           2,
           110
          ],
          [
           "Rental unit in Genève · 1 bedroom · 1 bed · 1 bath",
           "Entire home/apt",
           2,
           145
          ],
          [
           "Rental unit in Genève · ★4.50 · 2 bedrooms · 2 beds · 2.5 baths",
           "Entire home/apt",
           4,
           299
          ],
          [
           "Rental unit in Genève · 1 bedroom · 1 bed · 1.5 shared baths",
           "Private room",
           2,
           88
          ],
          [
           "Rental unit in Genève · ★4.64 · 2 bedrooms · 2 beds · 2 baths",
           "Entire home/apt",
           4,
           247
          ],
          [
           "Rental unit in Genève · ★4.95 · 1 bedroom · 1 bed · 1 bath",
           "Entire home/apt",
           2,
           140
          ],
          [
           "Home in Genthod · ★4.43 · 3 bedrooms · 5 beds · 1.5 baths",
           "Entire home/apt",
           5,
           200
          ],
          [
           "Rental unit in Genève · 1 bedroom · 1 bed · 1 bath",
           "Entire home/apt",
           2,
           210
          ],
          [
           "Rental unit in Genève · 1 bedroom · 2 beds · 1 shared bath",
           "Shared room",
           1,
           25
          ],
          [
           "Rental unit in Genève · 1 bedroom · 1 bed · 1.5 shared baths",
           "Private room",
           2,
           70
          ],
          [
           "Rental unit in Lancy · ★4.88 · 1 bedroom · 1 bed · 1 bath",
           "Entire home/apt",
           2,
           118
          ],
          [
           "Bed and breakfast in Genève · ★4.87 · 1 bedroom · 1 bed · 1 shared bath",
           "Private room",
           1,
           67
          ],
          [
           "Rental unit in Genève · ★4.0 · 1 bedroom · 1 bed · 1 bath",
           "Entire home/apt",
           4,
           143
          ],
          [
           "Rental unit in Genève · 1 bedroom · 1 bed · 1 bath",
           "Entire home/apt",
           2,
           135
          ],
          [
           "Rental unit in Chêne-Bougeries · 1 bedroom · 1 bed · 1 bath",
           "Entire home/apt",
           2,
           433
          ],
          [
           "Rental unit in Genève · 2 bedrooms · 2 beds · 1 bath",
           "Entire home/apt",
           4,
           250
          ],
          [
           "Rental unit in Genève · ★5.0 · 2 bedrooms · 2 beds · 2 baths",
           "Entire home/apt",
           3,
           220
          ],
          [
           "Rental unit in Versoix · 1 bedroom · 2 beds · 2 baths",
           "Entire home/apt",
           2,
           145
          ],
          [
           "Home in Thônex · 1 bedroom · 1 bed · 1 shared bath",
           "Private room",
           1,
           75
          ],
          [
           "Rental unit in Genève · ★5.0 · 1 bedroom · 1 bed · 1 bath",
           "Entire home/apt",
           2,
           170
          ],
          [
           "Rental unit in Genève · 2 bedrooms · 3 beds · 1.5 baths",
           "Entire home/apt",
           3,
           125
          ],
          [
           "Rental unit in Genève · ★4.71 · 1 bedroom · 1 bed · 1 bath",
           "Entire home/apt",
           2,
           87
          ],
          [
           "Rental unit in Genève · 1 bedroom · 1 bed · 1 bath",
           "Entire home/apt",
           4,
           150
          ],
          [
           "Bed and breakfast in Le Grand-Saconnex · 1 bedroom · 1 bed · 1.5 shared baths",
           "Private room",
           2,
           109
          ],
          [
           "Rental unit in Genève · ★5.0 · 1 bedroom · 1 bed · 1 bath",
           "Entire home/apt",
           2,
           120
          ],
          [
           "Rental unit in Genève · ★4.0 · 1 bedroom · 1 bed · 1.5 baths",
           "Entire home/apt",
           3,
           140
          ],
          [
           "Condo in Vernier · ★4.75 · 1 bedroom · 1 bed · 1 private bath",
           "Private room",
           3,
           76
          ],
          [
           "Rental unit in Genève · 2 bedrooms · 2 beds · 1 bath",
           "Entire home/apt",
           4,
           163
          ],
          [
           "Rental unit in Ville-la-Grand · 2 bedrooms · 3 beds · 1 bath",
           "Entire home/apt",
           4,
           87
          ],
          [
           "Rental unit in Bernex · 1 bedroom · 1 bed · 1 bath",
           "Entire home/apt",
           3,
           50
          ],
          [
           "Rental unit in Genève · ★5.0 · 1 bedroom · 1 bed · 1 shared bath",
           "Private room",
           2,
           62
          ],
          [
           "Rental unit in Genève · 1 bedroom · 1 bed · 1 bath",
           "Entire home/apt",
           1,
           97
          ],
          [
           "Rental unit in Genève · 1 bedroom · 1 bed · 1 shared bath",
           "Private room",
           2,
           120
          ],
          [
           "Rental unit in Genève · ★5.0 · 1 bedroom · 1 bed · 1 bath",
           "Entire home/apt",
           2,
           209
          ],
          [
           "Condo in Genève · 5 bedrooms · 9 beds · 3.5 baths",
           "Entire home/apt",
           12,
           355
          ],
          [
           "Rental unit in Genève · ★5.0 · 2 bedrooms · 1 bed · 1 shared bath",
           "Private room",
           1,
           104
          ],
          [
           "Rental unit in Genève · 1 bedroom · 1 bed · 1 bath",
           "Entire home/apt",
           2,
           149
          ],
          [
           "Rental unit in Genève · 1 bedroom · 1 bed · 1 bath",
           "Entire home/apt",
           2,
           234
          ],
          [
           "Rental unit in Chêne-Bourg · 1 bedroom · 1 bed · 1.5 shared baths",
           "Private room",
           2,
           65
          ],
          [
           "Rental unit in Genève · ★4.95 · 1 bedroom · 2 beds · 1 bath",
           "Entire home/apt",
           4,
           139
          ],
          [
           "Home in Chêne-Bourg · ★5.0 · 5 bedrooms · 6 beds · 2 baths",
           "Entire home/apt",
           10,
           303
          ],
          [
           "Rental unit in Genève · ★4.57 · 1 bedroom · 2 beds · 1 bath",
           "Entire home/apt",
           4,
           129
          ],
          [
           "Rental unit in Genève · 2 bedrooms · 2 beds · 2.5 baths",
           "Entire home/apt",
           4,
           225
          ],
          [
           "Rental unit in Genève · ★5.0 · 1 bedroom · 2 beds · 1 bath",
           "Entire home/apt",
           4,
           125
          ],
          [
           "Rental unit in Genève · ★4.45 · Studio · 1 bed · 1 bath",
           "Entire home/apt",
           2,
           132
          ],
          [
           "Rental unit in Genève · ★4.57 · 1 bedroom · 1 bed · 1 bath",
           "Entire home/apt",
           2,
           103
          ],
          [
           "Rental unit in Petit-Lancy · 1 bedroom · 1 bed · 1 bath",
           "Entire home/apt",
           2,
           90
          ],
          [
           "Home in Le Grand-Saconnex · 1 bedroom · 1 bed · 1 shared bath",
           "Private room",
           2,
           80
          ],
          [
           "Home in Pregny-Chambésy · 5 bedrooms · 6 beds · 4.5 baths",
           "Entire home/apt",
           9,
           650
          ],
          [
           "Rental unit in Genève · ★4.83 · 1 bedroom · 1 bed · 1 shared bath",
           "Private room",
           1,
           68
          ],
          [
           "Rental unit in Genève · ★5.0 · 1 bedroom · 2 beds · 1 bath",
           "Entire home/apt",
           2,
           95
          ],
          [
           "Rental unit in Lancy · 1 bedroom · 1 bed · 2 shared baths",
           "Private room",
           2,
           82
          ],
          [
           "Home in Vernier · 5 bedrooms · 5 beds · 3 baths",
           "Entire home/apt",
           8,
           362
          ],
          [
           "Rental unit in Genève · ★4.63 · 1 bedroom · 1 bed · 1 bath",
           "Entire home/apt",
           2,
           128
          ],
          [
           "Rental unit in Chêne-Bourg · 1 bedroom · 1 bed · 1 shared bath",
           "Private room",
           2,
           100
          ],
          [
           "Rental unit in Meyrin · ★4.92 · 1 bedroom · 3 beds · 1 bath",
           "Entire home/apt",
           5,
           170
          ],
          [
           "Rental unit in Genève · ★4.67 · 2 bedrooms · 2 beds · 1 bath",
           "Entire home/apt",
           4,
           120
          ],
          [
           "Hotel in Vernier · 4 bedrooms · 1 bed · 1 private bath",
           "Private room",
           2,
           101
          ],
          [
           "Rental unit in Genève · 1 bedroom · 1 bed · 2 baths",
           "Entire home/apt",
           2,
           167
          ],
          [
           "Rental unit in Genève · 4 bedrooms · 5 beds · 3 baths",
           "Entire home/apt",
           5,
           370
          ],
          [
           "Rental unit in Genève · Studio · 1 bed · 1 bath",
           "Entire home/apt",
           1,
           120
          ],
          [
           "Rental unit in Genève · 1 bedroom · 1 bed · 1 bath",
           "Entire home/apt",
           3,
           120
          ],
          [
           "Rental unit in Genève · 2 bedrooms · 3 beds · 1 bath",
           "Entire home/apt",
           4,
           171
          ],
          [
           "Rental unit in Genève · 1 bedroom · 1 bed · 1 bath",
           "Entire home/apt",
           1,
           224
          ],
          [
           "Rental unit in Genève · ★5.0 · 1 bedroom · 2 beds · 1 bath",
           "Entire home/apt",
           2,
           193
          ],
          [
           "Rental unit in Genève · ★4.74 · 1 bedroom · 2 beds · 1 bath",
           "Entire home/apt",
           4,
           150
          ],
          [
           "Rental unit in Genève · ★4.07 · 1 bedroom · 1 bed · 1 bath",
           "Entire home/apt",
           2,
           128
          ],
          [
           "Rental unit in Bellevue · 3 bedrooms · 3 beds · 2 baths",
           "Entire home/apt",
           6,
           300
          ],
          [
           "Rental unit in Genève · ★4.86 · 1 bedroom · 1 bed · 1 bath",
           "Entire home/apt",
           2,
           89
          ],
          [
           "Rental unit in Genève · ★5.0 · 1 bedroom · 1 bed · 1.5 shared baths",
           "Private room",
           1,
           85
          ],
          [
           "Rental unit in Vandœuvres · 3 bedrooms · 2 beds · 1.5 baths",
           "Entire home/apt",
           4,
           159
          ],
          [
           "Rental unit in Genève · ★4.85 · 1 bedroom · 2 beds · 1 bath",
           "Entire home/apt",
           3,
           113
          ],
          [
           "Rental unit in Genève · ★4.58 · 1 bedroom · 1 bed · 1 bath",
           "Entire home/apt",
           2,
           110
          ],
          [
           "Rental unit in Genève · ★4.93 · 1 bedroom · 2 beds · 1 shared bath",
           "Private room",
           3,
           100
          ],
          [
           "Rental unit in Genève · ★5.0 · 1 bedroom · 1 bed · 1 bath",
           "Entire home/apt",
           2,
           125
          ],
          [
           "Bed and breakfast in Genève · ★4.47 · 1 bedroom · 1 bed · 1.5 shared baths",
           "Private room",
           2,
           74
          ],
          [
           "Rental unit in Genève · ★5.0 · 1 bedroom · 1 bed · 1 bath",
           "Entire home/apt",
           2,
           110
          ],
          [
           "Rental unit in Genève · 1 bedroom · 1 bed · 1 shared bath",
           "Private room",
           1,
           88
          ],
          [
           "Rental unit in Carouge · ★4.69 · 1 bedroom · 1 bed · 1 shared bath",
           "Private room",
           1,
           50
          ],
          [
           "Rental unit in Genève · ★4.88 · 1 bedroom · 1 bed · 1 bath",
           "Entire home/apt",
           2,
           100
          ],
          [
           "Rental unit in Genève · ★4.71 · 1 bedroom · 1 bed · 1 bath",
           "Entire home/apt",
           1,
           75
          ],
          [
           "Rental unit in Genève · ★4.62 · 2 bedrooms · 6 beds · 2 baths",
           "Entire home/apt",
           5,
           200
          ],
          [
           "Rental unit in Genève · ★5.0 · 1 bedroom · 1 bed · 1 shared bath",
           "Private room",
           2,
           74
          ],
          [
           "Bed and breakfast in Vernier · ★4.71 · 1 bedroom · 2 beds · 1 shared bath",
           "Private room",
           2,
           45
          ],
          [
           "Bed and breakfast in Versoix · ★4.58 · 2 bedrooms · 2 beds · 1 shared bath",
           "Private room",
           4,
           70
          ],
          [
           "Rental unit in Genève · 1 bedroom · 1 bed · 1 bath",
           "Entire home/apt",
           4,
           212
          ],
          [
           "Rental unit in Genève · 1 bedroom · 1 bed · 1 shared bath",
           "Shared room",
           1,
           38
          ],
          [
           "Hotel in Genève · ★5.0 · 1 bedroom · 1 bed · 1 private bath",
           "Private room",
           1,
           100
          ],
          [
           "Rental unit in Geneva · ★4.89 · 1 bedroom · 1 bed · 1 bath",
           "Entire home/apt",
           2,
           156
          ],
          [
           "Rental unit in Genève · 1 bedroom · 1 bed · 1 bath",
           "Entire home/apt",
           1,
           71
          ],
          [
           "Rental unit in Genève · ★5.0 · 1 bedroom · 1 bed · 1 bath",
           "Entire home/apt",
           1,
           100
          ],
          [
           "Townhouse in Genève · ★5.0 · 3 bedrooms · 3 beds · 1.5 baths",
           "Entire home/apt",
           5,
           250
          ],
          [
           "Hotel in Genève · ★4.57 · 1 bedroom · 2 beds · 1 private bath",
           "Private room",
           2,
           120
          ],
          [
           "Rental unit in Genève · ★4.71 · 2 bedrooms · 2 beds · 1 bath",
           "Entire home/apt",
           4,
           180
          ],
          [
           "Rental unit in Genève · ★4.91 · 1 bedroom · 1 bed · 1 bath",
           "Entire home/apt",
           2,
           187
          ],
          [
           "Rental unit in Genève · ★5.0 · 1 bedroom · 1 bed · 1 shared bath",
           "Private room",
           2,
           99
          ],
          [
           "Rental unit in Genève · ★4.67 · 1 bedroom · 1 bed · 1 bath",
           "Entire home/apt",
           2,
           83
          ],
          [
           "Home in Vernier · ★4.67 · 1 bedroom · 1 bed · 1 shared bath",
           "Private room",
           1,
           38
          ],
          [
           "Rental unit in Genève · 2 bedrooms · 2 beds · 1 bath",
           "Entire home/apt",
           4,
           155
          ],
          [
           "Home in Vernier · 1 bedroom · 1 bed · 2 shared baths",
           "Private room",
           2,
           70
          ],
          [
           "Home in Vernier · 1 bedroom · 1 bed · 2 shared baths",
           "Private room",
           2,
           78
          ],
          [
           "Rental unit in Vésenaz · 2 bedrooms · 2 beds · 1 bath",
           "Entire home/apt",
           4,
           114
          ],
          [
           "Rental unit in Genève · ★5.0 · 1 bedroom · 1 bed · 1 shared bath",
           "Private room",
           2,
           87
          ],
          [
           "Rental unit in Genève · ★4.83 · 1 bedroom · 1 bed · 1 bath",
           "Entire home/apt",
           2,
           106
          ],
          [
           "Rental unit in Genève · ★5.0 · 1 bedroom · 1 bed · 1 shared bath",
           "Private room",
           2,
           85
          ],
          [
           "Rental unit in Genève · 1 bedroom · 1 bed · 1 bath",
           "Entire home/apt",
           2,
           133
          ],
          [
           "Rental unit in Genève · 2 bedrooms · 2 beds · 1 bath",
           "Entire home/apt",
           3,
           120
          ],
          [
           "Rental unit in Le Grand-Saconnex · ★5.0 · 1 bedroom · 3 beds · 1 bath",
           "Entire home/apt",
           3,
           90
          ],
          [
           "Rental unit in Genève · ★4.67 · 1 bedroom · 1 bed · 1 bath",
           "Entire home/apt",
           2,
           202
          ],
          [
           "Rental unit in Chêne-Bougeries · 1 bedroom · 2 beds · 1 bath",
           "Entire home/apt",
           4,
           180
          ],
          [
           "Home in Chêne-Bougeries · 9 bedrooms · 4 beds · 6.5 baths",
           "Entire home/apt",
           10,
           1200
          ],
          [
           "Rental unit in Genève · ★4.86 · 2 bedrooms · 2 beds · 1 bath",
           "Entire home/apt",
           6,
           145
          ],
          [
           "Rental unit in Carouge · 1 bedroom · 1 bed · 1.5 baths",
           "Entire home/apt",
           2,
           130
          ],
          [
           "Home in Le Grand-Saconnex · ★4.73 · 1 bedroom · 1 bed · 1 shared bath",
           "Private room",
           2,
           85
          ],
          [
           "Rental unit in Le Grand-Saconnex · ★4.91 · 1 bedroom · 1 bed · 1 bath",
           "Entire home/apt",
           2,
           100
          ],
          [
           "Rental unit in Carouge · 1 bedroom · 1 bed · 1 bath",
           "Entire home/apt",
           2,
           90
          ],
          [
           "Rental unit in Genève · ★4.83 · 1 bedroom · 1 bed · 1 shared bath",
           "Private room",
           1,
           64
          ],
          [
           "Rental unit in Genève · ★4.80 · 2 bedrooms · 2 beds · 1 bath",
           "Entire home/apt",
           2,
           89
          ],
          [
           "Condo in Chêne-Bougeries · 3 bedrooms · 3 beds · 2.5 baths",
           "Entire home/apt",
           6,
           190
          ],
          [
           "Rental unit in Genève · ★4.40 · 1 bedroom · 1 bed · 1 bath",
           "Entire home/apt",
           2,
           112
          ],
          [
           "Rental unit in Genève · 1 bedroom · 1 bed · 1 bath",
           "Entire home/apt",
           2,
           120
          ],
          [
           "Bed and breakfast in Genève · ★5.0 · 1 bedroom · 1 bed · 1.5 baths",
           "Private room",
           2,
           90
          ],
          [
           "Rental unit in Genève · ★3.50 · 1 bedroom · 1 bed · 1 bath",
           "Entire home/apt",
           2,
           221
          ],
          [
           "Home in Collonge-Bellerive · 4 bedrooms · 4 beds · 4.5 baths",
           "Entire home/apt",
           5,
           300
          ],
          [
           "Rental unit in Genève · ★4.89 · 3 bedrooms · 5 beds · 1.5 baths",
           "Entire home/apt",
           5,
           257
          ],
          [
           "Rental unit in Genève · ★4.93 · 1 bedroom · 1 bed · 1 bath",
           "Entire home/apt",
           2,
           148
          ],
          [
           "Rental unit in Genève · ★4.92 · 2 bedrooms · 3 beds · 2 baths",
           "Entire home/apt",
           4,
           269
          ],
          [
           "Rental unit in Genève · ★4.86 · 1 bedroom · 2 beds · 1 private bath",
           "Private room",
           2,
           78
          ],
          [
           "Rental unit in Genève · Studio · 1 bed · 1.5 baths",
           "Entire home/apt",
           2,
           144
          ],
          [
           "Rental unit in Genève · ★5.0 · Studio · 1 bed · 1 bath",
           "Entire home/apt",
           1,
           100
          ],
          [
           "Rental unit in Genève · ★4.88 · 1 bedroom · 1 bed · 1 bath",
           "Entire home/apt",
           1,
           102
          ],
          [
           "Rental unit in Pregny-Chambésy · 1 bedroom · 1 bed · 1 bath",
           "Entire home/apt",
           2,
           150
          ],
          [
           "Rental unit in Avully · ★5.0 · 1 bedroom · 1 bed · 1 shared bath",
           "Private room",
           1,
           45
          ],
          [
           "Rental unit in Genève · ★4.85 · 1 bedroom · 2 beds · 1 bath",
           "Entire home/apt",
           5,
           163
          ],
          [
           "Rental unit in Genève · ★5.0 · 1 bedroom · 1 bed · 1 bath",
           "Entire home/apt",
           2,
           120
          ],
          [
           "Rental unit in Genève · ★5.0 · 1 bedroom · 1 bed · 1 bath",
           "Entire home/apt",
           1,
           55
          ],
          [
           "Rental unit in Genève · 1 bedroom · 1 bed · 1.5 baths",
           "Entire home/apt",
           2,
           38
          ],
          [
           "Rental unit in Vandœuvres · 2 bedrooms · 2 beds · 3 baths",
           "Entire home/apt",
           4,
           200
          ],
          [
           "Bed and breakfast in Genève · ★4.67 · 1 bedroom · 1 bed · 1.5 shared baths",
           "Private room",
           2,
           58
          ],
          [
           "Rental unit in Genève · 1 bedroom · 1 bed · 1 shared bath",
           "Private room",
           2,
           100
          ],
          [
           "Hotel in Genève · ★4.67 · 1 bedroom · 1 bed · 1 private bath",
           "Private room",
           1,
           100
          ],
          [
           "Hotel in Genève · 1 bedroom · 2 beds · 1 private bath",
           "Private room",
           2,
           150
          ],
          [
           "Hotel in Genève · 1 bedroom · 1 bed · 1 private bath",
           "Private room",
           2,
           140
          ],
          [
           "Rental unit in Genève · 1 bedroom · 2 beds · 1 bath",
           "Entire home/apt",
           2,
           120
          ],
          [
           "Rental unit in Genève · 1 bedroom · 1 bed · 1 bath",
           "Entire home/apt",
           2,
           293
          ],
          [
           "Rental unit in Genève · 1 bedroom · 1 bed · 1 shared bath",
           "Private room",
           2,
           67
          ],
          [
           "Hotel in Genève · ★4.40 · 1 bedroom · 1 bed · 1 private bath",
           "Private room",
           1,
           100
          ],
          [
           "Hotel in Genève · ★4.80 · 1 bedroom · 1 bed · 1 private bath",
           "Private room",
           1,
           100
          ],
          [
           "Rental unit in Genève · ★5.0 · 1 bedroom · 1 bed · 1 bath",
           "Entire home/apt",
           2,
           107
          ],
          [
           "Home in Genève · 3 bedrooms · 3 beds · 1 bath",
           "Entire home/apt",
           5,
           183
          ],
          [
           "Home in Vernier · 1 bedroom · 1 bed · 3 baths",
           "Private room",
           2,
           93
          ],
          [
           "Home in Vernier · 1 bedroom · 1 bed · 2 shared baths",
           "Private room",
           2,
           77
          ],
          [
           "Home in Vernier · 1 bedroom · 1 bed · 2 shared baths",
           "Private room",
           2,
           78
          ],
          [
           "Rental unit in Genève · 1 bedroom · 1 bed · 1 bath",
           "Entire home/apt",
           2,
           130
          ],
          [
           "Rental unit in Genève · ★4.35 · 1 bedroom · 1 bed · 1 bath",
           "Entire home/apt",
           2,
           91
          ],
          [
           "Rental unit in Meyrin · 2 bedrooms · 2 beds · 2.5 baths",
           "Entire home/apt",
           4,
           400
          ],
          [
           "Rental unit in Genève · ★4.80 · 1 bedroom · 1 bed · 1 bath",
           "Entire home/apt",
           2,
           95
          ],
          [
           "Rental unit in Genève · ★5.0 · 1 bedroom · 1 bed · 1 shared bath",
           "Private room",
           1,
           92
          ],
          [
           "Rental unit in Genève · ★4.67 · 1 bedroom · 1 bed · 1 bath",
           "Entire home/apt",
           2,
           201
          ],
          [
           "Rental unit in Genève · 1 bedroom · 1 bed · 1 bath",
           "Entire home/apt",
           2,
           171
          ],
          [
           "Rental unit in Genève · ★4.55 · 1 bedroom · 1 bed · 1 bath",
           "Entire home/apt",
           2,
           94
          ],
          [
           "Rental unit in Genève · ★5.0 · 1 bedroom · 1 bed · 1.5 baths",
           "Entire home/apt",
           1,
           83
          ],
          [
           "Bed and breakfast in Meyrin · ★5.0 · 1 bedroom · 1 bed · 1 shared bath",
           "Private room",
           1,
           56
          ],
          [
           "Villa in Thônex · 5 bedrooms · 5 beds · 3.5 baths",
           "Entire home/apt",
           11,
           550
          ],
          [
           "Rental unit in Genève · 1 bedroom · 1 bed · 1 private bath",
           "Private room",
           1,
           129
          ],
          [
           "Rental unit in Cologny · 1 bedroom · 1 bed · 1 bath",
           "Entire home/apt",
           3,
           148
          ],
          [
           "Rental unit in Genève · ★5.0 · 1 bedroom · 1 bed · 1 bath",
           "Entire home/apt",
           2,
           90
          ],
          [
           "Rental unit in Chancy · 1 bedroom · 1 bed · 1 private bath",
           "Private room",
           1,
           59
          ],
          [
           "Bed and breakfast in Genève · 1 bedroom · 1 bed · 1 shared bath",
           "Private room",
           2,
           550
          ],
          [
           "Rental unit in Genève · ★4.92 · 1 bedroom · 1 bed · 1 shared bath",
           "Private room",
           1,
           57
          ],
          [
           "Rental unit in Genève · 1 bedroom · 1 bed · 1 bath",
           "Entire home/apt",
           2,
           350
          ],
          [
           "Rental unit in Anières · 1 bedroom · 1 bed · 1 bath",
           "Entire home/apt",
           2,
           50
          ],
          [
           "Rental unit in Genève · 1 bedroom · 1 bed · 1 shared bath",
           "Private room",
           2,
           240
          ],
          [
           "Rental unit in Genève · 1 bedroom · 1 bed · 1 shared bath",
           "Private room",
           2,
           150
          ],
          [
           "Rental unit in Genève · 1 bedroom · 1 bed · 1 shared bath",
           "Private room",
           2,
           130
          ],
          [
           "Rental unit in Genève · ★4.60 · 2 bedrooms · 1 bed · 1 bath",
           "Entire home/apt",
           3,
           120
          ],
          [
           "Rental unit in Genève · 1 bedroom · 1 bed · 1 private bath",
           "Private room",
           2,
           280
          ],
          [
           "Rental unit in Genève · 1 bedroom · 1 bed · 1.5 shared baths",
           "Private room",
           1,
           67
          ],
          [
           "Rental unit in Carouge · ★4.86 · 1 bedroom · 1 bed · 1 private bath",
           "Private room",
           2,
           90
          ],
          [
           "Rental unit in Genève · ★5.0 · 2 bedrooms · 2 beds · 1 bath",
           "Entire home/apt",
           3,
           200
          ],
          [
           "Rental unit in Vandœuvres · ★4.50 · 1 bedroom · 1 bed · 1 bath",
           "Entire home/apt",
           2,
           150
          ],
          [
           "Rental unit in Genève · ★4.89 · 1 bedroom · 2 beds · 1 bath",
           "Entire home/apt",
           3,
           159
          ],
          [
           "Rental unit in Genève · ★5.0 · 2 bedrooms · 4 beds · 2 baths",
           "Entire home/apt",
           5,
           350
          ],
          [
           "Condo in Thônex · 1 bedroom · 1 bed · 1 shared bath",
           "Private room",
           2,
           100
          ],
          [
           "Home in Conches · ★4.60 · 1 bedroom · 1 bed · 1 private bath",
           "Private room",
           2,
           130
          ],
          [
           "Condo in Thônex · ★4.67 · 1 bedroom · 2 beds · 1 shared bath",
           "Private room",
           2,
           100
          ],
          [
           "Rental unit in Genève · 2 bedrooms · 2 beds · 1 bath",
           "Private room",
           2,
           120
          ],
          [
           "Rental unit in Genève · 1 bedroom · 1 bed · 1 bath",
           "Entire home/apt",
           2,
           220
          ],
          [
           "Rental unit in Genève · 1 bedroom · 2 beds · 1 bath",
           "Entire home/apt",
           4,
           100
          ],
          [
           "Rental unit in Genève · ★4.94 · 2 bedrooms · 3 beds · 1 bath",
           "Entire home/apt",
           4,
           150
          ],
          [
           "Home in Chêne-Bourg · ★4.60 · 2 bedrooms · 2 beds · 1 shared bath",
           "Private room",
           4,
           150
          ],
          [
           "Rental unit in Plan-les-Ouates · ★5.0 · 1 bedroom · 1 bed · 1 shared bath",
           "Private room",
           1,
           65
          ],
          [
           "Hotel in Genève · ★4.86 · 2 bedrooms · 4 beds · 2 baths",
           "Private room",
           4,
           176
          ],
          [
           "Home in Lancy · 2 bedrooms · 2 beds · 1 shared bath",
           "Private room",
           2,
           99
          ],
          [
           "Rental unit in Genève · 1 bedroom · 1 bed · 1 bath",
           "Entire home/apt",
           2,
           80
          ],
          [
           "Rental unit in Genève · ★5.0 · Studio · 1 bed · 1.5 baths",
           "Entire home/apt",
           2,
           96
          ],
          [
           "Rental unit in Genève · ★4.82 · Studio · 1 bed · 0 shared baths",
           "Private room",
           2,
           55
          ],
          [
           "Rental unit in Versoix · 1 bedroom · 1 bed · 1 shared bath",
           "Private room",
           2,
           71
          ],
          [
           "Rental unit in Carouge · ★4.56 · 1 bedroom · 1 bed · 1 bath",
           "Entire home/apt",
           2,
           100
          ],
          [
           "Rental unit in Genève · ★4.66 · 1 bedroom · 1 bed · 1 bath",
           "Entire home/apt",
           2,
           90
          ],
          [
           "Rental unit in Genève · 2 bedrooms · 3 beds · 1 bath",
           "Entire home/apt",
           4,
           152
          ],
          [
           "Rental unit in Genève · 2 bedrooms · 2 beds · 2.5 baths",
           "Entire home/apt",
           4,
           500
          ],
          [
           "Townhouse in Versoix · ★New · 1 bedroom · 1 bed · 1 shared bath",
           "Private room",
           2,
           46
          ],
          [
           "Home in Versoix · ★4.75 · 1 bedroom · 1 bed · 1 shared bath",
           "Private room",
           2,
           65
          ],
          [
           "Rental unit in Carouge · ★3.75 · Studio · 1 bed · 1 bath",
           "Entire home/apt",
           2,
           110
          ],
          [
           "Bed and breakfast in Meyrin · 1 bedroom · 1 bed · 1 shared bath",
           "Private room",
           2,
           104
          ],
          [
           "Bed and breakfast in Meyrin · ★4.83 · 1 bedroom · 1 bed · 1.5 shared baths",
           "Private room",
           2,
           108
          ],
          [
           "Bed and breakfast in Meyrin · ★4.50 · 1 bedroom · 1 bed · 1.5 shared baths",
           "Private room",
           2,
           108
          ],
          [
           "Rental unit in Genève · ★4.85 · 1 bedroom · 1 bed · 1 bath",
           "Entire home/apt",
           2,
           115
          ],
          [
           "Rental unit in Genève · 1 bedroom · 1 bed · 1 bath",
           "Entire home/apt",
           2,
           176
          ],
          [
           "Rental unit in Genève · 2 bedrooms · 2 beds · 2 baths",
           "Entire home/apt",
           5,
           640
          ],
          [
           "Rental unit in Genève · 2 bedrooms · 2 beds · 1 bath",
           "Entire home/apt",
           2,
           83
          ],
          [
           "Rental unit in Vernier · ★4.95 · 1 bedroom · 1 bed · 1.5 shared baths",
           "Private room",
           2,
           61
          ],
          [
           "Rental unit in Genève · 1 bedroom · 2 beds · 1 bath",
           "Entire home/apt",
           4,
           179
          ],
          [
           "Bed and breakfast in Chêne-Bourg · 1 bedroom · 1 bed · 1 shared bath",
           "Private room",
           1,
           62
          ],
          [
           "Rental unit in Genève · ★4.42 · 2 bedrooms · 4 beds · 2 baths",
           "Entire home/apt",
           5,
           275
          ],
          [
           "Rental unit in Genève · ★5.0 · 2 bedrooms · 2 beds · 1 bath",
           "Entire home/apt",
           4,
           138
          ],
          [
           "Rental unit in Cologny · 1 bedroom · 1 bed · 1 bath",
           "Entire home/apt",
           3,
           150
          ],
          [
           "Rental unit in Genève · 1 bedroom · 1 bed · 1 bath",
           "Entire home/apt",
           2,
           390
          ],
          [
           "Home in Veyrier · ★5.0 · 1 bedroom · 1 bed · 1.5 shared baths",
           "Private room",
           2,
           62
          ],
          [
           "Rental unit in Genève · 1 bedroom · 2 beds · 1 bath",
           "Entire home/apt",
           4,
           141
          ],
          [
           "Rental unit in Genève · ★4.54 · 1 bedroom · 1 bed · 1 bath",
           "Entire home/apt",
           2,
           102
          ],
          [
           "Rental unit in Genève · ★4.69 · 1 bedroom · 2 beds · 1 bath",
           "Entire home/apt",
           4,
           148
          ],
          [
           "Rental unit in Genève · ★5.0 · 1 bedroom · 1 bed · 1.5 baths",
           "Entire home/apt",
           2,
           110
          ],
          [
           "Rental unit in Genève · 1 bedroom · 1 bed · 1.5 baths",
           "Private room",
           2,
           72
          ],
          [
           "Rental unit in Bellevue · 3 bedrooms · 2 beds · 2 baths",
           "Entire home/apt",
           4,
           136
          ],
          [
           "Rental unit in Carouge · ★4.80 · 1 bedroom · 1 bed · 1.5 shared baths",
           "Private room",
           1,
           75
          ],
          [
           "Rental unit in Genève · ★4.77 · 1 bedroom · 2 beds · 1 bath",
           "Entire home/apt",
           2,
           86
          ],
          [
           "Rental unit in Genève · ★5.0 · 1 bedroom · 1 bed · 1 bath",
           "Entire home/apt",
           2,
           91
          ],
          [
           "Rental unit in Meyrin · ★4.38 · 1 bedroom · 2 beds · 1 bath",
           "Entire home/apt",
           4,
           97
          ],
          [
           "Rental unit in Genève · 2 bedrooms · 3 beds · 1 bath",
           "Entire home/apt",
           6,
           201
          ],
          [
           "Rental unit in Genève · ★5.0 · 2 bedrooms · 2 beds · 1 bath",
           "Entire home/apt",
           3,
           89
          ],
          [
           "Rental unit in Genève · ★5.0 · 1 bedroom · 1 bed · 1 bath",
           "Entire home/apt",
           2,
           75
          ],
          [
           "Rental unit in Genève · ★4.0 · 1 bedroom · 1 bed · 1 bath",
           "Entire home/apt",
           3,
           123
          ],
          [
           "Rental unit in Genève · 3 bedrooms · 3 beds · 2 baths",
           "Entire home/apt",
           6,
           302
          ],
          [
           "Condo in Genève · ★4.86 · 1 bedroom · 1 bed · 1 shared bath",
           "Private room",
           1,
           50
          ],
          [
           "Rental unit in Genève · ★4.25 · 1 bedroom · 1 bed · 1 shared bath",
           "Private room",
           2,
           65
          ],
          [
           "Rental unit in Genève · 1 bedroom · 1 bed · 1 bath",
           "Entire home/apt",
           6,
           110
          ],
          [
           "Rental unit in Genève · 1 bedroom · 1 bed · 1 bath",
           "Entire home/apt",
           3,
           100
          ],
          [
           "Rental unit in Genève · ★5.0 · 1 bedroom · 1 bed · 1.5 shared baths",
           "Private room",
           2,
           102
          ],
          [
           "Rental unit in Genève · ★5.0 · 1 bedroom · 1 bed · 1 bath",
           "Entire home/apt",
           2,
           96
          ],
          [
           "Shipping container in Genf · ★5.0 · 1 bedroom · 1 bed · 2 baths",
           "Private room",
           1,
           111
          ],
          [
           "Rental unit in Collonge-Bellerive · ★5.0 · 1 bedroom · 1 bed · 1 bath",
           "Entire home/apt",
           1,
           82
          ],
          [
           "Hotel in Genève · ★4.50 · 1 bedroom · 3 beds · 1 bath",
           "Private room",
           3,
           160
          ],
          [
           "Bed and breakfast in Le Grand-Saconnex · 1 bedroom · 1 bed · 1 bath",
           "Private room",
           2,
           140
          ],
          [
           "Home in Le Grand-Saconnex · 1 bedroom · 1 bed · 1 bath",
           "Entire home/apt",
           2,
           250
          ],
          [
           "Rental unit in Genève · ★4.75 · 1 bedroom · 1 bed · 2 baths",
           "Entire home/apt",
           3,
           120
          ],
          [
           "Rental unit in Genève · 1 bedroom · 1 bed · 1 bath",
           "Entire home/apt",
           2,
           96
          ],
          [
           "Rental unit in Chêne-Bourg · ★4.63 · 1 bedroom · 1 bed · 1 bath",
           "Entire home/apt",
           2,
           72
          ],
          [
           "Rental unit in Chêne-Bougeries · 1 bedroom · 1 bed · 1 bath",
           "Entire home/apt",
           2,
           67
          ],
          [
           "Bed and breakfast in Chancy · 1 bedroom · 1 bed · 1.5 baths",
           "Private room",
           2,
           81
          ],
          [
           "Rental unit in Vernier · ★4.78 · 1 bedroom · 1 bed · 1.5 shared baths",
           "Private room",
           2,
           62
          ],
          [
           "Rental unit in Genève · ★4.40 · 2 bedrooms · 3 beds · 1 bath",
           "Entire home/apt",
           5,
           130
          ],
          [
           "Condo in Cologny · ★5.0 · 1 bedroom · 1 bed · 2 baths",
           "Entire home/apt",
           2,
           99
          ],
          [
           "Rental unit in Genève · ★5.0 · 1 bedroom · 1 bed · 1 bath",
           "Entire home/apt",
           1,
           101
          ],
          [
           "Rental unit in Genève · ★4.33 · 1 bedroom · 1 bed · 1 bath",
           "Entire home/apt",
           2,
           103
          ],
          [
           "Rental unit in Thônex · ★4.86 · 2 bedrooms · 2 beds · 1.5 baths",
           "Entire home/apt",
           4,
           109
          ],
          [
           "Rental unit in Genf · ★4.25 · 1 bedroom · 1 bed · 1 shared bath",
           "Private room",
           2,
           70
          ],
          [
           "Rental unit in Thônex · ★4.42 · 2 bedrooms · 3 beds · 1.5 baths",
           "Entire home/apt",
           6,
           242
          ],
          [
           "Rental unit in Genève · Studio · 1 bed · 1 bath",
           "Entire home/apt",
           2,
           155
          ],
          [
           "Rental unit in Genève · 2 bedrooms · 2 beds · 1 bath",
           "Entire home/apt",
           4,
           174
          ],
          [
           "Home in Vernier · 1 bedroom · 1 bed · 2 baths",
           "Private room",
           2,
           73
          ],
          [
           "Home in Vernier · 1 bedroom · 1 bed · 3 baths",
           "Private room",
           2,
           82
          ],
          [
           "Home in Vernier · 1 bedroom · 1 bed · 2 baths",
           "Private room",
           1,
           80
          ],
          [
           "Home in Vernier · 1 bedroom · 1 bed · 2 baths",
           "Private room",
           1,
           80
          ],
          [
           "Rental unit in Genève · ★4.75 · 1 bedroom · 1 bed · Shared half-bath",
           "Private room",
           2,
           84
          ],
          [
           "Home in Genève · ★1.33 · 1 bedroom · 1 bed · 1 bath",
           "Private room",
           2,
           82
          ],
          [
           "Rental unit in Genève · 1 bedroom · 1 bed · 1.5 baths",
           "Entire home/apt",
           2,
           250
          ],
          [
           "Rental unit in Genève · ★4.85 · 1 bedroom · 2 beds · 1 bath",
           "Entire home/apt",
           4,
           174
          ],
          [
           "Rental unit in Genève · ★4.0 · 1 bedroom · 2 beds · 1 bath",
           "Entire home/apt",
           4,
           155
          ],
          [
           "Rental unit in Meinier · Studio · 2 beds · 1 bath",
           "Entire home/apt",
           4,
           234
          ],
          [
           "Hotel in Genève · 1 bedroom · 1 bed · 1 bath",
           "Private room",
           2,
           120
          ],
          [
           "Hotel in Genève · ★4.67 · 2 bedrooms · 3 beds · 2 shared baths",
           "Private room",
           4,
           180
          ],
          [
           "Hotel in Genève · 1 bedroom · 3 beds · 1 bath",
           "Private room",
           3,
           160
          ],
          [
           "Rental unit in Genève · ★4.88 · 1 bedroom · 1 bed · 1 bath",
           "Entire home/apt",
           2,
           168
          ],
          [
           "Rental unit in Genève · ★5.0 · 1 bedroom · 1 bed · 1.5 shared baths",
           "Private room",
           2,
           90
          ],
          [
           "Home in Hermance · ★4.67 · 1 bedroom · 2 beds · 1.5 baths",
           "Entire home/apt",
           4,
           127
          ],
          [
           "Bed and breakfast in Genève · 1 bedroom · 1 bed · 1 bath",
           "Private room",
           1,
           80
          ],
          [
           "Rental unit in Gaillard · 1 bedroom · 1 bed · 1 bath",
           "Entire home/apt",
           2,
           96
          ],
          [
           "Rental unit in Genève · ★4.60 · 1 bedroom · 1 bed · 1 bath",
           "Private room",
           2,
           75
          ],
          [
           "Rental unit in Carouge · 1 bedroom · 2 beds · 1 bath",
           "Entire home/apt",
           2,
           131
          ],
          [
           "Rental unit in Genève · ★4.73 · 1 bedroom · 1 bed · 2 shared baths",
           "Private room",
           1,
           68
          ],
          [
           "Bed and breakfast in Genève · ★5.0 · 1 bedroom · 1 bed · 1 shared bath",
           "Private room",
           2,
           70
          ],
          [
           "Rental unit in Meyrin · ★4.88 · Studio · 1 bed · 1 bath",
           "Entire home/apt",
           2,
           89
          ],
          [
           "Rental unit in Genève · 3 bedrooms · 3 beds · 3 baths",
           "Entire home/apt",
           6,
           900
          ],
          [
           "Bed and breakfast in Chêne-Bourg · 1 bedroom · 1 bed · 1 bath",
           "Private room",
           1,
           62
          ],
          [
           "Rental unit in Genève · ★5.0 · 1 bedroom · 1 bed · 1.5 baths",
           "Private room",
           2,
           92
          ],
          [
           "Rental unit in Genève · 1 bedroom · 1 bed · 1 bath",
           "Entire home/apt",
           4,
           139
          ],
          [
           "Rental unit in Meyrin · ★3.55 · 1 bedroom · 1 bed · 1 bath",
           "Entire home/apt",
           4,
           107
          ],
          [
           "Rental unit in Genève · ★5.0 · 1 bedroom · 1 bed · 1 bath",
           "Private room",
           2,
           50
          ],
          [
           "Rental unit in Vernier · 1 bedroom · 1 bed · 1 bath",
           "Entire home/apt",
           1,
           113
          ],
          [
           "Bed and breakfast in Genève · 1 bedroom · 1 bed · 1 bath",
           "Private room",
           1,
           38
          ],
          [
           "Rental unit in Genève · ★4.83 · 1 bedroom · 2 beds · 1 bath",
           "Entire home/apt",
           4,
           232
          ],
          [
           "Cabin in Collex-Bossy · 1 bedroom · 1 bed · 1 bath",
           "Entire home/apt",
           2,
           96
          ],
          [
           "Home in Pregny-Chambésy · ★3.67 · 1 bedroom · 1 bed · 1 bath",
           "Private room",
           2,
           68
          ],
          [
           "Rental unit in Genève · ★5.0 · 1 bedroom · 1 bed · 1 bath",
           "Entire home/apt",
           2,
           200
          ],
          [
           "Rental unit in Genève · ★4.25 · 1 bedroom · 1 bed · 1 bath",
           "Entire home/apt",
           2,
           115
          ],
          [
           "Rental unit in Genève · 4 bedrooms · 3 beds · 2.5 baths",
           "Entire home/apt",
           6,
           200
          ],
          [
           "Rental unit in Genève · ★4.78 · 1 bedroom · 1 bed · 1 bath",
           "Entire home/apt",
           2,
           97
          ],
          [
           "Farm stay in Céligny · ★5.0 · 2 bedrooms · 4 beds · 1 bath",
           "Entire home/apt",
           4,
           70
          ],
          [
           "Home in Veyrier · ★5.0 · 1 bedroom · 1 bed · 1 bath",
           "Private room",
           1,
           60
          ],
          [
           "Bed and breakfast in Genève · ★4.78 · 1 bedroom · 1 bed · 1.5 baths",
           "Private room",
           2,
           99
          ],
          [
           "Rental unit in Genève · ★4.67 · 1 bedroom · 1 bed · 1 bath",
           "Entire home/apt",
           2,
           98
          ],
          [
           "Rental unit in Petit-Lancy · 2 bedrooms · 2 beds · 1 bath",
           "Entire home/apt",
           4,
           100
          ],
          [
           "Rental unit in Genève · ★5.0 · 1 bedroom · 3 beds · 1 bath",
           "Entire home/apt",
           4,
           149
          ],
          [
           "Rental unit in Genève · ★4.96 · 2 bedrooms · 2 beds · 1 bath",
           "Entire home/apt",
           4,
           157
          ],
          [
           "Rental unit in Genève · 1 bedroom · 1 bed · 1 bath",
           "Entire home/apt",
           3,
           180
          ],
          [
           "Rental unit in Lancy · ★4.56 · 1 bedroom · 1 bed · 1 bath",
           "Entire home/apt",
           2,
           82
          ],
          [
           "Rental unit in Genève · 1 bedroom · 2 beds · 1 bath",
           "Private room",
           2,
           100
          ],
          [
           "Rental unit in Genève · ★4.83 · 1 bedroom · 1 bed · 1.5 baths",
           "Entire home/apt",
           2,
           113
          ],
          [
           "Home in Meinier · 2 bedrooms · 2 beds · 1.5 baths",
           "Entire home/apt",
           4,
           240
          ],
          [
           "Rental unit in Genève · ★4.29 · 1 bedroom · 1 bed · 1 shared bath",
           "Private room",
           1,
           62
          ],
          [
           "Rental unit in Genève · ★5.0 · 2 bedrooms · 2 beds · 1 bath",
           "Entire home/apt",
           4,
           100
          ],
          [
           "Rental unit in Genève · 1 bedroom · 1 bed · 1 bath",
           "Private room",
           1,
           30
          ],
          [
           "Rental unit in Genève · ★4.82 · 1 bedroom · 2 beds · 1.5 baths",
           "Entire home/apt",
           3,
           150
          ],
          [
           "Rental unit in Petit-Lancy · ★5.0 · 1 bedroom · 1 bed · 1 shared bath",
           "Private room",
           2,
           71
          ],
          [
           "Rental unit in Genève · 1 bedroom · 1 bed · 1 bath",
           "Entire home/apt",
           1,
           130
          ],
          [
           "Serviced apartment in Pregny-Chambésy · ★5.0 · 1 bedroom · 1 bed · 1 private bath",
           "Private room",
           2,
           80
          ],
          [
           "Home in Lancy · ★4.33 · 2 bedrooms · 3 beds · 2 baths",
           "Entire home/apt",
           4,
           198
          ],
          [
           "Rental unit in Genève · 1 bedroom · 1 bed · 1 bath",
           "Entire home/apt",
           2,
           110
          ],
          [
           "Home in Veyrier · ★5.0 · 1 bedroom · 1 bed · 1 bath",
           "Private room",
           2,
           50
          ],
          [
           "Rental unit in Genève · ★4.64 · 1 bedroom · 2 beds · 1 bath",
           "Entire home/apt",
           4,
           120
          ],
          [
           "Rental unit in Genève · ★4.50 · Studio · 1 bed · 1 bath",
           "Entire home/apt",
           2,
           90
          ],
          [
           "Rental unit in Genève · ★4.26 · Studio · 2 beds · 1 bath",
           "Entire home/apt",
           4,
           126
          ],
          [
           "Rental unit in Genève · ★4.52 · Studio · 1 bed · 1 bath",
           "Entire home/apt",
           2,
           81
          ],
          [
           "Rental unit in Genève · ★4.0 · Studio · 1 bed · 1 bath",
           "Entire home/apt",
           2,
           84
          ],
          [
           "Rental unit in Genève · ★4.62 · 1 bedroom · 2 beds · 1 bath",
           "Entire home/apt",
           4,
           136
          ],
          [
           "Rental unit in Carouge · 1 bedroom · 1 bed · 1 bath",
           "Private room",
           2,
           79
          ],
          [
           "Rental unit in Genève · 1 bedroom · 1 bed · 1 bath",
           "Entire home/apt",
           2,
           240
          ],
          [
           "Rental unit in Genève · 1 bedroom · 1 bed · 1.5 shared baths",
           "Private room",
           2,
           70
          ],
          [
           "Bed and breakfast in Genève · 1 bedroom · 1 bed · 1 bath",
           "Private room",
           2,
           108
          ],
          [
           "Bed and breakfast in Genève · 1 bedroom · 1 bed · 1 bath",
           "Private room",
           2,
           108
          ],
          [
           "Bed and breakfast in Genève · ★5.0 · 1 bedroom · 1 bed · 1.5 shared baths",
           "Private room",
           2,
           108
          ],
          [
           "Rental unit in Genève · ★4.75 · 1 bedroom · 1 bed · 1.5 baths",
           "Entire home/apt",
           2,
           179
          ],
          [
           "Rental unit in Genève · ★4.17 · 3 bedrooms · 4 beds · 2.5 baths",
           "Entire home/apt",
           6,
           676
          ],
          [
           "Rental unit in Genève · 2 bedrooms · 2 beds · 1 bath",
           "Entire home/apt",
           4,
           140
          ],
          [
           "Rental unit in Vernier · 1 bedroom · 2 beds · 1.5 baths",
           "Entire home/apt",
           4,
           87
          ],
          [
           "Rental unit in Genève · 1 bedroom · 1 bed · 1 bath",
           "Entire home/apt",
           2,
           264
          ],
          [
           "Condo in Genève · ★4.87 · 1 bedroom · 1 bed · 1.5 shared baths",
           "Private room",
           1,
           70
          ],
          [
           "Rental unit in Genève · 1 bedroom · 2 beds · 1 bath",
           "Entire home/apt",
           2,
           82
          ],
          [
           "Home in Bellevue · ★5.0 · 2 bedrooms · 2 beds · 2 baths",
           "Entire home/apt",
           3,
           180
          ],
          [
           "Rental unit in Genève · 1 bedroom · 1 bed · 1 bath",
           "Entire home/apt",
           2,
           86
          ],
          [
           "Rental unit in Genève · ★4.88 · 1 bedroom · 1 bed · 1 bath",
           "Entire home/apt",
           2,
           131
          ],
          [
           "Rental unit in Genève · 2 bedrooms · 3 beds · 1 bath",
           "Entire home/apt",
           4,
           200
          ],
          [
           "Rental unit in Genève · 1 bedroom · 3 beds · 1.5 baths",
           "Entire home/apt",
           2,
           176
          ],
          [
           "Rental unit in Chêne-Bourg · 1 bedroom · 2 beds · 1 bath",
           "Entire home/apt",
           4,
           125
          ],
          [
           "Rental unit in Genève · 1 bedroom · 1 bed · 1 bath",
           "Private room",
           2,
           88
          ],
          [
           "Rental unit in Genève · ★5.0 · 2 bedrooms · 2 beds · 1 bath",
           "Entire home/apt",
           4,
           175
          ],
          [
           "Rental unit in Genève · 2 bedrooms · 2 beds · 1.5 shared baths",
           "Private room",
           2,
           120
          ],
          [
           "Rental unit in Genève · ★4.81 · 2 bedrooms · 3 beds · 1 bath",
           "Entire home/apt",
           6,
           250
          ],
          [
           "Rental unit in Genève · 1 bedroom · 1 bed · 1 bath",
           "Entire home/apt",
           2,
           115
          ],
          [
           "Rental unit in Genève · 1 bedroom · 1 bed · 1 bath",
           "Private room",
           2,
           100
          ],
          [
           "Rental unit in Genève · ★4.67 · 1 bedroom · 1 bed · 1 bath",
           "Entire home/apt",
           2,
           120
          ],
          [
           "Rental unit in Genève · ★5.0 · 3 bedrooms · 3 beds · 2 baths",
           "Entire home/apt",
           5,
           200
          ],
          [
           "Rental unit in Genève · ★4.93 · 1 bedroom · 1 bed · 1 shared bath",
           "Private room",
           2,
           71
          ],
          [
           "Rental unit in Chêne-Bourg · 2 bedrooms · 3 beds · 1.5 baths",
           "Entire home/apt",
           3,
           130
          ],
          [
           "Rental unit in Genève · ★4.40 · 1 bedroom · 1 bed · 1 private bath",
           "Private room",
           1,
           53
          ],
          [
           "Rental unit in Genève · ★5.0 · 1 bedroom · 2 beds · 1 bath",
           "Entire home/apt",
           4,
           141
          ],
          [
           "Rental unit in Bardonnex · 2 bedrooms · 2 beds · 2 baths",
           "Entire home/apt",
           4,
           159
          ],
          [
           "Bed and breakfast in Veyrier · 1 bedroom · 1 bed · 1 bath",
           "Private room",
           1,
           57
          ],
          [
           "Rental unit in Chêne-Bougeries · 1 bedroom · 1 bed · 1 bath",
           "Entire home/apt",
           2,
           112
          ],
          [
           "Home in Lancy · 1 bedroom · 1 bed · 1 bath",
           "Private room",
           1,
           65
          ],
          [
           "Home in Pregny-Chambésy · 1 bedroom · 1 bed · 1 bath",
           "Entire home/apt",
           2,
           84
          ],
          [
           "Rental unit in Genève · 2 bedrooms · 2 beds · 1.5 baths",
           "Entire home/apt",
           4,
           300
          ],
          [
           "Townhouse in Thônex · ★4.29 · 3 bedrooms · 2 beds · 1.5 baths",
           "Entire home/apt",
           4,
           120
          ],
          [
           "Rental unit in Genève · 1 bedroom · 2 beds · 1 bath",
           "Entire home/apt",
           3,
           175
          ],
          [
           "Bed and breakfast in Genève · ★4.94 · 1 bedroom · 1 bed · 1 bath",
           "Private room",
           2,
           63
          ],
          [
           "Rental unit in Genève · ★4.75 · Studio · 1 bed · 1 bath",
           "Entire home/apt",
           2,
           82
          ],
          [
           "Rental unit in Genève · ★4.67 · Studio · 1 bed · 1 bath",
           "Entire home/apt",
           2,
           93
          ],
          [
           "Rental unit in Genève · ★4.33 · 1 bedroom · 2 beds · 1 bath",
           "Entire home/apt",
           4,
           109
          ],
          [
           "Rental unit in Genève · ★5.0 · 1 bedroom · 1 bed · 1 bath",
           "Entire home/apt",
           2,
           104
          ],
          [
           "Rental unit in Genève · 1 bedroom · 1 bed · 2 baths",
           "Entire home/apt",
           3,
           250
          ],
          [
           "Rental unit in Genève · 1 bedroom · 3 beds · 1 bath",
           "Entire home/apt",
           4,
           185
          ],
          [
           "Rental unit in Onex · 2 bedrooms · 2 beds · 1 bath",
           "Entire home/apt",
           2,
           64
          ],
          [
           "Rental unit in Genève · 1 bedroom · 1 bed · 1 bath",
           "Private room",
           2,
           65
          ],
          [
           "Rental unit in Genève · ★4.0 · 1 bedroom · 1 bed · 1 bath",
           "Entire home/apt",
           2,
           161
          ],
          [
           "Rental unit in Genève · ★4.67 · 1 bedroom · 1 bed · 1 bath",
           "Entire home/apt",
           2,
           127
          ],
          [
           "Rental unit in Genève · ★4.67 · 1 bedroom · 2 beds · 1 bath",
           "Entire home/apt",
           2,
           90
          ],
          [
           "Rental unit in Genève · 1 bedroom · 1 bed · 1 bath",
           "Entire home/apt",
           2,
           80
          ],
          [
           "Rental unit in Genève · 2 bedrooms · 2 beds · 1 bath",
           "Entire home/apt",
           3,
           140
          ],
          [
           "Rental unit in Genève · ★5.0 · 2 bedrooms · 2 beds · 1.5 baths",
           "Entire home/apt",
           4,
           400
          ],
          [
           "Rental unit in Genève · 1 bedroom · 1 bed · 1 bath",
           "Private room",
           1,
           31
          ],
          [
           "Rental unit in Genève · ★4.60 · Studio · 2 beds · 1 bath",
           "Entire home/apt",
           4,
           105
          ],
          [
           "Rental unit in Genève · ★4.96 · 1 bedroom · 1 bed · 1 shared bath",
           "Private room",
           2,
           100
          ],
          [
           "Rental unit in Genève · ★4.69 · 1 bedroom · 1 bed · 1 bath",
           "Entire home/apt",
           3,
           109
          ],
          [
           "Rental unit in Genève · ★5.0 · 1 bedroom · 1 bed · 1 bath",
           "Private room",
           2,
           81
          ],
          [
           "Rental unit in Chêne-Bourg · ★5.0 · 2 bedrooms · 2 beds · 1 bath",
           "Entire home/apt",
           4,
           225
          ],
          [
           "Condo in Genève · ★4.88 · 1 bedroom · 1 bed · 1 shared bath",
           "Private room",
           1,
           70
          ],
          [
           "Rental unit in Genève · Studio · 2 beds · 1 bath",
           "Entire home/apt",
           3,
           102
          ],
          [
           "Rental unit in Petit-Lancy · ★2.67 · 1 bedroom · 2 beds · 1 bath",
           "Entire home/apt",
           3,
           100
          ],
          [
           "Rental unit in Genève · ★5.0 · 1 bedroom · 1 bed · 2 shared baths",
           "Private room",
           1,
           74
          ],
          [
           "Rental unit in Genève · ★5.0 · 2 bedrooms · 2 beds · 1 bath",
           "Entire home/apt",
           4,
           269
          ],
          [
           "Rental unit in Le Grand-Saconnex · 1 bedroom · 1 bed · 1 bath",
           "Entire home/apt",
           1,
           121
          ],
          [
           "Rental unit in Genève · 1 bedroom · 1 bed · 1 bath",
           "Entire home/apt",
           3,
           170
          ],
          [
           "Rental unit in Genève · 1 bedroom · 1 bed · 1 bath",
           "Entire home/apt",
           2,
           89
          ],
          [
           "Rental unit in Genève · 1 bedroom · 1 bed · 1 bath",
           "Entire home/apt",
           2,
           156
          ],
          [
           "Rental unit in Genève · 2 bedrooms · 2 beds · 1 bath",
           "Entire home/apt",
           4,
           151
          ],
          [
           "Rental unit in Genève · ★5.0 · 2 bedrooms · 2 beds · 1 bath",
           "Entire home/apt",
           5,
           130
          ],
          [
           "Rental unit in Genève · 2 bedrooms · 2 beds · 1 shared bath",
           "Private room",
           2,
           120
          ],
          [
           "Rental unit in Genève · 1 bedroom · 1 bed · 1 bath",
           "Private room",
           2,
           81
          ],
          [
           "Rental unit in Genève · ★4.75 · 2 bedrooms · 2 beds · 1 bath",
           "Entire home/apt",
           5,
           100
          ],
          [
           "Rental unit in Genève · 2 bedrooms · 2 beds · 2.5 baths",
           "Entire home/apt",
           4,
           280
          ],
          [
           "Rental unit in Genève · ★4.90 · 1 bedroom · 2 beds · 1 shared bath",
           "Shared room",
           1,
           40
          ],
          [
           "Rental unit in Genève · ★4.38 · 1 bedroom · 1 bed · 1.5 shared baths",
           "Private room",
           1,
           50
          ],
          [
           "Rental unit in Genève · ★4.78 · 1 bedroom · 1 bed · 1 bath",
           "Entire home/apt",
           2,
           95
          ],
          [
           "Rental unit in Genève · ★5.0 · 2 bedrooms · 3 beds · 1 bath",
           "Entire home/apt",
           4,
           150
          ],
          [
           "Rental unit in Genève · 1 bedroom · 2 beds · 1 bath",
           "Entire home/apt",
           4,
           215
          ],
          [
           "Villa in Lancy · ★4.67 · 1 bedroom · 1 bed · 1.5 baths",
           "Private room",
           1,
           29
          ],
          [
           "Home in Pregny-Chambésy · 2 bedrooms · 3 beds · 1.5 baths",
           "Private room",
           2,
           76
          ],
          [
           "Rental unit in Genève · 1 bedroom · 1 bed · Half-bath",
           "Private room",
           2,
           115
          ],
          [
           "Rental unit in Genève · ★4.75 · 1 bedroom · 1 bed · 1 bath",
           "Entire home/apt",
           2,
           103
          ],
          [
           "Bed and breakfast in Lancy · ★4.75 · 1 bedroom · 1 bed · 2.5 shared baths",
           "Private room",
           1,
           33
          ],
          [
           "Home in Collonge-Bellerive · ★5.0 · 3 bedrooms · 4 beds · 1 bath",
           "Entire home/apt",
           6,
           210
          ],
          [
           "Rental unit in Thônex · 1 bedroom · 1 bed · 1 private bath",
           "Private room",
           2,
           56
          ],
          [
           "Rental unit in Genève · 1 bedroom · 1 bed · 1 bath",
           "Entire home/apt",
           2,
           81
          ],
          [
           "Hotel in Genève · 2 bedrooms · 3 beds · 2 baths",
           "Private room",
           4,
           180
          ],
          [
           "Rental unit in Genève · 2 bedrooms · 2 beds · 1 bath",
           "Entire home/apt",
           3,
           100
          ],
          [
           "Rental unit in Carouge · 1 bedroom · 1 bed · 1 bath",
           "Entire home/apt",
           2,
           75
          ],
          [
           "Rental unit in Genève · 1 bedroom · 1 bed · 1 bath",
           "Private room",
           2,
           75
          ],
          [
           "Rental unit in Genève · 1 bedroom · 1 bed · 1.5 shared baths",
           "Private room",
           1,
           118
          ],
          [
           "Rental unit in Lancy · 1 bedroom · 1 bed · 1 bath",
           "Private room",
           1,
           79
          ],
          [
           "Hotel in Genève · 1 bedroom · 1 bed · 1 bath",
           "Private room",
           2,
           120
          ],
          [
           "Hotel in Genève · 1 bedroom · 1 bed · 1 bath",
           "Private room",
           2,
           120
          ],
          [
           "Hotel in Genève · 1 bedroom · 1 bed · 1 bath",
           "Private room",
           1,
           100
          ],
          [
           "Rental unit in Genève · 2 bedrooms · 2 beds · 1.5 baths",
           "Entire home/apt",
           4,
           250
          ],
          [
           "Hotel in Genève · 1 bedroom · 1 bed · 1 bath",
           "Private room",
           1,
           100
          ],
          [
           "Hotel in Genève · 1 bedroom · 1 bed · 1 bath",
           "Private room",
           1,
           100
          ],
          [
           "Bed and breakfast in Genève · ★5.0 · 1 bedroom · 1 bed · 1 bath",
           "Private room",
           2,
           100
          ],
          [
           "Rental unit in Corsier · 2 bedrooms · 2 beds · 1 bath",
           "Entire home/apt",
           4,
           170
          ],
          [
           "Rental unit in Genève · 2 bedrooms · 2 beds · 1.5 baths",
           "Entire home/apt",
           4,
           117
          ],
          [
           "Rental unit in Genève · 1 bedroom · 1 bed · 1.5 baths",
           "Private room",
           2,
           86
          ],
          [
           "Rental unit in Genève · ★4.68 · 1 bedroom · 2 beds · 1 bath",
           "Entire home/apt",
           3,
           160
          ],
          [
           "Rental unit in Genève · 1 bedroom · 1 bed · 2 baths",
           "Private room",
           1,
           72
          ],
          [
           "Villa in Vésenaz · 1 bedroom · 1 bed · 1.5 baths",
           "Private room",
           2,
           145
          ],
          [
           "Rental unit in Genève · 1 bedroom · 1 bed · 1 bath",
           "Private room",
           1,
           60
          ],
          [
           "Rental unit in Genève · 1 bedroom · 1 bed · 2 baths",
           "Private room",
           2,
           75
          ],
          [
           "Rental unit in Champel · 1 bedroom · 1 bed · 1 bath",
           "Entire home/apt",
           2,
           82
          ],
          [
           "Home in Genthod · 4 bedrooms · 4 beds · 1.5 baths",
           "Entire home/apt",
           8,
           230
          ],
          [
           "Rental unit in Genève · 1 bedroom · 2 beds · 1 bath",
           "Entire home/apt",
           3,
           138
          ],
          [
           "Rental unit in Genève · 1 bedroom · 1 bed · 1 bath",
           "Entire home/apt",
           1,
           120
          ],
          [
           "Home in Lancy · ★4.60 · 1 bedroom · 1 bed · 1.5 shared baths",
           "Private room",
           1,
           30
          ],
          [
           "Rental unit in Genève · ★5.0 · 1 bedroom · 1 bed · 1 private bath",
           "Private room",
           2,
           69
          ],
          [
           "Rental unit in Genève · 2 bedrooms · 3 beds · 1 bath",
           "Entire home/apt",
           4,
           169
          ],
          [
           "Rental unit in Genève · 1 bedroom · 1 bed · 1.5 baths",
           "Entire home/apt",
           2,
           80
          ],
          [
           "Rental unit in Genève · 1 bedroom · 1 bed · 1 bath",
           "Entire home/apt",
           3,
           100
          ],
          [
           "Rental unit in Genève · 1 bedroom · 1 bed · 1.5 baths",
           "Entire home/apt",
           2,
           118
          ],
          [
           "Rental unit in Vernier · ★New · 3 bedrooms · 3 beds · 1 bath",
           "Entire home/apt",
           3,
           180
          ],
          [
           "Home in Vernier · 1 bedroom · 1 bed · 2 baths",
           "Private room",
           2,
           82
          ],
          [
           "Rental unit in Genève · 1 bedroom · 1 bed · 1 bath",
           "Entire home/apt",
           2,
           167
          ],
          [
           "Rental unit in Geneva · ★New · 2 bedrooms · 3 beds · 1 bath",
           "Entire home/apt",
           4,
           266
          ],
          [
           "Rental unit in Genève · 2 bedrooms · 2 beds · 2 baths",
           "Entire home/apt",
           4,
           400
          ],
          [
           "Rental unit in Genève · 1 bedroom · 1 bed · 1 bath",
           "Entire home/apt",
           2,
           110
          ],
          [
           "Home in Veyrier · 1 bedroom · 1 bed · 1 shared bath",
           "Private room",
           1,
           60
          ],
          [
           "Home in Collonge-Bellerive · ★5.0 · 4 bedrooms · 3 beds · 2.5 baths",
           "Entire home/apt",
           7,
           210
          ],
          [
           "Rental unit in Genève · ★4.77 · 1 bedroom · 1 bed · 1 bath",
           "Entire home/apt",
           2,
           88
          ],
          [
           "Bed and breakfast in Genève · 1 bedroom · 1 bed · 1 private bath",
           "Private room",
           2,
           62
          ],
          [
           "Rental unit in Petit-Lancy · ★New · 1 bedroom · 1 bed · 1 shared bath",
           "Private room",
           1,
           60
          ],
          [
           "Rental unit in Genève · ★3.63 · 1 bedroom · 1 bed · 1 bath",
           "Entire home/apt",
           4,
           150
          ],
          [
           "Rental unit in Genève · ★New · 1 bedroom · 1 bed · 1.5 baths",
           "Entire home/apt",
           2,
           198
          ],
          [
           "Rental unit in Genève · ★5.0 · 1 bedroom · 2 beds · 1 bath",
           "Entire home/apt",
           3,
           150
          ],
          [
           "Rental unit in Chêne-Bougeries · 2 bedrooms · 2 beds · 1 bath",
           "Entire home/apt",
           6,
           223
          ],
          [
           "Rental unit in Petit-Lancy · 1 bedroom · 1 bed · 1 bath",
           "Private room",
           2,
           80
          ],
          [
           "Rental unit in Meinier · ★New · 1 bedroom · 1 bed · 1 bath",
           "Entire home/apt",
           2,
           90
          ],
          [
           "Rental unit in Genève · ★4.60 · Studio · 1 bed · 1 bath",
           "Entire home/apt",
           4,
           100
          ],
          [
           "Rental unit in Plan-les-Ouates · ★5.0 · 1 bedroom · 2 beds · 1.5 baths",
           "Entire home/apt",
           4,
           125
          ],
          [
           "Rental unit in Genève · 1 bedroom · 2 beds · 1 bath",
           "Private room",
           2,
           60
          ],
          [
           "Rental unit in Genève · ★5.0 · 1 bedroom · 1 bed · 1.5 baths",
           "Entire home/apt",
           2,
           198
          ],
          [
           "Home in Le Grand-Saconnex · ★5.0 · 1 bedroom · 1 bed · 1 bath",
           "Private room",
           2,
           85
          ],
          [
           "Rental unit in Genf · ★5.0 · Studio · 1 bed · 1 bath",
           "Entire home/apt",
           2,
           94
          ],
          [
           "Rental unit in Chêne-Bougeries · ★New · 1 bedroom · 1 bed · 1 bath",
           "Entire home/apt",
           2,
           190
          ],
          [
           "Rental unit in Genève · ★4.86 · 1 bedroom · 1 bed · 1 bath",
           "Entire home/apt",
           2,
           136
          ],
          [
           "Rental unit in Genève · 1 bedroom · 1 bed · 1 bath",
           "Entire home/apt",
           2,
           140
          ],
          [
           "Rental unit in Genève · 1 bedroom · 1 bed · 1 bath",
           "Entire home/apt",
           2,
           80
          ],
          [
           "Rental unit in Genève · ★5.0 · 1 bedroom · 1 bed · 1 shared bath",
           "Private room",
           2,
           150
          ],
          [
           "Rental unit in Genève · ★5.0 · 2 bedrooms · 2 beds · 2 baths",
           "Entire home/apt",
           4,
           500
          ],
          [
           "Rental unit in Genève · ★New · 1 bedroom · 1 bed · 1 bath",
           "Entire home/apt",
           2,
           100
          ],
          [
           "Rental unit in Genève · ★4.80 · Studio · 1 bed · 1 shared bath",
           "Private room",
           2,
           82
          ],
          [
           "Rental unit in Genève · ★5.0 · 1 bedroom · 1 bed · 1 bath",
           "Entire home/apt",
           3,
           106
          ],
          [
           "Rental unit in Vernier · ★New · 1 bedroom · 1 bed · 1.5 baths",
           "Private room",
           2,
           110
          ],
          [
           "Bed and breakfast in Lancy · ★New · 1 bedroom · 1 bed · 1 bath",
           "Private room",
           1,
           60
          ],
          [
           "Bed and breakfast in Genève · ★5.0 · 1 bedroom · 1 bed · 1 shared bath",
           "Private room",
           2,
           75
          ],
          [
           "Bed and breakfast in Genève · ★4.83 · 1 bedroom · 1 bed · 1 shared bath",
           "Private room",
           2,
           60
          ],
          [
           "Rental unit in Genève · ★New · 1 bedroom · 1 bed · 1 bath",
           "Entire home/apt",
           2,
           129
          ],
          [
           "Rental unit in Genève · ★New · 2 bedrooms · 2 beds · 2 baths",
           "Entire home/apt",
           4,
           250
          ],
          [
           "Rental unit in Genève · ★4.80 · 1 bedroom · 1 bed · 2 shared baths",
           "Private room",
           1,
           85
          ],
          [
           "Bed and breakfast in Cointrin · ★New · 1 bedroom · 1 bed · 1 bath",
           "Private room",
           1,
           40
          ],
          [
           "Rental unit in Genève · ★New · 1 bedroom · 2 beds · 1 bath",
           "Entire home/apt",
           4,
           140
          ],
          [
           "Rental unit in Genève · ★New · 1 bedroom · 1 bed · 1 bath",
           "Entire home/apt",
           2,
           100
          ],
          [
           "Rental unit in Genève · ★New · 1 bedroom · 1 bed · 1 bath",
           "Entire home/apt",
           2,
           110
          ],
          [
           "Rental unit in Genève · ★New · 1 bedroom · 2 beds · 1 bath",
           "Entire home/apt",
           3,
           203
          ],
          [
           "Rental unit in Genève · ★New · 1 bedroom · 2 beds · 1 bath",
           "Entire home/apt",
           3,
           180
          ],
          [
           "Rental unit in Le Grand-Saconnex · ★5.0 · 1 bedroom · 1 bed · 1 bath",
           "Private room",
           1,
           65
          ],
          [
           "Rental unit in Genève · ★New · 1 bedroom · 1 bed · 1 bath",
           "Entire home/apt",
           2,
           133
          ],
          [
           "Rental unit in Genève · ★4.60 · 1 bedroom · 1 bed · 1 bath",
           "Entire home/apt",
           2,
           101
          ],
          [
           "Rental unit in Meyrin · ★New · 1 bedroom · 1 bed · 1.5 shared baths",
           "Private room",
           2,
           78
          ],
          [
           "Condo in Genève · ★New · 1 bedroom · 3 beds · 1.5 shared baths",
           "Private room",
           3,
           150
          ],
          [
           "Rental unit in Genève · ★New · 1 bedroom · 1 bed · 1 bath",
           "Entire home/apt",
           3,
           400
          ],
          [
           "Rental unit in Genève · ★5.0 · 1 bedroom · 1 bed · 1 bath",
           "Entire home/apt",
           4,
           170
          ],
          [
           "Condo in Genève · ★New · 1 bedroom · 1 bed · 1.5 shared baths",
           "Private room",
           1,
           82
          ],
          [
           "Rental unit in Genève · ★New · 1 bedroom · 1 bed · 1 bath",
           "Entire home/apt",
           3,
           114
          ],
          [
           "Rental unit in Genève · ★New · 1 bedroom · 1 bed · 1 bath",
           "Entire home/apt",
           2,
           136
          ],
          [
           "Rental unit in Genève · ★New · 2 bedrooms · 2 beds · 1 bath",
           "Entire home/apt",
           4,
           178
          ],
          [
           "Home in Bernex · ★New · 1 bedroom · 1 bed · 1 bath",
           "Entire home/apt",
           2,
           69
          ],
          [
           "Loft in Versoix · ★5.0 · 1 bedroom · 1 bed · 1 bath",
           "Entire home/apt",
           2,
           100
          ],
          [
           "Rental unit in Genève · ★New · 3 bedrooms · 3 beds · 2 baths",
           "Entire home/apt",
           5,
           200
          ],
          [
           "Bed and breakfast in Genève · ★New · 1 bedroom · 1 bed · 1 private bath",
           "Private room",
           2,
           60
          ],
          [
           "Rental unit in Collex-Bossy · ★New · 1 bedroom · 2 beds · 1 bath",
           "Entire home/apt",
           4,
           99
          ],
          [
           "Rental unit in Genève · ★New · 1 bedroom · 1 bed · 1 bath",
           "Entire home/apt",
           2,
           90
          ],
          [
           "Bed and breakfast in Chêne-Bougeries · ★New · 1 bedroom · 1 bed · 1 bath",
           "Private room",
           2,
           200
          ],
          [
           "Rental unit in Veyrier · ★New · 3 bedrooms · 3 beds · 2 baths",
           "Entire home/apt",
           5,
           200
          ],
          [
           "Rental unit in Genève · ★5.0 · 1 bedroom · 1 bed · 1 bath",
           "Entire home/apt",
           2,
           90
          ],
          [
           "Rental unit in Genève · ★New · 2 bedrooms · 3 beds · 1.5 baths",
           "Entire home/apt",
           6,
           300
          ],
          [
           "Rental unit in Genève · ★4.57 · 1 bedroom · 2 beds · 1 bath",
           "Entire home/apt",
           4,
           105
          ],
          [
           "Rental unit in Genève · ★New · Studio · 1 bed · 1 bath",
           "Entire home/apt",
           1,
           120
          ],
          [
           "Rental unit in Genève · ★New · 1 bedroom · 1 bed · 1 bath",
           "Entire home/apt",
           1,
           69
          ],
          [
           "Rental unit in Genève · ★4.67 · 1 bedroom · 1 bed · 1.5 baths",
           "Private room",
           1,
           56
          ],
          [
           "Home in Thônex · ★New · 1 bedroom · 1 bed · 1 bath",
           "Private room",
           2,
           55
          ],
          [
           "Rental unit in Genève · ★New · 2 bedrooms · 2 beds · 1 bath",
           "Entire home/apt",
           4,
           300
          ],
          [
           "Hotel in Plan-les-Ouates · ★New · 1 bedroom · 1 bed · Half-bath",
           "Private room",
           2,
           157
          ],
          [
           "Hotel in Genève · ★New · 1 bedroom · 16 beds · 3 shared baths",
           "Shared room",
           16,
           68
          ],
          [
           "Rental unit in Genève · ★5.0 · Studio · 1 bed · 1 bath",
           "Entire home/apt",
           2,
           130
          ],
          [
           "Hotel in Cointrin · ★New · 1 bedroom · 1 bed · Half-bath",
           "Private room",
           2,
           188
          ],
          [
           "Hotel in Meyrin · ★New · 1 bedroom · 1 bed · Half-bath",
           "Private room",
           2,
           217
          ],
          [
           "Hotel in Cointrin · ★New · 1 bedroom · 1 bed · Half-bath",
           "Private room",
           2,
           202
          ],
          [
           "Hotel in Genève · ★New · 1 bedroom · 1 bed · Half-bath",
           "Private room",
           2,
           202
          ],
          [
           "Rental unit in Genève · ★New · 1 bedroom · 1 bed · 1 bath",
           "Entire home/apt",
           2,
           93
          ],
          [
           "Bed and breakfast in Genève · ★New · 1 bedroom · 1 bed · 1 bath",
           "Private room",
           2,
           65
          ],
          [
           "Hotel in Genève · ★New · 1 bedroom · 1 bed · Half-bath",
           "Private room",
           2,
           376
          ],
          [
           "Rental unit in Genève · ★New · 2 bedrooms · 2 beds · 2 baths",
           "Entire home/apt",
           4,
           220
          ],
          [
           "Hotel in Versoix · ★New · 1 bedroom · 1 bed · Half-bath",
           "Private room",
           2,
           295
          ],
          [
           "Bed and breakfast in Meyrin · ★New · 1 bedroom · 1 bed · Half-bath",
           "Private room",
           2,
           77
          ],
          [
           "Rental unit in Genève · ★5.0 · 1 bedroom · 1 bed · 1 bath",
           "Entire home/apt",
           4,
           107
          ],
          [
           "Bed and breakfast in Vernier · ★New · 1 bedroom · 2 beds · 1 private bath",
           "Private room",
           2,
           90
          ],
          [
           "Rental unit in Genève · ★5.0 · 1 bedroom · 1 bed · 1.5 baths",
           "Entire home/apt",
           2,
           95
          ],
          [
           "Rental unit in Carouge · ★New · 2 bedrooms · 2 beds · 1 bath",
           "Entire home/apt",
           4,
           279
          ],
          [
           "Rental unit in Genève · ★New · 1 bedroom · 2 beds · 1.5 baths",
           "Entire home/apt",
           3,
           156
          ],
          [
           "Hotel in Genève · ★New · 1 bedroom · 1 bed · Half-bath",
           "Private room",
           2,
           367
          ],
          [
           "Hotel in Genève · ★New · 1 bedroom · 1 bed · Half-bath",
           "Private room",
           2,
           314
          ],
          [
           "Bed and breakfast in Chêne-Bourg · ★New · 1 bedroom · 1 bed · 1 bath",
           "Private room",
           1,
           61
          ],
          [
           "Rental unit in Genève · ★4.67 · 1 bedroom · 1 bed · 1.5 baths",
           "Entire home/apt",
           2,
           83
          ],
          [
           "Bed and breakfast in Vernier · ★4.75 · 1 bedroom · 1 bed · 1.5 shared baths",
           "Private room",
           2,
           62
          ],
          [
           "Rental unit in Le Grand-Saconnex · ★New · 1 bedroom · 1 bed · 1 bath",
           "Private room",
           2,
           60
          ],
          [
           "Rental unit in Genève · ★4.50 · 1 bedroom · 1 bed · 1 bath",
           "Entire home/apt",
           2,
           100
          ],
          [
           "Rental unit in Genève · ★New · 1 bedroom · 1 bed · 1 bath",
           "Entire home/apt",
           2,
           132
          ],
          [
           "Rental unit in Petit-Lancy · ★New · 3 bedrooms · 3 beds · 1 bath",
           "Entire home/apt",
           6,
           151
          ],
          [
           "Rental unit in Genève · ★3.25 · 1 bedroom · 1 bed · 1 bath",
           "Entire home/apt",
           2,
           101
          ],
          [
           "Rental unit in Genève · ★New · 1 bedroom · 1 bed · 1 bath",
           "Entire home/apt",
           1,
           60
          ],
          [
           "Rental unit in Anières · ★New · 1 bedroom · 1 bed · 1 bath",
           "Entire home/apt",
           2,
           125
          ],
          [
           "Home in Bellevue · ★3.75 · 1 bedroom · 6 beds · 2.5 baths",
           "Entire home/apt",
           10,
           264
          ],
          [
           "Rental unit in Genève · ★New · 1 bedroom · 1 bed · 1 bath",
           "Entire home/apt",
           2,
           71
          ],
          [
           "Rental unit in Genève · ★New · 2 bedrooms · 2 beds · 1.5 baths",
           "Entire home/apt",
           4,
           156
          ],
          [
           "Rental unit in Genève · ★New · 1 bedroom · 1 bed · 1 shared bath",
           "Private room",
           2,
           56
          ],
          [
           "Rental unit in Genève · ★New · 1 bedroom · 1 bed · 1 bath",
           "Entire home/apt",
           2,
           100
          ],
          [
           "Rental unit in Genève · ★4.75 · 2 bedrooms · 2 beds · 1 bath",
           "Entire home/apt",
           4,
           209
          ],
          [
           "Bed and breakfast in Vernier · ★5.0 · 1 bedroom · 1 bed · 1 bath",
           "Private room",
           1,
           57
          ],
          [
           "Rental unit in Genf · ★New · 1 bedroom · 1 bed · 2 baths",
           "Entire home/apt",
           2,
           115
          ],
          [
           "Rental unit in Genève · ★3.40 · 1 bedroom · 2 beds · 1.5 baths",
           "Entire home/apt",
           4,
           90
          ],
          [
           "Rental unit in Genève · ★4.33 · 2 bedrooms · 2 beds · 1 bath",
           "Entire home/apt",
           4,
           132
          ],
          [
           "Rental unit in Genève · ★New · 1 bedroom · 1 bed · 1 bath",
           "Private room",
           1,
           57
          ],
          [
           "Rental unit in Genève · ★5.0 · 2 bedrooms · 1 bed · 1.5 baths",
           "Entire home/apt",
           4,
           170
          ],
          [
           "Rental unit in Genève · ★New · 2 bedrooms · 2 beds · 1 bath",
           "Entire home/apt",
           4,
           148
          ],
          [
           "Bed and breakfast in Genève · ★New · 1 bedroom · 1 bed · 1 shared bath",
           "Private room",
           2,
           64
          ],
          [
           "Rental unit in Chêne-Bourg · ★New · Studio · 1 bed · 1 bath",
           "Entire home/apt",
           2,
           75
          ],
          [
           "Rental unit in Genf · ★4.71 · Studio · 2 beds · 1 bath",
           "Entire home/apt",
           4,
           101
          ],
          [
           "Rental unit in Genève · ★New · 2 bedrooms · 3 beds · 1 bath",
           "Entire home/apt",
           6,
           135
          ],
          [
           "Rental unit in Genève · ★New · Studio · 2 beds · 1 bath",
           "Entire home/apt",
           4,
           109
          ],
          [
           "Rental unit in Genève · ★4.67 · 2 bedrooms · 2 beds · 1 bath",
           "Entire home/apt",
           4,
           210
          ],
          [
           "Rental unit in Genève · ★New · 1 bedroom · 1 bed · 1 bath",
           "Entire home/apt",
           2,
           150
          ],
          [
           "Rental unit in Genève · ★4.67 · 1 bedroom · 1 bed · 1 bath",
           "Private room",
           1,
           52
          ],
          [
           "Rental unit in Genève · ★New · 1 bedroom · 1 bed · 1 bath",
           "Entire home/apt",
           2,
           150
          ],
          [
           "Rental unit in Genève · ★New · 1 bedroom · 2 beds · 1 bath",
           "Entire home/apt",
           2,
           100
          ],
          [
           "Rental unit in Genève · ★New · Studio · 2 beds · 1 bath",
           "Entire home/apt",
           4,
           112
          ],
          [
           "Rental unit in Genève · ★4.75 · 1 bedroom · 1 bed · 1 bath",
           "Entire home/apt",
           2,
           105
          ],
          [
           "Rental unit in Genève · ★New · 1 bedroom · 1 bed · 1 bath",
           "Entire home/apt",
           1,
           105
          ],
          [
           "Condo in Genève · ★5.0 · 1 bedroom · 1 bed · 1.5 baths",
           "Entire home/apt",
           2,
           109
          ],
          [
           "Rental unit in Chêne-Bourg · ★New · 1 bedroom · 1 bed · 1 bath",
           "Entire home/apt",
           2,
           85
          ],
          [
           "Rental unit in Genève · ★New · 1 bedroom · 1 bed · 1 bath",
           "Entire home/apt",
           3,
           180
          ],
          [
           "Rental unit in Genève · ★New · Studio · 1 bed · 1 bath",
           "Entire home/apt",
           2,
           100
          ],
          [
           "Rental unit in Genève · ★New · 1 bedroom · 1 bed · 1.5 baths",
           "Private room",
           2,
           65
          ],
          [
           "Rental unit in Carouge · ★New · 2 bedrooms · 2 beds · 2 baths",
           "Entire home/apt",
           4,
           195
          ],
          [
           "Rental unit in Petit-Lancy · ★New · 1 bedroom · 1 bed · 1 bath",
           "Entire home/apt",
           4,
           100
          ],
          [
           "Rental unit in Genève · ★New · 1 bedroom · 2 beds · 1 bath",
           "Entire home/apt",
           4,
           180
          ],
          [
           "Rental unit in Versoix · ★New · 1 bedroom · 3 beds · 1 bath",
           "Entire home/apt",
           4,
           130
          ],
          [
           "Rental unit in Genève · ★New · 2 bedrooms · 3 beds · 1 bath",
           "Entire home/apt",
           5,
           146
          ],
          [
           "Rental unit in Genève · ★New · 1 bedroom · 2 beds · 1 bath",
           "Entire home/apt",
           2,
           150
          ],
          [
           "Rental unit in Genève · ★New · 1 bedroom · 1 bed · 1 bath",
           "Entire home/apt",
           2,
           110
          ],
          [
           "Rental unit in Genève · ★New · 1 bedroom · 1 bed · 1 bath",
           "Entire home/apt",
           2,
           179
          ],
          [
           "Rental unit in Genève · ★New · 1 bedroom · 2 beds · 2 baths",
           "Entire home/apt",
           4,
           157
          ],
          [
           "Bed and breakfast in Le Grand-Saconnex · ★New · 1 bedroom · 1 bed · 1.5 shared baths",
           "Private room",
           2,
           98
          ],
          [
           "Rental unit in Genève · ★New · 1 bedroom · 2 beds · 1 bath",
           "Entire home/apt",
           3,
           120
          ],
          [
           "Rental unit in Genève · ★New · 1 bedroom · 2 beds · 1 bath",
           "Entire home/apt",
           4,
           110
          ],
          [
           "Rental unit in Genève · ★New · 1 bedroom · 2 beds · 1 bath",
           "Entire home/apt",
           4,
           98
          ],
          [
           "Rental unit in Genève · ★New · 1 bedroom · 1 bed · 2 baths",
           "Private room",
           1,
           74
          ],
          [
           "Rental unit in Genève · ★New · 1 bedroom · 1 bed · 1 bath",
           "Entire home/apt",
           2,
           190
          ],
          [
           "Rental unit in Vandœuvres · ★New · 1 bedroom · 1 bed · 1 bath",
           "Entire home/apt",
           2,
           165
          ],
          [
           "Rental unit in Genève · ★New · 1 bedroom · 1 bed · 1 bath",
           "Entire home/apt",
           2,
           180
          ],
          [
           "Rental unit in Genève · ★New · Studio · 1 bed · 1 bath",
           "Entire home/apt",
           2,
           89
          ],
          [
           "Rental unit in Chêne-Bourg · ★New · 1 bedroom · 1 bed · 1.5 baths",
           "Entire home/apt",
           2,
           80
          ],
          [
           "Rental unit in Genève · ★New · 1 bedroom · 1 bed · 1 bath",
           "Entire home/apt",
           2,
           145
          ],
          [
           "Bed and breakfast in Genève · ★New · 1 bedroom · 1 bed · 1 bath",
           "Private room",
           1,
           73
          ],
          [
           "Rental unit in Genève · ★New · Studio · 2 beds · 1.5 baths",
           "Entire home/apt",
           3,
           89
          ],
          [
           "Rental unit in Le Grand-Saconnex · ★5.0 · 1 bedroom · 1 bed · 1 bath",
           "Entire home/apt",
           2,
           90
          ],
          [
           "Condo in Genève · ★New · 1 bedroom · 2 beds · 1.5 shared baths",
           "Private room",
           3,
           108
          ],
          [
           "Rental unit in Chêne-Bourg · ★New · 2 bedrooms · 2 beds · 1 bath",
           "Entire home/apt",
           4,
           120
          ],
          [
           "Rental unit in Genève · ★New · 1 bedroom · 1 bed · 1 bath",
           "Entire home/apt",
           2,
           113
          ],
          [
           "Rental unit in Cologny · ★New · 2 bedrooms · 3 beds · 1 bath",
           "Entire home/apt",
           4,
           295
          ],
          [
           "Rental unit in Genève · ★New · 1 bedroom · 1 bed · 1.5 baths",
           "Entire home/apt",
           2,
           290
          ],
          [
           "Rental unit in Genève · ★New · 1 bedroom · 1 bed · 1 bath",
           "Entire home/apt",
           2,
           100
          ],
          [
           "Rental unit in Genève · ★New · 1 bedroom · 1 bed · 1 private bath",
           "Private room",
           2,
           80
          ],
          [
           "Condo in Genève · ★New · 2 bedrooms · 2 beds · 1.5 baths",
           "Entire home/apt",
           4,
           82
          ],
          [
           "Farm stay in Puplinge · ★New · 1 bedroom · 1 bed · 1 bath",
           "Entire home/apt",
           2,
           52
          ],
          [
           "Rental unit in Versoix · ★New · 1 bedroom · 1 bed · 1 bath",
           "Entire home/apt",
           2,
           110
          ],
          [
           "Rental unit in Genève · ★New · 1 bedroom · 1 bed · 1 bath",
           "Entire home/apt",
           4,
           100
          ],
          [
           "Home in Le Grand-Saconnex · ★New · 1 bedroom · 1 bed · 1 shared bath",
           "Private room",
           1,
           60
          ],
          [
           "Rental unit in Genève · ★New · Studio · 1 bed · 1 bath",
           "Entire home/apt",
           2,
           86
          ],
          [
           "Rental unit in Genève · ★New · 2 bedrooms · 3 beds · 2 baths",
           "Entire home/apt",
           5,
           193
          ],
          [
           "Rental unit in Genève · ★New · 2 bedrooms · 2 beds · 1 bath",
           "Entire home/apt",
           4,
           190
          ],
          [
           "Rental unit in Le Grand-Saconnex · ★New · 1 bedroom · 2 beds · 1 bath",
           "Entire home/apt",
           4,
           216
          ],
          [
           "Rental unit in Genève · ★New · 1 bedroom · 2 beds · 1 bath",
           "Private room",
           1,
           90
          ],
          [
           "Rental unit in Genève · ★New · 1 bedroom · 1 bed · 1 bath",
           "Entire home/apt",
           2,
           110
          ],
          [
           "Rental unit in Genève · ★New · 1 bedroom · 1 bed · 1 bath",
           "Entire home/apt",
           3,
           128
          ],
          [
           "Rental unit in Genève · ★New · 1 bedroom · 1 bed · 1 bath",
           "Private room",
           2,
           93
          ],
          [
           "Rental unit in Genève · ★New · 1 bedroom · 2 beds · 1 bath",
           "Entire home/apt",
           4,
           101
          ],
          [
           "Rental unit in Genève · ★New · 1 bedroom · 1 bed · 1 bath",
           "Entire home/apt",
           2,
           139
          ],
          [
           "Rental unit in Genève · ★New · 1 bedroom · 1 bed · 1 bath",
           "Entire home/apt",
           3,
           100
          ],
          [
           "Bed and breakfast in Carouge · ★New · 1 bedroom · 1 bed · 1 bath",
           "Private room",
           1,
           57
          ],
          [
           "Rental unit in Genève · ★New · 1 bedroom · 1 bed · 1 bath",
           "Entire home/apt",
           2,
           97
          ],
          [
           "Rental unit in Genève · ★New · 2 bedrooms · 2 beds · 1 bath",
           "Entire home/apt",
           4,
           120
          ],
          [
           "Rental unit in Genève · ★New · 1 bedroom · 2 beds · 1 bath",
           "Entire home/apt",
           4,
           143
          ],
          [
           "Rental unit in Cologny · ★New · 1 bedroom · 1 bed · 1 bath",
           "Entire home/apt",
           2,
           250
          ],
          [
           "Rental unit in Genève · ★New · 3 bedrooms · 3 beds · 3 baths",
           "Entire home/apt",
           4,
           1888
          ],
          [
           "Rental unit in Genève · ★New · 2 bedrooms · 3 beds · 2 baths",
           "Entire home/apt",
           5,
           166
          ],
          [
           "Rental unit in Genève · ★New · 1 bedroom · 1 bed · 1 shared bath",
           "Shared room",
           4,
           44
          ],
          [
           "Rental unit in Genève · ★New · 2 bedrooms · 2 beds · 1.5 baths",
           "Entire home/apt",
           4,
           264
          ],
          [
           "Rental unit in Genève · ★New · 1 bedroom · 1 bed · 1 bath",
           "Entire home/apt",
           1,
           80
          ],
          [
           "Home in Pregny-Chambésy · ★New · 1 bedroom · 1 bed · 1.5 shared baths",
           "Private room",
           2,
           80
          ],
          [
           "Rental unit in Versoix · ★New · 2 bedrooms · 3 beds · 1 bath",
           "Entire home/apt",
           4,
           180
          ],
          [
           "Rental unit in Genève · ★New · 1 bedroom · 1 bed · 1 bath",
           "Entire home/apt",
           2,
           110
          ],
          [
           "Rental unit in Genève · ★New · 1 bedroom · 1 bed · 1 bath",
           "Entire home/apt",
           2,
           74
          ],
          [
           "Rental unit in Genève · ★New · 1 bedroom · 1 bed · 1 bath",
           "Entire home/apt",
           4,
           200
          ],
          [
           "Rental unit in Genève · ★New · 1 bedroom · 1 bed · 1 bath",
           "Private room",
           1,
           80
          ],
          [
           "Rental unit in Lancy · ★New · 1 bedroom · 1 bed · 1 bath",
           "Entire home/apt",
           2,
           118
          ],
          [
           "Rental unit in Genève · ★New · 2 bedrooms · 2 beds · 1 bath",
           "Entire home/apt",
           3,
           124
          ],
          [
           "Rental unit in Lancy · ★New · 1 bedroom · 1 bed · 1 bath",
           "Private room",
           1,
           60
          ],
          [
           "Rental unit in Genève · ★New · 4 bedrooms · 4 beds · 5 baths",
           "Entire home/apt",
           8,
           482
          ]
         ],
         "hovertemplate": "<b>%{hovertext}</b><br><br>latitude=%{lat}<br>longitude=%{lon}<br>name=%{customdata[0]}<br>room_type=%{customdata[1]}<br>accommodates=%{customdata[2]}<br>price=%{marker.color}<extra></extra>",
         "hovertext": [
          "Commune de Genève",
          "Commune de Genève",
          "Commune de Genève",
          "Versoix",
          "Commune de Genève",
          "Commune de Genève",
          "Commune de Genève",
          "Commune de Genève",
          "Commune de Genève",
          "Commune de Genève",
          "Commune de Genève",
          "Commune de Genève",
          "Commune de Genève",
          "Commune de Genève",
          "Commune de Genève",
          "Commune de Genève",
          "Commune de Genève",
          "Commune de Genève",
          "Commune de Genève",
          "Commune de Genève",
          "Commune de Genève",
          "Commune de Genève",
          "Commune de Genève",
          "Commune de Genève",
          "Commune de Genève",
          "Commune de Genève",
          "Commune de Genève",
          "Commune de Genève",
          "Commune de Genève",
          "Genthod",
          "Commune de Genève",
          "Grand-Saconnex",
          "Satigny",
          "Commune de Genève",
          "Grand-Saconnex",
          "Meinier",
          "Commune de Genève",
          "Vernier",
          "Commune de Genève",
          "Commune de Genève",
          "Chêne-Bourg",
          "Commune de Genève",
          "Commune de Genève",
          "Commune de Genève",
          "Commune de Genève",
          "Commune de Genève",
          "Bellevue",
          "Commune de Genève",
          "Commune de Genève",
          "Versoix",
          "Commune de Genève",
          "Veyrier",
          "Commune de Genève",
          "Commune de Genève",
          "Commune de Genève",
          "Commune de Genève",
          "Commune de Genève",
          "Commune de Genève",
          "Commune de Genève",
          "Commune de Genève",
          "Commune de Genève",
          "Commune de Genève",
          "Commune de Genève",
          "Commune de Genève",
          "Commune de Genève",
          "Commune de Genève",
          "Commune de Genève",
          "Commune de Genève",
          "Commune de Genève",
          "Commune de Genève",
          "Commune de Genève",
          "Carouge",
          "Thônex",
          "Commune de Genève",
          "Vernier",
          "Commune de Genève",
          "Commune de Genève",
          "Commune de Genève",
          "Chêne-Bougeries",
          "Commune de Genève",
          "Commune de Genève",
          "Cologny",
          "Commune de Genève",
          "Plan-les-Ouates",
          "Commune de Genève",
          "Commune de Genève",
          "Commune de Genève",
          "Vernier",
          "Plan-les-Ouates",
          "Commune de Genève",
          "Commune de Genève",
          "Commune de Genève",
          "Commune de Genève",
          "Commune de Genève",
          "Plan-les-Ouates",
          "Chêne-Bougeries",
          "Commune de Genève",
          "Vernier",
          "Commune de Genève",
          "Commune de Genève",
          "Carouge",
          "Commune de Genève",
          "Commune de Genève",
          "Commune de Genève",
          "Genthod",
          "Onex",
          "Commune de Genève",
          "Carouge",
          "Commune de Genève",
          "Onex",
          "Commune de Genève",
          "Commune de Genève",
          "Commune de Genève",
          "Commune de Genève",
          "Commune de Genève",
          "Veyrier",
          "Commune de Genève",
          "Vernier",
          "Meyrin",
          "Commune de Genève",
          "Commune de Genève",
          "Commune de Genève",
          "Commune de Genève",
          "Commune de Genève",
          "Commune de Genève",
          "Commune de Genève",
          "Commune de Genève",
          "Commune de Genève",
          "Commune de Genève",
          "Commune de Genève",
          "Commune de Genève",
          "Commune de Genève",
          "Vandoeuvres",
          "Commune de Genève",
          "Pregny-Chambésy",
          "Commune de Genève",
          "Commune de Genève",
          "Lancy",
          "Commune de Genève",
          "Chêne-Bougeries",
          "Commune de Genève",
          "Commune de Genève",
          "Commune de Genève",
          "Commune de Genève",
          "Commune de Genève",
          "Confignon",
          "Commune de Genève",
          "Commune de Genève",
          "Commune de Genève",
          "Commune de Genève",
          "Grand-Saconnex",
          "Carouge",
          "Grand-Saconnex",
          "Commune de Genève",
          "Commune de Genève",
          "Confignon",
          "Commune de Genève",
          "Commune de Genève",
          "Commune de Genève",
          "Thônex",
          "Commune de Genève",
          "Commune de Genève",
          "Commune de Genève",
          "Commune de Genève",
          "Meyrin",
          "Commune de Genève",
          "Commune de Genève",
          "Commune de Genève",
          "Commune de Genève",
          "Commune de Genève",
          "Chêne-Bougeries",
          "Commune de Genève",
          "Collonge-Bellerive",
          "Commune de Genève",
          "Commune de Genève",
          "Commune de Genève",
          "Commune de Genève",
          "Cologny",
          "Commune de Genève",
          "Commune de Genève",
          "Commune de Genève",
          "Bellevue",
          "Commune de Genève",
          "Genthod",
          "Commune de Genève",
          "Commune de Genève",
          "Commune de Genève",
          "Thônex",
          "Commune de Genève",
          "Meyrin",
          "Commune de Genève",
          "Commune de Genève",
          "Commune de Genève",
          "Commune de Genève",
          "Commune de Genève",
          "Commune de Genève",
          "Commune de Genève",
          "Chêne-Bourg",
          "Commune de Genève",
          "Vernier",
          "Grand-Saconnex",
          "Commune de Genève",
          "Onex",
          "Grand-Saconnex",
          "Commune de Genève",
          "Commune de Genève",
          "Commune de Genève",
          "Commune de Genève",
          "Commune de Genève",
          "Commune de Genève",
          "Carouge",
          "Commune de Genève",
          "Commune de Genève",
          "Commune de Genève",
          "Commune de Genève",
          "Commune de Genève",
          "Bardonnex",
          "Commune de Genève",
          "Commune de Genève",
          "Commune de Genève",
          "Chêne-Bougeries",
          "Veyrier",
          "Commune de Genève",
          "Commune de Genève",
          "Commune de Genève",
          "Bellevue",
          "Commune de Genève",
          "Commune de Genève",
          "Thônex",
          "Commune de Genève",
          "Vernier",
          "Commune de Genève",
          "Commune de Genève",
          "Commune de Genève",
          "Commune de Genève",
          "Pregny-Chambésy",
          "Commune de Genève",
          "Commune de Genève",
          "Commune de Genève",
          "Onex",
          "Commune de Genève",
          "Commune de Genève",
          "Onex",
          "Commune de Genève",
          "Commune de Genève",
          "Commune de Genève",
          "Commune de Genève",
          "Bellevue",
          "Commune de Genève",
          "Commune de Genève",
          "Commune de Genève",
          "Commune de Genève",
          "Grand-Saconnex",
          "Commune de Genève",
          "Plan-les-Ouates",
          "Carouge",
          "Commune de Genève",
          "Vernier",
          "Commune de Genève",
          "Commune de Genève",
          "Commune de Genève",
          "Commune de Genève",
          "Commune de Genève",
          "Commune de Genève",
          "Commune de Genève",
          "Commune de Genève",
          "Versoix",
          "Veyrier",
          "Commune de Genève",
          "Commune de Genève",
          "Commune de Genève",
          "Cologny",
          "Commune de Genève",
          "Commune de Genève",
          "Commune de Genève",
          "Commune de Genève",
          "Commune de Genève",
          "Commune de Genève",
          "Chêne-Bougeries",
          "Commune de Genève",
          "Commune de Genève",
          "Commune de Genève",
          "Commune de Genève",
          "Commune de Genève",
          "Commune de Genève",
          "Carouge",
          "Commune de Genève",
          "Commune de Genève",
          "Lancy",
          "Satigny",
          "Commune de Genève",
          "Commune de Genève",
          "Commune de Genève",
          "Genthod",
          "Grand-Saconnex",
          "Commune de Genève",
          "Commune de Genève",
          "Commune de Genève",
          "Commune de Genève",
          "Versoix",
          "Versoix",
          "Commune de Genève",
          "Commune de Genève",
          "Commune de Genève",
          "Cologny",
          "Commune de Genève",
          "Commune de Genève",
          "Onex",
          "Commune de Genève",
          "Pregny-Chambésy",
          "Commune de Genève",
          "Commune de Genève",
          "Vernier",
          "Commune de Genève",
          "Grand-Saconnex",
          "Commune de Genève",
          "Commune de Genève",
          "Collonge-Bellerive",
          "Commune de Genève",
          "Commune de Genève",
          "Commune de Genève",
          "Commune de Genève",
          "Thônex",
          "Carouge",
          "Commune de Genève",
          "Versoix",
          "Commune de Genève",
          "Commune de Genève",
          "Commune de Genève",
          "Chêne-Bougeries",
          "Lancy",
          "Commune de Genève",
          "Meyrin",
          "Commune de Genève",
          "Commune de Genève",
          "Bellevue",
          "Commune de Genève",
          "Commune de Genève",
          "Vernier",
          "Commune de Genève",
          "Grand-Saconnex",
          "Commune de Genève",
          "Veyrier",
          "Onex",
          "Genthod",
          "Commune de Genève",
          "Commune de Genève",
          "Commune de Genève",
          "Commune de Genève",
          "Commune de Genève",
          "Commune de Genève",
          "Commune de Genève",
          "Commune de Genève",
          "Commune de Genève",
          "Commune de Genève",
          "Cologny",
          "Commune de Genève",
          "Commune de Genève",
          "Commune de Genève",
          "Commune de Genève",
          "Commune de Genève",
          "Commune de Genève",
          "Commune de Genève",
          "Commune de Genève",
          "Commune de Genève",
          "Meyrin",
          "Commune de Genève",
          "Commune de Genève",
          "Commune de Genève",
          "Commune de Genève",
          "Commune de Genève",
          "Grand-Saconnex",
          "Lancy",
          "Commune de Genève",
          "Soral",
          "Commune de Genève",
          "Bellevue",
          "Chêne-Bougeries",
          "Commune de Genève",
          "Commune de Genève",
          "Commune de Genève",
          "Commune de Genève",
          "Commune de Genève",
          "Commune de Genève",
          "Versoix",
          "Commune de Genève",
          "Laconnex",
          "Commune de Genève",
          "Thônex",
          "Lancy",
          "Commune de Genève",
          "Grand-Saconnex",
          "Commune de Genève",
          "Commune de Genève",
          "Commune de Genève",
          "Commune de Genève",
          "Commune de Genève",
          "Commune de Genève",
          "Grand-Saconnex",
          "Commune de Genève",
          "Lancy",
          "Grand-Saconnex",
          "Commune de Genève",
          "Commune de Genève",
          "Commune de Genève",
          "Meyrin",
          "Lancy",
          "Commune de Genève",
          "Cologny",
          "Commune de Genève",
          "Collonge-Bellerive",
          "Commune de Genève",
          "Commune de Genève",
          "Commune de Genève",
          "Commune de Genève",
          "Commune de Genève",
          "Commune de Genève",
          "Versoix",
          "Commune de Genève",
          "Commune de Genève",
          "Commune de Genève",
          "Commune de Genève",
          "Commune de Genève",
          "Vernier",
          "Chêne-Bourg",
          "Laconnex",
          "Commune de Genève",
          "Commune de Genève",
          "Commune de Genève",
          "Lancy",
          "Commune de Genève",
          "Commune de Genève",
          "Commune de Genève",
          "Commune de Genève",
          "Bernex",
          "Commune de Genève",
          "Commune de Genève",
          "Versoix",
          "Vernier",
          "Commune de Genève",
          "Commune de Genève",
          "Commune de Genève",
          "Commune de Genève",
          "Commune de Genève",
          "Commune de Genève",
          "Commune de Genève",
          "Vernier",
          "Commune de Genève",
          "Commune de Genève",
          "Commune de Genève",
          "Commune de Genève",
          "Grand-Saconnex",
          "Plan-les-Ouates",
          "Commune de Genève",
          "Commune de Genève",
          "Meyrin",
          "Commune de Genève",
          "Commune de Genève",
          "Commune de Genève",
          "Commune de Genève",
          "Commune de Genève",
          "Commune de Genève",
          "Commune de Genève",
          "Lancy",
          "Commune de Genève",
          "Commune de Genève",
          "Commune de Genève",
          "Commune de Genève",
          "Versoix",
          "Commune de Genève",
          "Commune de Genève",
          "Commune de Genève",
          "Commune de Genève",
          "Commune de Genève",
          "Bardonnex",
          "Commune de Genève",
          "Commune de Genève",
          "Commune de Genève",
          "Commune de Genève",
          "Commune de Genève",
          "Commune de Genève",
          "Carouge",
          "Commune de Genève",
          "Commune de Genève",
          "Carouge",
          "Commune de Genève",
          "Carouge",
          "Commune de Genève",
          "Commune de Genève",
          "Commune de Genève",
          "Commune de Genève",
          "Commune de Genève",
          "Commune de Genève",
          "Pregny-Chambésy",
          "Commune de Genève",
          "Carouge",
          "Vernier",
          "Bellevue",
          "Commune de Genève",
          "Commune de Genève",
          "Commune de Genève",
          "Commune de Genève",
          "Commune de Genève",
          "Commune de Genève",
          "Commune de Genève",
          "Commune de Genève",
          "Chêne-Bougeries",
          "Commune de Genève",
          "Commune de Genève",
          "Commune de Genève",
          "Lancy",
          "Commune de Genève",
          "Commune de Genève",
          "Chêne-Bougeries",
          "Commune de Genève",
          "Commune de Genève",
          "Commune de Genève",
          "Grand-Saconnex",
          "Grand-Saconnex",
          "Commune de Genève",
          "Commune de Genève",
          "Hermance",
          "Cologny",
          "Commune de Genève",
          "Pregny-Chambésy",
          "Grand-Saconnex",
          "Commune de Genève",
          "Meinier",
          "Commune de Genève",
          "Commune de Genève",
          "Carouge",
          "Commune de Genève",
          "Chêne-Bourg",
          "Commune de Genève",
          "Grand-Saconnex",
          "Grand-Saconnex",
          "Commune de Genève",
          "Lancy",
          "Commune de Genève",
          "Vernier",
          "Commune de Genève",
          "Commune de Genève",
          "Bardonnex",
          "Commune de Genève",
          "Commune de Genève",
          "Commune de Genève",
          "Commune de Genève",
          "Versoix",
          "Commune de Genève",
          "Commune de Genève",
          "Commune de Genève",
          "Commune de Genève",
          "Grand-Saconnex",
          "Commune de Genève",
          "Commune de Genève",
          "Meyrin",
          "Commune de Genève",
          "Commune de Genève",
          "Commune de Genève",
          "Commune de Genève",
          "Commune de Genève",
          "Commune de Genève",
          "Commune de Genève",
          "Commune de Genève",
          "Commune de Genève",
          "Carouge",
          "Chêne-Bougeries",
          "Lancy",
          "Commune de Genève",
          "Commune de Genève",
          "Commune de Genève",
          "Commune de Genève",
          "Chêne-Bougeries",
          "Chêne-Bougeries",
          "Commune de Genève",
          "Commune de Genève",
          "Commune de Genève",
          "Carouge",
          "Commune de Genève",
          "Bellevue",
          "Commune de Genève",
          "Commune de Genève",
          "Commune de Genève",
          "Commune de Genève",
          "Carouge",
          "Commune de Genève",
          "Commune de Genève",
          "Commune de Genève",
          "Lancy",
          "Commune de Genève",
          "Commune de Genève",
          "Commune de Genève",
          "Commune de Genève",
          "Commune de Genève",
          "Versoix",
          "Commune de Genève",
          "Commune de Genève",
          "Commune de Genève",
          "Commune de Genève",
          "Commune de Genève",
          "Commune de Genève",
          "Commune de Genève",
          "Plan-les-Ouates",
          "Commune de Genève",
          "Commune de Genève",
          "Commune de Genève",
          "Pregny-Chambésy",
          "Commune de Genève",
          "Veyrier",
          "Commune de Genève",
          "Lancy",
          "Meyrin",
          "Pregny-Chambésy",
          "Commune de Genève",
          "Pregny-Chambésy",
          "Commune de Genève",
          "Commune de Genève",
          "Grand-Saconnex",
          "Commune de Genève",
          "Commune de Genève",
          "Commune de Genève",
          "Commune de Genève",
          "Commune de Genève",
          "Commune de Genève",
          "Commune de Genève",
          "Commune de Genève",
          "Commune de Genève",
          "Commune de Genève",
          "Vernier",
          "Commune de Genève",
          "Commune de Genève",
          "Commune de Genève",
          "Cologny",
          "Commune de Genève",
          "Commune de Genève",
          "Commune de Genève",
          "Commune de Genève",
          "Commune de Genève",
          "Carouge",
          "Versoix",
          "Vernier",
          "Commune de Genève",
          "Commune de Genève",
          "Commune de Genève",
          "Commune de Genève",
          "Vernier",
          "Commune de Genève",
          "Cologny",
          "Commune de Genève",
          "Commune de Genève",
          "Commune de Genève",
          "Collonge-Bellerive",
          "Commune de Genève",
          "Commune de Genève",
          "Commune de Genève",
          "Commune de Genève",
          "Commune de Genève",
          "Commune de Genève",
          "Commune de Genève",
          "Commune de Genève",
          "Commune de Genève",
          "Commune de Genève",
          "Commune de Genève",
          "Commune de Genève",
          "Chêne-Bougeries",
          "Commune de Genève",
          "Commune de Genève",
          "Commune de Genève",
          "Plan-les-Ouates",
          "Commune de Genève",
          "Commune de Genève",
          "Thônex",
          "Commune de Genève",
          "Commune de Genève",
          "Commune de Genève",
          "Commune de Genève",
          "Commune de Genève",
          "Commune de Genève",
          "Commune de Genève",
          "Commune de Genève",
          "Commune de Genève",
          "Commune de Genève",
          "Commune de Genève",
          "Chêne-Bougeries",
          "Commune de Genève",
          "Commune de Genève",
          "Commune de Genève",
          "Carouge",
          "Anières",
          "Commune de Genève",
          "Commune de Genève",
          "Commune de Genève",
          "Commune de Genève",
          "Commune de Genève",
          "Commune de Genève",
          "Commune de Genève",
          "Commune de Genève",
          "Carouge",
          "Carouge",
          "Commune de Genève",
          "Commune de Genève",
          "Lancy",
          "Commune de Genève",
          "Commune de Genève",
          "Commune de Genève",
          "Commune de Genève",
          "Commune de Genève",
          "Commune de Genève",
          "Commune de Genève",
          "Carouge",
          "Commune de Genève",
          "Commune de Genève",
          "Meyrin",
          "Commune de Genève",
          "Commune de Genève",
          "Commune de Genève",
          "Carouge",
          "Commune de Genève",
          "Lancy",
          "Commune de Genève",
          "Commune de Genève",
          "Commune de Genève",
          "Meyrin",
          "Commune de Genève",
          "Commune de Genève",
          "Meyrin",
          "Commune de Genève",
          "Commune de Genève",
          "Commune de Genève",
          "Grand-Saconnex",
          "Commune de Genève",
          "Commune de Genève",
          "Meyrin",
          "Lancy",
          "Commune de Genève",
          "Commune de Genève",
          "Commune de Genève",
          "Lancy",
          "Commune de Genève",
          "Commune de Genève",
          "Anières",
          "Commune de Genève",
          "Commune de Genève",
          "Grand-Saconnex",
          "Carouge",
          "Carouge",
          "Commune de Genève",
          "Commune de Genève",
          "Lancy",
          "Versoix",
          "Versoix",
          "Chêne-Bourg",
          "Dardagny",
          "Commune de Genève",
          "Commune de Genève",
          "Puplinge",
          "Commune de Genève",
          "Chêne-Bougeries",
          "Commune de Genève",
          "Commune de Genève",
          "Commune de Genève",
          "Commune de Genève",
          "Commune de Genève",
          "Commune de Genève",
          "Puplinge",
          "Commune de Genève",
          "Commune de Genève",
          "Commune de Genève",
          "Commune de Genève",
          "Commune de Genève",
          "Commune de Genève",
          "Commune de Genève",
          "Carouge",
          "Commune de Genève",
          "Commune de Genève",
          "Carouge",
          "Commune de Genève",
          "Lancy",
          "Veyrier",
          "Versoix",
          "Commune de Genève",
          "Commune de Genève",
          "Vernier",
          "Commune de Genève",
          "Commune de Genève",
          "Commune de Genève",
          "Commune de Genève",
          "Vernier",
          "Cologny",
          "Vernier",
          "Vernier",
          "Commune de Genève",
          "Commune de Genève",
          "Commune de Genève",
          "Commune de Genève",
          "Commune de Genève",
          "Chêne-Bougeries",
          "Commune de Genève",
          "Commune de Genève",
          "Chêne-Bougeries",
          "Commune de Genève",
          "Commune de Genève",
          "Commune de Genève",
          "Commune de Genève",
          "Chêne-Bougeries",
          "Vernier",
          "Commune de Genève",
          "Commune de Genève",
          "Commune de Genève",
          "Commune de Genève",
          "Cologny",
          "Thônex",
          "Cologny",
          "Vernier",
          "Grand-Saconnex",
          "Carouge",
          "Commune de Genève",
          "Commune de Genève",
          "Chêne-Bougeries",
          "Commune de Genève",
          "Chêne-Bougeries",
          "Vernier",
          "Plan-les-Ouates",
          "Commune de Genève",
          "Grand-Saconnex",
          "Meyrin",
          "Thônex",
          "Anières",
          "Thônex",
          "Commune de Genève",
          "Commune de Genève",
          "Meyrin",
          "Commune de Genève",
          "Commune de Genève",
          "Commune de Genève",
          "Grand-Saconnex",
          "Thônex",
          "Thônex",
          "Commune de Genève",
          "Commune de Genève",
          "Commune de Genève",
          "Grand-Saconnex",
          "Commune de Genève",
          "Lancy",
          "Commune de Genève",
          "Chêne-Bougeries",
          "Commune de Genève",
          "Commune de Genève",
          "Commune de Genève",
          "Vernier",
          "Commune de Genève",
          "Veyrier",
          "Chêne-Bougeries",
          "Chêne-Bougeries",
          "Commune de Genève",
          "Commune de Genève",
          "Commune de Genève",
          "Commune de Genève",
          "Commune de Genève",
          "Commune de Genève",
          "Commune de Genève",
          "Commune de Genève",
          "Commune de Genève",
          "Commune de Genève",
          "Commune de Genève",
          "Commune de Genève",
          "Commune de Genève",
          "Bellevue",
          "Commune de Genève",
          "Commune de Genève",
          "Commune de Genève",
          "Commune de Genève",
          "Céligny",
          "Commune de Genève",
          "Commune de Genève",
          "Commune de Genève",
          "Hermance",
          "Commune de Genève",
          "Commune de Genève",
          "Commune de Genève",
          "Commune de Genève",
          "Commune de Genève",
          "Commune de Genève",
          "Versoix",
          "Commune de Genève",
          "Commune de Genève",
          "Commune de Genève",
          "Grand-Saconnex",
          "Commune de Genève",
          "Commune de Genève",
          "Commune de Genève",
          "Gy",
          "Commune de Genève",
          "Commune de Genève",
          "Commune de Genève",
          "Commune de Genève",
          "Commune de Genève",
          "Commune de Genève",
          "Onex",
          "Chêne-Bougeries",
          "Versoix",
          "Commune de Genève",
          "Commune de Genève",
          "Commune de Genève",
          "Commune de Genève",
          "Grand-Saconnex",
          "Grand-Saconnex",
          "Commune de Genève",
          "Commune de Genève",
          "Meyrin",
          "Onex",
          "Commune de Genève",
          "Commune de Genève",
          "Versoix",
          "Commune de Genève",
          "Commune de Genève",
          "Commune de Genève",
          "Grand-Saconnex",
          "Plan-les-Ouates",
          "Bellevue",
          "Commune de Genève",
          "Vandoeuvres",
          "Commune de Genève",
          "Grand-Saconnex",
          "Commune de Genève",
          "Commune de Genève",
          "Commune de Genève",
          "Commune de Genève",
          "Meyrin",
          "Commune de Genève",
          "Vernier",
          "Lancy",
          "Collonge-Bellerive",
          "Commune de Genève",
          "Commune de Genève",
          "Plan-les-Ouates",
          "Commune de Genève",
          "Commune de Genève",
          "Commune de Genève",
          "Thônex",
          "Plan-les-Ouates",
          "Grand-Saconnex",
          "Grand-Saconnex",
          "Grand-Saconnex",
          "Commune de Genève",
          "Commune de Genève",
          "Vernier",
          "Thônex",
          "Thônex",
          "Commune de Genève",
          "Commune de Genève",
          "Commune de Genève",
          "Commune de Genève",
          "Commune de Genève",
          "Commune de Genève",
          "Commune de Genève",
          "Thônex",
          "Lancy",
          "Commune de Genève",
          "Commune de Genève",
          "Chêne-Bougeries",
          "Chêne-Bougeries",
          "Commune de Genève",
          "Commune de Genève",
          "Russin",
          "Commune de Genève",
          "Cologny",
          "Thônex",
          "Commune de Genève",
          "Commune de Genève",
          "Grand-Saconnex",
          "Vernier",
          "Commune de Genève",
          "Chêne-Bourg",
          "Bellevue",
          "Carouge",
          "Commune de Genève",
          "Commune de Genève",
          "Commune de Genève",
          "Commune de Genève",
          "Commune de Genève",
          "Onex",
          "Commune de Genève",
          "Thônex",
          "Commune de Genève",
          "Carouge",
          "Commune de Genève",
          "Commune de Genève",
          "Commune de Genève",
          "Commune de Genève",
          "Commune de Genève",
          "Commune de Genève",
          "Commune de Genève",
          "Versoix",
          "Commune de Genève",
          "Commune de Genève",
          "Commune de Genève",
          "Commune de Genève",
          "Commune de Genève",
          "Commune de Genève",
          "Commune de Genève",
          "Commune de Genève",
          "Meyrin",
          "Versoix",
          "Commune de Genève",
          "Commune de Genève",
          "Thônex",
          "Commune de Genève",
          "Collonge-Bellerive",
          "Commune de Genève",
          "Commune de Genève",
          "Commune de Genève",
          "Commune de Genève",
          "Commune de Genève",
          "Commune de Genève",
          "Commune de Genève",
          "Grand-Saconnex",
          "Grand-Saconnex",
          "Commune de Genève",
          "Grand-Saconnex",
          "Commune de Genève",
          "Commune de Genève",
          "Grand-Saconnex",
          "Commune de Genève",
          "Commune de Genève",
          "Commune de Genève",
          "Grand-Saconnex",
          "Thônex",
          "Carouge",
          "Carouge",
          "Carouge",
          "Commune de Genève",
          "Bernex",
          "Commune de Genève",
          "Commune de Genève",
          "Commune de Genève",
          "Carouge",
          "Commune de Genève",
          "Commune de Genève",
          "Commune de Genève",
          "Commune de Genève",
          "Plan-les-Ouates",
          "Carouge",
          "Commune de Genève",
          "Commune de Genève",
          "Commune de Genève",
          "Commune de Genève",
          "Commune de Genève",
          "Commune de Genève",
          "Commune de Genève",
          "Commune de Genève",
          "Commune de Genève",
          "Commune de Genève",
          "Commune de Genève",
          "Commune de Genève",
          "Commune de Genève",
          "Commune de Genève",
          "Commune de Genève",
          "Commune de Genève",
          "Commune de Genève",
          "Lancy",
          "Chêne-Bourg",
          "Commune de Genève",
          "Commune de Genève",
          "Thônex",
          "Thônex",
          "Commune de Genève",
          "Commune de Genève",
          "Thônex",
          "Grand-Saconnex",
          "Commune de Genève",
          "Commune de Genève",
          "Commune de Genève",
          "Commune de Genève",
          "Commune de Genève",
          "Commune de Genève",
          "Commune de Genève",
          "Commune de Genève",
          "Commune de Genève",
          "Versoix",
          "Commune de Genève",
          "Commune de Genève",
          "Commune de Genève",
          "Commune de Genève",
          "Vernier",
          "Commune de Genève",
          "Commune de Genève",
          "Commune de Genève",
          "Thônex",
          "Commune de Genève",
          "Commune de Genève",
          "Commune de Genève",
          "Commune de Genève",
          "Commune de Genève",
          "Commune de Genève",
          "Commune de Genève",
          "Dardagny",
          "Commune de Genève",
          "Commune de Genève",
          "Commune de Genève",
          "Commune de Genève",
          "Commune de Genève",
          "Commune de Genève",
          "Commune de Genève",
          "Commune de Genève",
          "Commune de Genève",
          "Commune de Genève",
          "Carouge",
          "Carouge",
          "Commune de Genève",
          "Bellevue",
          "Commune de Genève",
          "Commune de Genève",
          "Thônex",
          "Commune de Genève",
          "Commune de Genève",
          "Commune de Genève",
          "Commune de Genève",
          "Commune de Genève",
          "Commune de Genève",
          "Commune de Genève",
          "Commune de Genève",
          "Commune de Genève",
          "Pregny-Chambésy",
          "Commune de Genève",
          "Commune de Genève",
          "Commune de Genève",
          "Commune de Genève",
          "Commune de Genève",
          "Commune de Genève",
          "Commune de Genève",
          "Commune de Genève",
          "Commune de Genève",
          "Commune de Genève",
          "Commune de Genève",
          "Commune de Genève",
          "Commune de Genève",
          "Carouge",
          "Commune de Genève",
          "Commune de Genève",
          "Commune de Genève",
          "Commune de Genève",
          "Commune de Genève",
          "Commune de Genève",
          "Commune de Genève",
          "Commune de Genève",
          "Commune de Genève",
          "Corsier",
          "Commune de Genève",
          "Commune de Genève",
          "Commune de Genève",
          "Troinex",
          "Commune de Genève",
          "Commune de Genève",
          "Commune de Genève",
          "Commune de Genève",
          "Commune de Genève",
          "Commune de Genève",
          "Commune de Genève",
          "Commune de Genève",
          "Lancy",
          "Commune de Genève",
          "Commune de Genève",
          "Commune de Genève",
          "Commune de Genève",
          "Commune de Genève",
          "Chêne-Bourg",
          "Commune de Genève",
          "Commune de Genève",
          "Commune de Genève",
          "Meinier",
          "Commune de Genève",
          "Vernier",
          "Commune de Genève",
          "Versoix",
          "Commune de Genève",
          "Commune de Genève",
          "Commune de Genève",
          "Carouge",
          "Versoix",
          "Commune de Genève",
          "Commune de Genève",
          "Commune de Genève",
          "Commune de Genève",
          "Commune de Genève",
          "Commune de Genève",
          "Commune de Genève",
          "Commune de Genève",
          "Commune de Genève",
          "Commune de Genève",
          "Commune de Genève",
          "Carouge",
          "Commune de Genève",
          "Commune de Genève",
          "Chêne-Bougeries",
          "Meyrin",
          "Commune de Genève",
          "Pregny-Chambésy",
          "Commune de Genève",
          "Cologny",
          "Vernier",
          "Commune de Genève",
          "Commune de Genève",
          "Commune de Genève",
          "Troinex",
          "Commune de Genève",
          "Commune de Genève",
          "Commune de Genève",
          "Commune de Genève",
          "Commune de Genève",
          "Commune de Genève",
          "Cologny",
          "Commune de Genève",
          "Commune de Genève",
          "Commune de Genève",
          "Commune de Genève",
          "Commune de Genève",
          "Chêne-Bougeries",
          "Commune de Genève",
          "Corsier",
          "Commune de Genève",
          "Commune de Genève",
          "Pregny-Chambésy",
          "Commune de Genève",
          "Versoix",
          "Commune de Genève",
          "Commune de Genève",
          "Thônex",
          "Pregny-Chambésy",
          "Commune de Genève",
          "Commune de Genève",
          "Vernier",
          "Commune de Genève",
          "Carouge",
          "Commune de Genève",
          "Carouge",
          "Commune de Genève",
          "Carouge",
          "Commune de Genève",
          "Commune de Genève",
          "Commune de Genève",
          "Vernier",
          "Commune de Genève",
          "Commune de Genève",
          "Vernier",
          "Commune de Genève",
          "Veyrier",
          "Commune de Genève",
          "Commune de Genève",
          "Lancy",
          "Commune de Genève",
          "Commune de Genève",
          "Commune de Genève",
          "Chêne-Bougeries",
          "Commune de Genève",
          "Commune de Genève",
          "Commune de Genève",
          "Commune de Genève",
          "Commune de Genève",
          "Commune de Genève",
          "Commune de Genève",
          "Commune de Genève",
          "Commune de Genève",
          "Commune de Genève",
          "Commune de Genève",
          "Commune de Genève",
          "Commune de Genève",
          "Commune de Genève",
          "Commune de Genève",
          "Commune de Genève",
          "Commune de Genève",
          "Commune de Genève",
          "Commune de Genève",
          "Commune de Genève",
          "Commune de Genève",
          "Commune de Genève",
          "Commune de Genève",
          "Thônex",
          "Commune de Genève",
          "Commune de Genève",
          "Commune de Genève",
          "Commune de Genève",
          "Commune de Genève",
          "Grand-Saconnex",
          "Commune de Genève",
          "Commune de Genève",
          "Commune de Genève",
          "Commune de Genève",
          "Commune de Genève",
          "Commune de Genève",
          "Commune de Genève",
          "Commune de Genève",
          "Commune de Genève",
          "Commune de Genève",
          "Commune de Genève",
          "Commune de Genève",
          "Commune de Genève",
          "Commune de Genève",
          "Commune de Genève",
          "Commune de Genève",
          "Commune de Genève",
          "Commune de Genève",
          "Commune de Genève",
          "Grand-Saconnex",
          "Commune de Genève",
          "Grand-Saconnex",
          "Commune de Genève",
          "Commune de Genève",
          "Commune de Genève",
          "Commune de Genève",
          "Commune de Genève",
          "Commune de Genève",
          "Commune de Genève",
          "Commune de Genève",
          "Commune de Genève",
          "Commune de Genève",
          "Collonge-Bellerive",
          "Versoix",
          "Commune de Genève",
          "Commune de Genève",
          "Commune de Genève",
          "Commune de Genève",
          "Commune de Genève",
          "Plan-les-Ouates",
          "Commune de Genève",
          "Bernex",
          "Presinge",
          "Thônex",
          "Commune de Genève",
          "Bernex",
          "Commune de Genève",
          "Commune de Genève",
          "Commune de Genève",
          "Commune de Genève",
          "Veyrier",
          "Commune de Genève",
          "Commune de Genève",
          "Meyrin",
          "Commune de Genève",
          "Lancy",
          "Commune de Genève",
          "Chêne-Bourg",
          "Commune de Genève",
          "Commune de Genève",
          "Commune de Genève",
          "Commune de Genève",
          "Commune de Genève",
          "Versoix",
          "Commune de Genève",
          "Grand-Saconnex",
          "Commune de Genève",
          "Commune de Genève",
          "Commune de Genève",
          "Commune de Genève",
          "Chêne-Bourg",
          "Commune de Genève",
          "Commune de Genève",
          "Commune de Genève",
          "Commune de Genève",
          "Carouge",
          "Commune de Genève",
          "Commune de Genève",
          "Commune de Genève",
          "Commune de Genève",
          "Commune de Genève",
          "Commune de Genève",
          "Commune de Genève",
          "Commune de Genève",
          "Meyrin",
          "Commune de Genève",
          "Commune de Genève",
          "Commune de Genève",
          "Commune de Genève",
          "Commune de Genève",
          "Commune de Genève",
          "Commune de Genève",
          "Commune de Genève",
          "Commune de Genève",
          "Commune de Genève",
          "Commune de Genève",
          "Commune de Genève",
          "Commune de Genève",
          "Lancy",
          "Commune de Genève",
          "Commune de Genève",
          "Commune de Genève",
          "Carouge",
          "Commune de Genève",
          "Commune de Genève",
          "Commune de Genève",
          "Commune de Genève",
          "Commune de Genève",
          "Commune de Genève",
          "Commune de Genève",
          "Commune de Genève",
          "Hermance",
          "Versoix",
          "Vernier",
          "Commune de Genève",
          "Onex",
          "Thônex",
          "Commune de Genève",
          "Commune de Genève",
          "Commune de Genève",
          "Commune de Genève",
          "Commune de Genève",
          "Commune de Genève",
          "Commune de Genève",
          "Meyrin",
          "Meyrin",
          "Meyrin",
          "Laconnex",
          "Grand-Saconnex",
          "Commune de Genève",
          "Commune de Genève",
          "Commune de Genève",
          "Commune de Genève",
          "Commune de Genève",
          "Commune de Genève",
          "Soral",
          "Commune de Genève",
          "Carouge",
          "Commune de Genève",
          "Commune de Genève",
          "Commune de Genève",
          "Commune de Genève",
          "Vernier",
          "Commune de Genève",
          "Commune de Genève",
          "Vernier",
          "Commune de Genève",
          "Commune de Genève",
          "Commune de Genève",
          "Commune de Genève",
          "Chêne-Bourg",
          "Commune de Genève",
          "Commune de Genève",
          "Commune de Genève",
          "Commune de Genève",
          "Commune de Genève",
          "Commune de Genève",
          "Vernier",
          "Commune de Genève",
          "Commune de Genève",
          "Commune de Genève",
          "Commune de Genève",
          "Commune de Genève",
          "Plan-les-Ouates",
          "Commune de Genève",
          "Commune de Genève",
          "Commune de Genève",
          "Commune de Genève",
          "Commune de Genève",
          "Vernier",
          "Vernier",
          "Commune de Genève",
          "Vernier",
          "Commune de Genève",
          "Commune de Genève",
          "Commune de Genève",
          "Commune de Genève",
          "Commune de Genève",
          "Commune de Genève",
          "Commune de Genève",
          "Commune de Genève",
          "Commune de Genève",
          "Commune de Genève",
          "Commune de Genève",
          "Commune de Genève",
          "Commune de Genève",
          "Vernier",
          "Thônex",
          "Plan-les-Ouates",
          "Versoix",
          "Commune de Genève",
          "Commune de Genève",
          "Commune de Genève",
          "Carouge",
          "Commune de Genève",
          "Commune de Genève",
          "Commune de Genève",
          "Commune de Genève",
          "Commune de Genève",
          "Grand-Saconnex",
          "Commune de Genève",
          "Commune de Genève",
          "Troinex",
          "Commune de Genève",
          "Commune de Genève",
          "Commune de Genève",
          "Commune de Genève",
          "Chêne-Bougeries",
          "Commune de Genève",
          "Chêne-Bourg",
          "Commune de Genève",
          "Commune de Genève",
          "Commune de Genève",
          "Commune de Genève",
          "Commune de Genève",
          "Commune de Genève",
          "Commune de Genève",
          "Commune de Genève",
          "Commune de Genève",
          "Commune de Genève",
          "Commune de Genève",
          "Commune de Genève",
          "Commune de Genève",
          "Veyrier",
          "Commune de Genève",
          "Commune de Genève",
          "Commune de Genève",
          "Commune de Genève",
          "Commune de Genève",
          "Commune de Genève",
          "Commune de Genève",
          "Commune de Genève",
          "Commune de Genève",
          "Commune de Genève",
          "Commune de Genève",
          "Commune de Genève",
          "Commune de Genève",
          "Commune de Genève",
          "Onex",
          "Commune de Genève",
          "Commune de Genève",
          "Commune de Genève",
          "Commune de Genève",
          "Commune de Genève",
          "Commune de Genève",
          "Meinier",
          "Commune de Genève",
          "Commune de Genève",
          "Vernier",
          "Commune de Genève",
          "Commune de Genève",
          "Commune de Genève",
          "Commune de Genève",
          "Commune de Genève",
          "Commune de Genève",
          "Commune de Genève",
          "Commune de Genève",
          "Versoix",
          "Commune de Genève",
          "Commune de Genève",
          "Commune de Genève",
          "Commune de Genève",
          "Commune de Genève",
          "Commune de Genève",
          "Onex",
          "Commune de Genève",
          "Commune de Genève",
          "Commune de Genève",
          "Thônex",
          "Commune de Genève",
          "Commune de Genève",
          "Commune de Genève",
          "Bernex",
          "Carouge",
          "Commune de Genève",
          "Commune de Genève",
          "Commune de Genève",
          "Carouge",
          "Commune de Genève",
          "Grand-Saconnex",
          "Commune de Genève",
          "Commune de Genève",
          "Commune de Genève",
          "Commune de Genève",
          "Commune de Genève",
          "Chêne-Bougeries",
          "Commune de Genève",
          "Commune de Genève",
          "Commune de Genève",
          "Commune de Genève",
          "Commune de Genève",
          "Commune de Genève",
          "Commune de Genève",
          "Commune de Genève",
          "Commune de Genève",
          "Commune de Genève",
          "Commune de Genève",
          "Carouge",
          "Cologny",
          "Commune de Genève",
          "Commune de Genève",
          "Commune de Genève",
          "Commune de Genève",
          "Commune de Genève",
          "Carouge",
          "Cologny",
          "Cologny",
          "Commune de Genève",
          "Vernier",
          "Commune de Genève",
          "Commune de Genève",
          "Commune de Genève",
          "Commune de Genève",
          "Commune de Genève",
          "Commune de Genève",
          "Commune de Genève",
          "Vernier",
          "Commune de Genève",
          "Commune de Genève",
          "Commune de Genève",
          "Lancy",
          "Commune de Genève",
          "Commune de Genève",
          "Commune de Genève",
          "Bernex",
          "Onex",
          "Commune de Genève",
          "Hermance",
          "Commune de Genève",
          "Commune de Genève",
          "Commune de Genève",
          "Commune de Genève",
          "Commune de Genève",
          "Commune de Genève",
          "Commune de Genève",
          "Commune de Genève",
          "Lancy",
          "Corsier",
          "Commune de Genève",
          "Commune de Genève",
          "Commune de Genève",
          "Commune de Genève",
          "Commune de Genève",
          "Satigny",
          "Commune de Genève",
          "Commune de Genève",
          "Commune de Genève",
          "Commune de Genève",
          "Commune de Genève",
          "Genthod",
          "Commune de Genève",
          "Commune de Genève",
          "Veyrier",
          "Commune de Genève",
          "Commune de Genève",
          "Commune de Genève",
          "Avully",
          "Commune de Genève",
          "Thônex",
          "Hermance",
          "Commune de Genève",
          "Chêne-Bourg",
          "Vernier",
          "Commune de Genève",
          "Plan-les-Ouates",
          "Versoix",
          "Commune de Genève",
          "Versoix",
          "Commune de Genève",
          "Commune de Genève",
          "Versoix",
          "Commune de Genève",
          "Commune de Genève",
          "Troinex",
          "Commune de Genève",
          "Commune de Genève",
          "Commune de Genève",
          "Commune de Genève",
          "Commune de Genève",
          "Commune de Genève",
          "Commune de Genève",
          "Commune de Genève",
          "Commune de Genève",
          "Commune de Genève",
          "Commune de Genève",
          "Commune de Genève",
          "Commune de Genève",
          "Commune de Genève",
          "Commune de Genève",
          "Commune de Genève",
          "Commune de Genève",
          "Commune de Genève",
          "Versoix",
          "Veyrier",
          "Commune de Genève",
          "Commune de Genève",
          "Grand-Saconnex",
          "Versoix",
          "Commune de Genève",
          "Grand-Saconnex",
          "Commune de Genève",
          "Commune de Genève",
          "Lancy",
          "Commune de Genève",
          "Commune de Genève",
          "Commune de Genève",
          "Commune de Genève",
          "Collex-Bossy",
          "Commune de Genève",
          "Grand-Saconnex",
          "Carouge",
          "Commune de Genève",
          "Commune de Genève",
          "Commune de Genève",
          "Commune de Genève",
          "Commune de Genève",
          "Commune de Genève",
          "Commune de Genève",
          "Commune de Genève",
          "Commune de Genève",
          "Chêne-Bougeries",
          "Commune de Genève",
          "Commune de Genève",
          "Commune de Genève",
          "Collex-Bossy",
          "Commune de Genève",
          "Collonge-Bellerive",
          "Commune de Genève",
          "Commune de Genève",
          "Carouge",
          "Commune de Genève",
          "Commune de Genève",
          "Commune de Genève",
          "Commune de Genève",
          "Commune de Genève",
          "Jussy",
          "Commune de Genève",
          "Commune de Genève",
          "Commune de Genève",
          "Plan-les-Ouates",
          "Commune de Genève",
          "Commune de Genève",
          "Commune de Genève",
          "Plan-les-Ouates",
          "Commune de Genève",
          "Commune de Genève",
          "Commune de Genève",
          "Commune de Genève",
          "Cologny",
          "Commune de Genève",
          "Vandoeuvres",
          "Plan-les-Ouates",
          "Commune de Genève",
          "Lancy",
          "Cologny",
          "Commune de Genève",
          "Commune de Genève",
          "Commune de Genève",
          "Commune de Genève",
          "Commune de Genève",
          "Commune de Genève",
          "Commune de Genève",
          "Commune de Genève",
          "Commune de Genève",
          "Commune de Genève",
          "Commune de Genève",
          "Commune de Genève",
          "Commune de Genève",
          "Commune de Genève",
          "Commune de Genève",
          "Commune de Genève",
          "Commune de Genève",
          "Commune de Genève",
          "Commune de Genève",
          "Chêne-Bougeries",
          "Chêne-Bougeries",
          "Commune de Genève",
          "Commune de Genève",
          "Commune de Genève",
          "Commune de Genève",
          "Commune de Genève",
          "Commune de Genève",
          "Commune de Genève",
          "Meyrin",
          "Commune de Genève",
          "Versoix",
          "Thônex",
          "Commune de Genève",
          "Commune de Genève",
          "Chêne-Bourg",
          "Commune de Genève",
          "Commune de Genève",
          "Commune de Genève",
          "Commune de Genève",
          "Chêne-Bougeries",
          "Commune de Genève",
          "Chêne-Bougeries",
          "Meyrin",
          "Commune de Genève",
          "Commune de Genève",
          "Commune de Genève",
          "Commune de Genève",
          "Commune de Genève",
          "Commune de Genève",
          "Commune de Genève",
          "Commune de Genève",
          "Commune de Genève",
          "Commune de Genève",
          "Commune de Genève",
          "Commune de Genève",
          "Commune de Genève",
          "Bellevue",
          "Commune de Genève",
          "Commune de Genève",
          "Commune de Genève",
          "Bellevue",
          "Commune de Genève",
          "Commune de Genève",
          "Commune de Genève",
          "Thônex",
          "Commune de Genève",
          "Versoix",
          "Commune de Genève",
          "Commune de Genève",
          "Grand-Saconnex",
          "Commune de Genève",
          "Commune de Genève",
          "Commune de Genève",
          "Commune de Genève",
          "Commune de Genève",
          "Commune de Genève",
          "Commune de Genève",
          "Commune de Genève",
          "Commune de Genève",
          "Commune de Genève",
          "Genthod",
          "Commune de Genève",
          "Commune de Genève",
          "Commune de Genève",
          "Lancy",
          "Commune de Genève",
          "Commune de Genève",
          "Commune de Genève",
          "Commune de Genève",
          "Commune de Genève",
          "Commune de Genève",
          "Versoix",
          "Thônex",
          "Commune de Genève",
          "Commune de Genève",
          "Commune de Genève",
          "Commune de Genève",
          "Grand-Saconnex",
          "Commune de Genève",
          "Commune de Genève",
          "Vernier",
          "Commune de Genève",
          "Presinge",
          "Bernex",
          "Commune de Genève",
          "Commune de Genève",
          "Commune de Genève",
          "Commune de Genève",
          "Commune de Genève",
          "Commune de Genève",
          "Commune de Genève",
          "Commune de Genève",
          "Chêne-Bourg",
          "Commune de Genève",
          "Chêne-Bourg",
          "Commune de Genève",
          "Commune de Genève",
          "Commune de Genève",
          "Commune de Genève",
          "Commune de Genève",
          "Lancy",
          "Grand-Saconnex",
          "Pregny-Chambésy",
          "Commune de Genève",
          "Commune de Genève",
          "Lancy",
          "Vernier",
          "Commune de Genève",
          "Thônex",
          "Meyrin",
          "Commune de Genève",
          "Vernier",
          "Commune de Genève",
          "Commune de Genève",
          "Commune de Genève",
          "Commune de Genève",
          "Commune de Genève",
          "Commune de Genève",
          "Commune de Genève",
          "Commune de Genève",
          "Commune de Genève",
          "Bellevue",
          "Commune de Genève",
          "Commune de Genève",
          "Vandoeuvres",
          "Commune de Genève",
          "Commune de Genève",
          "Commune de Genève",
          "Commune de Genève",
          "Commune de Genève",
          "Commune de Genève",
          "Commune de Genève",
          "Carouge",
          "Commune de Genève",
          "Commune de Genève",
          "Commune de Genève",
          "Commune de Genève",
          "Vernier",
          "Versoix",
          "Commune de Genève",
          "Commune de Genève",
          "Commune de Genève",
          "Commune de Genève",
          "Commune de Genève",
          "Commune de Genève",
          "Commune de Genève",
          "Commune de Genève",
          "Commune de Genève",
          "Commune de Genève",
          "Commune de Genève",
          "Commune de Genève",
          "Vernier",
          "Commune de Genève",
          "Vernier",
          "Vernier",
          "Collonge-Bellerive",
          "Commune de Genève",
          "Commune de Genève",
          "Commune de Genève",
          "Commune de Genève",
          "Commune de Genève",
          "Grand-Saconnex",
          "Commune de Genève",
          "Chêne-Bougeries",
          "Chêne-Bougeries",
          "Commune de Genève",
          "Carouge",
          "Grand-Saconnex",
          "Grand-Saconnex",
          "Carouge",
          "Commune de Genève",
          "Commune de Genève",
          "Chêne-Bougeries",
          "Commune de Genève",
          "Commune de Genève",
          "Commune de Genève",
          "Commune de Genève",
          "Collonge-Bellerive",
          "Commune de Genève",
          "Commune de Genève",
          "Commune de Genève",
          "Commune de Genève",
          "Commune de Genève",
          "Commune de Genève",
          "Commune de Genève",
          "Pregny-Chambésy",
          "Avully",
          "Commune de Genève",
          "Commune de Genève",
          "Commune de Genève",
          "Commune de Genève",
          "Vandoeuvres",
          "Commune de Genève",
          "Commune de Genève",
          "Commune de Genève",
          "Commune de Genève",
          "Commune de Genève",
          "Commune de Genève",
          "Commune de Genève",
          "Commune de Genève",
          "Commune de Genève",
          "Commune de Genève",
          "Commune de Genève",
          "Vernier",
          "Vernier",
          "Vernier",
          "Vernier",
          "Commune de Genève",
          "Commune de Genève",
          "Meyrin",
          "Commune de Genève",
          "Commune de Genève",
          "Commune de Genève",
          "Commune de Genève",
          "Commune de Genève",
          "Commune de Genève",
          "Meyrin",
          "Thônex",
          "Commune de Genève",
          "Cologny",
          "Commune de Genève",
          "Chancy",
          "Commune de Genève",
          "Commune de Genève",
          "Commune de Genève",
          "Anières",
          "Commune de Genève",
          "Commune de Genève",
          "Commune de Genève",
          "Commune de Genève",
          "Commune de Genève",
          "Commune de Genève",
          "Carouge",
          "Commune de Genève",
          "Vandoeuvres",
          "Commune de Genève",
          "Commune de Genève",
          "Thônex",
          "Chêne-Bougeries",
          "Thônex",
          "Commune de Genève",
          "Commune de Genève",
          "Commune de Genève",
          "Commune de Genève",
          "Chêne-Bourg",
          "Plan-les-Ouates",
          "Commune de Genève",
          "Lancy",
          "Commune de Genève",
          "Commune de Genève",
          "Carouge",
          "Versoix",
          "Carouge",
          "Commune de Genève",
          "Commune de Genève",
          "Commune de Genève",
          "Versoix",
          "Versoix",
          "Carouge",
          "Meyrin",
          "Meyrin",
          "Meyrin",
          "Commune de Genève",
          "Commune de Genève",
          "Commune de Genève",
          "Commune de Genève",
          "Vernier",
          "Commune de Genève",
          "Chêne-Bourg",
          "Commune de Genève",
          "Commune de Genève",
          "Cologny",
          "Commune de Genève",
          "Veyrier",
          "Commune de Genève",
          "Commune de Genève",
          "Commune de Genève",
          "Commune de Genève",
          "Commune de Genève",
          "Bellevue",
          "Carouge",
          "Commune de Genève",
          "Commune de Genève",
          "Meyrin",
          "Commune de Genève",
          "Commune de Genève",
          "Commune de Genève",
          "Commune de Genève",
          "Commune de Genève",
          "Commune de Genève",
          "Commune de Genève",
          "Commune de Genève",
          "Commune de Genève",
          "Commune de Genève",
          "Commune de Genève",
          "Commune de Genève",
          "Collonge-Bellerive",
          "Commune de Genève",
          "Grand-Saconnex",
          "Grand-Saconnex",
          "Commune de Genève",
          "Commune de Genève",
          "Chêne-Bourg",
          "Chêne-Bougeries",
          "Chancy",
          "Vernier",
          "Commune de Genève",
          "Cologny",
          "Commune de Genève",
          "Commune de Genève",
          "Thônex",
          "Commune de Genève",
          "Thônex",
          "Commune de Genève",
          "Commune de Genève",
          "Vernier",
          "Vernier",
          "Vernier",
          "Vernier",
          "Commune de Genève",
          "Commune de Genève",
          "Commune de Genève",
          "Commune de Genève",
          "Commune de Genève",
          "Meinier",
          "Commune de Genève",
          "Commune de Genève",
          "Commune de Genève",
          "Commune de Genève",
          "Commune de Genève",
          "Hermance",
          "Commune de Genève",
          "Thônex",
          "Commune de Genève",
          "Carouge",
          "Commune de Genève",
          "Commune de Genève",
          "Meyrin",
          "Commune de Genève",
          "Chêne-Bourg",
          "Commune de Genève",
          "Commune de Genève",
          "Meyrin",
          "Commune de Genève",
          "Vernier",
          "Commune de Genève",
          "Commune de Genève",
          "Collex-Bossy",
          "Grand-Saconnex",
          "Commune de Genève",
          "Commune de Genève",
          "Commune de Genève",
          "Commune de Genève",
          "Céligny",
          "Veyrier",
          "Commune de Genève",
          "Commune de Genève",
          "Lancy",
          "Commune de Genève",
          "Commune de Genève",
          "Commune de Genève",
          "Lancy",
          "Commune de Genève",
          "Commune de Genève",
          "Meinier",
          "Commune de Genève",
          "Commune de Genève",
          "Commune de Genève",
          "Commune de Genève",
          "Lancy",
          "Commune de Genève",
          "Pregny-Chambésy",
          "Lancy",
          "Commune de Genève",
          "Veyrier",
          "Commune de Genève",
          "Commune de Genève",
          "Commune de Genève",
          "Commune de Genève",
          "Commune de Genève",
          "Commune de Genève",
          "Commune de Genève",
          "Commune de Genève",
          "Commune de Genève",
          "Commune de Genève",
          "Commune de Genève",
          "Commune de Genève",
          "Commune de Genève",
          "Commune de Genève",
          "Commune de Genève",
          "Vernier",
          "Commune de Genève",
          "Commune de Genève",
          "Commune de Genève",
          "Bellevue",
          "Commune de Genève",
          "Commune de Genève",
          "Commune de Genève",
          "Commune de Genève",
          "Thônex",
          "Commune de Genève",
          "Commune de Genève",
          "Commune de Genève",
          "Commune de Genève",
          "Commune de Genève",
          "Commune de Genève",
          "Commune de Genève",
          "Commune de Genève",
          "Commune de Genève",
          "Chêne-Bourg",
          "Commune de Genève",
          "Commune de Genève",
          "Bardonnex",
          "Veyrier",
          "Chêne-Bougeries",
          "Lancy",
          "Pregny-Chambésy",
          "Commune de Genève",
          "Thônex",
          "Commune de Genève",
          "Commune de Genève",
          "Commune de Genève",
          "Commune de Genève",
          "Commune de Genève",
          "Commune de Genève",
          "Commune de Genève",
          "Commune de Genève",
          "Onex",
          "Commune de Genève",
          "Commune de Genève",
          "Commune de Genève",
          "Commune de Genève",
          "Commune de Genève",
          "Commune de Genève",
          "Commune de Genève",
          "Commune de Genève",
          "Commune de Genève",
          "Commune de Genève",
          "Commune de Genève",
          "Commune de Genève",
          "Chêne-Bourg",
          "Commune de Genève",
          "Commune de Genève",
          "Lancy",
          "Commune de Genève",
          "Commune de Genève",
          "Grand-Saconnex",
          "Commune de Genève",
          "Commune de Genève",
          "Commune de Genève",
          "Commune de Genève",
          "Commune de Genève",
          "Commune de Genève",
          "Commune de Genève",
          "Commune de Genève",
          "Commune de Genève",
          "Commune de Genève",
          "Commune de Genève",
          "Commune de Genève",
          "Commune de Genève",
          "Commune de Genève",
          "Lancy",
          "Pregny-Chambésy",
          "Commune de Genève",
          "Commune de Genève",
          "Lancy",
          "Collonge-Bellerive",
          "Thônex",
          "Commune de Genève",
          "Commune de Genève",
          "Commune de Genève",
          "Lancy",
          "Commune de Genève",
          "Commune de Genève",
          "Lancy",
          "Commune de Genève",
          "Commune de Genève",
          "Commune de Genève",
          "Commune de Genève",
          "Commune de Genève",
          "Commune de Genève",
          "Commune de Genève",
          "Corsier",
          "Commune de Genève",
          "Commune de Genève",
          "Commune de Genève",
          "Commune de Genève",
          "Collonge-Bellerive",
          "Commune de Genève",
          "Carouge",
          "Commune de Genève",
          "Genthod",
          "Commune de Genève",
          "Commune de Genève",
          "Lancy",
          "Commune de Genève",
          "Commune de Genève",
          "Commune de Genève",
          "Commune de Genève",
          "Commune de Genève",
          "Vernier",
          "Vernier",
          "Commune de Genève",
          "Presinge",
          "Commune de Genève",
          "Commune de Genève",
          "Veyrier",
          "Collonge-Bellerive",
          "Commune de Genève",
          "Commune de Genève",
          "Lancy",
          "Commune de Genève",
          "Commune de Genève",
          "Commune de Genève",
          "Chêne-Bougeries",
          "Lancy",
          "Meinier",
          "Commune de Genève",
          "Lancy",
          "Commune de Genève",
          "Commune de Genève",
          "Grand-Saconnex",
          "Commune de Genève",
          "Chêne-Bougeries",
          "Commune de Genève",
          "Commune de Genève",
          "Commune de Genève",
          "Commune de Genève",
          "Commune de Genève",
          "Commune de Genève",
          "Commune de Genève",
          "Commune de Genève",
          "Vernier",
          "Onex",
          "Commune de Genève",
          "Commune de Genève",
          "Commune de Genève",
          "Commune de Genève",
          "Commune de Genève",
          "Meyrin",
          "Commune de Genève",
          "Commune de Genève",
          "Commune de Genève",
          "Commune de Genève",
          "Commune de Genève",
          "Grand-Saconnex",
          "Commune de Genève",
          "Commune de Genève",
          "Meyrin",
          "Commune de Genève",
          "Commune de Genève",
          "Commune de Genève",
          "Commune de Genève",
          "Commune de Genève",
          "Commune de Genève",
          "Commune de Genève",
          "Bernex",
          "Versoix",
          "Commune de Genève",
          "Commune de Genève",
          "Collex-Bossy",
          "Commune de Genève",
          "Chêne-Bourg",
          "Veyrier",
          "Commune de Genève",
          "Commune de Genève",
          "Commune de Genève",
          "Commune de Genève",
          "Commune de Genève",
          "Commune de Genève",
          "Thônex",
          "Commune de Genève",
          "Plan-les-Ouates",
          "Commune de Genève",
          "Commune de Genève",
          "Meyrin",
          "Meyrin",
          "Meyrin",
          "Commune de Genève",
          "Commune de Genève",
          "Commune de Genève",
          "Commune de Genève",
          "Commune de Genève",
          "Versoix",
          "Meyrin",
          "Commune de Genève",
          "Vernier",
          "Commune de Genève",
          "Carouge",
          "Commune de Genève",
          "Commune de Genève",
          "Commune de Genève",
          "Chêne-Bougeries",
          "Commune de Genève",
          "Vernier",
          "Grand-Saconnex",
          "Commune de Genève",
          "Commune de Genève",
          "Lancy",
          "Commune de Genève",
          "Commune de Genève",
          "Anières",
          "Genthod",
          "Commune de Genève",
          "Commune de Genève",
          "Commune de Genève",
          "Commune de Genève",
          "Commune de Genève",
          "Vernier",
          "Commune de Genève",
          "Commune de Genève",
          "Commune de Genève",
          "Commune de Genève",
          "Commune de Genève",
          "Commune de Genève",
          "Commune de Genève",
          "Chêne-Bourg",
          "Commune de Genève",
          "Commune de Genève",
          "Commune de Genève",
          "Commune de Genève",
          "Commune de Genève",
          "Commune de Genève",
          "Commune de Genève",
          "Commune de Genève",
          "Commune de Genève",
          "Commune de Genève",
          "Commune de Genève",
          "Commune de Genève",
          "Chêne-Bourg",
          "Commune de Genève",
          "Commune de Genève",
          "Commune de Genève",
          "Carouge",
          "Lancy",
          "Commune de Genève",
          "Versoix",
          "Commune de Genève",
          "Commune de Genève",
          "Commune de Genève",
          "Commune de Genève",
          "Commune de Genève",
          "Grand-Saconnex",
          "Commune de Genève",
          "Commune de Genève",
          "Commune de Genève",
          "Commune de Genève",
          "Commune de Genève",
          "Vandoeuvres",
          "Commune de Genève",
          "Commune de Genève",
          "Chêne-Bourg",
          "Commune de Genève",
          "Commune de Genève",
          "Commune de Genève",
          "Grand-Saconnex",
          "Commune de Genève",
          "Chêne-Bourg",
          "Commune de Genève",
          "Cologny",
          "Commune de Genève",
          "Commune de Genève",
          "Grand-Saconnex",
          "Commune de Genève",
          "Puplinge",
          "Versoix",
          "Commune de Genève",
          "Grand-Saconnex",
          "Commune de Genève",
          "Commune de Genève",
          "Commune de Genève",
          "Grand-Saconnex",
          "Commune de Genève",
          "Commune de Genève",
          "Commune de Genève",
          "Commune de Genève",
          "Commune de Genève",
          "Commune de Genève",
          "Commune de Genève",
          "Carouge",
          "Commune de Genève",
          "Commune de Genève",
          "Commune de Genève",
          "Cologny",
          "Commune de Genève",
          "Commune de Genève",
          "Commune de Genève",
          "Commune de Genève",
          "Commune de Genève",
          "Pregny-Chambésy",
          "Versoix",
          "Commune de Genève",
          "Commune de Genève",
          "Commune de Genève",
          "Commune de Genève",
          "Lancy",
          "Commune de Genève",
          "Lancy",
          "Commune de Genève"
         ],
         "lat": [
          46.20198,
          46.18905,
          46.19964,
          46.28031,
          46.20708,
          46.18904,
          46.21127,
          46.1995,
          46.20395,
          46.19327,
          46.20509,
          46.20118,
          46.2114,
          46.19875,
          46.19871,
          46.2028,
          46.20175,
          46.20542,
          46.21716,
          46.2067,
          46.211998,
          46.19896,
          46.21404,
          46.19788,
          46.20234,
          46.20282,
          46.20513,
          46.20146,
          46.20442,
          46.25937,
          46.19201,
          46.22916,
          46.21597,
          46.19202,
          46.22782,
          46.23633,
          46.18905,
          46.2014,
          46.21327,
          46.20411,
          46.19198,
          46.21005,
          46.20884,
          46.21998,
          46.19978,
          46.19881,
          46.25757,
          46.20698,
          46.22591,
          46.278,
          46.18928,
          46.17101,
          46.21275,
          46.21268,
          46.20426,
          46.20016,
          46.20454,
          46.19601,
          46.20409,
          46.20375,
          46.20266,
          46.20429,
          46.20279,
          46.18939,
          46.22086,
          46.21109,
          46.21461,
          46.19987,
          46.21358,
          46.20101,
          46.21321,
          46.18977,
          46.18688,
          46.21223,
          46.1984,
          46.20701,
          46.20476,
          46.19715,
          46.17677,
          46.20232,
          46.20483,
          46.20699,
          46.19341,
          46.16335,
          46.19357,
          46.20537,
          46.21434,
          46.21198,
          46.16419,
          46.19169,
          46.2153,
          46.19854,
          46.21334,
          46.20345,
          46.16557,
          46.19288,
          46.21107,
          46.21046,
          46.19227,
          46.2096071,
          46.19014,
          46.20977,
          46.21567,
          46.20967,
          46.25677,
          46.18133,
          46.19345,
          46.18373,
          46.19071,
          46.17978,
          46.19471,
          46.19665,
          46.20545,
          46.21058,
          46.21403,
          46.17193,
          46.20474,
          46.2177,
          46.22467,
          46.20281,
          46.20677,
          46.22018,
          46.19993,
          46.19471,
          46.19439,
          46.19998,
          46.1931,
          46.18947,
          46.21331,
          46.19665,
          46.20965,
          46.20988,
          46.22082,
          46.21085,
          46.24746,
          46.18968,
          46.21878,
          46.174248,
          46.21328,
          46.20164,
          46.20986,
          46.20936,
          46.21035,
          46.2212,
          46.2004,
          46.17765,
          46.19493,
          46.20539,
          46.20509,
          46.21185,
          46.2343,
          46.18145,
          46.22681,
          46.21218,
          46.2082,
          46.17455,
          46.20178,
          46.20752,
          46.19134,
          46.2010384,
          46.2157,
          46.21267,
          46.205,
          46.20259,
          46.23652,
          46.21035,
          46.20259,
          46.18798,
          46.21021,
          46.19846,
          46.20421,
          46.20763,
          46.25373,
          46.19071,
          46.18935,
          46.21155,
          46.21137,
          46.20596,
          46.18913,
          46.20285,
          46.2114,
          46.25202,
          46.1962,
          46.26083,
          46.18777,
          46.2011,
          46.20827484,
          46.19524809,
          46.20965,
          46.22917,
          46.2017,
          46.20862,
          46.21363,
          46.20546,
          46.20259,
          46.20199,
          46.19435,
          46.20823,
          46.19557,
          46.20695,
          46.22713,
          46.20259,
          46.18021,
          46.23748,
          46.1877,
          46.20081,
          46.21003,
          46.19311,
          46.21081,
          46.2106,
          46.18733,
          46.1986,
          46.21384,
          46.21053,
          46.20822,
          46.20036,
          46.14146,
          46.20967,
          46.21362,
          46.20919,
          46.18898,
          46.17265,
          46.20084,
          46.20086,
          46.20215,
          46.25317,
          46.22364,
          46.18923,
          46.19236,
          46.20246,
          46.20011,
          46.20426,
          46.20949,
          46.20513,
          46.2028,
          46.24573,
          46.21574,
          46.20741,
          46.2059,
          46.17934,
          46.21396,
          46.20083,
          46.19206,
          46.20486,
          46.21065,
          46.21405,
          46.20344,
          46.25495,
          46.20905,
          46.19774,
          46.21362,
          46.20517,
          46.23229,
          46.2086,
          46.16941,
          46.18498,
          46.21437,
          46.20607,
          46.2011,
          46.20232,
          46.20272,
          46.20243,
          46.21127,
          46.19578,
          46.20576,
          46.19637,
          46.28179,
          46.16969,
          46.22286,
          46.20606,
          46.19595,
          46.21539,
          46.20263,
          46.20905804,
          46.21512,
          46.18838,
          46.20374,
          46.19347,
          46.20191,
          46.19768,
          46.19921,
          46.19925,
          46.20043,
          46.20006,
          46.19947,
          46.17844,
          46.21263,
          46.1908895,
          46.18661,
          46.21604,
          46.19861,
          46.18929,
          46.19141,
          46.26073,
          46.22698,
          46.18883,
          46.19531,
          46.19875,
          46.21212,
          46.28487,
          46.28461,
          46.19658,
          46.22181624,
          46.214,
          46.20676,
          46.18946,
          46.1996,
          46.1887612,
          46.20714,
          46.23639,
          46.20597,
          46.20273,
          46.20791,
          46.19947,
          46.23169,
          46.21778,
          46.20994,
          46.23902,
          46.20312,
          46.21873,
          46.20119,
          46.19303,
          46.18617,
          46.18606,
          46.20898,
          46.27531795,
          46.21799,
          46.19278,
          46.19375,
          46.20324,
          46.18677,
          46.1917,
          46.23929,
          46.21174,
          46.19390405,
          46.25465341,
          46.20314,
          46.20965209,
          46.21209,
          46.21264,
          46.22986,
          46.19675,
          46.16442,
          46.18608,
          46.2658525,
          46.21256,
          46.20121,
          46.20885,
          46.21156,
          46.206,
          46.20839,
          46.20996944,
          46.20385,
          46.21186,
          46.20766,
          46.20709,
          46.21255,
          46.20793,
          46.20044,
          46.20044,
          46.20044,
          46.18852,
          46.20044,
          46.19,
          46.21876,
          46.23027,
          46.20505,
          46.21462,
          46.20237,
          46.21105,
          46.21109,
          46.2268,
          46.18558,
          46.21343,
          46.14243,
          46.20107,
          46.25008,
          46.19002,
          46.19907,
          46.20001,
          46.20986,
          46.20631,
          46.22518,
          46.19877,
          46.28275,
          46.19563,
          46.16243,
          46.21438,
          46.20205731,
          46.17395,
          46.20414,
          46.23563,
          46.21444,
          46.20377,
          46.19191,
          46.21581,
          46.22386,
          46.21519,
          46.23241,
          46.21125,
          46.18367,
          46.22654,
          46.21003,
          46.20332,
          46.19861,
          46.23099,
          46.19032,
          46.21218872,
          46.20286,
          46.21043,
          46.26296,
          46.22289,
          46.20567,
          46.20179,
          46.20535,
          46.20452,
          46.20438,
          46.29122,
          46.1878,
          46.19122,
          46.21086396,
          46.22417,
          46.19888,
          46.2166,
          46.19966,
          46.16293,
          46.20042,
          46.20052,
          46.2013,
          46.17182,
          46.20545999,
          46.20826,
          46.20458,
          46.20756,
          46.18028,
          46.20636,
          46.21114,
          46.28592,
          46.21958,
          46.19238,
          46.20157,
          46.21038,
          46.20725,
          46.18886,
          46.21252,
          46.20574,
          46.22038,
          46.2024,
          46.21394,
          46.20765,
          46.21234,
          46.23381,
          46.16398,
          46.20951,
          46.208,
          46.22849,
          46.18897,
          46.2103,
          46.19921,
          46.22494,
          46.20094,
          46.20259,
          46.2014,
          46.19177,
          46.21438,
          46.20704,
          46.19555,
          46.20649,
          46.29421,
          46.19806,
          46.20204,
          46.21059,
          46.20058,
          46.2133,
          46.1502,
          46.19563,
          46.20006,
          46.1995,
          46.21023,
          46.20127,
          46.20602,
          46.18062,
          46.2025,
          46.19112,
          46.18783,
          46.1984,
          46.18613,
          46.20044,
          46.20044,
          46.20815,
          46.21536,
          46.205,
          46.21018,
          46.2416,
          46.20868,
          46.19056,
          46.22099,
          46.25205,
          46.21044,
          46.21,
          46.21433,
          46.2027,
          46.21269,
          46.2114,
          46.2109,
          46.20312,
          46.20039,
          46.21351,
          46.21256,
          46.19868,
          46.18655,
          46.20985,
          46.22522,
          46.20315,
          46.20784,
          46.21244049,
          46.22278,
          46.23528,
          46.2297,
          46.20257,
          46.19346,
          46.29627,
          46.21763,
          46.20768,
          46.24333,
          46.23313,
          46.2014,
          46.24905,
          46.19602,
          46.2204,
          46.18835,
          46.2078,
          46.19680031,
          46.21098,
          46.23291,
          46.23375,
          46.19063,
          46.18968,
          46.20409,
          46.20696,
          46.21105169,
          46.19502,
          46.14545,
          46.18884,
          46.1941,
          46.20574,
          46.21103,
          46.28403,
          46.21375,
          46.20323,
          46.21342,
          46.21405,
          46.23664,
          46.20242,
          46.21497,
          46.22478,
          46.20161,
          46.21588,
          46.20381,
          46.21651,
          46.20339,
          46.19891,
          46.20955,
          46.1914,
          46.2085,
          46.18506,
          46.20408,
          46.1883,
          46.20242,
          46.2106,
          46.21839,
          46.20168,
          46.20039,
          46.19839,
          46.21194,
          46.19404,
          46.19524,
          46.18002,
          46.21856,
          46.25065,
          46.19028,
          46.21409,
          46.20205,
          46.20528,
          46.18502,
          46.20338,
          46.21742,
          46.18857,
          46.1941,
          46.20584,
          46.20479,
          46.20257,
          46.21322,
          46.21196,
          46.29156,
          46.2037,
          46.2132,
          46.19783,
          46.20247,
          46.18847,
          46.20186,
          46.20853,
          46.16403,
          46.20149,
          46.18998,
          46.19992,
          46.24615,
          46.20201,
          46.16182,
          46.20487,
          46.19088,
          46.22938,
          46.24617,
          46.19761,
          46.24218,
          46.20285,
          46.20092,
          46.22774,
          46.20803,
          46.20653,
          46.18708,
          46.19987,
          46.2269,
          46.19351,
          46.2136,
          46.21318,
          46.21576,
          46.20618,
          46.20781,
          46.20886,
          46.21826,
          46.20514,
          46.20486,
          46.21058,
          46.18664,
          46.19943,
          46.2057,
          46.20463,
          46.17494833,
          46.2868,
          46.2227,
          46.20695,
          46.19769,
          46.19992,
          46.20261,
          46.21232,
          46.19565,
          46.20252,
          46.21089053,
          46.20504,
          46.2062,
          46.24078,
          46.21044,
          46.20949443,
          46.21124145,
          46.20319,
          46.21161,
          46.19978,
          46.20918,
          46.20122,
          46.22061,
          46.21015,
          46.19128,
          46.20448,
          46.20402,
          46.20977893,
          46.21039,
          46.2116,
          46.16761,
          46.21058,
          46.1954,
          46.19272,
          46.20919236,
          46.20281,
          46.19988,
          46.21387,
          46.19334,
          46.2029,
          46.21814,
          46.21123,
          46.21056,
          46.21314,
          46.19117,
          46.19865,
          46.21262,
          46.20546939,
          46.21033,
          46.18441,
          46.28825,
          46.20857,
          46.21087,
          46.2131802,
          46.20207,
          46.21363,
          46.2045,
          46.21349,
          46.18976,
          46.18342,
          46.18387,
          46.22053,
          46.20175,
          46.181,
          46.22293,
          46.19022,
          46.19129,
          46.18849,
          46.20343,
          46.20693,
          46.19539,
          46.18555,
          46.19527,
          46.20287,
          46.24044,
          46.20444,
          46.212,
          46.20462,
          46.18868,
          46.19602,
          46.17305,
          46.19106218,
          46.22527,
          46.20295,
          46.22968,
          46.20865,
          46.19413,
          46.23872,
          46.20399,
          46.2112,
          46.19471,
          46.23632,
          46.20534,
          46.18365,
          46.22453,
          46.19383,
          46.19411,
          46.19049,
          46.21249,
          46.17274,
          46.20986,
          46.19405,
          46.28303,
          46.20654,
          46.21821,
          46.22907,
          46.1824,
          46.18403,
          46.20038,
          46.18826,
          46.19457,
          46.28698,
          46.28305,
          46.19747,
          46.19595,
          46.19022,
          46.19492,
          46.21004,
          46.20671,
          46.20494,
          46.20898,
          46.20903,
          46.20561,
          46.21536,
          46.20339,
          46.20275,
          46.21301,
          46.20153,
          46.20699,
          46.20587,
          46.20451,
          46.19064,
          46.20795,
          46.20015,
          46.18682,
          46.22016,
          46.20887,
          46.18672,
          46.20691,
          46.17675,
          46.17512,
          46.28027,
          46.19986,
          46.2137,
          46.20628,
          46.18929,
          46.22312,
          46.20923,
          46.2069,
          46.20661,
          46.20535,
          46.20727,
          46.20767,
          46.21483,
          46.20006,
          46.19457,
          46.20125,
          46.21493,
          46.19536,
          46.20426,
          46.19653,
          46.20256,
          46.19223,
          46.22203,
          46.20733,
          46.21434,
          46.20039,
          46.20059,
          46.20226,
          46.22136,
          46.19835,
          46.19671,
          46.21388,
          46.20139,
          46.21357,
          46.21521,
          46.2246,
          46.18607,
          46.22644,
          46.20144,
          46.20039,
          46.21361,
          46.20039,
          46.2166,
          46.16967,
          46.20465,
          46.23779,
          46.22545,
          46.19292,
          46.27092,
          46.1896,
          46.1976,
          46.20609,
          46.22924,
          46.21511,
          46.20112,
          46.21277,
          46.23678,
          46.19572,
          46.19564,
          46.20403,
          46.20912,
          46.20666,
          46.22649,
          46.18955,
          46.17719962,
          46.19906,
          46.1996,
          46.20695,
          46.21431,
          46.20193,
          46.20235,
          46.2019,
          46.17293,
          46.20649,
          46.20497,
          46.21531,
          46.20535,
          46.18935,
          46.2043,
          46.21977,
          46.20398,
          46.21884,
          46.20718,
          46.20812,
          46.21173,
          46.21017,
          46.192,
          46.18928,
          46.26028,
          46.20994,
          46.20336151,
          46.2151,
          46.19064,
          46.35164,
          46.20178,
          46.20901516,
          46.19291369,
          46.30168,
          46.20397,
          46.19965,
          46.20183,
          46.20289,
          46.20108,
          46.20938,
          46.27606,
          46.19564,
          46.21495,
          46.20333,
          46.23459,
          46.19801,
          46.18766,
          46.19356016,
          46.25227,
          46.2128,
          46.19018,
          46.20981,
          46.20751,
          46.21252,
          46.21267,
          46.18885,
          46.20282,
          46.29157,
          46.20569,
          46.20023,
          46.1988,
          46.20433,
          46.23757,
          46.23636,
          46.20627,
          46.21414,
          46.2264,
          46.18752,
          46.19659,
          46.20267,
          46.29206,
          46.20445,
          46.20537,
          46.21602,
          46.22778,
          46.16795,
          46.25032,
          46.20145,
          46.21436,
          46.20005,
          46.23566,
          46.20367,
          46.20489,
          46.21639,
          46.2179,
          46.2372,
          46.21236,
          46.19884,
          46.17687,
          46.24451,
          46.21664,
          46.20418,
          46.1669,
          46.20236,
          46.20848,
          46.20637,
          46.18691,
          46.16637,
          46.23474,
          46.23611,
          46.23554,
          46.21388626,
          46.19974,
          46.19541,
          46.19775,
          46.19825,
          46.19983,
          46.19886,
          46.19994,
          46.19973,
          46.1988,
          46.19989,
          46.21109,
          46.19173,
          46.17636,
          46.207886,
          46.207886,
          46.19695,
          46.19604,
          46.21631,
          46.224,
          46.18722,
          46.211666,
          46.2041,
          46.21084,
          46.21297,
          46.21929,
          46.22478,
          46.20507,
          46.19134,
          46.19794,
          46.25282,
          46.17925,
          46.22024,
          46.20797,
          46.21260071,
          46.2012,
          46.20542,
          46.18659,
          46.20449,
          46.1945,
          46.20763,
          46.18647,
          46.20752,
          46.207886,
          46.20797,
          46.20797,
          46.20788574,
          46.20789,
          46.1974,
          46.28064,
          46.21184,
          46.20796967,
          46.20326,
          46.21179,
          46.19386,
          46.19803,
          46.18885,
          46.20308,
          46.22473,
          46.2869,
          46.21145,
          46.20554,
          46.1926,
          46.21691,
          46.25572,
          46.22035,
          46.18996,
          46.20607,
          46.1899,
          46.2171,
          46.21496,
          46.22417,
          46.23488,
          46.23565,
          46.18859,
          46.23426,
          46.2105,
          46.21345,
          46.23433,
          46.20068,
          46.20141,
          46.20331,
          46.23578,
          46.19464,
          46.18096,
          46.17983,
          46.18039,
          46.19345,
          46.17807,
          46.21141,
          46.18957,
          46.20092,
          46.18106,
          46.2104,
          46.2089,
          46.21134549,
          46.20322,
          46.16549,
          46.18348,
          46.21217,
          46.2106,
          46.21194,
          46.21076,
          46.2114,
          46.21012,
          46.2103,
          46.21022,
          46.21221,
          46.19281,
          46.20736,
          46.21463,
          46.20534,
          46.19437,
          46.19072,
          46.20942,
          46.22137,
          46.1785,
          46.19638,
          46.20208,
          46.20045,
          46.18579,
          46.19351,
          46.20482,
          46.20139,
          46.18313,
          46.22266,
          46.20898,
          46.21048,
          46.21122,
          46.21044,
          46.19166,
          46.20287,
          46.21001,
          46.21027,
          46.21135,
          46.28198,
          46.211346,
          46.19809,
          46.21167,
          46.21138,
          46.21138,
          46.21468,
          46.21253,
          46.21456,
          46.18404,
          46.20605,
          46.19332,
          46.20196,
          46.20193,
          46.20211,
          46.2028,
          46.20775,
          46.17928,
          46.19622,
          46.19654,
          46.19471,
          46.19518,
          46.1961,
          46.19739,
          46.20357,
          46.19921,
          46.21294,
          46.20933,
          46.18522,
          46.18502,
          46.21553,
          46.26473,
          46.21393,
          46.20371,
          46.19297,
          46.18828,
          46.21006,
          46.2128,
          46.21369,
          46.20272,
          46.21079,
          46.20226,
          46.2115,
          46.19294,
          46.24254,
          46.21188,
          46.21173,
          46.21012,
          46.21078,
          46.21148,
          46.21119,
          46.21002,
          46.21074,
          46.2102,
          46.20579,
          46.20356,
          46.20595,
          46.19633,
          46.17991,
          46.2220838,
          46.20449,
          46.20488,
          46.19127,
          46.20272,
          46.21599,
          46.20248,
          46.21142,
          46.20656,
          46.26628,
          46.19674,
          46.20969,
          46.20105,
          46.15829,
          46.20148,
          46.20127,
          46.21396,
          46.21088,
          46.19889,
          46.20636,
          46.20494,
          46.20981,
          46.17418,
          46.20799,
          46.19759,
          46.19289,
          46.21786,
          46.19754,
          46.19868,
          46.20795,
          46.19343,
          46.2019,
          46.24713,
          46.20283,
          46.21057,
          46.21012,
          46.27745,
          46.21287,
          46.21106103,
          46.21277,
          46.18016,
          46.29217,
          46.18915,
          46.20876,
          46.21591,
          46.1946,
          46.20989,
          46.21631,
          46.21488,
          46.21174,
          46.19105,
          46.20978,
          46.21005,
          46.17837,
          46.20047,
          46.19217,
          46.203,
          46.23331,
          46.19847,
          46.24181,
          46.19842,
          46.20697,
          46.20191,
          46.20349,
          46.21268,
          46.21254,
          46.15912,
          46.20103,
          46.2007,
          46.20769,
          46.197853,
          46.21155,
          46.20283,
          46.20287,
          46.21203,
          46.207989,
          46.20595,
          46.19251,
          46.19567,
          46.19846,
          46.20588,
          46.26265,
          46.21168,
          46.209,
          46.24442,
          46.20973,
          46.29191,
          46.21313,
          46.21448131,
          46.18343,
          46.2453,
          46.21526,
          46.20912,
          46.21279,
          46.199673,
          46.18401,
          46.21449,
          46.18819,
          46.21181,
          46.18109,
          46.20109,
          46.19798,
          46.20144,
          46.2092,
          46.19466,
          46.21109009,
          46.20346,
          46.21975,
          46.16862,
          46.2083,
          46.20333,
          46.18179,
          46.19641,
          46.22584,
          46.20649,
          46.20349,
          46.19794,
          46.20282,
          46.21015549,
          46.21015549,
          46.2194,
          46.21015549,
          46.21015549,
          46.210155,
          46.21061,
          46.19071,
          46.21015549,
          46.21003342,
          46.21015549,
          46.21015549,
          46.19476,
          46.21015549,
          46.21015549,
          46.21655,
          46.20352,
          46.19592,
          46.21061,
          46.21763,
          46.18754,
          46.19284,
          46.21431,
          46.20866,
          46.20706,
          46.20648,
          46.20925,
          46.23638,
          46.20948,
          46.20021,
          46.21129,
          46.19223,
          46.20384,
          46.221581,
          46.19266,
          46.20601,
          46.20123,
          46.1876,
          46.20255,
          46.2127,
          46.21067,
          46.21096,
          46.21369,
          46.19046,
          46.21115,
          46.21254,
          46.21169,
          46.236374,
          46.21284,
          46.23568,
          46.20275497,
          46.20353811,
          46.21275,
          46.20675,
          46.19778,
          46.20821,
          46.22249,
          46.20388,
          46.21477156,
          46.21088409,
          46.24057,
          46.28484,
          46.19134,
          46.20047,
          46.19976,
          46.21687,
          46.19039,
          46.1737,
          46.191,
          46.16459,
          46.21514,
          46.19142,
          46.211,
          46.174,
          46.2021,
          46.21031,
          46.19932,
          46.19475,
          46.16876,
          46.21266,
          46.2087442,
          46.2246,
          46.2011,
          46.18925,
          46.19996,
          46.20312,
          46.19661,
          46.19329,
          46.20092,
          46.19205,
          46.22265,
          46.2828,
          46.22127,
          46.23079,
          46.2103,
          46.2073,
          46.19638,
          46.20722,
          46.19833,
          46.22447,
          46.21651,
          46.20403,
          46.21291,
          46.18619,
          46.21058,
          46.21083,
          46.21031,
          46.21201,
          46.21131,
          46.21222,
          46.21557,
          46.2061,
          46.225082,
          46.20042,
          46.21261,
          46.19455,
          46.20033,
          46.19699,
          46.21114,
          46.18943,
          46.21037,
          46.2106,
          46.20556,
          46.20948,
          46.214558,
          46.20445,
          46.17989,
          46.20979,
          46.21084,
          46.19411,
          46.18634,
          46.19733,
          46.21499,
          46.19657,
          46.19145,
          46.20247,
          46.20869,
          46.202,
          46.20416,
          46.29781,
          46.28491,
          46.21019,
          46.1935,
          46.18549,
          46.19369,
          46.20707,
          46.21441,
          46.21744,
          46.21554,
          46.20084,
          46.19946,
          46.207886,
          46.22662,
          46.22662,
          46.22662,
          46.15524036,
          46.23204,
          46.21906034,
          46.2136,
          46.20975,
          46.20632,
          46.21052,
          46.20349,
          46.14249,
          46.21294,
          46.18382,
          46.211582,
          46.1979,
          46.20788,
          46.21507,
          46.213772,
          46.2129,
          46.20609,
          46.2211,
          46.207272,
          46.19565,
          46.20479,
          46.19881,
          46.19408,
          46.2065,
          46.20529,
          46.20149,
          46.19857,
          46.20947,
          46.20011,
          46.20609,
          46.1916,
          46.20043,
          46.19464,
          46.20094,
          46.20082,
          46.172131,
          46.20892,
          46.20252,
          46.19516,
          46.19631,
          46.20939,
          46.20672,
          46.20693,
          46.2097,
          46.20675,
          46.21371,
          46.22069,
          46.1906152,
          46.20005,
          46.21105,
          46.21152,
          46.21478,
          46.2003,
          46.20265,
          46.21443,
          46.19482,
          46.2088,
          46.211704,
          46.20289,
          46.19037,
          46.16806,
          46.28888,
          46.214821,
          46.21335,
          46.20052,
          46.18633,
          46.20072,
          46.21255,
          46.20798,
          46.19329,
          46.21381,
          46.22962,
          46.21452,
          46.21497,
          46.16412,
          46.208694,
          46.19791,
          46.19384,
          46.20341,
          46.203365,
          46.20491,
          46.19611,
          46.19329,
          46.191135,
          46.2012,
          46.19224,
          46.19732,
          46.20914,
          46.18587,
          46.20505,
          46.20788574,
          46.20788574,
          46.19112,
          46.20232,
          46.20673,
          46.17285,
          46.20515,
          46.20579,
          46.2099,
          46.19686,
          46.195148,
          46.2033,
          46.20322,
          46.2231,
          46.20195,
          46.21236,
          46.20941,
          46.2103,
          46.21483,
          46.213177,
          46.18063,
          46.21396,
          46.198284,
          46.1944,
          46.19709,
          46.19726,
          46.20808,
          46.24737,
          46.211704,
          46.21170425,
          46.20929,
          46.21175,
          46.19383,
          46.20186,
          46.19173,
          46.20423,
          46.2119,
          46.19121,
          46.20169,
          46.278198,
          46.21188,
          46.20383,
          46.20697,
          46.22234,
          46.21373,
          46.19055,
          46.18551,
          46.19931,
          46.20637131,
          46.21977,
          46.2044,
          46.1908,
          46.21301,
          46.20601,
          46.18275,
          46.18466,
          46.18971,
          46.19798,
          46.199673,
          46.18517,
          46.215191,
          46.22935,
          46.2037,
          46.20228,
          46.20216,
          46.20017,
          46.190277,
          46.200356,
          46.188614,
          46.21764,
          46.21425,
          46.20042,
          46.189812,
          46.21278,
          46.20628,
          46.19107,
          46.20648,
          46.20564,
          46.21171,
          46.18482,
          46.2072,
          46.21254,
          46.19397,
          46.20374,
          46.19125,
          46.19674,
          46.18802,
          46.20383,
          46.20221,
          46.2107485,
          46.20929,
          46.1919985,
          46.20949,
          46.20372,
          46.20372,
          46.20058,
          46.19285,
          46.19896,
          46.21143,
          46.19505,
          46.19393043,
          46.19817,
          46.1754817,
          46.20552,
          46.2168317,
          46.21465,
          46.17712,
          46.17757484,
          46.18984,
          46.30269284,
          46.20479,
          46.21159713,
          46.2168317,
          46.20331,
          46.21095,
          46.20085,
          46.20567,
          46.19816488,
          46.1754817,
          46.2605,
          46.21167,
          46.2042466,
          46.21295,
          46.21308,
          46.20773,
          46.21003,
          46.2088,
          46.2118563,
          46.20161,
          46.22404,
          46.20749,
          46.26877,
          46.19763,
          46.20148,
          46.17216,
          46.2067,
          46.20101,
          46.18831,
          46.16752,
          46.21062,
          46.19851,
          46.2996,
          46.19561,
          46.20108,
          46.21517,
          46.20038,
          46.16156,
          46.29379,
          46.18884,
          46.29477,
          46.20245686,
          46.20173,
          46.29466,
          46.19778,
          46.20512,
          46.1676155,
          46.21683,
          46.19807,
          46.22069,
          46.21218,
          46.21431,
          46.19878,
          46.2204814,
          46.19677,
          46.20502,
          46.20491,
          46.21247,
          46.1984832,
          46.21081,
          46.19787,
          46.19421,
          46.20699,
          46.20406,
          46.21164,
          46.283452,
          46.16865,
          46.19024,
          46.20136,
          46.22713,
          46.28654,
          46.20466241,
          46.2306668,
          46.20532,
          46.20385,
          46.19446,
          46.20336,
          46.22286,
          46.2014,
          46.20981921,
          46.26748,
          46.21365,
          46.23121,
          46.17957,
          46.21165,
          46.2212,
          46.20363,
          46.2248896,
          46.20428,
          46.19234,
          46.19654209,
          46.22375,
          46.19488,
          46.19454,
          46.21171,
          46.2034,
          46.20593,
          46.26676,
          46.20589,
          46.23906,
          46.192019,
          46.21836,
          46.18118,
          46.2098,
          46.19089,
          46.21407,
          46.20214,
          46.20261,
          46.23196,
          46.21563,
          46.21033,
          46.211706,
          46.16764,
          46.2043839,
          46.19855,
          46.20253,
          46.1728231,
          46.19112724,
          46.20907,
          46.21164377,
          46.21263,
          46.20675,
          46.19681,
          46.20785,
          46.16552,
          46.22574,
          46.1737,
          46.23294,
          46.1975144,
          46.2027338,
          46.22406,
          46.19869,
          46.20568,
          46.19676,
          46.18624,
          46.19732,
          46.1982456,
          46.21902,
          46.20124,
          46.19605,
          46.21964,
          46.20902,
          46.20902,
          46.20064,
          46.1883,
          46.2258359,
          46.2112,
          46.20107,
          46.2017,
          46.20412,
          46.20941,
          46.19157,
          46.19974,
          46.20372,
          46.20272,
          46.20383,
          46.23287,
          46.20718,
          46.28596,
          46.19099,
          46.20774,
          46.21934,
          46.20367,
          46.19456,
          46.2035595,
          46.21395,
          46.21248,
          46.1958999,
          46.21601,
          46.20405,
          46.2367,
          46.21284,
          46.20316,
          46.20804,
          46.20364,
          46.19929,
          46.21243,
          46.21122,
          46.19026,
          46.1905578,
          46.20065446,
          46.21972,
          46.19336,
          46.21385337,
          46.25059152,
          46.2074147,
          46.21317,
          46.21032,
          46.25123,
          46.19825,
          46.19777,
          46.20616,
          46.19525,
          46.20558,
          46.28909,
          46.22094,
          46.2097124,
          46.22947,
          46.19503,
          46.20706235,
          46.20884,
          46.20821,
          46.1992263,
          46.21237,
          46.20852,
          46.20800596,
          46.1896,
          46.21222337,
          46.25693,
          46.20103,
          46.2132504,
          46.2079,
          46.1728914,
          46.19824843,
          46.2053906,
          46.2054627,
          46.19954,
          46.19634,
          46.21509,
          46.27591,
          46.201656,
          46.21501,
          46.20654,
          46.21271,
          46.21064,
          46.22996,
          46.20182,
          46.21049345,
          46.2190736,
          46.2023708,
          46.20714,
          46.17464,
          46.19797,
          46.20921,
          46.19832,
          46.20479,
          46.20988,
          46.19742,
          46.18655,
          46.21255,
          46.19729,
          46.19142,
          46.19827,
          46.21026,
          46.19716,
          46.20088972,
          46.20256,
          46.18581,
          46.19343795,
          46.2274084,
          46.2436,
          46.1928947,
          46.1918075,
          46.1961797,
          46.20817,
          46.2078875,
          46.19451,
          46.238487,
          46.2083658,
          46.21716,
          46.19491,
          46.21705,
          46.20494,
          46.2010565,
          46.20337,
          46.2017389,
          46.21233,
          46.19433774,
          46.21759,
          46.25382,
          46.1961,
          46.21379,
          46.20763,
          46.22113,
          46.20399,
          46.21076,
          46.21185,
          46.2047,
          46.200665,
          46.21726108,
          46.1844418,
          46.19321,
          46.2126127,
          46.2186,
          46.21555,
          46.20741,
          46.28906,
          46.22028454,
          46.21293257,
          46.20841,
          46.20382903,
          46.19732,
          46.19868,
          46.2174568,
          46.20901095,
          46.19177,
          46.20515,
          46.197799,
          46.20953,
          46.202544,
          46.20397,
          46.20817,
          46.20817,
          46.24021,
          46.20029011,
          46.19856,
          46.19655,
          46.2213969,
          46.2106,
          46.22545,
          46.214425,
          46.2020159,
          46.20193,
          46.20545,
          46.18653,
          46.22755,
          46.23651,
          46.18624,
          46.18827,
          46.2002,
          46.20298,
          46.21376,
          46.20165,
          46.2028844,
          46.2070421,
          46.24313,
          46.20405,
          46.19957,
          46.19449,
          46.21224872,
          46.2062572,
          46.1898578,
          46.20102,
          46.24442,
          46.1678,
          46.20445,
          46.20313,
          46.21067,
          46.2026346,
          46.21785,
          46.20446,
          46.20106,
          46.20964,
          46.21019,
          46.20894,
          46.21197275,
          46.18893,
          46.2164,
          46.21095,
          46.209318,
          46.20094335,
          46.21663,
          46.2082888,
          46.20817,
          46.20817,
          46.20669,
          46.20349,
          46.2261942,
          46.2172,
          46.21254,
          46.2046843,
          46.20019,
          46.2054655,
          46.20075,
          46.23028,
          46.19876,
          46.22298,
          46.21315,
          46.20428,
          46.14866,
          46.1965098,
          46.21176667,
          46.19245,
          46.27735,
          46.21347,
          46.21434,
          46.21499,
          46.2094944,
          46.21115,
          46.2117052,
          46.18948,
          46.20303,
          46.2211749,
          46.20328,
          46.20742,
          46.1849,
          46.1907461,
          46.18406,
          46.2035,
          46.19749,
          46.2020366,
          46.20582,
          46.19761628,
          46.1681895,
          46.209318,
          46.17214,
          46.2078751,
          46.21475051,
          46.18859,
          46.29334,
          46.18156,
          46.20556,
          46.1874832,
          46.19354,
          46.288632,
          46.28792,
          46.18694,
          46.23299774,
          46.2325,
          46.23335,
          46.20172,
          46.19973,
          46.20432,
          46.20629,
          46.21739,
          46.21716,
          46.19801,
          46.20023,
          46.20916,
          46.2148,
          46.20483,
          46.16729,
          46.21044,
          46.21186,
          46.19289,
          46.19431,
          46.21134,
          46.2538,
          46.1826,
          46.21044,
          46.21506185,
          46.23094,
          46.2172,
          46.20557581,
          46.20589,
          46.21778,
          46.19547,
          46.21307,
          46.21281,
          46.20736,
          46.21193,
          46.20701,
          46.19982,
          46.209135,
          46.25632923,
          46.209318,
          46.23019,
          46.2293,
          46.19321,
          46.2013818,
          46.19302541,
          46.1958,
          46.15138445,
          46.2168457,
          46.2090805,
          46.2047619,
          46.1959,
          46.21166,
          46.18987,
          46.20362793,
          46.20878,
          46.20321,
          46.20392,
          46.208171,
          46.208171,
          46.208171,
          46.20711,
          46.20911,
          46.2067002,
          46.20923,
          46.20358,
          46.2112,
          46.24732,
          46.21638,
          46.21611,
          46.21528,
          46.20729,
          46.20079553,
          46.3022722,
          46.2033763,
          46.18252,
          46.20971,
          46.18241729,
          46.20985,
          46.2087076,
          46.23042,
          46.19296,
          46.19644,
          46.21129,
          46.2135,
          46.2334,
          46.21097,
          46.2068417,
          46.21318,
          46.2118446,
          46.2792942,
          46.24415,
          46.19988,
          46.21101,
          46.21606,
          46.20153,
          46.35168,
          46.17305,
          46.21244,
          46.2108,
          46.18878,
          46.19634,
          46.2062874,
          46.21874836,
          46.17406,
          46.20448842,
          46.20024,
          46.24555,
          46.20622,
          46.21475,
          46.18956,
          46.19648091,
          46.18532731,
          46.1882,
          46.24472,
          46.17109,
          46.21577,
          46.16986,
          46.20781,
          46.20246,
          46.20701,
          46.19726,
          46.20572,
          46.20796,
          46.19068382,
          46.20096841,
          46.22758,
          46.19763,
          46.19708,
          46.19533,
          46.19917,
          46.20113,
          46.19035,
          46.21928,
          46.2134,
          46.20677,
          46.19875,
          46.25776,
          46.19999,
          46.2046,
          46.19188,
          46.2150987,
          46.19071,
          46.21716,
          46.20368,
          46.2147264,
          46.2038952,
          46.2020701,
          46.19536,
          46.2024,
          46.2187703,
          46.21324159,
          46.19542271,
          46.2098189,
          46.20499,
          46.14386,
          46.16661,
          46.19979,
          46.18409,
          46.24442,
          46.21111639,
          46.2005,
          46.19482085,
          46.2149,
          46.20002073,
          46.1965394,
          46.19364256,
          46.20403,
          46.20309,
          46.2031386,
          46.19095,
          46.1896337,
          46.20368,
          46.203303,
          46.19913823,
          46.20129799,
          46.20894,
          46.2119,
          46.20505837,
          46.20301992,
          46.211,
          46.2013751,
          46.19625,
          46.19761396,
          46.20676425,
          46.19815777,
          46.19633895,
          46.20979984,
          46.20111701,
          46.22638234,
          46.2104621,
          46.21275106,
          46.22664,
          46.21272575,
          46.21507941,
          46.21019298,
          46.20924541,
          46.20700988,
          46.19300941,
          46.21451779,
          46.2098189,
          46.20064782,
          46.18852715,
          46.20753662,
          46.183327,
          46.23651174,
          46.22472685,
          46.20301848,
          46.1825482,
          46.25541159,
          46.1982536,
          46.20030044,
          46.21599201,
          46.21059282,
          46.17604916,
          46.21293287,
          46.20083806,
          46.17821,
          46.21524,
          46.21651927,
          46.21582925,
          46.19223386,
          46.21523207,
          46.21469135,
          46.1963374,
          46.25846374,
          46.21173936,
          46.20149,
          46.20421279,
          46.20916305,
          46.2429376,
          46.2092656,
          46.18804739,
          46.18947,
          46.26495,
          46.2109441,
          46.2041539,
          46.18773953,
          46.1972329,
          46.20548995,
          46.2115981,
          46.2062439,
          46.20098914,
          46.2049973,
          46.20877296,
          46.20493793,
          46.2205117,
          46.2013038,
          46.21680831,
          46.17241286,
          46.24351579,
          46.20877,
          46.21111,
          46.18762946,
          46.20228501,
          46.19239261,
          46.20245994,
          46.2047749,
          46.18494361,
          46.24646622,
          46.19573765,
          46.16826737,
          46.21511236,
          46.2169283,
          46.22767777,
          46.19302065,
          46.20382904,
          46.20096579,
          46.2285767,
          46.2104474,
          46.20181195,
          46.2040825,
          46.20380249,
          46.21413105,
          46.20968389,
          46.21952579,
          46.18415135,
          46.19219706,
          46.21669714,
          46.21051887,
          46.19072364,
          46.19669381,
          46.225535,
          46.20074265,
          46.2101931,
          46.19012708,
          46.20424,
          46.20282142,
          46.23016,
          46.20481028,
          46.20146642,
          46.2271027,
          46.21258849,
          46.20103,
          46.203039,
          46.21258152,
          46.20642,
          46.2085361,
          46.19515237,
          46.1775329,
          46.27493179,
          46.2084942,
          46.2084942,
          46.27218,
          46.19043419,
          46.19763703,
          46.1650089,
          46.19005906,
          46.201,
          46.19543884,
          46.20330999,
          46.2109801,
          46.21026,
          46.18793303,
          46.19866604,
          46.1684941,
          46.2136117,
          46.2028844,
          46.22608887,
          46.22656,
          46.2276978,
          46.21085,
          46.20214038,
          46.19861882,
          46.2114592,
          46.21308339,
          46.27994107,
          46.230917,
          46.20849374,
          46.20644905,
          46.1878271,
          46.17795418,
          46.19240161,
          46.21366892,
          46.21078272,
          46.20143148,
          46.2027972,
          46.2146427,
          46.2304243,
          46.18888873,
          46.20617124,
          46.19478762,
          46.21320879,
          46.20087085,
          46.2711219,
          46.25759758,
          46.19573785,
          46.2105936,
          46.21086124,
          46.20231,
          46.210499,
          46.2170324,
          46.18869829,
          46.20895795,
          46.21672731,
          46.191858,
          46.19379903,
          46.1884035,
          46.2175836,
          46.19696167,
          46.18909107,
          46.21120712,
          46.19762359,
          46.20406396,
          46.19661614,
          46.2089226,
          46.20007818,
          46.21161032,
          46.20474,
          46.19218728,
          46.20148105,
          46.19791828,
          46.1939953,
          46.20082372,
          46.20317387,
          46.21350932,
          46.17607005,
          46.18826754,
          46.22398028,
          46.2921215,
          46.21188564,
          46.21160279,
          46.20546113,
          46.20000444,
          46.20876893,
          46.22981911,
          46.20311139,
          46.20984295,
          46.2032282,
          46.21015747,
          46.20246701,
          46.21748892,
          46.22298084,
          46.19545777,
          46.19392198,
          46.20707,
          46.20739958,
          46.20261797,
          46.22991755,
          46.21613992,
          46.1966842,
          46.21530926,
          46.20791438,
          46.21794,
          46.21128,
          46.2301819,
          46.2103994,
          46.20710453,
          46.28600617,
          46.21496928,
          46.22631677,
          46.20086711,
          46.20107314,
          46.21431969,
          46.23098234,
          46.22077,
          46.2029106,
          46.1974356,
          46.21187944,
          46.20392959,
          46.20136297,
          46.20111716,
          46.18331088,
          46.1937681,
          46.2006215,
          46.20210895,
          46.20673861,
          46.20479365,
          46.20456652,
          46.21040724,
          46.21234325,
          46.2008811,
          46.23725088,
          46.29310258,
          46.20152734,
          46.194653,
          46.19399702,
          46.2156197,
          46.17336743,
          46.18948616,
          46.17511114,
          46.20347667
         ],
         "legendgroup": "",
         "lon": [
          6.15672,
          6.16154,
          6.1558,
          6.16833,
          6.15545,
          6.13908,
          6.1454,
          6.17308,
          6.15715,
          6.15306,
          6.12383,
          6.13287,
          6.15107,
          6.14861,
          6.14912,
          6.1441,
          6.14852,
          6.12802,
          6.13978,
          6.12949,
          6.150082,
          6.15499,
          6.12431,
          6.13691,
          6.1621,
          6.16197,
          6.16157,
          6.13148,
          6.12666,
          6.14957,
          6.15662,
          6.11754,
          6.03816,
          6.15335,
          6.11804,
          6.21691,
          6.13824,
          6.1042,
          6.14364,
          6.12994,
          6.19447,
          6.14517,
          6.14587,
          6.13856,
          6.13656,
          6.13772,
          6.14388,
          6.16053,
          6.13007,
          6.16771,
          6.14318,
          6.16429,
          6.15116,
          6.14605,
          6.16193,
          6.15691,
          6.15779,
          6.1226,
          6.14667,
          6.14667,
          6.14637,
          6.14489,
          6.13424,
          6.14365,
          6.14058,
          6.1462,
          6.14808,
          6.15656,
          6.14927,
          6.1377,
          6.1351,
          6.13583,
          6.19614,
          6.14099,
          6.09361,
          6.1619,
          6.13651,
          6.13808,
          6.17199,
          6.14875,
          6.16063,
          6.19498,
          6.13736,
          6.11348,
          6.14182,
          6.14299,
          6.14983,
          6.07974,
          6.11254,
          6.14032,
          6.14946,
          6.13942,
          6.12568,
          6.16737,
          6.11387,
          6.18267,
          6.13763,
          6.1089,
          6.14139,
          6.145676524,
          6.13477,
          6.13802,
          6.11955,
          6.14519,
          6.15335,
          6.09733,
          6.1442,
          6.1419,
          6.14316,
          6.09693,
          6.1474,
          6.16074,
          6.14142,
          6.14202,
          6.14788,
          6.14334,
          6.15923,
          6.08851,
          6.11015,
          6.14509,
          6.13482,
          6.1414,
          6.16844,
          6.1474,
          6.14425,
          6.15721,
          6.14026,
          6.139,
          6.12595,
          6.14729,
          6.13203,
          6.14834,
          6.20303,
          6.14581,
          6.13761,
          6.15711,
          6.14898,
          6.114157,
          6.14824,
          6.18311,
          6.14907,
          6.13569,
          6.15004,
          6.1407,
          6.14866,
          6.08651,
          6.16582,
          6.12515,
          6.15985,
          6.13475,
          6.12428,
          6.14006,
          6.11334,
          6.13803,
          6.1369,
          6.08155,
          6.13789,
          6.12856,
          6.14252,
          6.2086471,
          6.14596,
          6.15094,
          6.16295,
          6.14457,
          6.08247,
          6.1407,
          6.14457,
          6.15399,
          6.14757,
          6.15516,
          6.1839,
          6.16258,
          6.21792,
          6.14332,
          6.1444,
          6.13092,
          6.13409,
          6.18554,
          6.13753,
          6.15188,
          6.14129,
          6.14698,
          6.14538,
          6.1508,
          6.15318,
          6.15622,
          6.146061897,
          6.206169716,
          6.14942,
          6.07946,
          6.13036,
          6.14719,
          6.13199,
          6.16119,
          6.14457,
          6.13858,
          6.14448,
          6.20185,
          6.1434,
          6.07419,
          6.11653,
          6.14457,
          6.09754,
          6.12426,
          6.15396,
          6.15054,
          6.13545,
          6.1466,
          6.14191,
          6.1486,
          6.13994,
          6.14303,
          6.12436,
          6.13351,
          6.14934,
          6.1487,
          6.13491,
          6.12818,
          6.15063,
          6.12581,
          6.16767,
          6.18199,
          6.14921,
          6.14846,
          6.14731,
          6.14569,
          6.12252,
          6.1538,
          6.20251,
          6.16172,
          6.09367,
          6.15806,
          6.12809,
          6.15532,
          6.14768,
          6.14329,
          6.12594,
          6.14465,
          6.12044,
          6.1113,
          6.13326,
          6.14004,
          6.10545,
          6.15867,
          6.14419,
          6.12818,
          6.12202,
          6.15405,
          6.14451,
          6.13663,
          6.13127,
          6.12535,
          6.11782,
          6.14574,
          6.13544,
          6.14317,
          6.13078,
          6.0755,
          6.15058,
          6.15942,
          6.15772,
          6.15906,
          6.13333,
          6.13793,
          6.16227,
          6.16101,
          6.15947,
          6.16234,
          6.14756,
          6.17535,
          6.14024,
          6.18199,
          6.16051,
          6.123961057,
          6.1477,
          6.14424,
          6.13704,
          6.15307,
          6.18332,
          6.16155,
          6.1488,
          6.14905,
          6.14813,
          6.15014,
          6.14928,
          6.13699,
          6.14764,
          6.139092144,
          6.11388,
          6.03283,
          6.13639,
          6.14252,
          6.14432,
          6.15087,
          6.10978,
          6.15518,
          6.13803,
          6.13512,
          6.1494,
          6.16292,
          6.16426,
          6.13846,
          6.149165217,
          6.12944,
          6.17932,
          6.13844,
          6.16137,
          6.0991527,
          6.127,
          6.14068,
          6.13063,
          6.13675,
          6.07657,
          6.16389,
          6.11996,
          6.14169,
          6.13938,
          6.19968,
          6.11708,
          6.13795,
          6.14965,
          6.16177,
          6.19647,
          6.14211,
          6.1367,
          6.16174797,
          6.13935,
          6.16005,
          6.16817,
          6.1855,
          6.11297,
          6.142,
          6.08223,
          6.13095,
          6.146716384,
          6.147222528,
          6.14471,
          6.124516602,
          6.08033,
          6.1486,
          6.12148,
          6.14711,
          6.18224,
          6.10343,
          6.1530594,
          6.12653,
          6.14472,
          6.13332,
          6.14169,
          6.14444,
          6.14414,
          6.154243338,
          6.14861,
          6.14482,
          6.14393,
          6.19149,
          6.12758,
          6.14285,
          6.1616,
          6.1616,
          6.1616,
          6.145,
          6.1616,
          6.13696,
          6.14821,
          6.07113,
          6.126,
          6.13507,
          6.16358,
          6.14607,
          6.13675,
          6.11678,
          6.11917,
          6.14658,
          6.045,
          6.1613,
          6.14772,
          6.16833,
          6.17235,
          6.16193,
          6.13598,
          6.15899,
          6.13314,
          6.15612,
          6.15876,
          6.16536,
          6.02162,
          6.15147,
          6.215038663,
          6.12329,
          6.16135,
          6.12836,
          6.14745,
          6.1141,
          6.15558,
          6.13354,
          6.13326,
          6.13401,
          6.11569,
          6.12191,
          6.11211,
          6.11822,
          6.13729,
          6.1485,
          6.14821,
          6.07234,
          6.11751,
          6.132793903,
          6.17416,
          6.15085,
          6.21025,
          6.13455,
          6.15718,
          6.14635,
          6.12352,
          6.12331,
          6.13245,
          6.16228,
          6.14225,
          6.15402,
          6.122732436,
          6.12735,
          6.16287,
          6.09229,
          6.20042,
          6.02277,
          6.15438,
          6.13564,
          6.16212,
          6.12413,
          6.123471111,
          6.13964,
          6.16007,
          6.13264,
          6.08835,
          6.13698,
          6.14543,
          6.16151,
          6.1087,
          6.14607,
          6.16184,
          6.13896,
          6.13317,
          6.15781,
          6.14656,
          6.14188,
          6.10862,
          6.15958,
          6.14997,
          6.13753,
          6.14199,
          6.12199,
          6.13889,
          6.137,
          6.1379,
          6.0718,
          6.14462,
          6.13565,
          6.14239,
          6.12422,
          6.13047,
          6.14457,
          6.17316,
          6.11107,
          6.15004,
          6.12585,
          6.16004,
          6.1335,
          6.16398,
          6.1356,
          6.12909,
          6.14763,
          6.16132,
          6.15061,
          6.12366,
          6.16736,
          6.16312,
          6.14918,
          6.13953,
          6.1474,
          6.11406,
          6.14299,
          6.14444,
          6.14368,
          6.13403,
          6.14851,
          6.13209,
          6.1616,
          6.1616,
          6.14608,
          6.14878,
          6.15869,
          6.14038,
          6.146,
          6.12872,
          6.13459,
          6.11285,
          6.14586,
          6.12603,
          6.14725,
          6.14742,
          6.14662,
          6.15043,
          6.14476,
          6.14797,
          6.16008,
          6.17554,
          6.1491,
          6.14933,
          6.16216,
          6.11048,
          6.15087,
          6.12886,
          6.19641,
          6.14218,
          6.133524895,
          6.12569,
          6.12517,
          6.12332,
          6.14874,
          6.14317,
          6.24443,
          6.18478,
          6.14224,
          6.14638,
          6.12515,
          6.16594,
          6.23523,
          6.14273,
          6.14778,
          6.13538,
          6.13867,
          6.199938375,
          6.14954,
          6.12485,
          6.12115,
          6.14447,
          6.11073,
          6.16148,
          6.07411,
          6.124373668,
          6.14284,
          6.13742,
          6.13909,
          6.14394,
          6.12499,
          6.14606,
          6.16222,
          6.13099,
          6.15925,
          6.148,
          6.14787,
          6.12731,
          6.16269,
          6.12993,
          6.1067,
          6.14858,
          6.1192,
          6.15824,
          6.13464,
          6.17003,
          6.14905,
          6.14505,
          6.13935,
          6.14511,
          6.14184,
          6.18533,
          6.12025,
          6.16001,
          6.12516,
          6.14759,
          6.16511,
          6.17554,
          6.17732,
          6.14679,
          6.15594,
          6.1705,
          6.14046,
          6.13622,
          6.14732,
          6.16461,
          6.14567,
          6.15986,
          6.15839,
          6.14066,
          6.16075,
          6.14885,
          6.15386,
          6.11746,
          6.12675,
          6.13206,
          6.14666,
          6.13033,
          6.13057,
          6.16426,
          6.15994,
          6.15135,
          6.16877,
          6.15919,
          6.15473,
          6.12976,
          6.13777,
          6.12836,
          6.15042,
          6.14472,
          6.15775,
          6.1438,
          6.16193,
          6.18022,
          6.14311,
          6.10878,
          6.0803,
          6.13733,
          6.15408,
          6.14716,
          6.15887,
          6.12982,
          6.10982,
          6.1462,
          6.14134,
          6.15541,
          6.17293,
          6.12763,
          6.14437,
          6.12633,
          6.15187,
          6.12085,
          6.16184,
          6.07608,
          6.12647,
          6.14638,
          6.12995,
          6.17893,
          6.13103,
          6.15558,
          6.13723,
          6.15941,
          6.16084,
          6.140405871,
          6.16371,
          6.1104,
          6.16322,
          6.13945,
          6.1683,
          6.15809,
          6.11506,
          6.14384,
          6.17706,
          6.122858186,
          6.11065,
          6.1316,
          6.20126,
          6.12421,
          6.124286014,
          6.12273363,
          6.15962,
          6.14995,
          6.16107,
          6.11745,
          6.13001,
          6.15042,
          6.13387,
          6.14656,
          6.15942,
          6.18385,
          6.123040776,
          6.13806,
          6.13405,
          6.12287,
          6.14929,
          6.16009,
          6.20694,
          6.122881427,
          6.13132,
          6.16583,
          6.14722,
          6.14432,
          6.12137,
          6.12488,
          6.14643,
          6.14802,
          6.13025,
          6.14738,
          6.17655,
          6.13183,
          6.143373938,
          6.14184,
          6.14083,
          6.23114,
          6.13502,
          6.13089,
          6.13174324,
          6.15648,
          6.13141,
          6.16164,
          6.14894,
          6.14363,
          6.14305,
          6.14599,
          6.15035,
          6.153,
          6.11108,
          6.12683,
          6.14365,
          6.15511,
          6.15536,
          6.12202,
          6.1297,
          6.13806,
          6.13936,
          6.14022,
          6.15853,
          6.08876,
          6.13679,
          6.13181,
          6.13725,
          6.13637,
          6.14308,
          6.12557,
          6.134394051,
          6.12422,
          6.13707,
          6.07082,
          6.12458,
          6.16009,
          6.07957,
          6.1561,
          6.13867,
          6.15648,
          6.12825,
          6.16172,
          6.15964,
          6.10972,
          6.12748,
          6.12814,
          6.14377,
          6.14906,
          6.12742,
          6.13709,
          6.1388,
          6.22921,
          6.14192,
          6.13802,
          6.12544,
          6.14767,
          6.14809,
          6.15041,
          6.1441,
          6.12749,
          6.16671,
          6.16204,
          6.19904,
          5.99462,
          6.14303,
          6.16093,
          6.23173,
          6.12854,
          6.18262,
          6.14517,
          6.14346,
          6.13262,
          6.13187,
          6.16886,
          6.15901,
          6.2294,
          6.12999,
          6.13959,
          6.12353,
          6.15754,
          6.143,
          6.13466,
          6.13832,
          6.13495,
          6.14026,
          6.14786,
          6.14096,
          6.1339,
          6.11449,
          6.15439,
          6.1563,
          6.13839,
          6.13599,
          6.07446,
          6.14237,
          6.13178,
          6.13679,
          6.14306,
          6.10804,
          6.18518,
          6.10838,
          6.10917,
          6.14492,
          6.14901,
          6.16519,
          6.13149,
          6.14643,
          6.19169,
          6.12818,
          6.14348,
          6.18556,
          6.16591,
          6.13629,
          6.12488,
          6.14588,
          6.17554,
          6.10332,
          6.13236,
          6.13967,
          6.14973,
          6.14571,
          6.1841,
          6.21366,
          6.18563,
          6.08231,
          6.11781,
          6.1321,
          6.1287,
          6.16457,
          6.17554,
          6.14889,
          6.17554,
          6.11765,
          6.11842,
          6.13866,
          6.12652,
          6.1048,
          6.20845,
          6.21973,
          6.20405,
          6.16237,
          6.14434,
          6.06988,
          6.1341,
          6.1569,
          6.14915,
          6.12405,
          6.20486,
          6.20992,
          6.16196,
          6.13843,
          6.14308,
          6.11797,
          6.13807,
          6.112148433,
          6.15724,
          6.17688,
          6.16241,
          6.14667,
          6.14968,
          6.10317,
          6.13529,
          6.1595,
          6.19619,
          6.19784,
          6.14683,
          6.13339,
          6.14599,
          6.15948,
          6.1195,
          6.12522,
          6.11843,
          6.14331,
          6.12912,
          6.13525,
          6.13766,
          6.13644,
          6.1384,
          6.12051,
          6.14688,
          6.145028114,
          6.14647,
          6.14727,
          6.19474,
          6.16265,
          6.123260227,
          6.141482427,
          6.24455,
          6.16122,
          6.13468,
          6.1358,
          6.15539,
          6.16266,
          6.14511,
          6.15832,
          6.14301,
          6.13441,
          6.16727,
          6.12538,
          6.16774,
          6.15831,
          6.147829419,
          6.25883,
          6.1492,
          6.15315,
          6.13864,
          6.15905,
          6.14478,
          6.13276,
          6.09985,
          6.18425,
          6.16028,
          6.12384,
          6.14894,
          6.14871,
          6.15945,
          6.12429,
          6.12405,
          6.1406,
          6.1331,
          6.06614,
          6.10367,
          6.16301,
          6.12795,
          6.16474,
          6.13892,
          6.14066,
          6.12011,
          6.12031,
          6.12656,
          6.14792,
          6.12967,
          6.19121,
          6.14944,
          6.1276,
          6.13934,
          6.13265,
          6.13342,
          6.14696,
          6.07937,
          6.14961,
          6.09123,
          6.11919,
          6.19986,
          6.13603,
          6.14428,
          6.13442,
          6.16431,
          6.13001,
          6.13816,
          6.19312,
          6.11427,
          6.12503,
          6.1242,
          6.1247,
          6.150111198,
          6.14979,
          6.09611,
          6.2054,
          6.2041,
          6.14908,
          6.15012,
          6.14991,
          6.15045,
          6.14982,
          6.14991,
          6.12404,
          6.20156,
          6.12066,
          6.142184,
          6.142184,
          6.19047,
          6.19122,
          6.1482,
          6.14947,
          6.01386,
          6.133802,
          6.17586,
          6.20947,
          6.1335,
          6.15002,
          6.11975,
          6.09861,
          6.13698,
          6.20043,
          6.14899,
          6.14113,
          6.13137,
          6.1423,
          6.133721828,
          6.13034,
          6.1237,
          6.10787,
          6.12643,
          6.20071,
          6.13263,
          6.13665,
          6.14163,
          6.142184,
          6.142303,
          6.1423,
          6.142183781,
          6.14218,
          6.13699,
          6.15937,
          6.14528,
          6.14230299,
          6.1577,
          6.15242,
          6.14489,
          6.14878,
          6.14362,
          6.15737,
          6.06845,
          6.16442,
          6.13201,
          6.17425,
          6.19933,
          6.13664,
          6.21092,
          6.14075,
          6.1533,
          6.16559,
          6.15708,
          6.14821,
          6.14991,
          6.12708,
          6.12537,
          6.12441,
          6.15666,
          6.12543,
          6.14751,
          6.13045,
          6.12458,
          6.1639,
          6.1583,
          6.15782,
          6.12835,
          6.20265,
          6.14238,
          6.14159,
          6.14311,
          6.16582,
          6.0698,
          6.14932,
          6.1389,
          6.13766,
          6.14128,
          6.14511,
          6.14482,
          6.123992044,
          6.16078,
          6.10639,
          6.14667,
          6.14321,
          6.14171,
          6.14098,
          6.14098,
          6.14265,
          6.14166,
          6.14256,
          6.14155,
          6.14157,
          6.14484,
          6.14514,
          6.14901,
          6.15908,
          6.15632,
          6.15452,
          6.14895,
          6.14835,
          6.11565,
          6.19412,
          6.15908,
          6.15825,
          6.19155,
          6.20384,
          6.1574,
          6.13087,
          6.19369,
          6.11791,
          6.14797,
          6.13747,
          6.14719,
          6.14612,
          6.16825,
          6.1635,
          6.14309,
          6.14153,
          6.14862,
          6.16658,
          6.148624,
          6.14965,
          6.14629,
          6.13178,
          6.1118,
          6.14599,
          6.14466,
          6.14492,
          6.19277,
          6.13372,
          6.13893,
          6.15162,
          6.15234,
          6.15167,
          6.15131,
          6.12408,
          5.99709,
          6.15665,
          6.15681,
          6.1582,
          6.15754,
          6.15786,
          6.15758,
          6.16359,
          6.13991,
          6.15051,
          6.13327,
          6.14565,
          6.14497,
          6.14596,
          6.13518,
          6.13288,
          6.1729,
          6.20092,
          6.14547,
          6.12873,
          6.14393,
          6.1462,
          6.15854,
          6.1493,
          6.15676,
          6.14504,
          6.16383,
          6.13208,
          6.1414,
          6.14181,
          6.14304,
          6.14231,
          6.12943,
          6.13001,
          6.14844,
          6.14319,
          6.1416,
          6.14074,
          6.1631,
          6.14302,
          6.15666,
          6.14321,
          6.1358199,
          6.14064,
          6.13942,
          6.15381,
          6.13042,
          6.14653,
          6.13798,
          6.12269,
          6.12978,
          6.21426,
          6.1594,
          6.1487,
          6.14683,
          6.15788,
          6.16052,
          6.14506,
          6.1477,
          6.13494,
          6.15452,
          6.16369,
          6.1666,
          6.13568,
          6.12722,
          6.14329,
          6.16148,
          6.16031,
          6.12764,
          6.13646,
          6.19777,
          6.14078,
          6.14491,
          6.15687,
          6.23593,
          6.13767,
          6.11254,
          6.13268,
          6.16942,
          6.14901,
          6.122907511,
          6.1457,
          6.14022,
          6.16412,
          6.15767,
          6.13436,
          6.14673,
          6.14464,
          6.14216,
          6.14822,
          6.13352,
          6.13367,
          6.14427,
          6.13525,
          6.13376,
          6.14659,
          6.16623,
          6.14404,
          6.18274,
          6.07146,
          6.13704,
          6.13309,
          6.16195,
          6.18214,
          6.09353,
          6.13861,
          6.13497,
          6.14755,
          6.15917,
          6.13782,
          6.14016,
          6.14792,
          6.138725,
          6.12824,
          6.15915,
          6.17394,
          6.13309,
          6.142243,
          6.15932,
          6.13874,
          6.15537,
          6.17664,
          6.12652,
          6.22339,
          6.1456,
          6.12727,
          6.13789,
          6.13589,
          6.16248,
          6.12636,
          6.147903357,
          6.19296,
          6.129136,
          6.14666,
          6.1376,
          6.11328,
          6.149515,
          6.14365,
          6.12926,
          6.13355,
          6.14962,
          6.14192,
          6.1315,
          6.15597,
          6.1644,
          6.11208,
          6.16211,
          6.145394802,
          6.09892,
          6.13138,
          6.16552,
          6.14596,
          6.14526,
          6.12005,
          6.15916,
          6.12993,
          6.12451,
          6.19708,
          6.14238,
          6.13124,
          6.147427082,
          6.147427082,
          6.14004,
          6.147427082,
          6.147427082,
          6.147427,
          6.14478,
          6.13901,
          6.147427082,
          6.146920204,
          6.147427082,
          6.147427082,
          6.14795,
          6.147427082,
          6.147427082,
          6.14974,
          6.13469,
          6.17061,
          6.13056,
          6.14592,
          6.14359,
          6.20956,
          6.15031,
          6.14812,
          6.14809,
          6.14809,
          6.13719,
          6.12604,
          6.12451,
          6.14768,
          6.14633,
          6.13826,
          6.16314,
          6.149194,
          6.15409,
          6.12613,
          6.13708,
          6.1435,
          6.13013,
          6.13003,
          6.151451,
          6.151971,
          6.12161,
          6.14402,
          6.1454,
          6.13303,
          6.1308,
          6.12452,
          6.1508,
          6.11958,
          6.161893845,
          6.14276612,
          6.14968,
          6.12221,
          6.13899,
          6.12372,
          6.12749,
          6.1601,
          6.128971324,
          6.150938034,
          6.2011,
          6.16011,
          6.1558,
          6.1317,
          6.15006,
          6.14714,
          6.14981,
          6.11876,
          6.15442,
          6.05733,
          6.27308,
          6.20131,
          6.14272,
          6.0709,
          6.14442,
          6.13418,
          6.16056,
          6.14467,
          6.16714,
          6.14948,
          6.134483775,
          6.10614,
          6.14629,
          6.11559,
          6.16753,
          6.20133,
          6.14344,
          6.14122,
          6.14978,
          6.15014,
          6.13378,
          6.15885,
          6.12769,
          6.12732,
          6.14276,
          6.13877,
          6.1456,
          6.13539,
          6.20083,
          6.12473,
          6.13625,
          6.16222,
          6.15089,
          6.13632,
          6.14764,
          6.13625,
          6.13651,
          6.14506,
          6.14932,
          6.14772,
          6.14719,
          6.15898,
          6.10903,
          6.13667,
          6.15005,
          6.16377,
          6.1503,
          6.16134,
          6.14802,
          6.14386,
          6.13702,
          6.13616,
          6.14196,
          6.14461,
          6.134764,
          6.13561,
          6.12084,
          6.14984,
          6.1339,
          6.14138,
          6.13823,
          6.15698,
          6.1293,
          6.16344,
          6.14327,
          6.15811,
          6.12436,
          6.16187,
          6.15678,
          6.24395,
          6.164,
          6.113,
          6.14156,
          6.09773,
          6.20213,
          6.1339,
          6.13526,
          6.13127,
          6.13175,
          6.16025,
          6.14397,
          6.142184,
          6.109054,
          6.109054,
          6.109054,
          6.036344245,
          6.1144,
          6.142515573,
          6.14837,
          6.12631,
          6.16317,
          6.14668,
          6.13781,
          6.04097,
          6.14916,
          6.14218,
          6.149145,
          6.13856,
          6.14291,
          6.14851,
          6.079366,
          6.1474,
          6.15669,
          6.11094,
          6.142974,
          6.15671,
          6.12655,
          6.13818,
          6.19048,
          6.1481,
          6.1323,
          6.12769,
          6.14928,
          6.13421,
          6.1502,
          6.0752,
          6.13522,
          6.16669,
          6.14353,
          6.12993,
          6.1565,
          6.121035,
          6.1359,
          6.14045,
          6.14683,
          6.16258,
          6.13352,
          6.07312,
          6.07398,
          6.14918,
          6.07446,
          6.14482,
          6.13878,
          6.156947442,
          6.17345,
          6.13071,
          6.14306,
          6.13483,
          6.13052,
          6.16028,
          6.14854,
          6.14255,
          6.14699,
          6.132181,
          6.0958,
          6.20184,
          6.12399,
          6.16495,
          6.146837,
          6.1449,
          6.12843,
          6.13818,
          6.16441,
          6.15033,
          6.14399,
          6.14536,
          6.14875,
          6.11779,
          6.15028,
          6.14816,
          6.14309,
          6.134156,
          6.13355,
          6.14418,
          6.15874,
          6.184675,
          6.15887,
          6.19442,
          6.14306,
          6.141339,
          6.12728,
          6.16773,
          6.16257,
          6.13839,
          6.15709,
          6.13697,
          6.142183781,
          6.142183781,
          6.15549,
          6.1594,
          6.14117,
          6.18101,
          6.1613,
          6.15671,
          6.13828,
          6.14281,
          6.152735,
          6.16073,
          6.14372,
          6.12046,
          6.1564,
          6.15092,
          6.12953,
          6.12983,
          6.14605,
          6.149165,
          6.09611,
          6.15154,
          6.136284,
          6.15021,
          6.13555,
          6.13703,
          6.14089,
          6.23068,
          6.132181,
          6.132181168,
          6.07954,
          6.12988,
          6.16606,
          6.16103,
          6.13816,
          6.13752,
          6.1449,
          6.1564,
          6.14578,
          6.1594,
          6.13572,
          6.16624,
          6.14374,
          6.13376,
          6.13369,
          6.15173,
          6.10187,
          6.16422,
          6.161693096,
          6.1487,
          6.2203,
          6.14552,
          6.14534,
          6.16224,
          6.08343,
          6.14179,
          6.15276,
          6.15979,
          6.149515,
          6.14046,
          6.127975,
          6.12145,
          6.15741,
          6.15917,
          6.15922,
          6.1547,
          6.133568,
          6.175867,
          6.14588,
          6.13131,
          6.14675,
          6.15262,
          6.144594,
          6.13047,
          6.16208,
          6.1325,
          6.12902,
          6.127,
          6.13218,
          6.14869,
          6.19391,
          6.14705,
          6.15454,
          6.15922,
          6.15212,
          6.16393,
          6.13411,
          6.17663,
          6.17516,
          6.1454572,
          6.11126,
          6.143796556,
          6.12415,
          6.15908,
          6.15721,
          6.13134,
          6.1539,
          6.13549,
          6.11317,
          6.14189,
          6.154481471,
          6.15079,
          6.1251483,
          6.13097,
          6.1415007,
          6.14766,
          6.07661,
          6.102998815,
          6.15311,
          6.243118085,
          6.16282,
          6.14934437,
          6.1415007,
          6.13699,
          6.1495,
          6.148,
          6.13175,
          6.163760237,
          6.1251483,
          6.22937,
          6.14797,
          6.1662386,
          6.1287,
          6.15135,
          6.16219,
          6.02094,
          6.12,
          6.1517067,
          6.14611,
          6.12645,
          6.14469,
          6.14541,
          6.13857,
          6.16751,
          6.18269,
          6.13174,
          6.1664,
          6.14439,
          5.99867,
          6.13548,
          6.20821,
          6.24706,
          6.14349,
          6.19822,
          6.11479,
          6.1290246,
          6.10388,
          6.1653,
          6.15355,
          6.16461,
          6.15887115,
          6.16758,
          6.16449,
          6.16347,
          6.16027,
          6.1449082,
          6.14792,
          6.14199,
          6.12853,
          6.14784,
          6.14783,
          6.13882,
          6.1287922,
          6.15637,
          6.16217,
          6.1627,
          6.14909,
          6.1386668,
          6.14959,
          6.16374,
          6.14485,
          6.14075,
          6.17178,
          6.13432,
          6.1595463,
          6.18407,
          6.1535,
          6.17025,
          6.116,
          6.16177,
          6.159252593,
          6.1213947,
          6.12383,
          6.1348,
          6.12382,
          6.15845,
          6.1281,
          6.13791,
          6.123859522,
          6.12432,
          6.14582,
          6.12256,
          6.14341,
          6.13501,
          6.14716,
          6.15532,
          6.1250904,
          6.15718,
          6.1421,
          6.143234696,
          6.12422,
          6.14347,
          6.18676,
          6.14496,
          6.16124,
          6.15876,
          6.1253,
          6.14254,
          6.19798,
          6.1620717,
          6.12119,
          6.1402665,
          6.13205,
          6.16826,
          6.12914,
          6.16836,
          6.16679,
          6.26776,
          6.13072,
          6.13427,
          6.132181,
          6.13531,
          6.1454855,
          6.15412,
          6.14581,
          6.1143774,
          6.138023101,
          6.14703,
          6.135142408,
          6.13584,
          6.1944,
          6.1389,
          6.19609,
          6.11112,
          6.12528,
          6.12754,
          6.19136,
          6.1422341,
          6.1581304,
          6.12323,
          6.13578,
          6.16062,
          6.14539,
          6.15656,
          6.13723,
          6.1385137,
          6.14861,
          6.1618,
          6.14407,
          6.14161,
          6.13765,
          6.13918,
          6.16175,
          6.15341,
          6.1312429,
          6.13676,
          6.18652,
          6.18727,
          6.1385,
          6.14435,
          6.16398,
          6.16248,
          6.13937,
          6.13753,
          6.13714,
          6.07739,
          6.13023,
          6.15496,
          6.20517,
          6.14563,
          6.13941,
          6.20205,
          6.16225,
          6.1591611,
          6.14736,
          6.14861,
          6.1773946,
          6.14826,
          6.20097,
          6.07716,
          6.14581,
          6.15922,
          6.12377,
          6.14572,
          6.15703,
          6.15212,
          6.14727,
          6.16639,
          6.1524242,
          6.153413281,
          6.12937,
          6.14585,
          6.134705544,
          6.149255754,
          6.1316209,
          6.1438,
          6.14824,
          6.15043,
          6.13759,
          6.15727,
          6.15892,
          6.20222,
          6.14194,
          6.16362,
          6.12859,
          6.1371705,
          6.12106,
          6.14288,
          6.139196504,
          6.14954,
          6.13774,
          6.1482285,
          6.13523,
          6.12335,
          6.148618497,
          6.1448,
          6.150517026,
          6.15406,
          6.16222,
          6.149199195,
          6.13136,
          6.1259878,
          6.13851361,
          6.157438839,
          6.1591128,
          6.17138,
          6.14506,
          6.13142,
          6.15763,
          6.2233525,
          6.13478,
          6.14096,
          6.15066,
          6.14817,
          6.11361,
          6.15703,
          6.145633534,
          6.104255929,
          6.1593799,
          6.24986,
          6.06643,
          6.1725,
          6.13733,
          6.14556,
          6.16281,
          6.12416,
          6.14343,
          6.15553,
          6.15038,
          6.20001,
          6.15544,
          6.19998,
          6.12227,
          6.14598,
          6.13559055,
          6.14854,
          6.15511,
          6.115158275,
          6.1095657,
          6.13338,
          6.1438529,
          6.1455714,
          6.1142659,
          6.0765192,
          6.1421837,
          6.19976,
          6.0810586,
          6.1357407,
          6.08736,
          6.13917,
          6.14959,
          6.15831,
          6.1397642,
          6.15718,
          6.1498352,
          6.14868,
          6.155312955,
          6.1319,
          6.14348,
          6.1499,
          6.13513,
          6.2001,
          6.13911,
          6.1667,
          6.14599,
          6.1506,
          6.1626,
          6.1293042,
          6.142236398,
          6.1461101,
          6.14576,
          6.1314312,
          6.11694,
          6.13078,
          6.07454,
          6.16508,
          6.147880542,
          6.149219982,
          6.14168,
          6.159484126,
          6.13512,
          6.13679,
          6.1193013,
          6.141083545,
          6.14617,
          6.13761,
          6.1426459,
          6.12779,
          6.099694,
          6.15745,
          6.0765192,
          6.0765192,
          6.19966,
          6.163110137,
          6.15037,
          6.1603,
          6.1486929,
          6.14671,
          6.12,
          6.147526,
          6.186676696,
          6.18679,
          6.13108,
          6.13713,
          6.11606,
          6.12503,
          6.13944,
          6.14319,
          6.15683,
          6.18515,
          6.14968,
          6.16177,
          6.1609518,
          6.1435877,
          6.208,
          6.15581,
          6.15938,
          6.15937,
          6.149683677,
          6.1261987,
          6.141959085,
          6.13951,
          6.13889,
          5.99201,
          6.1602,
          6.1566,
          6.1406,
          6.1641414,
          6.19509,
          6.16964,
          6.13157,
          6.14093,
          6.14107,
          6.14466,
          6.144506335,
          6.14386,
          6.11989,
          6.145,
          6.141718,
          6.167713143,
          6.11745,
          6.075854012,
          6.0765192,
          6.0765192,
          6.15945,
          6.15874,
          6.0690965,
          6.13263,
          6.13216,
          6.1618781,
          6.14981,
          6.1628057,
          6.12757,
          6.06797,
          6.20581,
          6.13379,
          6.18569,
          6.15742,
          5.97391,
          6.1634276,
          6.148899937,
          6.14663,
          6.2242,
          6.12524,
          6.12737,
          6.1246,
          6.1384346,
          6.14793,
          6.1321764,
          6.13452,
          6.12181,
          6.203467,
          6.15178,
          6.13116,
          6.19523,
          6.170112,
          6.1939,
          6.1633,
          6.14305,
          6.1316959,
          6.13066,
          6.19961936,
          6.1141267,
          6.141718,
          6.13462,
          6.1434544,
          6.147373952,
          6.1375,
          6.16443,
          6.13833,
          6.16113,
          6.146246418,
          6.1602,
          6.1658633,
          6.16647,
          6.14117,
          6.07771866,
          6.0783,
          6.0766,
          6.16592,
          6.16193,
          6.15631,
          6.12246,
          6.10407,
          6.12184,
          6.19704,
          6.17278,
          6.13848,
          6.18783,
          6.16221,
          6.17605,
          6.14631,
          6.14518,
          6.14525,
          6.16005,
          6.14521,
          6.1438,
          6.13871,
          6.14567,
          6.132512838,
          6.07652,
          6.14569,
          6.124928554,
          6.13148,
          6.13323,
          6.1533,
          6.13056,
          6.13113,
          6.13621,
          6.15169,
          6.12584,
          6.13498,
          6.147935,
          6.211169427,
          6.141718,
          6.11848,
          6.11411,
          6.14045,
          6.1295747,
          6.195451642,
          6.18689,
          5.972910002,
          6.1114398,
          6.1326443,
          6.1751709,
          6.14853,
          6.14555,
          6.20352,
          6.173729673,
          6.21654,
          6.16361,
          6.16128,
          6.0765192,
          6.0765192,
          6.0765192,
          6.07578,
          6.13635,
          6.124469,
          6.14457,
          6.15376,
          6.14744,
          6.2359,
          6.13301,
          6.13386,
          6.13248,
          6.14783,
          6.139409803,
          6.2441442,
          6.1231588,
          6.19294,
          6.13985,
          6.141165961,
          6.14775,
          6.1392316,
          6.07956,
          6.15417,
          6.19729,
          6.14433,
          6.14684,
          6.07577,
          6.12819,
          6.1088464,
          6.13182,
          6.1459994,
          6.1266221,
          6.12932,
          6.15948,
          6.14838,
          6.11967,
          6.13662,
          6.19104,
          6.1806,
          6.13842,
          6.1455,
          6.12117,
          6.15684,
          6.1288072,
          6.142655276,
          6.11523,
          6.160963894,
          6.13027,
          6.23023,
          6.13041,
          6.12949,
          6.14523,
          6.148259515,
          6.110373884,
          6.15335,
          6.12987,
          6.13501,
          6.14649,
          6.15848,
          6.1429,
          6.12713,
          6.13984,
          6.13623,
          6.16102,
          6.14294,
          6.136170476,
          6.146067381,
          6.12991,
          6.14318,
          6.14276,
          6.14328,
          6.14749,
          6.1626,
          6.1362,
          6.10887,
          6.15043,
          6.14155,
          6.13532,
          6.14222,
          6.1393,
          6.1591,
          6.15656,
          6.1290646,
          6.19842,
          6.14735,
          6.15639,
          6.1471671,
          6.1577145,
          6.1464273,
          6.13851,
          6.14486,
          6.137984,
          6.148145422,
          6.197751202,
          6.1337852,
          6.16074,
          6.13668,
          6.18582,
          6.17646,
          6.11141,
          6.13037,
          6.130656414,
          6.21505,
          6.146556194,
          6.12104,
          6.131407688,
          6.142262602,
          6.146089135,
          6.16039,
          6.15653,
          6.1446912,
          6.10386,
          6.1423676,
          6.16113,
          6.159154,
          6.138123547,
          6.131886222,
          6.12837,
          6.15278,
          6.162841286,
          6.138196587,
          6.14955,
          6.1289982,
          6.13798,
          6.196311191,
          6.139875827,
          6.157683152,
          6.120849851,
          6.146448197,
          6.145895639,
          6.112145383,
          6.135977297,
          6.133127075,
          6.12728,
          6.151503411,
          6.128545531,
          6.147763543,
          6.148427282,
          6.129163261,
          6.166187477,
          6.121658946,
          6.1337852,
          6.166986096,
          6.159002397,
          6.128462078,
          6.1212142,
          6.143050428,
          6.122182349,
          6.12439768,
          6.121977882,
          6.210617992,
          6.208343756,
          6.137215443,
          6.131787999,
          6.147998064,
          6.130538134,
          6.147935612,
          6.137796422,
          6.11487,
          6.13153,
          6.131566176,
          6.131745453,
          6.136369844,
          6.131651399,
          6.133846163,
          6.1442363,
          6.227140632,
          6.14537319,
          6.16123,
          6.149697298,
          6.147909388,
          6.2052824,
          6.1480423,
          6.138383187,
          6.1531,
          6.15597,
          6.150739447,
          6.157970434,
          6.123711306,
          6.142239,
          6.163825352,
          6.130410206,
          6.1433241,
          6.138158024,
          6.107604363,
          6.077033703,
          6.157873059,
          6.2407862,
          6.138325,
          6.134668439,
          6.181102857,
          6.194425349,
          6.133914627,
          6.12373,
          6.111083496,
          6.144570519,
          6.16245974,
          6.158862779,
          6.2006376,
          6.11051403,
          6.230082096,
          6.143067665,
          6.13676683,
          6.147730544,
          6.1496222,
          6.116893923,
          6.143245883,
          6.18486052,
          6.144028718,
          6.130299,
          6.147942583,
          6.139729796,
          6.1580783,
          6.160521416,
          6.123133139,
          6.138395911,
          6.109580127,
          6.109993456,
          6.146479334,
          6.138609981,
          6.143990024,
          6.144288644,
          6.161994169,
          6.106592507,
          6.158797682,
          6.1477634,
          6.135909876,
          6.15965,
          6.147982478,
          6.12178,
          6.160581822,
          6.127544497,
          6.0722546,
          6.146264523,
          6.13934,
          6.159111032,
          6.15252856,
          6.12558,
          6.136411,
          6.155183956,
          6.0782198,
          6.159768024,
          6.1223706,
          6.1223706,
          6.1284,
          6.145791379,
          6.193065926,
          6.1860555,
          6.138956616,
          6.14884,
          6.146205948,
          6.154692023,
          6.146731,
          6.13764,
          6.19144734,
          6.16247544,
          6.102811942,
          6.14844124,
          6.1609518,
          6.105441819,
          6.08651,
          6.104212298,
          6.12153,
          6.13082981,
          6.140055252,
          6.145226485,
          6.149213842,
          6.166886774,
          6.0800177,
          6.140708084,
          6.073758379,
          6.1548218,
          6.13547232,
          6.1442564,
          6.146047773,
          6.147903639,
          6.194541457,
          6.159455292,
          6.0838571,
          6.120852167,
          6.13861033,
          6.135003554,
          6.120490944,
          6.146173159,
          6.136906841,
          6.2213828,
          6.155669976,
          6.147609526,
          6.134639949,
          6.126424305,
          6.15677,
          6.1340408,
          6.0911893,
          6.144752428,
          6.137504429,
          6.147979435,
          6.1410353,
          6.146473258,
          6.146245256,
          6.1396196,
          6.197255411,
          6.146002231,
          6.148054563,
          6.157223622,
          6.138728353,
          6.161833243,
          6.142804072,
          6.148750957,
          6.147969561,
          6.16213,
          6.167010746,
          6.161790207,
          6.14695094,
          6.1888718,
          6.160494103,
          6.165760323,
          6.150543988,
          6.14262092,
          6.115187991,
          6.12582061,
          6.162056276,
          6.131170351,
          6.147145379,
          6.131379389,
          6.138252094,
          6.142434272,
          6.112540726,
          6.15636132,
          6.13726601,
          6.1628708,
          6.145033101,
          6.148736179,
          6.201673517,
          6.14899078,
          6.146651833,
          6.199153328,
          6.14808,
          6.119189647,
          6.15656899,
          6.120461037,
          6.141926215,
          6.195740733,
          6.134401778,
          6.19095097,
          6.14229,
          6.14455,
          6.128358601,
          6.124001698,
          6.229772419,
          6.161946058,
          6.149763629,
          6.115908393,
          6.130362021,
          6.16292395,
          6.147407144,
          6.119378311,
          6.1483833,
          6.1615749,
          6.1353718,
          6.141970933,
          6.161262766,
          6.14964057,
          6.161638275,
          6.143583374,
          6.1427726,
          6.1565554,
          6.16054334,
          6.182612143,
          6.145227206,
          6.172092067,
          6.136238097,
          6.148353954,
          6.1385124,
          6.144458177,
          6.164350222,
          6.162624016,
          6.14607829,
          6.166607392,
          6.1464957,
          6.126612402,
          6.139566349,
          6.122679069,
          6.139793722
         ],
         "marker": {
          "color": [
           89,
           60,
           165,
           80,
           147,
           48,
           125,
           90,
           95,
           269,
           175,
           180,
           150,
           400,
           400,
           100,
           103,
           136,
           116,
           70,
           137,
           165,
           367,
           355,
           185,
           80,
           125,
           155,
           240,
           220,
           150,
           75,
           70,
           140,
           73,
           130,
           180,
           80,
           55,
           79,
           180,
           81,
           82,
           180,
           75,
           110,
           220,
           290,
           99,
           145,
           90,
           58,
           250,
           207,
           60,
           250,
           220,
           74,
           350,
           430,
           370,
           227,
           138,
           102,
           75,
           90,
           105,
           150,
           154,
           91,
           122,
           59,
           30,
           63,
           80,
           117,
           120,
           75,
           1529,
           120,
           130,
           69,
           60,
           55,
           160,
           99,
           240,
           70,
           101,
           75,
           95,
           130,
           108,
           47,
           52,
           119,
           54,
           69,
           75,
           120,
           55,
           50,
           83,
           66,
           100,
           72,
           90,
           132,
           99,
           49,
           106,
           128,
           129,
           296,
           131,
           95,
           155,
           75,
           95,
           335,
           247,
           75,
           88,
           109,
           52,
           121,
           125,
           40,
           74,
           20,
           77,
           256,
           125,
           76,
           140,
           102,
           110,
           48,
           105,
           90,
           62,
           93,
           777,
           250,
           200,
           180,
           450,
           180,
           400,
           73,
           60,
           114,
           490,
           154,
           168,
           500,
           75,
           175,
           100,
           90,
           149,
           107,
           193,
           119,
           60,
           81,
           113,
           207,
           104,
           350,
           155,
           110,
           180,
           119,
           115,
           69,
           65,
           144,
           40,
           150,
           230,
           250,
           150,
           400,
           60,
           140,
           449,
           100,
           687,
           66,
           120,
           436,
           70,
           155,
           125,
           100,
           75,
           56,
           150,
           135,
           69,
           119,
           81,
           70,
           119,
           103,
           70,
           83,
           79,
           100,
           108,
           105,
           115,
           120,
           900,
           690,
           95,
           47,
           140,
           100,
           65,
           75,
           277,
           287,
           222,
           35,
           100,
           67,
           75,
           236,
           90,
           169,
           64,
           89,
           120,
           150,
           110,
           187,
           104,
           220,
           104,
           77,
           65,
           169,
           164,
           70,
           106,
           330,
           160,
           258,
           175,
           70,
           200,
           64,
           95,
           279,
           87,
           51,
           112,
           140,
           130,
           117,
           70,
           76,
           65,
           120,
           85,
           87,
           90,
           200,
           70,
           230,
           92,
           62,
           200,
           90,
           107,
           133,
           130,
           97,
           100,
           100,
           590,
           100,
           700,
           285,
           130,
           140,
           52,
           300,
           51,
           97,
           120,
           500,
           50,
           58,
           80,
           87,
           127,
           85,
           95,
           65,
           110,
           97,
           1974,
           90,
           90,
           80,
           89,
           103,
           130,
           110,
           51,
           150,
           200,
           186,
           56,
           100,
           120,
           165,
           192,
           70,
           30,
           75,
           116,
           56,
           92,
           100,
           188,
           100,
           42,
           94,
           85,
           120,
           180,
           96,
           101,
           61,
           91,
           71,
           150,
           66,
           80,
           55,
           181,
           175,
           101,
           125,
           68,
           139,
           70,
           142,
           115,
           75,
           250,
           299,
           119,
           86,
           135,
           169,
           249,
           100,
           259,
           80,
           90,
           227,
           55,
           80,
           50,
           85,
           41,
           160,
           120,
           70,
           70,
           261,
           125,
           249,
           253,
           169,
           250,
           220,
           175,
           102,
           115,
           50,
           666,
           188,
           40,
           86,
           250,
           91,
           3000,
           75,
           100,
           139,
           96,
           87,
           400,
           280,
           91,
           95,
           100,
           189,
           73,
           195,
           169,
           68,
           109,
           120,
           2300,
           249,
           218,
           115,
           110,
           110,
           139,
           45,
           95,
           665,
           355,
           45,
           480,
           60,
           464,
           70,
           78,
           145,
           67,
           69,
           179,
           110,
           99,
           110,
           50,
           170,
           80,
           240,
           54,
           75,
           170,
           225,
           49,
           135,
           113,
           154,
           56,
           138,
           63,
           62,
           99,
           70,
           95,
           65,
           190,
           65,
           94,
           47,
           270,
           120,
           115,
           130,
           223,
           120,
           175,
           185,
           110,
           120,
           129,
           725,
           117,
           140,
           390,
           150,
           49,
           220,
           131,
           298,
           66,
           127,
           135,
           107,
           146,
           104,
           50,
           100,
           220,
           135,
           169,
           145,
           89,
           175,
           90,
           180,
           170,
           110,
           57,
           49,
           109,
           99,
           170,
           425,
           110,
           115,
           70,
           180,
           120,
           89,
           101,
           56,
           250,
           145,
           189,
           250,
           120,
           68,
           93,
           410,
           80,
           170,
           115,
           250,
           300,
           120,
           245,
           160,
           98,
           65,
           67,
           140,
           190,
           47,
           93,
           180,
           89,
           99,
           51,
           130,
           50,
           40,
           41,
           190,
           49,
           130,
           290,
           135,
           95,
           120,
           50,
           130,
           171,
           130,
           70,
           60,
           70,
           160,
           155,
           65,
           199,
           75,
           200,
           1500,
           118,
           6582,
           100,
           240,
           90,
           40,
           110,
           49,
           1000,
           186,
           120,
           220,
           34,
           180,
           579,
           189,
           140,
           49,
           180,
           122,
           85,
           357,
           280,
           200,
           211,
           120,
           150,
           95,
           180,
           100,
           45,
           260,
           45,
           130,
           99,
           85,
           85,
           165,
           77,
           85,
           170,
           90,
           116,
           140,
           69,
           179,
           70,
           107,
           101,
           85,
           100,
           200,
           285,
           78,
           128,
           60,
           75,
           150,
           139,
           150,
           75,
           60,
           135,
           124,
           86,
           135,
           85,
           110,
           76,
           126,
           400,
           80,
           153,
           75,
           120,
           151,
           195,
           50,
           163,
           227,
           110,
           186,
           165,
           100,
           290,
           150,
           47,
           79,
           89,
           280,
           67,
           67,
           46,
           99,
           82,
           169,
           112,
           145,
           450,
           115,
           90,
           225,
           125,
           106,
           65,
           85,
           41,
           96,
           110,
           233,
           150,
           101,
           89,
           104,
           80,
           95,
           150,
           92,
           210,
           333,
           200,
           500,
           165,
           90,
           130,
           100,
           450,
           69,
           90,
           130,
           156,
           155,
           150,
           100,
           100,
           55,
           50,
           130,
           108,
           220,
           150,
           96,
           116,
           119,
           136,
           150,
           51,
           130,
           55,
           202,
           151,
           250,
           144,
           203,
           72,
           157,
           154,
           120,
           140,
           42,
           74,
           130,
           120,
           85,
           150,
           65,
           100,
           125,
           150,
           95,
           110,
           270,
           270,
           250,
           68,
           150,
           99,
           80,
           73,
           209,
           80,
           70,
           85,
           86,
           105,
           149,
           380,
           179,
           69,
           67,
           100,
           140,
           164,
           42,
           166,
           147,
           200,
           200,
           159,
           210,
           65,
           90,
           145,
           87,
           90,
           111,
           181,
           150,
           90,
           175,
           135,
           90,
           150,
           198,
           110,
           220,
           130,
           125,
           115,
           60,
           40,
           59,
           100,
           100,
           163,
           60,
           85,
           60,
           70,
           160,
           49,
           263,
           40,
           250,
           64,
           100,
           166,
           60,
           83,
           210,
           118,
           150,
           120,
           300,
           62,
           115,
           60,
           59,
           110,
           120,
           93,
           160,
           450,
           200,
           70,
           155,
           120,
           170,
           120,
           110,
           100,
           188,
           140,
           50,
           58,
           65,
           77,
           114,
           211,
           60,
           130,
           200,
           120,
           80,
           150,
           65,
           150,
           85,
           110,
           100,
           65,
           215,
           75,
           105,
           125,
           80,
           135,
           80,
           150,
           200,
           105,
           230,
           135,
           139,
           204,
           350,
           178,
           98,
           87,
           130,
           129,
           72,
           60,
           42,
           60,
           154,
           92,
           215,
           100,
           77,
           148,
           100,
           330,
           85,
           250,
           75,
           87,
           127,
           195,
           61,
           125,
           85,
           120,
           120,
           84,
           600,
           333,
           55,
           180,
           48,
           220,
           133,
           90,
           490,
           80,
           64,
           92,
           60,
           180,
           56,
           1359,
           590,
           71,
           65,
           69,
           111,
           80,
           65,
           150,
           121,
           82,
           78,
           143,
           105,
           92,
           70,
           49,
           60,
           200,
           270,
           99,
           45,
           94,
           100,
           88,
           80,
           72,
           110,
           130,
           140,
           300,
           100,
           200,
           200,
           113,
           180,
           100,
           50,
           85,
           160,
           99,
           89,
           100,
           233,
           110,
           300,
           350,
           590,
           690,
           690,
           690,
           1250,
           2000,
           110,
           65,
           67,
           118,
           128,
           150,
           90,
           85,
           366,
           120,
           65,
           159,
           75,
           78,
           130,
           100,
           90,
           434,
           73,
           126,
           99,
           90,
           128,
           68,
           116,
           78,
           200,
           150,
           36,
           200,
           250,
           108,
           118,
           118,
           128,
           120,
           116,
           748,
           80,
           119,
           116,
           150,
           151,
           72,
           174,
           130,
           100,
           65,
           85,
           123,
           99,
           78,
           140,
           69,
           150,
           90,
           324,
           60,
           85,
           71,
           89,
           168,
           168,
           88,
           336,
           67,
           109,
           288,
           130,
           249,
           200,
           130,
           36,
           116,
           107,
           107,
           116,
           82,
           94,
           99,
           116,
           107,
           100,
           140,
           99,
           90,
           350,
           85,
           148,
           148,
           148,
           148,
           148,
           148,
           148,
           148,
           148,
           285,
           68,
           100,
           163,
           110,
           115,
           890,
           120,
           300,
           60,
           332,
           291,
           40,
           54,
           150,
           85,
           70,
           200,
           102,
           57,
           115,
           65,
           77,
           50,
           128,
           128,
           119,
           69,
           136,
           69,
           170,
           140,
           110,
           220,
           288,
           500,
           60,
           149,
           200,
           107,
           116,
           125,
           144,
           136,
           105,
           49,
           49,
           49,
           49,
           49,
           49,
           145,
           123,
           103,
           55,
           35,
           200,
           108,
           120,
           128,
           58,
           200,
           65,
           47,
           220,
           288,
           137,
           95,
           105,
           78,
           160,
           103,
           127,
           128,
           127,
           128,
           95,
           90,
           70,
           128,
           128,
           101,
           120,
           109,
           66,
           35,
           425,
           75,
           159,
           93,
           200,
           91,
           115,
           65,
           159,
           165,
           70,
           88,
           100,
           90,
           120,
           155,
           125,
           65,
           70,
           72,
           60,
           119,
           78,
           100,
           160,
           125,
           100,
           45,
           55,
           99,
           79,
           69,
           351,
           150,
           120,
           86,
           96,
           209,
           74,
           40,
           80,
           155,
           132,
           175,
           75,
           117,
           121,
           42,
           71,
           64,
           320,
           100,
           240,
           75,
           106,
           300,
           105,
           99,
           75,
           120,
           77,
           130,
           79,
           105,
           140,
           89,
           40,
           100,
           50,
           180,
           70,
           53,
           98,
           75,
           68,
           120,
           250,
           110,
           90,
           186,
           90,
           99,
           115,
           50,
           95,
           75,
           116,
           50,
           250,
           43,
           90,
           290,
           69,
           1500,
           138,
           140,
           120,
           120,
           450,
           130,
           153,
           140,
           187,
           133,
           111,
           86,
           39,
           200,
           70,
           95,
           95,
           60,
           250,
           338,
           100,
           110,
           214,
           90,
           138,
           149,
           135,
           151,
           139,
           146,
           149,
           120,
           138,
           146,
           138,
           138,
           85,
           143,
           146,
           215,
           350,
           189,
           115,
           95,
           100,
           135,
           212,
           441,
           516,
           596,
           77,
           58,
           173,
           108,
           100,
           69,
           220,
           320,
           110,
           80,
           153,
           126,
           314,
           40,
           384,
           265,
           8577,
           170,
           100,
           350,
           100,
           65,
           97,
           500,
           157,
           100,
           150,
           273,
           160,
           109,
           119,
           117,
           65,
           255,
           51,
           129,
           200,
           125,
           95,
           159,
           80,
           82,
           70,
           125,
           125,
           150,
           495,
           145,
           200,
           130,
           159,
           150,
           75,
           129,
           79,
           85,
           90,
           164,
           100,
           80,
           137,
           80,
           88,
           110,
           95,
           70,
           45,
           351,
           178,
           195,
           88,
           75,
           186,
           56,
           99,
           129,
           250,
           180,
           69,
           495,
           495,
           130,
           59,
           59,
           132,
           80,
           160,
           180,
           95,
           309,
           98,
           188,
           129,
           113,
           96,
           95,
           280,
           105,
           70,
           185,
           134,
           100,
           75,
           219,
           150,
           631,
           169,
           190,
           131,
           121,
           500,
           294,
           75,
           150,
           60,
           111,
           125,
           180,
           96,
           775,
           90,
           90,
           75,
           180,
           239,
           135,
           135,
           125,
           140,
           87,
           117,
           157,
           107,
           140,
           87,
           130,
           260,
           58,
           105,
           189,
           200,
           200,
           99,
           175,
           146,
           49,
           145,
           50,
           135,
           150,
           220,
           49,
           80,
           766,
           88,
           68,
           170,
           76,
           265,
           40,
           220,
           120,
           130,
           101,
           171,
           351,
           140,
           82,
           131,
           135,
           120,
           60,
           38,
           61,
           40,
           117,
           140,
           111,
           114,
           159,
           108,
           137,
           170,
           133,
           244,
           70,
           65,
           67,
           84,
           72,
           98,
           80,
           75,
           120,
           80,
           110,
           90,
           160,
           80,
           76,
           60,
           180,
           276,
           298,
           350,
           90,
           91,
           191,
           98,
           90,
           173,
           80,
           93,
           100,
           70,
           75,
           117,
           200,
           163,
           155,
           116,
           120,
           108,
           124,
           173,
           60,
           125,
           170,
           85,
           145,
           123,
           85,
           155,
           190,
           103,
           150,
           86,
           100,
           60,
           59,
           40,
           102,
           149,
           55,
           245,
           646,
           154,
           130,
           67,
           67,
           72,
           79,
           620,
           110,
           150,
           70,
           130,
           275,
           85,
           65,
           129,
           135,
           105,
           180,
           312,
           290,
           161,
           245,
           250,
           140,
           67,
           120,
           341,
           160,
           91,
           120,
           89,
           95,
           120,
           100,
           87,
           414,
           160,
           64,
           68,
           340,
           58,
           161,
           50,
           100,
           128,
           265,
           206,
           150,
           130,
           55,
           111,
           104,
           65,
           84,
           155,
           112,
           183,
           117,
           295,
           99,
           112,
           200,
           75,
           150,
           260,
           75,
           120,
           200,
           85,
           100,
           2000,
           200,
           155,
           104,
           130,
           1585,
           90,
           85,
           102,
           125,
           230,
           330,
           435,
           220,
           117,
           215,
           70,
           100,
           85,
           95,
           138,
           180,
           65,
           106,
           85,
           120,
           150,
           120,
           150,
           100,
           100,
           330,
           100,
           75,
           110,
           75,
           81,
           180,
           60,
           130,
           190,
           115,
           286,
           120,
           79,
           450,
           101,
           140,
           53,
           56,
           250,
           150,
           200,
           351,
           165,
           287,
           351,
           175,
           365,
           450,
           380,
           80,
           80,
           118,
           172,
           128,
           105,
           74,
           130,
           130,
           162,
           100,
           200,
           100,
           125,
           96,
           85,
           80,
           135,
           149,
           102,
           97,
           85,
           54,
           175,
           65,
           109,
           120,
           101,
           70,
           80,
           101,
           55,
           65,
           105,
           113,
           120,
           302,
           103,
           80,
           199,
           121,
           163,
           60,
           210,
           92,
           110,
           93,
           150,
           110,
           73,
           152,
           200,
           150,
           68,
           300,
           110,
           120,
           230,
           99,
           119,
           65,
           80,
           169,
           68,
           140,
           115,
           495,
           159,
           45,
           75,
           80,
           120,
           48,
           195,
           99,
           204,
           135,
           200,
           55,
           8000,
           150,
           198,
           340,
           80,
           95,
           409,
           125,
           115,
           60,
           96,
           75,
           50,
           129,
           110,
           60,
           631,
           260,
           180,
           495,
           120,
           100,
           108,
           182,
           180,
           132,
           108,
           108,
           108,
           58,
           100,
           80,
           86,
           84,
           200,
           135,
           180,
           150,
           120,
           260,
           1000,
           74,
           153,
           100,
           153,
           183,
           100,
           180,
           116,
           141,
           100,
           5000,
           500,
           244,
           100,
           80,
           200,
           6500,
           311,
           141,
           166,
           25000,
           100,
           152,
           130,
           38,
           123,
           80,
           65,
           129,
           300,
           66,
           200,
           113,
           141,
           110,
           145,
           299,
           88,
           247,
           140,
           200,
           210,
           25,
           70,
           118,
           67,
           143,
           135,
           433,
           250,
           220,
           145,
           75,
           170,
           125,
           87,
           150,
           109,
           120,
           140,
           76,
           163,
           87,
           50,
           62,
           97,
           120,
           209,
           355,
           104,
           149,
           234,
           65,
           139,
           303,
           129,
           225,
           125,
           132,
           103,
           90,
           80,
           650,
           68,
           95,
           82,
           362,
           128,
           100,
           170,
           120,
           101,
           167,
           370,
           120,
           120,
           171,
           224,
           193,
           150,
           128,
           300,
           89,
           85,
           159,
           113,
           110,
           100,
           125,
           74,
           110,
           88,
           50,
           100,
           75,
           200,
           74,
           45,
           70,
           212,
           38,
           100,
           156,
           71,
           100,
           250,
           120,
           180,
           187,
           99,
           83,
           38,
           155,
           70,
           78,
           114,
           87,
           106,
           85,
           133,
           120,
           90,
           202,
           180,
           1200,
           145,
           130,
           85,
           100,
           90,
           64,
           89,
           190,
           112,
           120,
           90,
           221,
           300,
           257,
           148,
           269,
           78,
           144,
           100,
           102,
           150,
           45,
           163,
           120,
           55,
           38,
           200,
           58,
           100,
           100,
           150,
           140,
           120,
           293,
           67,
           100,
           100,
           107,
           183,
           93,
           77,
           78,
           130,
           91,
           400,
           95,
           92,
           201,
           171,
           94,
           83,
           56,
           550,
           129,
           148,
           90,
           59,
           550,
           57,
           350,
           50,
           240,
           150,
           130,
           120,
           280,
           67,
           90,
           200,
           150,
           159,
           350,
           100,
           130,
           100,
           120,
           220,
           100,
           150,
           150,
           65,
           176,
           99,
           80,
           96,
           55,
           71,
           100,
           90,
           152,
           500,
           46,
           65,
           110,
           104,
           108,
           108,
           115,
           176,
           640,
           83,
           61,
           179,
           62,
           275,
           138,
           150,
           390,
           62,
           141,
           102,
           148,
           110,
           72,
           136,
           75,
           86,
           91,
           97,
           201,
           89,
           75,
           123,
           302,
           50,
           65,
           110,
           100,
           102,
           96,
           111,
           82,
           160,
           140,
           250,
           120,
           96,
           72,
           67,
           81,
           62,
           130,
           99,
           101,
           103,
           109,
           70,
           242,
           155,
           174,
           73,
           82,
           80,
           80,
           84,
           82,
           250,
           174,
           155,
           234,
           120,
           180,
           160,
           168,
           90,
           127,
           80,
           96,
           75,
           131,
           68,
           70,
           89,
           900,
           62,
           92,
           139,
           107,
           50,
           113,
           38,
           232,
           96,
           68,
           200,
           115,
           200,
           97,
           70,
           60,
           99,
           98,
           100,
           149,
           157,
           180,
           82,
           100,
           113,
           240,
           62,
           100,
           30,
           150,
           71,
           130,
           80,
           198,
           110,
           50,
           120,
           90,
           126,
           81,
           84,
           136,
           79,
           240,
           70,
           108,
           108,
           108,
           179,
           676,
           140,
           87,
           264,
           70,
           82,
           180,
           86,
           131,
           200,
           176,
           125,
           88,
           175,
           120,
           250,
           115,
           100,
           120,
           200,
           71,
           130,
           53,
           141,
           159,
           57,
           112,
           65,
           84,
           300,
           120,
           175,
           63,
           82,
           93,
           109,
           104,
           250,
           185,
           64,
           65,
           161,
           127,
           90,
           80,
           140,
           400,
           31,
           105,
           100,
           109,
           81,
           225,
           70,
           102,
           100,
           74,
           269,
           121,
           170,
           89,
           156,
           151,
           130,
           120,
           81,
           100,
           280,
           40,
           50,
           95,
           150,
           215,
           29,
           76,
           115,
           103,
           33,
           210,
           56,
           81,
           180,
           100,
           75,
           75,
           118,
           79,
           120,
           120,
           100,
           250,
           100,
           100,
           100,
           170,
           117,
           86,
           160,
           72,
           145,
           60,
           75,
           82,
           230,
           138,
           120,
           30,
           69,
           169,
           80,
           100,
           118,
           180,
           82,
           167,
           266,
           400,
           110,
           60,
           210,
           88,
           62,
           60,
           150,
           198,
           150,
           223,
           80,
           90,
           100,
           125,
           60,
           198,
           85,
           94,
           190,
           136,
           140,
           80,
           150,
           500,
           100,
           82,
           106,
           110,
           60,
           75,
           60,
           129,
           250,
           85,
           40,
           140,
           100,
           110,
           203,
           180,
           65,
           133,
           101,
           78,
           150,
           400,
           170,
           82,
           114,
           136,
           178,
           69,
           100,
           200,
           60,
           99,
           90,
           200,
           200,
           90,
           300,
           105,
           120,
           69,
           56,
           55,
           300,
           157,
           68,
           130,
           188,
           217,
           202,
           202,
           93,
           65,
           376,
           220,
           295,
           77,
           107,
           90,
           95,
           279,
           156,
           367,
           314,
           61,
           83,
           62,
           60,
           100,
           132,
           151,
           101,
           60,
           125,
           264,
           71,
           156,
           56,
           100,
           209,
           57,
           115,
           90,
           132,
           57,
           170,
           148,
           64,
           75,
           101,
           135,
           109,
           210,
           150,
           52,
           150,
           100,
           112,
           105,
           105,
           109,
           85,
           180,
           100,
           65,
           195,
           100,
           180,
           130,
           146,
           150,
           110,
           179,
           157,
           98,
           120,
           110,
           98,
           74,
           190,
           165,
           180,
           89,
           80,
           145,
           73,
           89,
           90,
           108,
           120,
           113,
           295,
           290,
           100,
           80,
           82,
           52,
           110,
           100,
           60,
           86,
           193,
           190,
           216,
           90,
           110,
           128,
           93,
           101,
           139,
           100,
           57,
           97,
           120,
           143,
           250,
           1888,
           166,
           44,
           264,
           80,
           80,
           180,
           110,
           74,
           200,
           80,
           118,
           124,
           60,
           482
          ],
          "coloraxis": "coloraxis"
         },
         "mode": "markers",
         "name": "",
         "showlegend": false,
         "subplot": "map",
         "type": "scattermap"
        }
       ],
       "layout": {
        "coloraxis": {
         "colorbar": {
          "title": {
           "text": "price"
          }
         },
         "colorscale": [
          [
           0,
           "#440154"
          ],
          [
           0.1111111111111111,
           "#482878"
          ],
          [
           0.2222222222222222,
           "#3e4989"
          ],
          [
           0.3333333333333333,
           "#31688e"
          ],
          [
           0.4444444444444444,
           "#26828e"
          ],
          [
           0.5555555555555556,
           "#1f9e89"
          ],
          [
           0.6666666666666666,
           "#35b779"
          ],
          [
           0.7777777777777778,
           "#6ece58"
          ],
          [
           0.8888888888888888,
           "#b5de2b"
          ],
          [
           1,
           "#fde725"
          ]
         ]
        },
        "height": 600,
        "legend": {
         "tracegroupgap": 0
        },
        "map": {
         "center": {
          "lat": 46.20738435943043,
          "lon": 6.144258014770138
         },
         "domain": {
          "x": [
           0,
           1
          ],
          "y": [
           0,
           1
          ]
         },
         "zoom": 12
        },
        "mapbox": {
         "center": {
          "lat": 46.20738435943043,
          "lon": 6.144258014770138
         },
         "style": "carto-positron",
         "zoom": 12
        },
        "margin": {
         "b": 0,
         "l": 0,
         "r": 0,
         "t": 40
        },
        "template": {
         "data": {
          "bar": [
           {
            "error_x": {
             "color": "#2a3f5f"
            },
            "error_y": {
             "color": "#2a3f5f"
            },
            "marker": {
             "line": {
              "color": "#E5ECF6",
              "width": 0.5
             },
             "pattern": {
              "fillmode": "overlay",
              "size": 10,
              "solidity": 0.2
             }
            },
            "type": "bar"
           }
          ],
          "barpolar": [
           {
            "marker": {
             "line": {
              "color": "#E5ECF6",
              "width": 0.5
             },
             "pattern": {
              "fillmode": "overlay",
              "size": 10,
              "solidity": 0.2
             }
            },
            "type": "barpolar"
           }
          ],
          "carpet": [
           {
            "aaxis": {
             "endlinecolor": "#2a3f5f",
             "gridcolor": "white",
             "linecolor": "white",
             "minorgridcolor": "white",
             "startlinecolor": "#2a3f5f"
            },
            "baxis": {
             "endlinecolor": "#2a3f5f",
             "gridcolor": "white",
             "linecolor": "white",
             "minorgridcolor": "white",
             "startlinecolor": "#2a3f5f"
            },
            "type": "carpet"
           }
          ],
          "choropleth": [
           {
            "colorbar": {
             "outlinewidth": 0,
             "ticks": ""
            },
            "type": "choropleth"
           }
          ],
          "contour": [
           {
            "colorbar": {
             "outlinewidth": 0,
             "ticks": ""
            },
            "colorscale": [
             [
              0,
              "#0d0887"
             ],
             [
              0.1111111111111111,
              "#46039f"
             ],
             [
              0.2222222222222222,
              "#7201a8"
             ],
             [
              0.3333333333333333,
              "#9c179e"
             ],
             [
              0.4444444444444444,
              "#bd3786"
             ],
             [
              0.5555555555555556,
              "#d8576b"
             ],
             [
              0.6666666666666666,
              "#ed7953"
             ],
             [
              0.7777777777777778,
              "#fb9f3a"
             ],
             [
              0.8888888888888888,
              "#fdca26"
             ],
             [
              1,
              "#f0f921"
             ]
            ],
            "type": "contour"
           }
          ],
          "contourcarpet": [
           {
            "colorbar": {
             "outlinewidth": 0,
             "ticks": ""
            },
            "type": "contourcarpet"
           }
          ],
          "heatmap": [
           {
            "colorbar": {
             "outlinewidth": 0,
             "ticks": ""
            },
            "colorscale": [
             [
              0,
              "#0d0887"
             ],
             [
              0.1111111111111111,
              "#46039f"
             ],
             [
              0.2222222222222222,
              "#7201a8"
             ],
             [
              0.3333333333333333,
              "#9c179e"
             ],
             [
              0.4444444444444444,
              "#bd3786"
             ],
             [
              0.5555555555555556,
              "#d8576b"
             ],
             [
              0.6666666666666666,
              "#ed7953"
             ],
             [
              0.7777777777777778,
              "#fb9f3a"
             ],
             [
              0.8888888888888888,
              "#fdca26"
             ],
             [
              1,
              "#f0f921"
             ]
            ],
            "type": "heatmap"
           }
          ],
          "heatmapgl": [
           {
            "colorbar": {
             "outlinewidth": 0,
             "ticks": ""
            },
            "colorscale": [
             [
              0,
              "#0d0887"
             ],
             [
              0.1111111111111111,
              "#46039f"
             ],
             [
              0.2222222222222222,
              "#7201a8"
             ],
             [
              0.3333333333333333,
              "#9c179e"
             ],
             [
              0.4444444444444444,
              "#bd3786"
             ],
             [
              0.5555555555555556,
              "#d8576b"
             ],
             [
              0.6666666666666666,
              "#ed7953"
             ],
             [
              0.7777777777777778,
              "#fb9f3a"
             ],
             [
              0.8888888888888888,
              "#fdca26"
             ],
             [
              1,
              "#f0f921"
             ]
            ],
            "type": "heatmapgl"
           }
          ],
          "histogram": [
           {
            "marker": {
             "pattern": {
              "fillmode": "overlay",
              "size": 10,
              "solidity": 0.2
             }
            },
            "type": "histogram"
           }
          ],
          "histogram2d": [
           {
            "colorbar": {
             "outlinewidth": 0,
             "ticks": ""
            },
            "colorscale": [
             [
              0,
              "#0d0887"
             ],
             [
              0.1111111111111111,
              "#46039f"
             ],
             [
              0.2222222222222222,
              "#7201a8"
             ],
             [
              0.3333333333333333,
              "#9c179e"
             ],
             [
              0.4444444444444444,
              "#bd3786"
             ],
             [
              0.5555555555555556,
              "#d8576b"
             ],
             [
              0.6666666666666666,
              "#ed7953"
             ],
             [
              0.7777777777777778,
              "#fb9f3a"
             ],
             [
              0.8888888888888888,
              "#fdca26"
             ],
             [
              1,
              "#f0f921"
             ]
            ],
            "type": "histogram2d"
           }
          ],
          "histogram2dcontour": [
           {
            "colorbar": {
             "outlinewidth": 0,
             "ticks": ""
            },
            "colorscale": [
             [
              0,
              "#0d0887"
             ],
             [
              0.1111111111111111,
              "#46039f"
             ],
             [
              0.2222222222222222,
              "#7201a8"
             ],
             [
              0.3333333333333333,
              "#9c179e"
             ],
             [
              0.4444444444444444,
              "#bd3786"
             ],
             [
              0.5555555555555556,
              "#d8576b"
             ],
             [
              0.6666666666666666,
              "#ed7953"
             ],
             [
              0.7777777777777778,
              "#fb9f3a"
             ],
             [
              0.8888888888888888,
              "#fdca26"
             ],
             [
              1,
              "#f0f921"
             ]
            ],
            "type": "histogram2dcontour"
           }
          ],
          "mesh3d": [
           {
            "colorbar": {
             "outlinewidth": 0,
             "ticks": ""
            },
            "type": "mesh3d"
           }
          ],
          "parcoords": [
           {
            "line": {
             "colorbar": {
              "outlinewidth": 0,
              "ticks": ""
             }
            },
            "type": "parcoords"
           }
          ],
          "pie": [
           {
            "automargin": true,
            "type": "pie"
           }
          ],
          "scatter": [
           {
            "fillpattern": {
             "fillmode": "overlay",
             "size": 10,
             "solidity": 0.2
            },
            "type": "scatter"
           }
          ],
          "scatter3d": [
           {
            "line": {
             "colorbar": {
              "outlinewidth": 0,
              "ticks": ""
             }
            },
            "marker": {
             "colorbar": {
              "outlinewidth": 0,
              "ticks": ""
             }
            },
            "type": "scatter3d"
           }
          ],
          "scattercarpet": [
           {
            "marker": {
             "colorbar": {
              "outlinewidth": 0,
              "ticks": ""
             }
            },
            "type": "scattercarpet"
           }
          ],
          "scattergeo": [
           {
            "marker": {
             "colorbar": {
              "outlinewidth": 0,
              "ticks": ""
             }
            },
            "type": "scattergeo"
           }
          ],
          "scattergl": [
           {
            "marker": {
             "colorbar": {
              "outlinewidth": 0,
              "ticks": ""
             }
            },
            "type": "scattergl"
           }
          ],
          "scattermapbox": [
           {
            "marker": {
             "colorbar": {
              "outlinewidth": 0,
              "ticks": ""
             }
            },
            "type": "scattermapbox"
           }
          ],
          "scatterpolar": [
           {
            "marker": {
             "colorbar": {
              "outlinewidth": 0,
              "ticks": ""
             }
            },
            "type": "scatterpolar"
           }
          ],
          "scatterpolargl": [
           {
            "marker": {
             "colorbar": {
              "outlinewidth": 0,
              "ticks": ""
             }
            },
            "type": "scatterpolargl"
           }
          ],
          "scatterternary": [
           {
            "marker": {
             "colorbar": {
              "outlinewidth": 0,
              "ticks": ""
             }
            },
            "type": "scatterternary"
           }
          ],
          "surface": [
           {
            "colorbar": {
             "outlinewidth": 0,
             "ticks": ""
            },
            "colorscale": [
             [
              0,
              "#0d0887"
             ],
             [
              0.1111111111111111,
              "#46039f"
             ],
             [
              0.2222222222222222,
              "#7201a8"
             ],
             [
              0.3333333333333333,
              "#9c179e"
             ],
             [
              0.4444444444444444,
              "#bd3786"
             ],
             [
              0.5555555555555556,
              "#d8576b"
             ],
             [
              0.6666666666666666,
              "#ed7953"
             ],
             [
              0.7777777777777778,
              "#fb9f3a"
             ],
             [
              0.8888888888888888,
              "#fdca26"
             ],
             [
              1,
              "#f0f921"
             ]
            ],
            "type": "surface"
           }
          ],
          "table": [
           {
            "cells": {
             "fill": {
              "color": "#EBF0F8"
             },
             "line": {
              "color": "white"
             }
            },
            "header": {
             "fill": {
              "color": "#C8D4E3"
             },
             "line": {
              "color": "white"
             }
            },
            "type": "table"
           }
          ]
         },
         "layout": {
          "annotationdefaults": {
           "arrowcolor": "#2a3f5f",
           "arrowhead": 0,
           "arrowwidth": 1
          },
          "autotypenumbers": "strict",
          "coloraxis": {
           "colorbar": {
            "outlinewidth": 0,
            "ticks": ""
           }
          },
          "colorscale": {
           "diverging": [
            [
             0,
             "#8e0152"
            ],
            [
             0.1,
             "#c51b7d"
            ],
            [
             0.2,
             "#de77ae"
            ],
            [
             0.3,
             "#f1b6da"
            ],
            [
             0.4,
             "#fde0ef"
            ],
            [
             0.5,
             "#f7f7f7"
            ],
            [
             0.6,
             "#e6f5d0"
            ],
            [
             0.7,
             "#b8e186"
            ],
            [
             0.8,
             "#7fbc41"
            ],
            [
             0.9,
             "#4d9221"
            ],
            [
             1,
             "#276419"
            ]
           ],
           "sequential": [
            [
             0,
             "#0d0887"
            ],
            [
             0.1111111111111111,
             "#46039f"
            ],
            [
             0.2222222222222222,
             "#7201a8"
            ],
            [
             0.3333333333333333,
             "#9c179e"
            ],
            [
             0.4444444444444444,
             "#bd3786"
            ],
            [
             0.5555555555555556,
             "#d8576b"
            ],
            [
             0.6666666666666666,
             "#ed7953"
            ],
            [
             0.7777777777777778,
             "#fb9f3a"
            ],
            [
             0.8888888888888888,
             "#fdca26"
            ],
            [
             1,
             "#f0f921"
            ]
           ],
           "sequentialminus": [
            [
             0,
             "#0d0887"
            ],
            [
             0.1111111111111111,
             "#46039f"
            ],
            [
             0.2222222222222222,
             "#7201a8"
            ],
            [
             0.3333333333333333,
             "#9c179e"
            ],
            [
             0.4444444444444444,
             "#bd3786"
            ],
            [
             0.5555555555555556,
             "#d8576b"
            ],
            [
             0.6666666666666666,
             "#ed7953"
            ],
            [
             0.7777777777777778,
             "#fb9f3a"
            ],
            [
             0.8888888888888888,
             "#fdca26"
            ],
            [
             1,
             "#f0f921"
            ]
           ]
          },
          "colorway": [
           "#636efa",
           "#EF553B",
           "#00cc96",
           "#ab63fa",
           "#FFA15A",
           "#19d3f3",
           "#FF6692",
           "#B6E880",
           "#FF97FF",
           "#FECB52"
          ],
          "font": {
           "color": "#2a3f5f"
          },
          "geo": {
           "bgcolor": "white",
           "lakecolor": "white",
           "landcolor": "#E5ECF6",
           "showlakes": true,
           "showland": true,
           "subunitcolor": "white"
          },
          "hoverlabel": {
           "align": "left"
          },
          "hovermode": "closest",
          "mapbox": {
           "style": "light"
          },
          "paper_bgcolor": "white",
          "plot_bgcolor": "#E5ECF6",
          "polar": {
           "angularaxis": {
            "gridcolor": "white",
            "linecolor": "white",
            "ticks": ""
           },
           "bgcolor": "#E5ECF6",
           "radialaxis": {
            "gridcolor": "white",
            "linecolor": "white",
            "ticks": ""
           }
          },
          "scene": {
           "xaxis": {
            "backgroundcolor": "#E5ECF6",
            "gridcolor": "white",
            "gridwidth": 2,
            "linecolor": "white",
            "showbackground": true,
            "ticks": "",
            "zerolinecolor": "white"
           },
           "yaxis": {
            "backgroundcolor": "#E5ECF6",
            "gridcolor": "white",
            "gridwidth": 2,
            "linecolor": "white",
            "showbackground": true,
            "ticks": "",
            "zerolinecolor": "white"
           },
           "zaxis": {
            "backgroundcolor": "#E5ECF6",
            "gridcolor": "white",
            "gridwidth": 2,
            "linecolor": "white",
            "showbackground": true,
            "ticks": "",
            "zerolinecolor": "white"
           }
          },
          "shapedefaults": {
           "line": {
            "color": "#2a3f5f"
           }
          },
          "ternary": {
           "aaxis": {
            "gridcolor": "white",
            "linecolor": "white",
            "ticks": ""
           },
           "baxis": {
            "gridcolor": "white",
            "linecolor": "white",
            "ticks": ""
           },
           "bgcolor": "#E5ECF6",
           "caxis": {
            "gridcolor": "white",
            "linecolor": "white",
            "ticks": ""
           }
          },
          "title": {
           "x": 0.05
          },
          "xaxis": {
           "automargin": true,
           "gridcolor": "white",
           "linecolor": "white",
           "ticks": "",
           "title": {
            "standoff": 15
           },
           "zerolinecolor": "white",
           "zerolinewidth": 2
          },
          "yaxis": {
           "automargin": true,
           "gridcolor": "white",
           "linecolor": "white",
           "ticks": "",
           "title": {
            "standoff": 15
           },
           "zerolinecolor": "white",
           "zerolinewidth": 2
          }
         }
        },
        "title": {
         "text": "Airbnb Listings Across Geneva"
        }
       }
      }
     },
     "metadata": {},
     "output_type": "display_data"
    }
   ],
   "source": [
    "# Drop rows without latitude or longitude\n",
    "df_map = df_clean.dropna(subset=['latitude', 'longitude'])\n",
    "\n",
    "import plotly.express as px\n",
    "\n",
    "fig = px.scatter_map(\n",
    "    df_map,\n",
    "    lat=\"latitude\",\n",
    "    lon=\"longitude\",\n",
    "    color=\"price\",\n",
    "    hover_name=\"neighbourhood_cleansed\",\n",
    "    hover_data=[\"name\", \"room_type\", \"accommodates\", \"price\"],\n",
    "    zoom=12,\n",
    "    height=600,\n",
    "    color_continuous_scale=\"Viridis\"\n",
    ")\n",
    "\n",
    "fig.update_layout(\n",
    "    mapbox_style=\"carto-positron\",\n",
    "    title=\"Airbnb Listings Across Geneva\",\n",
    "    margin={\"r\":0, \"t\":40, \"l\":0, \"b\":0}\n",
    ")\n",
    "\n",
    "fig.show()"
   ]
  },
  {
   "cell_type": "markdown",
   "id": "874df7ac",
   "metadata": {},
   "source": [
    "### Observations\n",
    "\n",
    "Plotting the Airbnb listings across Geneva instantly highlights the pulse of the city’s rental activity. The densest cluster of listings appears in the heart of the city—particularly around the lakefront, Old Town, and major transport hubs. This central zone is clearly a hotspot for short-term rentals, likely due to its proximity to iconic landmarks, high walkability, and access to restaurants, museums, and public transit. The high demand in this area aligns with the broader urban pattern of Geneva, where both tourists and business travelers prioritize convenience and vibrancy.\n",
    "\n",
    "What also stood out was the contrast between central and peripheral neighborhoods. While areas like Vernier, Meyrin, and Chêne-Bougeries do host several listings, their distribution is far more dispersed. The color gradient on the map—indicating price—shows that higher-priced properties tend to cluster in quieter, upscale residential zones near the lake, such as Cologny and Bellevue. This suggests a market split: a bustling, moderately priced core catering to volume, and a more exclusive ring offering privacy and premium experiences. Overall, the map gave us a strong visual foundation to understand how location, price, and density interact across Geneva’s Airbnb ecosystem.\n"
   ]
  }
 ],
 "metadata": {
  "kernelspec": {
   "display_name": "Python (legal-transcriber)",
   "language": "python",
   "name": "legal-transcriber"
  },
  "language_info": {
   "codemirror_mode": {
    "name": "ipython",
    "version": 3
   },
   "file_extension": ".py",
   "mimetype": "text/x-python",
   "name": "python",
   "nbconvert_exporter": "python",
   "pygments_lexer": "ipython3",
   "version": "3.12.7"
  }
 },
 "nbformat": 4,
 "nbformat_minor": 5
}
