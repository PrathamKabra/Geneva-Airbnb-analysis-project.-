{
 "cells": [
  {
   "cell_type": "markdown",
   "id": "61681846",
   "metadata": {},
   "source": [
    "### Step 2: Summary Statistics by Neighborhood"
   ]
  },
  {
   "cell_type": "code",
   "execution_count": 1,
   "id": "2903054e",
   "metadata": {},
   "outputs": [],
   "source": [
    "import pandas as pd\n",
    "df_clean = pd.read_csv(\"../data/df_clean.csv\")"
   ]
  },
  {
   "cell_type": "code",
   "execution_count": 2,
   "id": "4498df9c",
   "metadata": {},
   "outputs": [],
   "source": [
    "df_clean['price'] = df_clean['price'].replace(r'[\\$,]', '', regex=True).astype(float)"
   ]
  },
  {
   "cell_type": "code",
   "execution_count": 3,
   "id": "18b50cb5",
   "metadata": {},
   "outputs": [],
   "source": [
    "# 1. Average Price per Neighborhood\n",
    "avg_price = df_clean.groupby('neighbourhood_cleansed')['price'].mean().sort_values(ascending=False)\n",
    "\n",
    "# 2. Average Accommodates per Neighborhood\n",
    "avg_accom = df_clean.groupby('neighbourhood_cleansed')['accommodates'].mean().sort_values(ascending=False)\n",
    "\n",
    "# 3. Average Cleanliness Score\n",
    "avg_cleanliness = df_clean.groupby('neighbourhood_cleansed')['review_scores_cleanliness'].mean().sort_values(ascending=False)\n",
    "\n",
    "# 4. Average Number of Reviews\n",
    "avg_reviews = df_clean.groupby('neighbourhood_cleansed')['number_of_reviews'].mean().sort_values(ascending=False)\n",
    "\n",
    "# 5. Count of Entire Home Listings\n",
    "entire_home_counts = df_clean[df_clean['room_type'] == 'Entire home/apt'] \\\n",
    "    .groupby('neighbourhood_cleansed').size().sort_values(ascending=False)"
   ]
  },
  {
   "cell_type": "code",
   "execution_count": 4,
   "id": "2146877e",
   "metadata": {},
   "outputs": [
    {
     "data": {
      "text/plain": [
       "neighbourhood_cleansed\n",
       "Commune de Genève    1322\n",
       "Carouge                49\n",
       "Lancy                  32\n",
       "Chêne-Bougeries        28\n",
       "Versoix                25\n",
       "dtype: int64"
      ]
     },
     "execution_count": 4,
     "metadata": {},
     "output_type": "execute_result"
    }
   ],
   "source": [
    "# 1. Average price\n",
    "avg_price.head(5)\n",
    "\n",
    "# 2. Average accommodates\n",
    "avg_accom.head(5)\n",
    "\n",
    "# 3. Average cleanliness\n",
    "avg_cleanliness.head(5)\n",
    "\n",
    "# 4. Average number of reviews\n",
    "avg_reviews.head(5)\n",
    "\n",
    "# 5. Entire home/apartment listing count\n",
    "entire_home_counts.head(5)\n"
   ]
  },
  {
   "cell_type": "markdown",
   "id": "b0629433",
   "metadata": {},
   "source": [
    "### Observations\n",
    "\n",
    "To explore differences across areas within Geneva, we grouped our data by the `neighbourhood_cleansed` column and calculated five meaningful summary statistics. These included average price, number of guests accommodated, cleanliness ratings, review volume, and number of entire home/apartment listings in each neighborhood.\n",
    "\n",
    "Our findings showed that **Commune de Genève** had the highest number of listings by far, which isn’t surprising as it covers the city center. Interestingly, listings in **Versoix** and **Chêne-Bougeries** tended to accommodate slightly more guests on average, suggesting a presence of larger or more family-oriented properties. Cleanliness scores remained fairly high across the board, but **Carouge** and **Lancy** maintained a slightly stronger edge in this metric. When it came to entire home listings, **Commune de Genève** clearly dominated, indicating a strong presence of full-apartment offerings—likely catering to international travelers or tourists seeking privacy. These early stats helped us understand where listings are concentrated and how guest expectations and host behaviors may vary across neighborhoods.\n"
   ]
  }
 ],
 "metadata": {
  "kernelspec": {
   "display_name": "Python (legal-transcriber)",
   "language": "python",
   "name": "legal-transcriber"
  },
  "language_info": {
   "codemirror_mode": {
    "name": "ipython",
    "version": 3
   },
   "file_extension": ".py",
   "mimetype": "text/x-python",
   "name": "python",
   "nbconvert_exporter": "python",
   "pygments_lexer": "ipython3",
   "version": "3.12.7"
  }
 },
 "nbformat": 4,
 "nbformat_minor": 5
}
