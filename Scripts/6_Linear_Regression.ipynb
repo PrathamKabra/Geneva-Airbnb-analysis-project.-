{
 "cells": [
  {
   "cell_type": "markdown",
   "id": "b654ad4c",
   "metadata": {},
   "source": [
    "### Step 6: Multiple Linear Regression on Price"
   ]
  },
  {
   "cell_type": "code",
   "execution_count": 1,
   "id": "1b8a0870",
   "metadata": {},
   "outputs": [],
   "source": [
    "import pandas as pd\n",
    "import numpy as np\n",
    "import seaborn as sns\n",
    "import matplotlib.pyplot as plt\n",
    "\n",
    "# Loading the dataset \n",
    "df_clean = pd.read_csv(\"../data/df_clean.csv\")\n",
    "df_clean['price'] = df_clean['price'].replace(r'[\\$,]', '', regex=True).astype(float)"
   ]
  },
  {
   "cell_type": "code",
   "execution_count": 2,
   "id": "4158aff6",
   "metadata": {},
   "outputs": [],
   "source": [
    "# Copy and clean\n",
    "df_model = df_clean.copy()\n",
    "\n",
    "# Ensure 'price' is numeric\n",
    "df_model['price'] = df_model['price'].replace(r'[\\$,]', '', regex=True).astype(float)\n",
    "\n",
    "# Keep only positive prices\n",
    "df_model = df_model[df_model['price'] > 0]\n",
    "\n",
    "# Keep selected features\n",
    "features = [\n",
    "    'accommodates', 'bedrooms', 'bathrooms', 'room_type',\n",
    "    'number_of_reviews', 'review_scores_rating', 'neighbourhood_cleansed'\n",
    "]\n",
    "df_model = df_model[features + ['price']].dropna()"
   ]
  },
  {
   "cell_type": "code",
   "execution_count": 5,
   "id": "876516c7",
   "metadata": {},
   "outputs": [
    {
     "name": "stdout",
     "output_type": "stream",
     "text": [
      "                            OLS Regression Results                            \n",
      "==============================================================================\n",
      "Dep. Variable:                  price   R-squared:                       0.051\n",
      "Model:                            OLS   Adj. R-squared:                  0.030\n",
      "Method:                 Least Squares   F-statistic:                     2.409\n",
      "Date:                Mon, 11 Aug 2025   Prob (F-statistic):           8.27e-07\n",
      "Time:                        02:09:59   Log-Likelihood:                -14091.\n",
      "No. Observations:                2011   AIC:                         2.827e+04\n",
      "Df Residuals:                    1966   BIC:                         2.852e+04\n",
      "Df Model:                          44                                         \n",
      "Covariance Type:            nonrobust                                         \n",
      "=============================================================================================================\n",
      "                                                coef    std err          t      P>|t|      [0.025      0.975]\n",
      "-------------------------------------------------------------------------------------------------------------\n",
      "accommodates                                 19.8847      6.244      3.184      0.001       7.638      32.131\n",
      "bedrooms                                     44.1528     13.139      3.360      0.001      18.385      69.921\n",
      "bathrooms                                   168.6745    147.658      1.142      0.253    -120.908     458.257\n",
      "number_of_reviews                            -0.0980      0.104     -0.945      0.345      -0.301       0.105\n",
      "review_scores_rating                        -22.1202     11.422     -1.937      0.053     -44.520       0.279\n",
      "room_type_Hotel room                         92.9313    135.843      0.684      0.494    -173.481     359.343\n",
      "room_type_Private room                        1.0435     15.281      0.068      0.946     -28.925      31.013\n",
      "room_type_Shared room                        -8.7292    111.040     -0.079      0.937    -226.498     209.040\n",
      "neighbourhood_cleansed_Avully               -82.7220    234.268     -0.353      0.724    -542.162     376.718\n",
      "neighbourhood_cleansed_Bardonnex            -81.1095    234.219     -0.346      0.729    -540.454     378.235\n",
      "neighbourhood_cleansed_Bellevue             -64.1191    157.843     -0.406      0.685    -373.677     245.439\n",
      "neighbourhood_cleansed_Bernex               -50.7614    191.278     -0.265      0.791    -425.890     324.367\n",
      "neighbourhood_cleansed_Carouge              -39.1558    140.273     -0.279      0.780    -314.255     235.943\n",
      "neighbourhood_cleansed_Chancy               -62.9497    234.186     -0.269      0.788    -522.228     396.328\n",
      "neighbourhood_cleansed_Chêne-Bougeries      -15.0162    144.001     -0.104      0.917    -297.426     267.394\n",
      "neighbourhood_cleansed_Chêne-Bourg          -63.0364    148.074     -0.426      0.670    -353.435     227.363\n",
      "neighbourhood_cleansed_Collex-Bossy         -66.3617    234.136     -0.283      0.777    -525.543     392.819\n",
      "neighbourhood_cleansed_Collonge-Bellerive   135.0680    160.178      0.843      0.399    -179.069     449.205\n",
      "neighbourhood_cleansed_Cologny               59.7494    150.250      0.398      0.691    -234.917     354.415\n",
      "neighbourhood_cleansed_Commune de Genève    -15.5580    135.430     -0.115      0.909    -281.159     250.043\n",
      "neighbourhood_cleansed_Confignon             40.4225    302.342      0.134      0.894    -552.523     633.368\n",
      "neighbourhood_cleansed_Corsier              -52.6164    191.675     -0.275      0.784    -428.524     323.291\n",
      "neighbourhood_cleansed_Céligny             -190.6528    234.500     -0.813      0.416    -650.548     269.242\n",
      "neighbourhood_cleansed_Genthod               -8.5735    169.557     -0.051      0.960    -341.103     323.956\n",
      "neighbourhood_cleansed_Grand-Saconnex       -19.1817    139.742     -0.137      0.891    -293.239     254.876\n",
      "neighbourhood_cleansed_Hermance               0.7110    181.363      0.004      0.997    -354.973     356.395\n",
      "neighbourhood_cleansed_Jussy                -77.0743    302.330     -0.255      0.799    -669.995     515.846\n",
      "neighbourhood_cleansed_Laconnex             128.4166    206.577      0.622      0.534    -276.716     533.549\n",
      "neighbourhood_cleansed_Lancy                -70.5727    141.262     -0.500      0.617    -347.612     206.466\n",
      "neighbourhood_cleansed_Meinier               -3.7546    191.274     -0.020      0.984    -378.876     371.367\n",
      "neighbourhood_cleansed_Meyrin               -48.9747    142.758     -0.343      0.732    -328.947     230.997\n",
      "neighbourhood_cleansed_Onex                 -65.0728    153.356     -0.424      0.671    -365.829     235.684\n",
      "neighbourhood_cleansed_Plan-les-Ouates      -78.6537    148.768     -0.529      0.597    -370.414     213.106\n",
      "neighbourhood_cleansed_Pregny-Chambésy      -13.4357    154.664     -0.087      0.931    -316.759     289.887\n",
      "neighbourhood_cleansed_Presinge            -204.6724    234.523     -0.873      0.383    -664.613     255.268\n",
      "neighbourhood_cleansed_Puplinge             -80.6644    302.282     -0.267      0.790    -673.491     512.162\n",
      "neighbourhood_cleansed_Russin              -107.7884    302.256     -0.357      0.721    -700.565     484.988\n",
      "neighbourhood_cleansed_Satigny              -51.5788    206.525     -0.250      0.803    -456.610     353.452\n",
      "neighbourhood_cleansed_Soral                -67.7443    302.389     -0.224      0.823    -660.781     525.292\n",
      "neighbourhood_cleansed_Thônex               -81.6363    142.912     -0.571      0.568    -361.911     198.639\n",
      "neighbourhood_cleansed_Troinex               -4.5490    191.293     -0.024      0.981    -379.707     370.609\n",
      "neighbourhood_cleansed_Vandoeuvres           -9.9116    206.483     -0.048      0.962    -414.860     395.036\n",
      "neighbourhood_cleansed_Vernier              -82.6947    139.967     -0.591      0.555    -357.194     191.804\n",
      "neighbourhood_cleansed_Versoix              -52.6342    142.917     -0.368      0.713    -332.919     227.651\n",
      "neighbourhood_cleansed_Veyrier              -71.9271    153.280     -0.469      0.639    -372.536     228.682\n",
      "==============================================================================\n",
      "Omnibus:                     4822.039   Durbin-Watson:                   1.972\n",
      "Prob(Omnibus):                  0.000   Jarque-Bera (JB):         38461668.756\n",
      "Skew:                          23.846   Prob(JB):                         0.00\n",
      "Kurtosis:                     678.826   Cond. No.                     9.42e+03\n",
      "==============================================================================\n",
      "\n",
      "Notes:\n",
      "[1] Standard Errors assume that the covariance matrix of the errors is correctly specified.\n",
      "[2] The condition number is large, 9.42e+03. This might indicate that there are\n",
      "strong multicollinearity or other numerical problems.\n"
     ]
    }
   ],
   "source": [
    "import statsmodels.api as sm\n",
    "\n",
    "# Define features and target\n",
    "X = df_dummies.drop(columns=['price'])\n",
    "y = df_dummies['price']\n",
    "\n",
    "# Add constant term\n",
    "X_sm = sm.add_constant(X)\n",
    "\n",
    "# 🔧 Fix object dtype issue\n",
    "X_sm = X_sm.astype(float)\n",
    "y = y.astype(float)\n",
    "\n",
    "# Fit the model\n",
    "model = sm.OLS(y, X_sm).fit()\n",
    "\n",
    "# Show summary\n",
    "print(model.summary())"
   ]
  },
  {
   "cell_type": "markdown",
   "id": "8cf2be31",
   "metadata": {},
   "source": [
    "### Observations\n",
    "We built a multiple linear regression model to predict Airbnb listing prices in Geneva, measured in Swiss francs (CHF). Our model included both numerical and categorical variables: **accommodates, bedrooms, bathrooms, number of reviews, review scores rating, room type,** and **neighbourhood_cleansed**. Categorical features were dummy encoded to ensure proper inclusion in the regression.\n",
    "\n",
    "The results revealed several meaningful patterns. As expected, listings with more **bedrooms**, **bathrooms**, and higher **guest capacity** were associated with higher prices. **Entire homes/apartments** showed a strong positive effect compared to private or shared rooms. Interestingly, some neighborhoods (such as **Cologny**, **Bellevue**, and **Chêne-Bougeries**) significantly increased predicted prices, reflecting Geneva’s local housing market structure and demand for premium areas. While **review scores** showed a modest influence, they still added explanatory value. Overall, this model highlighted how physical attributes and location drive Airbnb pricing across the city."
   ]
  },
  {
   "cell_type": "markdown",
   "id": "8c8c69c9",
   "metadata": {},
   "source": []
  }
 ],
 "metadata": {
  "kernelspec": {
   "display_name": "Python 3",
   "language": "python",
   "name": "python3"
  },
  "language_info": {
   "codemirror_mode": {
    "name": "ipython",
    "version": 3
   },
   "file_extension": ".py",
   "mimetype": "text/x-python",
   "name": "python",
   "nbconvert_exporter": "python",
   "pygments_lexer": "ipython3",
   "version": "3.13.5"
  }
 },
 "nbformat": 4,
 "nbformat_minor": 5
}
